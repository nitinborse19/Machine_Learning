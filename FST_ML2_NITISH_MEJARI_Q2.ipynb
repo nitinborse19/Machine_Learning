{
 "cells": [
  {
   "cell_type": "code",
   "execution_count": 1,
   "metadata": {},
   "outputs": [],
   "source": [
    "#importing dataset\n",
    "import pandas as pd\n",
    "import numpy as np\n",
    "import seaborn as sns\n",
    "import matplotlib.pyplot as plt"
   ]
  },
  {
   "cell_type": "code",
   "execution_count": 2,
   "metadata": {},
   "outputs": [],
   "source": [
    "import os"
   ]
  },
  {
   "cell_type": "code",
   "execution_count": 3,
   "metadata": {},
   "outputs": [],
   "source": [
    "os.chdir(r'C:\\Users\\ROHAN\\Downloads')"
   ]
  },
  {
   "cell_type": "code",
   "execution_count": 4,
   "metadata": {},
   "outputs": [
    {
     "data": {
      "text/html": [
       "<div>\n",
       "<style scoped>\n",
       "    .dataframe tbody tr th:only-of-type {\n",
       "        vertical-align: middle;\n",
       "    }\n",
       "\n",
       "    .dataframe tbody tr th {\n",
       "        vertical-align: top;\n",
       "    }\n",
       "\n",
       "    .dataframe thead th {\n",
       "        text-align: right;\n",
       "    }\n",
       "</style>\n",
       "<table border=\"1\" class=\"dataframe\">\n",
       "  <thead>\n",
       "    <tr style=\"text-align: right;\">\n",
       "      <th></th>\n",
       "      <th>ID</th>\n",
       "      <th>UT</th>\n",
       "      <th>year</th>\n",
       "      <th>month</th>\n",
       "      <th>day</th>\n",
       "      <th>time</th>\n",
       "      <th>raingauges_id</th>\n",
       "      <th>name</th>\n",
       "      <th>ward_id</th>\n",
       "      <th>region</th>\n",
       "      <th>data</th>\n",
       "    </tr>\n",
       "  </thead>\n",
       "  <tbody>\n",
       "    <tr>\n",
       "      <th>0</th>\n",
       "      <td>1</td>\n",
       "      <td>1.512227e+09</td>\n",
       "      <td>2017</td>\n",
       "      <td>12</td>\n",
       "      <td>2</td>\n",
       "      <td>15:05:00</td>\n",
       "      <td>1</td>\n",
       "      <td>BLUFF RES NO.3</td>\n",
       "      <td>66.0</td>\n",
       "      <td>Central</td>\n",
       "      <td>0.6</td>\n",
       "    </tr>\n",
       "    <tr>\n",
       "      <th>1</th>\n",
       "      <td>2</td>\n",
       "      <td>1.512227e+09</td>\n",
       "      <td>2017</td>\n",
       "      <td>12</td>\n",
       "      <td>2</td>\n",
       "      <td>15:10:00</td>\n",
       "      <td>1</td>\n",
       "      <td>BLUFF RES NO.3</td>\n",
       "      <td>66.0</td>\n",
       "      <td>Central</td>\n",
       "      <td>0.8</td>\n",
       "    </tr>\n",
       "    <tr>\n",
       "      <th>2</th>\n",
       "      <td>3</td>\n",
       "      <td>1.512228e+09</td>\n",
       "      <td>2017</td>\n",
       "      <td>12</td>\n",
       "      <td>2</td>\n",
       "      <td>15:15:00</td>\n",
       "      <td>1</td>\n",
       "      <td>BLUFF RES NO.3</td>\n",
       "      <td>66.0</td>\n",
       "      <td>Central</td>\n",
       "      <td>0.2</td>\n",
       "    </tr>\n",
       "    <tr>\n",
       "      <th>3</th>\n",
       "      <td>4</td>\n",
       "      <td>1.512228e+09</td>\n",
       "      <td>2017</td>\n",
       "      <td>12</td>\n",
       "      <td>2</td>\n",
       "      <td>15:20:00</td>\n",
       "      <td>1</td>\n",
       "      <td>BLUFF RES NO.3</td>\n",
       "      <td>66.0</td>\n",
       "      <td>Central</td>\n",
       "      <td>0.2</td>\n",
       "    </tr>\n",
       "    <tr>\n",
       "      <th>4</th>\n",
       "      <td>5</td>\n",
       "      <td>1.512252e+09</td>\n",
       "      <td>2017</td>\n",
       "      <td>12</td>\n",
       "      <td>2</td>\n",
       "      <td>22:00:00</td>\n",
       "      <td>1</td>\n",
       "      <td>BLUFF RES NO.3</td>\n",
       "      <td>66.0</td>\n",
       "      <td>Central</td>\n",
       "      <td>0.0</td>\n",
       "    </tr>\n",
       "    <tr>\n",
       "      <th>...</th>\n",
       "      <td>...</td>\n",
       "      <td>...</td>\n",
       "      <td>...</td>\n",
       "      <td>...</td>\n",
       "      <td>...</td>\n",
       "      <td>...</td>\n",
       "      <td>...</td>\n",
       "      <td>...</td>\n",
       "      <td>...</td>\n",
       "      <td>...</td>\n",
       "      <td>...</td>\n",
       "    </tr>\n",
       "    <tr>\n",
       "      <th>6744</th>\n",
       "      <td>80001</td>\n",
       "      <td>NaN</td>\n",
       "      <td>2017</td>\n",
       "      <td>12</td>\n",
       "      <td>2</td>\n",
       "      <td>22:00:00</td>\n",
       "      <td>43</td>\n",
       "      <td>not there</td>\n",
       "      <td>NaN</td>\n",
       "      <td>Northern</td>\n",
       "      <td>NaN</td>\n",
       "    </tr>\n",
       "    <tr>\n",
       "      <th>6745</th>\n",
       "      <td>80002</td>\n",
       "      <td>NaN</td>\n",
       "      <td>2017</td>\n",
       "      <td>12</td>\n",
       "      <td>3</td>\n",
       "      <td>22:00:00</td>\n",
       "      <td>43</td>\n",
       "      <td>not there</td>\n",
       "      <td>NaN</td>\n",
       "      <td>Northern</td>\n",
       "      <td>NaN</td>\n",
       "    </tr>\n",
       "    <tr>\n",
       "      <th>6746</th>\n",
       "      <td>80003</td>\n",
       "      <td>NaN</td>\n",
       "      <td>2017</td>\n",
       "      <td>12</td>\n",
       "      <td>4</td>\n",
       "      <td>22:00:00</td>\n",
       "      <td>43</td>\n",
       "      <td>not there</td>\n",
       "      <td>NaN</td>\n",
       "      <td>Northern</td>\n",
       "      <td>NaN</td>\n",
       "    </tr>\n",
       "    <tr>\n",
       "      <th>6747</th>\n",
       "      <td>80004</td>\n",
       "      <td>NaN</td>\n",
       "      <td>2017</td>\n",
       "      <td>12</td>\n",
       "      <td>5</td>\n",
       "      <td>22:00:00</td>\n",
       "      <td>43</td>\n",
       "      <td>not there</td>\n",
       "      <td>NaN</td>\n",
       "      <td>Northern</td>\n",
       "      <td>NaN</td>\n",
       "    </tr>\n",
       "    <tr>\n",
       "      <th>6748</th>\n",
       "      <td>80005</td>\n",
       "      <td>NaN</td>\n",
       "      <td>2017</td>\n",
       "      <td>12</td>\n",
       "      <td>6</td>\n",
       "      <td>22:00:00</td>\n",
       "      <td>43</td>\n",
       "      <td>not there</td>\n",
       "      <td>NaN</td>\n",
       "      <td>Northern</td>\n",
       "      <td>NaN</td>\n",
       "    </tr>\n",
       "  </tbody>\n",
       "</table>\n",
       "<p>6749 rows × 11 columns</p>\n",
       "</div>"
      ],
      "text/plain": [
       "         ID            UT  year  month  day      time  raingauges_id  \\\n",
       "0         1  1.512227e+09  2017     12    2  15:05:00              1   \n",
       "1         2  1.512227e+09  2017     12    2  15:10:00              1   \n",
       "2         3  1.512228e+09  2017     12    2  15:15:00              1   \n",
       "3         4  1.512228e+09  2017     12    2  15:20:00              1   \n",
       "4         5  1.512252e+09  2017     12    2  22:00:00              1   \n",
       "...     ...           ...   ...    ...  ...       ...            ...   \n",
       "6744  80001           NaN  2017     12    2  22:00:00             43   \n",
       "6745  80002           NaN  2017     12    3  22:00:00             43   \n",
       "6746  80003           NaN  2017     12    4  22:00:00             43   \n",
       "6747  80004           NaN  2017     12    5  22:00:00             43   \n",
       "6748  80005           NaN  2017     12    6  22:00:00             43   \n",
       "\n",
       "                name  ward_id    region  data  \n",
       "0     BLUFF RES NO.3     66.0   Central   0.6  \n",
       "1     BLUFF RES NO.3     66.0   Central   0.8  \n",
       "2     BLUFF RES NO.3     66.0   Central   0.2  \n",
       "3     BLUFF RES NO.3     66.0   Central   0.2  \n",
       "4     BLUFF RES NO.3     66.0   Central   0.0  \n",
       "...              ...      ...       ...   ...  \n",
       "6744       not there      NaN  Northern   NaN  \n",
       "6745       not there      NaN  Northern   NaN  \n",
       "6746       not there      NaN  Northern   NaN  \n",
       "6747       not there      NaN  Northern   NaN  \n",
       "6748       not there      NaN  Northern   NaN  \n",
       "\n",
       "[6749 rows x 11 columns]"
      ]
     },
     "execution_count": 4,
     "metadata": {},
     "output_type": "execute_result"
    }
   ],
   "source": [
    "df= pd.read_csv('rainfall_combined.csv')\n",
    "df"
   ]
  },
  {
   "cell_type": "code",
   "execution_count": 5,
   "metadata": {},
   "outputs": [
    {
     "data": {
      "text/plain": [
       "ID               0\n",
       "UT               5\n",
       "year             0\n",
       "month            0\n",
       "day              0\n",
       "time             0\n",
       "raingauges_id    0\n",
       "name             0\n",
       "ward_id          5\n",
       "region           0\n",
       "data             5\n",
       "dtype: int64"
      ]
     },
     "execution_count": 5,
     "metadata": {},
     "output_type": "execute_result"
    }
   ],
   "source": [
    "#check the null values\n",
    "df.isnull().sum()"
   ]
  },
  {
   "cell_type": "code",
   "execution_count": 6,
   "metadata": {},
   "outputs": [],
   "source": [
    "#fill the null values using fillna\n",
    "df.fillna(value=df['UT'].median(),inplace=True)\n",
    "df.fillna(value=df['ward_id'].median(),inplace=True)\n",
    "df.fillna(value=df['data'].median(),inplace=True)"
   ]
  },
  {
   "cell_type": "code",
   "execution_count": 7,
   "metadata": {},
   "outputs": [
    {
     "data": {
      "text/plain": [
       "ID               0\n",
       "UT               0\n",
       "year             0\n",
       "month            0\n",
       "day              0\n",
       "time             0\n",
       "raingauges_id    0\n",
       "name             0\n",
       "ward_id          0\n",
       "region           0\n",
       "data             0\n",
       "dtype: int64"
      ]
     },
     "execution_count": 7,
     "metadata": {},
     "output_type": "execute_result"
    }
   ],
   "source": [
    "df.isnull().sum()"
   ]
  },
  {
   "cell_type": "code",
   "execution_count": 8,
   "metadata": {},
   "outputs": [
    {
     "data": {
      "text/plain": [
       "array(['BLUFF RES NO.3', 'CHATSWORTH RES NO.1', 'CHATSWORTH RES NO.4',\n",
       "       \"CITY ENGINEER'S DEPT\", 'CRABTREE S-P-S', 'DUNKELD RES',\n",
       "       'FIRWOOD RES', 'ISLAND VIEW S-P-S', 'KENNEDY ROAD S-P-S',\n",
       "       'RIDGE END RES', 'RIDGE VIEW RES', 'SAND PUMP HOPPER',\n",
       "       'SHERWOOD RES NO.3', 'ST THOMAS RES', 'WENTWORTH RES',\n",
       "       'WOODLAND RES NO.2', 'DBN NORTH HL RES', 'NEWLANDS RES NO.3',\n",
       "       'PHOENIX RES NO.1', 'PHOENIX RES NO.4', 'BALLITO', 'HAZELMERE DAM',\n",
       "       'UMHWWTW', 'CRAWFORD', 'UMH NTH', 'BUFFELS', 'CATO RIDGE',\n",
       "       'ALVERSTN', 'INANDA DAM', 'WATERFALL', 'HILLCREST',\n",
       "       'SHONGWENI DAM', 'PINETOWN', 'NAGLE DAM', 'RIVERLEA', 'KLOOF',\n",
       "       'UMLAZI', 'UMBUMBULU RES', 'ISIPINGO RES', 'UMKDEPOT',\n",
       "       'AMANZIMTOTI', 'not there'], dtype=object)"
      ]
     },
     "execution_count": 8,
     "metadata": {},
     "output_type": "execute_result"
    }
   ],
   "source": [
    "df['name'].unique()"
   ]
  },
  {
   "cell_type": "code",
   "execution_count": 11,
   "metadata": {},
   "outputs": [
    {
     "name": "stdout",
     "output_type": "stream",
     "text": [
      "raingauges_id\n",
      "1     151\n",
      "2     210\n",
      "3     169\n",
      "4     180\n",
      "5     200\n",
      "6     172\n",
      "7     170\n",
      "8     207\n",
      "9     157\n",
      "10    176\n",
      "11    165\n",
      "12    164\n",
      "13    194\n",
      "14    184\n",
      "15    113\n",
      "16    224\n",
      "17    201\n",
      "18    159\n",
      "19    200\n",
      "20    165\n",
      "21     14\n",
      "22    189\n",
      "23    127\n",
      "24     89\n",
      "25    166\n",
      "26    152\n",
      "27    151\n",
      "28    167\n",
      "29    156\n",
      "30    219\n",
      "31     19\n",
      "32    201\n",
      "33    202\n",
      "34    158\n",
      "35    155\n",
      "36    122\n",
      "37    124\n",
      "38    136\n",
      "41    266\n",
      "42    202\n",
      "43      5\n",
      "44    168\n",
      "Name: ID, dtype: int64\n"
     ]
    }
   ],
   "source": [
    "raingauge_counts = df.groupby('raingauges_id')['ID'].count()\n",
    "print(raingauge_counts)"
   ]
  },
  {
   "cell_type": "code",
   "execution_count": 12,
   "metadata": {},
   "outputs": [
    {
     "data": {
      "text/plain": [
       "(6749, 11)"
      ]
     },
     "execution_count": 12,
     "metadata": {},
     "output_type": "execute_result"
    }
   ],
   "source": [
    "df.shape"
   ]
  },
  {
   "cell_type": "code",
   "execution_count": 13,
   "metadata": {},
   "outputs": [
    {
     "data": {
      "text/plain": [
       "ID                      80004\n",
       "UT               1512518400.0\n",
       "year                     2017\n",
       "month                      12\n",
       "day                         5\n",
       "time                 22:00:00\n",
       "raingauges_id              43\n",
       "name                not there\n",
       "ward_id          1512518400.0\n",
       "region               Northern\n",
       "data             1512518400.0\n",
       "Name: 6747, dtype: object"
      ]
     },
     "execution_count": 13,
     "metadata": {},
     "output_type": "execute_result"
    }
   ],
   "source": [
    "df.iloc[-2]"
   ]
  },
  {
   "cell_type": "code",
   "execution_count": 14,
   "metadata": {},
   "outputs": [
    {
     "data": {
      "text/plain": [
       "ID                          334\n",
       "UT                 1512394500.0\n",
       "year                       2017\n",
       "month                        12\n",
       "day                           4\n",
       "time                   13:35:00\n",
       "raingauges_id                 1\n",
       "name             BLUFF RES NO.3\n",
       "ward_id                    66.0\n",
       "region                  Central\n",
       "data                        0.8\n",
       "Name: 11, dtype: object"
      ]
     },
     "execution_count": 14,
     "metadata": {},
     "output_type": "execute_result"
    }
   ],
   "source": [
    " df.iloc[11]   "
   ]
  },
  {
   "cell_type": "code",
   "execution_count": 15,
   "metadata": {},
   "outputs": [
    {
     "data": {
      "text/plain": [
       "1120550.3794339902"
      ]
     },
     "execution_count": 15,
     "metadata": {},
     "output_type": "execute_result"
    }
   ],
   "source": [
    "df['data'].mean()"
   ]
  },
  {
   "cell_type": "code",
   "execution_count": 16,
   "metadata": {},
   "outputs": [
    {
     "data": {
      "text/plain": [
       "0.2"
      ]
     },
     "execution_count": 16,
     "metadata": {},
     "output_type": "execute_result"
    }
   ],
   "source": [
    "df['data'].median()"
   ]
  },
  {
   "cell_type": "code",
   "execution_count": 17,
   "metadata": {},
   "outputs": [
    {
     "data": {
      "text/plain": [
       "count    6.749000e+03\n",
       "mean     1.120550e+06\n",
       "std      4.115638e+07\n",
       "min      0.000000e+00\n",
       "25%      2.000000e-01\n",
       "50%      2.000000e-01\n",
       "75%      4.000000e-01\n",
       "max      1.512518e+09\n",
       "Name: data, dtype: float64"
      ]
     },
     "execution_count": 17,
     "metadata": {},
     "output_type": "execute_result"
    }
   ],
   "source": [
    "df['data'].describe()"
   ]
  },
  {
   "cell_type": "code",
   "execution_count": 18,
   "metadata": {},
   "outputs": [
    {
     "data": {
      "text/plain": [
       "Central     2895\n",
       "Western     1507\n",
       "Northern    1429\n",
       "Southern     918\n",
       "Name: region, dtype: int64"
      ]
     },
     "execution_count": 18,
     "metadata": {},
     "output_type": "execute_result"
    }
   ],
   "source": [
    "df['region'].value_counts()"
   ]
  },
  {
   "cell_type": "code",
   "execution_count": null,
   "metadata": {},
   "outputs": [],
   "source": []
  }
 ],
 "metadata": {
  "kernelspec": {
   "display_name": "Python 3",
   "language": "python",
   "name": "python3"
  },
  "language_info": {
   "codemirror_mode": {
    "name": "ipython",
    "version": 3
   },
   "file_extension": ".py",
   "mimetype": "text/x-python",
   "name": "python",
   "nbconvert_exporter": "python",
   "pygments_lexer": "ipython3",
   "version": "3.7.6"
  }
 },
 "nbformat": 4,
 "nbformat_minor": 4
}
