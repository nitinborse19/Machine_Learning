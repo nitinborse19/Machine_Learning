{
 "cells": [
  {
   "cell_type": "code",
   "execution_count": 1,
   "metadata": {
    "id": "DBmI9ru15zz8"
   },
   "outputs": [],
   "source": [
    "import pandas as pd\n",
    "import numpy as np\n",
    "import seaborn as sns\n",
    "import matplotlib.pyplot as plt"
   ]
  },
  {
   "cell_type": "code",
   "execution_count": 3,
   "metadata": {
    "id": "ennB6r406Qy1"
   },
   "outputs": [],
   "source": [
    "df=pd.read_csv(\"/content/sample_data/international-airline-passengers.csv\",parse_dates=[\"Month\"],index_col=\"Month\")"
   ]
  },
  {
   "cell_type": "code",
   "execution_count": 4,
   "metadata": {
    "colab": {
     "base_uri": "https://localhost:8080/",
     "height": 237
    },
    "id": "uFSv2Jew6nbY",
    "outputId": "40be6a4b-9e53-49db-980a-e1edaef29034"
   },
   "outputs": [
    {
     "data": {
      "text/html": [
       "<div>\n",
       "<style scoped>\n",
       "    .dataframe tbody tr th:only-of-type {\n",
       "        vertical-align: middle;\n",
       "    }\n",
       "\n",
       "    .dataframe tbody tr th {\n",
       "        vertical-align: top;\n",
       "    }\n",
       "\n",
       "    .dataframe thead th {\n",
       "        text-align: right;\n",
       "    }\n",
       "</style>\n",
       "<table border=\"1\" class=\"dataframe\">\n",
       "  <thead>\n",
       "    <tr style=\"text-align: right;\">\n",
       "      <th></th>\n",
       "      <th>International airline passengers: monthly totals in thousands. Jan 49 ? Dec 60</th>\n",
       "    </tr>\n",
       "    <tr>\n",
       "      <th>Month</th>\n",
       "      <th></th>\n",
       "    </tr>\n",
       "  </thead>\n",
       "  <tbody>\n",
       "    <tr>\n",
       "      <th>1949-01</th>\n",
       "      <td>112.0</td>\n",
       "    </tr>\n",
       "    <tr>\n",
       "      <th>1949-02</th>\n",
       "      <td>118.0</td>\n",
       "    </tr>\n",
       "    <tr>\n",
       "      <th>1949-03</th>\n",
       "      <td>132.0</td>\n",
       "    </tr>\n",
       "    <tr>\n",
       "      <th>1949-04</th>\n",
       "      <td>129.0</td>\n",
       "    </tr>\n",
       "    <tr>\n",
       "      <th>1949-05</th>\n",
       "      <td>121.0</td>\n",
       "    </tr>\n",
       "  </tbody>\n",
       "</table>\n",
       "</div>"
      ],
      "text/plain": [
       "         International airline passengers: monthly totals in thousands. Jan 49 ? Dec 60\n",
       "Month                                                                                  \n",
       "1949-01                                              112.0                             \n",
       "1949-02                                              118.0                             \n",
       "1949-03                                              132.0                             \n",
       "1949-04                                              129.0                             \n",
       "1949-05                                              121.0                             "
      ]
     },
     "execution_count": 4,
     "metadata": {
      "tags": []
     },
     "output_type": "execute_result"
    }
   ],
   "source": [
    "df.head()"
   ]
  },
  {
   "cell_type": "code",
   "execution_count": 5,
   "metadata": {
    "colab": {
     "base_uri": "https://localhost:8080/",
     "height": 298
    },
    "id": "CQlCaP8v6zMS",
    "outputId": "6d13f1b6-ae94-4f7f-fff2-5b42eb50d39e"
   },
   "outputs": [
    {
     "data": {
      "text/plain": [
       "<matplotlib.axes._subplots.AxesSubplot at 0x7f00f301dfd0>"
      ]
     },
     "execution_count": 5,
     "metadata": {
      "tags": []
     },
     "output_type": "execute_result"
    },
    {
     "data": {
      "image/png": "[encoded data removed]",
      "text/plain": [
       "<Figure size 432x288 with 1 Axes>"
      ]
     },
     "metadata": {
      "needs_background": "light",
      "tags": []
     },
     "output_type": "display_data"
    }
   ],
   "source": [
    "df.plot()"
   ]
  },
  {
   "cell_type": "code",
   "execution_count": 7,
   "metadata": {
    "colab": {
     "base_uri": "https://localhost:8080/"
    },
    "id": "Of4vsBIS7KFs",
    "outputId": "4cb21bd3-ff4e-4633-a9e4-6b9c2dac3406"
   },
   "outputs": [
    {
     "data": {
      "text/plain": [
       "(145, 1)"
      ]
     },
     "execution_count": 7,
     "metadata": {
      "tags": []
     },
     "output_type": "execute_result"
    }
   ],
   "source": [
    "df.shape"
   ]
  },
  {
   "cell_type": "code",
   "execution_count": 6,
   "metadata": {
    "colab": {
     "base_uri": "https://localhost:8080/"
    },
    "id": "Fv6Ydb_L61LX",
    "outputId": "41935626-eff8-4e4b-c90e-a8dffdda5ead"
   },
   "outputs": [
    {
     "data": {
      "text/plain": [
       "116"
      ]
     },
     "execution_count": 6,
     "metadata": {
      "tags": []
     },
     "output_type": "execute_result"
    }
   ],
   "source": [
    "size=int(df.shape[0]*0.8)\n",
    "size"
   ]
  },
  {
   "cell_type": "code",
   "execution_count": 9,
   "metadata": {
    "colab": {
     "base_uri": "https://localhost:8080/"
    },
    "id": "M7GKAZQy7Gl0",
    "outputId": "647d0399-6ed8-4da2-9b89-9b9419dba908"
   },
   "outputs": [
    {
     "data": {
      "text/plain": [
       "(29, 1)"
      ]
     },
     "execution_count": 9,
     "metadata": {
      "tags": []
     },
     "output_type": "execute_result"
    }
   ],
   "source": [
    "train=df.iloc[:size]\n",
    "train.shape\n",
    "test=df.iloc[size:]\n",
    "test.shape"
   ]
  },
  {
   "cell_type": "code",
   "execution_count": 14,
   "metadata": {
    "colab": {
     "base_uri": "https://localhost:8080/",
     "height": 284
    },
    "id": "FiyHjqey7TlK",
    "outputId": "3ccd8f66-acd6-45f5-e3c5-7178226145fe"
   },
   "outputs": [
    {
     "data": {
      "text/plain": [
       "[<matplotlib.lines.Line2D at 0x7f00f2318b10>]"
      ]
     },
     "execution_count": 14,
     "metadata": {
      "tags": []
     },
     "output_type": "execute_result"
    },
    {
     "data": {
      "image/png": "[encoded data removed]",
      "text/plain": [
       "<Figure size 432x288 with 1 Axes>"
      ]
     },
     "metadata": {
      "needs_background": "light",
      "tags": []
     },
     "output_type": "display_data"
    }
   ],
   "source": [
    "plt.plot(train)\n",
    "plt.plot(test)"
   ]
  },
  {
   "cell_type": "code",
   "execution_count": 15,
   "metadata": {
    "id": "yWUWwctM7fH4"
   },
   "outputs": [],
   "source": [
    "from sklearn.preprocessing import MinMaxScaler\n",
    "mx=MinMaxScaler()\n",
    "mx.fit(train)\n",
    "sc_train=mx.transform(train)\n",
    "sc_test=mx.transform(test)"
   ]
  },
  {
   "cell_type": "code",
   "execution_count": 61,
   "metadata": {
    "colab": {
     "base_uri": "https://localhost:8080/"
    },
    "id": "N-btn0Ln8MDv",
    "outputId": "3d9b5004-321b-4a72-8e33-31a6314b99ac"
   },
   "outputs": [
    {
     "name": "stdout",
     "output_type": "stream",
     "text": [
      "Model: \"sequential_2\"\n",
      "_________________________________________________________________\n",
      "Layer (type)                 Output Shape              Param #   \n",
      "=================================================================\n",
      "lstm_1 (LSTM)                (None, 200)               161600    \n",
      "_________________________________________________________________\n",
      "dense_1 (Dense)              (None, 1)                 201       \n",
      "=================================================================\n",
      "Total params: 161,801\n",
      "Trainable params: 161,801\n",
      "Non-trainable params: 0\n",
      "_________________________________________________________________\n"
     ]
    }
   ],
   "source": [
    "from keras.models import Sequential\n",
    "from keras.layers import Dense\n",
    "from keras.layers import LSTM\n",
    "\n",
    "lstm_model=Sequential()\n",
    "lstm_model.add(LSTM(200,activation='relu',input_shape=(10,1)))\n",
    "lstm_model.add(Dense(1))\n",
    "lstm_model.compile(loss='mse')\n",
    "\n",
    "lstm_model.summary()"
   ]
  },
  {
   "cell_type": "code",
   "execution_count": 63,
   "metadata": {
    "id": "XH0tGTJu-W9k"
   },
   "outputs": [],
   "source": [
    "from keras.preprocessing.sequence import TimeseriesGenerator\n",
    "gen=TimeseriesGenerator(sc_train,sc_train,length=10,batch_size=1)"
   ]
  },
  {
   "cell_type": "code",
   "execution_count": 64,
   "metadata": {
    "colab": {
     "base_uri": "https://localhost:8080/"
    },
    "id": "7qr9VOTN8uIY",
    "outputId": "704df679-9592-429b-ff9e-6ea7a3399651"
   },
   "outputs": [
    {
     "name": "stderr",
     "output_type": "stream",
     "text": [
      "/usr/local/lib/python3.7/dist-packages/tensorflow/python/keras/engine/training.py:1844: UserWarning: `Model.fit_generator` is deprecated and will be removed in a future version. Please use `Model.fit`, which supports generators.\n",
      "  warnings.warn('`Model.fit_generator` is deprecated and '\n"
     ]
    },
    {
     "name": "stdout",
     "output_type": "stream",
     "text": [
      "Epoch 1/20\n",
      "106/106 [==============================] - 2s 9ms/step - loss: 0.0223\n",
      "Epoch 2/20\n",
      "106/106 [==============================] - 1s 9ms/step - loss: 0.0168\n",
      "Epoch 3/20\n",
      "106/106 [==============================] - 1s 9ms/step - loss: 0.0190\n",
      "Epoch 4/20\n",
      "106/106 [==============================] - 1s 9ms/step - loss: 0.0130\n",
      "Epoch 5/20\n",
      "106/106 [==============================] - 1s 9ms/step - loss: 0.0116\n",
      "Epoch 6/20\n",
      "106/106 [==============================] - 1s 9ms/step - loss: 0.0119\n",
      "Epoch 7/20\n",
      "106/106 [==============================] - 1s 9ms/step - loss: 0.0131\n",
      "Epoch 8/20\n",
      "106/106 [==============================] - 1s 9ms/step - loss: 0.0112\n",
      "Epoch 9/20\n",
      "106/106 [==============================] - 1s 9ms/step - loss: 0.0091\n",
      "Epoch 10/20\n",
      "106/106 [==============================] - 1s 9ms/step - loss: 0.0096\n",
      "Epoch 11/20\n",
      "106/106 [==============================] - 1s 9ms/step - loss: 0.0124\n",
      "Epoch 12/20\n",
      "106/106 [==============================] - 1s 9ms/step - loss: 0.0088\n",
      "Epoch 13/20\n",
      "106/106 [==============================] - 1s 9ms/step - loss: 0.0111\n",
      "Epoch 14/20\n",
      "106/106 [==============================] - 1s 9ms/step - loss: 0.0081\n",
      "Epoch 15/20\n",
      "106/106 [==============================] - 1s 9ms/step - loss: 0.0083\n",
      "Epoch 16/20\n",
      "106/106 [==============================] - 1s 9ms/step - loss: 0.0074\n",
      "Epoch 17/20\n",
      "106/106 [==============================] - 1s 9ms/step - loss: 0.0050\n",
      "Epoch 18/20\n",
      "106/106 [==============================] - 1s 9ms/step - loss: 0.0060\n",
      "Epoch 19/20\n",
      "106/106 [==============================] - 1s 9ms/step - loss: 0.0057\n",
      "Epoch 20/20\n",
      "106/106 [==============================] - 1s 9ms/step - loss: 0.0057\n"
     ]
    },
    {
     "data": {
      "text/plain": [
       "<tensorflow.python.keras.callbacks.History at 0x7f00b598ea10>"
      ]
     },
     "execution_count": 64,
     "metadata": {
      "tags": []
     },
     "output_type": "execute_result"
    }
   ],
   "source": [
    "lstm_model.fit_generator(gen,epochs=20)\n"
   ]
  },
  {
   "cell_type": "code",
   "execution_count": 65,
   "metadata": {
    "colab": {
     "base_uri": "https://localhost:8080/",
     "height": 657
    },
    "id": "AP4F2Bu58vIR",
    "outputId": "f16ddc83-88f8-4e28-fdfa-2c95d92b067d"
   },
   "outputs": [
    {
     "data": {
      "text/plain": [
       "([<matplotlib.axis.XTick at 0x7f00b547c190>,\n",
       "  <matplotlib.axis.XTick at 0x7f00b547c150>,\n",
       "  <matplotlib.axis.XTick at 0x7f00b547a790>,\n",
       "  <matplotlib.axis.XTick at 0x7f00b5498c50>,\n",
       "  <matplotlib.axis.XTick at 0x7f00b549f290>,\n",
       "  <matplotlib.axis.XTick at 0x7f00b549f750>,\n",
       "  <matplotlib.axis.XTick at 0x7f00b549fcd0>,\n",
       "  <matplotlib.axis.XTick at 0x7f00b549fc10>,\n",
       "  <matplotlib.axis.XTick at 0x7f00b5498b10>,\n",
       "  <matplotlib.axis.XTick at 0x7f00b54a66d0>,\n",
       "  <matplotlib.axis.XTick at 0x7f00b54a6bd0>,\n",
       "  <matplotlib.axis.XTick at 0x7f00b5430290>,\n",
       "  <matplotlib.axis.XTick at 0x7f00b5430690>,\n",
       "  <matplotlib.axis.XTick at 0x7f00b5430bd0>,\n",
       "  <matplotlib.axis.XTick at 0x7f00b5438290>,\n",
       "  <matplotlib.axis.XTick at 0x7f00b5438690>,\n",
       "  <matplotlib.axis.XTick at 0x7f00b5438bd0>,\n",
       "  <matplotlib.axis.XTick at 0x7f00b5438a90>,\n",
       "  <matplotlib.axis.XTick at 0x7f00b5430950>,\n",
       "  <matplotlib.axis.XTick at 0x7f00b5498dd0>],\n",
       " <a list of 20 Text major ticklabel objects>)"
      ]
     },
     "execution_count": 65,
     "metadata": {
      "tags": []
     },
     "output_type": "execute_result"
    },
    {
     "data": {
      "image/png": "[encoded data removed]",
      "text/plain": [
       "<Figure size 432x288 with 1 Axes>"
      ]
     },
     "metadata": {
      "needs_background": "light",
      "tags": []
     },
     "output_type": "display_data"
    }
   ],
   "source": [
    "loss=lstm_model.history.history[\"loss\"]\n",
    "plt.plot(range(1,len(loss)+1),loss)\n",
    "plt.xticks(range(1,len(loss)+1))"
   ]
  },
  {
   "cell_type": "code",
   "execution_count": 67,
   "metadata": {
    "id": "WpflVAlb_no3"
   },
   "outputs": [],
   "source": [
    "pred = []\n",
    "\n",
    "batch = sc_train[-10:]\n",
    "current_batch = batch.reshape((1, 10, 1))\n",
    "\n",
    "for i in range(len(test)):   \n",
    "    tpred = lstm_model.predict(current_batch)[0]\n",
    "    pred.append(tpred) \n",
    "    current_batch = np.append(current_batch[:,1:,:],[[tpred]],axis=1)\n",
    "  "
   ]
  },
  {
   "cell_type": "code",
   "execution_count": 68,
   "metadata": {
    "colab": {
     "base_uri": "https://localhost:8080/"
    },
    "id": "HbwWnxYvAqjq",
    "outputId": "f7ff1687-2111-4f9c-ed3e-227461f87374"
   },
   "outputs": [
    {
     "data": {
      "text/plain": [
       "[array([0.85883355], dtype=float32),\n",
       " array([0.7659836], dtype=float32),\n",
       " array([0.6677324], dtype=float32),\n",
       " array([0.57858926], dtype=float32),\n",
       " array([0.5560475], dtype=float32),\n",
       " array([0.5465802], dtype=float32),\n",
       " array([0.59969294], dtype=float32),\n",
       " array([0.7043442], dtype=float32),\n",
       " array([0.8254353], dtype=float32),\n",
       " array([0.9154904], dtype=float32),\n",
       " array([0.92799133], dtype=float32),\n",
       " array([0.89518493], dtype=float32),\n",
       " array([0.815468], dtype=float32),\n",
       " array([0.7135611], dtype=float32),\n",
       " array([0.62163836], dtype=float32),\n",
       " array([0.5569347], dtype=float32),\n",
       " array([0.54928946], dtype=float32),\n",
       " array([0.5983778], dtype=float32),\n",
       " array([0.694981], dtype=float32),\n",
       " array([0.8000772], dtype=float32),\n",
       " array([0.878601], dtype=float32),\n",
       " array([0.91844016], dtype=float32),\n",
       " array([0.90848804], dtype=float32),\n",
       " array([0.8489076], dtype=float32),\n",
       " array([0.7593883], dtype=float32),\n",
       " array([0.6598046], dtype=float32),\n",
       " array([0.5856264], dtype=float32),\n",
       " array([0.5639793], dtype=float32),\n",
       " array([0.5988308], dtype=float32)]"
      ]
     },
     "execution_count": 68,
     "metadata": {
      "tags": []
     },
     "output_type": "execute_result"
    }
   ],
   "source": [
    "pred"
   ]
  },
  {
   "cell_type": "code",
   "execution_count": 69,
   "metadata": {
    "colab": {
     "base_uri": "https://localhost:8080/"
    },
    "id": "xYKPxN2HF8id",
    "outputId": "6de5bfd4-9f10-4310-dcfb-ae3cebf05a36"
   },
   "outputs": [
    {
     "data": {
      "text/plain": [
       "array([[448.39225411],\n",
       "       [411.1594162 ],\n",
       "       [371.76069945],\n",
       "       [336.01429349],\n",
       "       [326.97504717],\n",
       "       [323.17865837],\n",
       "       [344.47686923],\n",
       "       [386.44202942],\n",
       "       [434.9995476 ],\n",
       "       [471.11164594],\n",
       "       [476.12452358],\n",
       "       [462.96915859],\n",
       "       [431.00267333],\n",
       "       [390.13800818],\n",
       "       [353.27698141],\n",
       "       [327.33082044],\n",
       "       [324.26507545],\n",
       "       [343.94950736],\n",
       "       [382.68737257],\n",
       "       [424.83095717],\n",
       "       [456.31900686],\n",
       "       [472.29450542],\n",
       "       [468.30370212],\n",
       "       [444.41194355],\n",
       "       [408.51471937],\n",
       "       [368.58163762],\n",
       "       [338.83619577],\n",
       "       [330.1557104 ],\n",
       "       [344.13115847]])"
      ]
     },
     "execution_count": 69,
     "metadata": {
      "tags": []
     },
     "output_type": "execute_result"
    }
   ],
   "source": [
    "lstm_predictions = mx.inverse_transform(pred)\n",
    "lstm_predictions"
   ]
  },
  {
   "cell_type": "code",
   "execution_count": 70,
   "metadata": {
    "colab": {
     "base_uri": "https://localhost:8080/",
     "height": 369
    },
    "id": "GP7Y_hdxBqkX",
    "outputId": "9e3c4d84-6784-43f0-f011-900a364e2c10"
   },
   "outputs": [
    {
     "name": "stderr",
     "output_type": "stream",
     "text": [
      "/usr/local/lib/python3.7/dist-packages/ipykernel_launcher.py:2: SettingWithCopyWarning: \n",
      "A value is trying to be set on a copy of a slice from a DataFrame.\n",
      "Try using .loc[row_indexer,col_indexer] = value instead\n",
      "\n",
      "See the caveats in the documentation: https://pandas.pydata.org/pandas-docs/stable/user_guide/indexing.html#returning-a-view-versus-a-copy\n",
      "  \n"
     ]
    },
    {
     "data": {
      "text/html": [
       "<div>\n",
       "<style scoped>\n",
       "    .dataframe tbody tr th:only-of-type {\n",
       "        vertical-align: middle;\n",
       "    }\n",
       "\n",
       "    .dataframe tbody tr th {\n",
       "        vertical-align: top;\n",
       "    }\n",
       "\n",
       "    .dataframe thead th {\n",
       "        text-align: right;\n",
       "    }\n",
       "</style>\n",
       "<table border=\"1\" class=\"dataframe\">\n",
       "  <thead>\n",
       "    <tr style=\"text-align: right;\">\n",
       "      <th></th>\n",
       "      <th>International airline passengers: monthly totals in thousands. Jan 49 ? Dec 60</th>\n",
       "      <th>LSTM_Predictions</th>\n",
       "    </tr>\n",
       "    <tr>\n",
       "      <th>Month</th>\n",
       "      <th></th>\n",
       "      <th></th>\n",
       "    </tr>\n",
       "  </thead>\n",
       "  <tbody>\n",
       "    <tr>\n",
       "      <th>1958-09</th>\n",
       "      <td>404.0</td>\n",
       "      <td>448.392254</td>\n",
       "    </tr>\n",
       "    <tr>\n",
       "      <th>1958-10</th>\n",
       "      <td>359.0</td>\n",
       "      <td>411.159416</td>\n",
       "    </tr>\n",
       "    <tr>\n",
       "      <th>1958-11</th>\n",
       "      <td>310.0</td>\n",
       "      <td>371.760699</td>\n",
       "    </tr>\n",
       "    <tr>\n",
       "      <th>1958-12</th>\n",
       "      <td>337.0</td>\n",
       "      <td>336.014293</td>\n",
       "    </tr>\n",
       "    <tr>\n",
       "      <th>1959-01</th>\n",
       "      <td>360.0</td>\n",
       "      <td>326.975047</td>\n",
       "    </tr>\n",
       "  </tbody>\n",
       "</table>\n",
       "</div>"
      ],
      "text/plain": [
       "         International airline passengers: monthly totals in thousands. Jan 49 ? Dec 60  LSTM_Predictions\n",
       "Month                                                                                                    \n",
       "1958-09                                              404.0                                     448.392254\n",
       "1958-10                                              359.0                                     411.159416\n",
       "1958-11                                              310.0                                     371.760699\n",
       "1958-12                                              337.0                                     336.014293\n",
       "1959-01                                              360.0                                     326.975047"
      ]
     },
     "execution_count": 70,
     "metadata": {
      "tags": []
     },
     "output_type": "execute_result"
    }
   ],
   "source": [
    "test_df=test\n",
    "test_df['LSTM_Predictions'] = lstm_predictions\n",
    "test_df.head()"
   ]
  },
  {
   "cell_type": "code",
   "execution_count": 71,
   "metadata": {
    "colab": {
     "base_uri": "https://localhost:8080/",
     "height": 353
    },
    "id": "fd5fxwDoGB-L",
    "outputId": "2ca8f147-aaf7-4084-f9b5-9366f07bb38f"
   },
   "outputs": [
    {
     "data": {
      "text/plain": [
       "<matplotlib.axes._subplots.AxesSubplot at 0x7f00b88a2810>"
      ]
     },
     "execution_count": 71,
     "metadata": {
      "tags": []
     },
     "output_type": "execute_result"
    },
    {
     "data": {
      "image/png": "[encoded data removed]",
      "text/plain": [
       "<Figure size 1152x360 with 1 Axes>"
      ]
     },
     "metadata": {
      "needs_background": "light",
      "tags": []
     },
     "output_type": "display_data"
    }
   ],
   "source": [
    "test_df['International airline passengers: monthly totals in thousands. Jan 49 ? Dec 60'].plot(figsize = (16,5), legend=True)\n",
    "test_df['LSTM_Predictions'].plot(legend = True)"
   ]
  }
 ],
 "metadata": {
  "colab": {
   "name": "LSTM.ipynb",
   "provenance": []
  },
  "kernelspec": {
   "display_name": "Python 3",
   "language": "python",
   "name": "python3"
  },
  "language_info": {
   "codemirror_mode": {
    "name": "ipython",
    "version": 3
   },
   "file_extension": ".py",
   "mimetype": "text/x-python",
   "name": "python",
   "nbconvert_exporter": "python",
   "pygments_lexer": "ipython3",
   "version": "3.8.3"
  }
 },
 "nbformat": 4,
 "nbformat_minor": 1
}
