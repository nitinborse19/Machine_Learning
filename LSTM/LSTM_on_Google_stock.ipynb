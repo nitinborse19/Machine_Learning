{
 "cells": [
  {
   "cell_type": "code",
   "execution_count": 1,
   "metadata": {},
   "outputs": [],
   "source": [
    "import numpy as np\n",
    "import pandas as pd\n",
    "import seaborn as sns\n",
    "import matplotlib.pyplot as plt"
   ]
  },
  {
   "cell_type": "code",
   "execution_count": 7,
   "metadata": {},
   "outputs": [
    {
     "data": {
      "text/html": [
       "<div>\n",
       "<style scoped>\n",
       "    .dataframe tbody tr th:only-of-type {\n",
       "        vertical-align: middle;\n",
       "    }\n",
       "\n",
       "    .dataframe tbody tr th {\n",
       "        vertical-align: top;\n",
       "    }\n",
       "\n",
       "    .dataframe thead th {\n",
       "        text-align: right;\n",
       "    }\n",
       "</style>\n",
       "<table border=\"1\" class=\"dataframe\">\n",
       "  <thead>\n",
       "    <tr style=\"text-align: right;\">\n",
       "      <th></th>\n",
       "      <th>Open</th>\n",
       "      <th>High</th>\n",
       "      <th>Low</th>\n",
       "      <th>Close</th>\n",
       "      <th>Volume</th>\n",
       "    </tr>\n",
       "    <tr>\n",
       "      <th>Date</th>\n",
       "      <th></th>\n",
       "      <th></th>\n",
       "      <th></th>\n",
       "      <th></th>\n",
       "      <th></th>\n",
       "    </tr>\n",
       "  </thead>\n",
       "  <tbody>\n",
       "    <tr>\n",
       "      <th>2012-01-03</th>\n",
       "      <td>325.25</td>\n",
       "      <td>332.83</td>\n",
       "      <td>324.97</td>\n",
       "      <td>663.59</td>\n",
       "      <td>7,380,500</td>\n",
       "    </tr>\n",
       "    <tr>\n",
       "      <th>2012-01-04</th>\n",
       "      <td>331.27</td>\n",
       "      <td>333.87</td>\n",
       "      <td>329.08</td>\n",
       "      <td>666.45</td>\n",
       "      <td>5,749,400</td>\n",
       "    </tr>\n",
       "    <tr>\n",
       "      <th>2012-01-05</th>\n",
       "      <td>329.83</td>\n",
       "      <td>330.75</td>\n",
       "      <td>326.89</td>\n",
       "      <td>657.21</td>\n",
       "      <td>6,590,300</td>\n",
       "    </tr>\n",
       "    <tr>\n",
       "      <th>2012-01-06</th>\n",
       "      <td>328.34</td>\n",
       "      <td>328.77</td>\n",
       "      <td>323.68</td>\n",
       "      <td>648.24</td>\n",
       "      <td>5,405,900</td>\n",
       "    </tr>\n",
       "    <tr>\n",
       "      <th>2012-01-09</th>\n",
       "      <td>322.04</td>\n",
       "      <td>322.29</td>\n",
       "      <td>309.46</td>\n",
       "      <td>620.76</td>\n",
       "      <td>11,688,800</td>\n",
       "    </tr>\n",
       "  </tbody>\n",
       "</table>\n",
       "</div>"
      ],
      "text/plain": [
       "              Open    High     Low   Close      Volume\n",
       "Date                                                  \n",
       "2012-01-03  325.25  332.83  324.97  663.59   7,380,500\n",
       "2012-01-04  331.27  333.87  329.08  666.45   5,749,400\n",
       "2012-01-05  329.83  330.75  326.89  657.21   6,590,300\n",
       "2012-01-06  328.34  328.77  323.68  648.24   5,405,900\n",
       "2012-01-09  322.04  322.29  309.46  620.76  11,688,800"
      ]
     },
     "execution_count": 7,
     "metadata": {},
     "output_type": "execute_result"
    }
   ],
   "source": [
    "train=pd.read_csv(\"C:\\\\Users\\\\Krishna\\\\Desktop\\\\dataset\\\\Google_Stock_Price_Train.csv\",parse_dates=[\"Date\"],index_col=\"Date\")\n",
    "train.head()"
   ]
  },
  {
   "cell_type": "code",
   "execution_count": 8,
   "metadata": {},
   "outputs": [],
   "source": [
    "xtrain=train[[\"Open\"]]"
   ]
  },
  {
   "cell_type": "code",
   "execution_count": 10,
   "metadata": {},
   "outputs": [],
   "source": [
    "from sklearn.preprocessing import MinMaxScaler\n",
    "sc=MinMaxScaler()\n",
    "sc_xtrain=sc.fit_transform(xtrain)"
   ]
  },
  {
   "cell_type": "code",
   "execution_count": 11,
   "metadata": {},
   "outputs": [
    {
     "data": {
      "text/plain": [
       "1258"
      ]
     },
     "execution_count": 11,
     "metadata": {},
     "output_type": "execute_result"
    }
   ],
   "source": [
    "len(sc_xtrain)"
   ]
  },
  {
   "cell_type": "code",
   "execution_count": 12,
   "metadata": {},
   "outputs": [],
   "source": [
    "def feature_transform(n_steps,data):\n",
    "    x=[]\n",
    "    y=[]\n",
    "    for i in range(n_steps,len(data)):\n",
    "        x.append(data[i-n_steps:i,0])\n",
    "        y.append(data[i,0])\n",
    "    return np.array(x),np.array(y)    "
   ]
  },
  {
   "cell_type": "code",
   "execution_count": 13,
   "metadata": {},
   "outputs": [],
   "source": [
    "n_steps=12"
   ]
  },
  {
   "cell_type": "code",
   "execution_count": 14,
   "metadata": {},
   "outputs": [],
   "source": [
    "x_train,y_train=feature_transform(n_steps,sc_xtrain)"
   ]
  },
  {
   "cell_type": "code",
   "execution_count": 16,
   "metadata": {},
   "outputs": [
    {
     "data": {
      "text/plain": [
       "((1246, 12), (1246,))"
      ]
     },
     "execution_count": 16,
     "metadata": {},
     "output_type": "execute_result"
    }
   ],
   "source": [
    "x_train.shape,y_train.shape #rows,steps,feature"
   ]
  },
  {
   "cell_type": "code",
   "execution_count": 17,
   "metadata": {},
   "outputs": [],
   "source": [
    "x_train=x_train.reshape((x_train.shape[0],x_train.shape[1],1))"
   ]
  },
  {
   "cell_type": "code",
   "execution_count": 18,
   "metadata": {},
   "outputs": [
    {
     "name": "stdout",
     "output_type": "stream",
     "text": [
      "Model: \"sequential\"\n",
      "_________________________________________________________________\n",
      "Layer (type)                 Output Shape              Param #   \n",
      "=================================================================\n",
      "lstm (LSTM)                  (None, 50)                10400     \n",
      "_________________________________________________________________\n",
      "dense (Dense)                (None, 1)                 51        \n",
      "=================================================================\n",
      "Total params: 10,451\n",
      "Trainable params: 10,451\n",
      "Non-trainable params: 0\n",
      "_________________________________________________________________\n"
     ]
    }
   ],
   "source": [
    "from keras.models import Sequential\n",
    "from keras.layers import Dense,LSTM\n",
    "model=Sequential()\n",
    "model.add(LSTM(50,activation=\"relu\",input_shape=(n_steps,1)))\n",
    "model.add(Dense(1))\n",
    "model.compile(loss=\"mean_squared_error\",optimizer=\"adam\")\n",
    "model.summary()"
   ]
  },
  {
   "cell_type": "code",
   "execution_count": 19,
   "metadata": {},
   "outputs": [
    {
     "name": "stdout",
     "output_type": "stream",
     "text": [
      "Epoch 1/100\n",
      "42/42 [==============================] - 4s 10ms/step - loss: 0.1620\n",
      "Epoch 2/100\n",
      "42/42 [==============================] - 0s 10ms/step - loss: 0.0035\n",
      "Epoch 3/100\n",
      "42/42 [==============================] - 0s 10ms/step - loss: 0.0011\n",
      "Epoch 4/100\n",
      "42/42 [==============================] - 0s 10ms/step - loss: 7.5929e-04\n",
      "Epoch 5/100\n",
      "42/42 [==============================] - 0s 10ms/step - loss: 8.3994e-04\n",
      "Epoch 6/100\n",
      "42/42 [==============================] - 0s 12ms/step - loss: 6.4886e-04\n",
      "Epoch 7/100\n",
      "42/42 [==============================] - 0s 10ms/step - loss: 7.1718e-04\n",
      "Epoch 8/100\n",
      "42/42 [==============================] - 1s 12ms/step - loss: 6.9713e-04\n",
      "Epoch 9/100\n",
      "42/42 [==============================] - 1s 12ms/step - loss: 6.6690e-04\n",
      "Epoch 10/100\n",
      "42/42 [==============================] - 0s 11ms/step - loss: 8.3541e-04\n",
      "Epoch 11/100\n",
      "42/42 [==============================] - 0s 10ms/step - loss: 7.9941e-04\n",
      "Epoch 12/100\n",
      "42/42 [==============================] - 0s 9ms/step - loss: 5.8757e-04\n",
      "Epoch 13/100\n",
      "42/42 [==============================] - 1s 13ms/step - loss: 6.0928e-04\n",
      "Epoch 14/100\n",
      "42/42 [==============================] - 0s 10ms/step - loss: 6.2495e-04\n",
      "Epoch 15/100\n",
      "42/42 [==============================] - 0s 9ms/step - loss: 7.5681e-04\n",
      "Epoch 16/100\n",
      "42/42 [==============================] - 0s 11ms/step - loss: 5.4023e-04\n",
      "Epoch 17/100\n",
      "42/42 [==============================] - 0s 9ms/step - loss: 6.5756e-04\n",
      "Epoch 18/100\n",
      "42/42 [==============================] - 0s 9ms/step - loss: 5.8583e-04\n",
      "Epoch 19/100\n",
      "42/42 [==============================] - 0s 10ms/step - loss: 5.7824e-04\n",
      "Epoch 20/100\n",
      "42/42 [==============================] - 0s 10ms/step - loss: 5.3675e-04: 0s - loss: 4.962\n",
      "Epoch 21/100\n",
      "42/42 [==============================] - 0s 11ms/step - loss: 5.5931e-04\n",
      "Epoch 22/100\n",
      "42/42 [==============================] - 0s 10ms/step - loss: 5.4862e-04\n",
      "Epoch 23/100\n",
      "42/42 [==============================] - 0s 10ms/step - loss: 6.3786e-04\n",
      "Epoch 24/100\n",
      "42/42 [==============================] - 0s 10ms/step - loss: 4.3949e-04\n",
      "Epoch 25/100\n",
      "42/42 [==============================] - 0s 10ms/step - loss: 4.1824e-04\n",
      "Epoch 26/100\n",
      "42/42 [==============================] - 0s 10ms/step - loss: 4.3597e-04\n",
      "Epoch 27/100\n",
      "42/42 [==============================] - 0s 10ms/step - loss: 4.7319e-04\n",
      "Epoch 28/100\n",
      "42/42 [==============================] - 0s 10ms/step - loss: 4.3446e-04\n",
      "Epoch 29/100\n",
      "42/42 [==============================] - 0s 10ms/step - loss: 4.9567e-04\n",
      "Epoch 30/100\n",
      "42/42 [==============================] - 0s 11ms/step - loss: 5.3103e-04\n",
      "Epoch 31/100\n",
      "42/42 [==============================] - 1s 13ms/step - loss: 4.5972e-04\n",
      "Epoch 32/100\n",
      "42/42 [==============================] - 0s 12ms/step - loss: 3.9983e-04\n",
      "Epoch 33/100\n",
      "42/42 [==============================] - 0s 11ms/step - loss: 4.6530e-04\n",
      "Epoch 34/100\n",
      "42/42 [==============================] - 0s 11ms/step - loss: 4.2235e-04\n",
      "Epoch 35/100\n",
      "42/42 [==============================] - 0s 11ms/step - loss: 3.4282e-04\n",
      "Epoch 36/100\n",
      "42/42 [==============================] - 1s 13ms/step - loss: 5.1589e-04\n",
      "Epoch 37/100\n",
      "42/42 [==============================] - 0s 11ms/step - loss: 4.0174e-04\n",
      "Epoch 38/100\n",
      "42/42 [==============================] - 1s 14ms/step - loss: 3.9963e-04\n",
      "Epoch 39/100\n",
      "42/42 [==============================] - 1s 12ms/step - loss: 4.0236e-04\n",
      "Epoch 40/100\n",
      "42/42 [==============================] - 1s 15ms/step - loss: 4.6595e-04\n",
      "Epoch 41/100\n",
      "42/42 [==============================] - 1s 12ms/step - loss: 4.1869e-04\n",
      "Epoch 42/100\n",
      "42/42 [==============================] - 1s 12ms/step - loss: 3.5606e-04\n",
      "Epoch 43/100\n",
      "42/42 [==============================] - 1s 14ms/step - loss: 4.0272e-04\n",
      "Epoch 44/100\n",
      "42/42 [==============================] - 1s 15ms/step - loss: 3.7663e-04\n",
      "Epoch 45/100\n",
      "42/42 [==============================] - 1s 14ms/step - loss: 3.7879e-04\n",
      "Epoch 46/100\n",
      "42/42 [==============================] - 1s 13ms/step - loss: 3.8635e-04\n",
      "Epoch 47/100\n",
      "42/42 [==============================] - 1s 12ms/step - loss: 4.1420e-04\n",
      "Epoch 48/100\n",
      "42/42 [==============================] - 1s 15ms/step - loss: 4.1632e-04\n",
      "Epoch 49/100\n",
      "42/42 [==============================] - 1s 15ms/step - loss: 5.1103e-04: 0s - loss: 5.\n",
      "Epoch 50/100\n",
      "42/42 [==============================] - 1s 13ms/step - loss: 3.1685e-04\n",
      "Epoch 51/100\n",
      "42/42 [==============================] - 1s 13ms/step - loss: 3.6951e-04\n",
      "Epoch 52/100\n",
      "42/42 [==============================] - 1s 13ms/step - loss: 3.6017e-04\n",
      "Epoch 53/100\n",
      "42/42 [==============================] - 1s 13ms/step - loss: 4.5614e-04\n",
      "Epoch 54/100\n",
      "42/42 [==============================] - 1s 14ms/step - loss: 3.3853e-04\n",
      "Epoch 55/100\n",
      "42/42 [==============================] - 1s 13ms/step - loss: 3.9341e-04\n",
      "Epoch 56/100\n",
      "42/42 [==============================] - 1s 14ms/step - loss: 3.4618e-04\n",
      "Epoch 57/100\n",
      "42/42 [==============================] - 1s 13ms/step - loss: 3.8850e-04\n",
      "Epoch 58/100\n",
      "42/42 [==============================] - 1s 14ms/step - loss: 4.6887e-04\n",
      "Epoch 59/100\n",
      "42/42 [==============================] - 1s 13ms/step - loss: 3.7619e-04\n",
      "Epoch 60/100\n",
      "42/42 [==============================] - 1s 13ms/step - loss: 3.1694e-04\n",
      "Epoch 61/100\n",
      "42/42 [==============================] - 1s 14ms/step - loss: 3.1667e-04\n",
      "Epoch 62/100\n",
      "42/42 [==============================] - 1s 13ms/step - loss: 3.4807e-04\n",
      "Epoch 63/100\n",
      "42/42 [==============================] - ETA: 0s - loss: 3.4395e-0 - 1s 14ms/step - loss: 3.4505e-04\n",
      "Epoch 64/100\n",
      "42/42 [==============================] - 1s 14ms/step - loss: 3.4714e-04\n",
      "Epoch 65/100\n",
      "42/42 [==============================] - 1s 15ms/step - loss: 3.6768e-04: 0s - loss: 3\n",
      "Epoch 66/100\n",
      "42/42 [==============================] - 1s 16ms/step - loss: 3.6518e-04\n",
      "Epoch 67/100\n",
      "42/42 [==============================] - 1s 16ms/step - loss: 3.5501e-04\n",
      "Epoch 68/100\n",
      "42/42 [==============================] - 1s 18ms/step - loss: 3.0008e-04\n",
      "Epoch 69/100\n",
      "42/42 [==============================] - 1s 18ms/step - loss: 3.6204e-04\n",
      "Epoch 70/100\n",
      "42/42 [==============================] - 1s 12ms/step - loss: 3.6481e-04\n",
      "Epoch 71/100\n",
      "42/42 [==============================] - 1s 12ms/step - loss: 2.8899e-04\n",
      "Epoch 72/100\n",
      "42/42 [==============================] - 1s 13ms/step - loss: 3.4187e-04\n",
      "Epoch 73/100\n",
      "42/42 [==============================] - 0s 11ms/step - loss: 3.3138e-04: 0s - loss: 3.00\n",
      "Epoch 74/100\n",
      "42/42 [==============================] - 0s 11ms/step - loss: 2.6834e-04\n",
      "Epoch 75/100\n",
      "42/42 [==============================] - 0s 11ms/step - loss: 3.1037e-04\n",
      "Epoch 76/100\n",
      "42/42 [==============================] - 0s 12ms/step - loss: 3.7529e-04\n",
      "Epoch 77/100\n",
      "42/42 [==============================] - 1s 13ms/step - loss: 2.7003e-04\n",
      "Epoch 78/100\n",
      "42/42 [==============================] - 1s 13ms/step - loss: 3.0431e-04\n",
      "Epoch 79/100\n",
      "42/42 [==============================] - 1s 14ms/step - loss: 3.0060e-04\n",
      "Epoch 80/100\n",
      "42/42 [==============================] - 1s 16ms/step - loss: 2.9724e-04\n",
      "Epoch 81/100\n",
      "42/42 [==============================] - 1s 14ms/step - loss: 3.4493e-04\n",
      "Epoch 82/100\n",
      "42/42 [==============================] - 1s 14ms/step - loss: 3.3501e-04\n",
      "Epoch 83/100\n",
      "42/42 [==============================] - 1s 15ms/step - loss: 2.8842e-04\n",
      "Epoch 84/100\n",
      "42/42 [==============================] - 1s 14ms/step - loss: 3.0990e-04\n",
      "Epoch 85/100\n",
      "42/42 [==============================] - 1s 14ms/step - loss: 3.5875e-04\n",
      "Epoch 86/100\n",
      "42/42 [==============================] - 1s 14ms/step - loss: 3.3345e-04\n",
      "Epoch 87/100\n",
      "42/42 [==============================] - 1s 17ms/step - loss: 4.0758e-04\n",
      "Epoch 88/100\n",
      "42/42 [==============================] - 1s 15ms/step - loss: 2.9678e-04\n",
      "Epoch 89/100\n",
      "42/42 [==============================] - 0s 11ms/step - loss: 3.3779e-04\n",
      "Epoch 90/100\n",
      "42/42 [==============================] - 0s 12ms/step - loss: 3.4234e-04\n",
      "Epoch 91/100\n",
      "42/42 [==============================] - 0s 11ms/step - loss: 2.7578e-04\n",
      "Epoch 92/100\n",
      "42/42 [==============================] - 1s 12ms/step - loss: 2.8853e-04\n",
      "Epoch 93/100\n",
      "42/42 [==============================] - 1s 13ms/step - loss: 2.4137e-04\n",
      "Epoch 94/100\n",
      "42/42 [==============================] - 1s 12ms/step - loss: 3.0548e-04\n",
      "Epoch 95/100\n"
     ]
    },
    {
     "name": "stdout",
     "output_type": "stream",
     "text": [
      "42/42 [==============================] - 0s 12ms/step - loss: 2.4448e-04\n",
      "Epoch 96/100\n",
      "42/42 [==============================] - 0s 11ms/step - loss: 2.9125e-04\n",
      "Epoch 97/100\n",
      "42/42 [==============================] - 0s 11ms/step - loss: 3.1389e-04\n",
      "Epoch 98/100\n",
      "42/42 [==============================] - 0s 12ms/step - loss: 2.5000e-04\n",
      "Epoch 99/100\n",
      "42/42 [==============================] - 0s 11ms/step - loss: 4.0988e-04\n",
      "Epoch 100/100\n",
      "42/42 [==============================] - 0s 12ms/step - loss: 2.9665e-04\n"
     ]
    }
   ],
   "source": [
    "history=model.fit(x_train,y_train,epochs=100,batch_size=30)"
   ]
  },
  {
   "cell_type": "code",
   "execution_count": 20,
   "metadata": {},
   "outputs": [
    {
     "data": {
      "text/plain": [
       "[<matplotlib.lines.Line2D at 0x29b069ab1c0>]"
      ]
     },
     "execution_count": 20,
     "metadata": {},
     "output_type": "execute_result"
    },
    {
     "data": {
      "image/png": "[encoded data removed]",
      "text/plain": [
       "<Figure size 432x288 with 1 Axes>"
      ]
     },
     "metadata": {
      "needs_background": "light"
     },
     "output_type": "display_data"
    }
   ],
   "source": [
    "plt.plot(history.history[\"loss\"])"
   ]
  },
  {
   "cell_type": "code",
   "execution_count": 21,
   "metadata": {},
   "outputs": [
    {
     "data": {
      "text/html": [
       "<div>\n",
       "<style scoped>\n",
       "    .dataframe tbody tr th:only-of-type {\n",
       "        vertical-align: middle;\n",
       "    }\n",
       "\n",
       "    .dataframe tbody tr th {\n",
       "        vertical-align: top;\n",
       "    }\n",
       "\n",
       "    .dataframe thead th {\n",
       "        text-align: right;\n",
       "    }\n",
       "</style>\n",
       "<table border=\"1\" class=\"dataframe\">\n",
       "  <thead>\n",
       "    <tr style=\"text-align: right;\">\n",
       "      <th></th>\n",
       "      <th>Open</th>\n",
       "      <th>High</th>\n",
       "      <th>Low</th>\n",
       "      <th>Close</th>\n",
       "      <th>Volume</th>\n",
       "    </tr>\n",
       "    <tr>\n",
       "      <th>Date</th>\n",
       "      <th></th>\n",
       "      <th></th>\n",
       "      <th></th>\n",
       "      <th></th>\n",
       "      <th></th>\n",
       "    </tr>\n",
       "  </thead>\n",
       "  <tbody>\n",
       "    <tr>\n",
       "      <th>2017-01-03</th>\n",
       "      <td>778.81</td>\n",
       "      <td>789.63</td>\n",
       "      <td>775.80</td>\n",
       "      <td>786.14</td>\n",
       "      <td>1,657,300</td>\n",
       "    </tr>\n",
       "    <tr>\n",
       "      <th>2017-01-04</th>\n",
       "      <td>788.36</td>\n",
       "      <td>791.34</td>\n",
       "      <td>783.16</td>\n",
       "      <td>786.90</td>\n",
       "      <td>1,073,000</td>\n",
       "    </tr>\n",
       "    <tr>\n",
       "      <th>2017-01-05</th>\n",
       "      <td>786.08</td>\n",
       "      <td>794.48</td>\n",
       "      <td>785.02</td>\n",
       "      <td>794.02</td>\n",
       "      <td>1,335,200</td>\n",
       "    </tr>\n",
       "    <tr>\n",
       "      <th>2017-01-06</th>\n",
       "      <td>795.26</td>\n",
       "      <td>807.90</td>\n",
       "      <td>792.20</td>\n",
       "      <td>806.15</td>\n",
       "      <td>1,640,200</td>\n",
       "    </tr>\n",
       "    <tr>\n",
       "      <th>2017-01-09</th>\n",
       "      <td>806.40</td>\n",
       "      <td>809.97</td>\n",
       "      <td>802.83</td>\n",
       "      <td>806.65</td>\n",
       "      <td>1,272,400</td>\n",
       "    </tr>\n",
       "  </tbody>\n",
       "</table>\n",
       "</div>"
      ],
      "text/plain": [
       "              Open    High     Low   Close     Volume\n",
       "Date                                                 \n",
       "2017-01-03  778.81  789.63  775.80  786.14  1,657,300\n",
       "2017-01-04  788.36  791.34  783.16  786.90  1,073,000\n",
       "2017-01-05  786.08  794.48  785.02  794.02  1,335,200\n",
       "2017-01-06  795.26  807.90  792.20  806.15  1,640,200\n",
       "2017-01-09  806.40  809.97  802.83  806.65  1,272,400"
      ]
     },
     "execution_count": 21,
     "metadata": {},
     "output_type": "execute_result"
    }
   ],
   "source": [
    "test=pd.read_csv(\"C:\\\\Users\\\\Krishna\\\\Desktop\\\\dataset\\\\Google_Stock_Price_Test.csv\",parse_dates=[\"Date\"],index_col=\"Date\")\n",
    "test.head()"
   ]
  },
  {
   "cell_type": "code",
   "execution_count": 22,
   "metadata": {},
   "outputs": [],
   "source": [
    "xtest=test[[\"Open\"]]\n",
    "sc_xtest=sc.fit_transform(xtest)"
   ]
  },
  {
   "cell_type": "code",
   "execution_count": 23,
   "metadata": {},
   "outputs": [],
   "source": [
    "x_test,y_test=feature_transform(n_steps,sc_xtest)"
   ]
  },
  {
   "cell_type": "code",
   "execution_count": 24,
   "metadata": {},
   "outputs": [],
   "source": [
    "x_test=x_test.reshape((x_test.shape[0],x_test.shape[1],1))"
   ]
  },
  {
   "cell_type": "code",
   "execution_count": 25,
   "metadata": {},
   "outputs": [],
   "source": [
    "ypred=model.predict(x_test)"
   ]
  },
  {
   "cell_type": "code",
   "execution_count": 26,
   "metadata": {},
   "outputs": [],
   "source": [
    "prediction=sc.inverse_transform(ypred)"
   ]
  },
  {
   "cell_type": "code",
   "execution_count": 27,
   "metadata": {},
   "outputs": [
    {
     "data": {
      "text/plain": [
       "array([[805.3816 ],\n",
       "       [806.0968 ],\n",
       "       [806.6634 ],\n",
       "       [814.5997 ],\n",
       "       [820.50366],\n",
       "       [824.78656],\n",
       "       [827.01404],\n",
       "       [817.49365]], dtype=float32)"
      ]
     },
     "execution_count": 27,
     "metadata": {},
     "output_type": "execute_result"
    }
   ],
   "source": [
    "prediction"
   ]
  },
  {
   "cell_type": "code",
   "execution_count": 28,
   "metadata": {},
   "outputs": [],
   "source": [
    "y_test=sc.inverse_transform(y_test.reshape(-1,1))"
   ]
  },
  {
   "cell_type": "code",
   "execution_count": 29,
   "metadata": {},
   "outputs": [],
   "source": [
    "from sklearn.metrics import mean_squared_error,r2_score "
   ]
  },
  {
   "cell_type": "code",
   "execution_count": 34,
   "metadata": {},
   "outputs": [
    {
     "name": "stdout",
     "output_type": "stream",
     "text": [
      "MSE is : 181.26669922645286\n",
      "RMSE: 13.46353219725243\n"
     ]
    }
   ],
   "source": [
    "mse=mean_squared_error(y_test.flatten(),prediction.flatten())\n",
    "print(\"MSE is :\",mse)\n",
    "print(\"RMSE:\",np.sqrt(mse))"
   ]
  },
  {
   "cell_type": "code",
   "execution_count": null,
   "metadata": {},
   "outputs": [],
   "source": []
  }
 ],
 "metadata": {
  "kernelspec": {
   "display_name": "Python 3",
   "language": "python",
   "name": "python3"
  },
  "language_info": {
   "codemirror_mode": {
    "name": "ipython",
    "version": 3
   },
   "file_extension": ".py",
   "mimetype": "text/x-python",
   "name": "python",
   "nbconvert_exporter": "python",
   "pygments_lexer": "ipython3",
   "version": "3.8.3"
  }
 },
 "nbformat": 4,
 "nbformat_minor": 4
}
