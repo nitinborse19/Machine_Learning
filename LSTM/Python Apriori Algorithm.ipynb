{
 "cells": [
  {
   "cell_type": "code",
   "execution_count": 77,
   "metadata": {
    "colab": {
     "base_uri": "https://localhost:8080/"
    },
    "executionInfo": {
     "elapsed": 3880,
     "status": "ok",
     "timestamp": 1620384842809,
     "user": {
      "displayName": "shaheemuddin farooqui",
      "photoUrl": "https://lh3.googleusercontent.com/a-/AOh14GimVhq3rCzhCi6rPW60ltZtA6GHgGivO5nME2Rk=s64",
      "userId": "09058076046395139929"
     },
     "user_tz": -330
    },
    "id": "FaGT1B4XQgMR",
    "outputId": "11f0281e-fab6-4553-c9d8-077728de6c21"
   },
   "outputs": [
    {
     "name": "stdout",
     "output_type": "stream",
     "text": [
      "Requirement already satisfied: apyori in /usr/local/lib/python3.7/dist-packages (1.1.2)\n"
     ]
    }
   ],
   "source": [
    "pip install apyori"
   ]
  },
  {
   "cell_type": "code",
   "execution_count": 78,
   "metadata": {
    "executionInfo": {
     "elapsed": 3879,
     "status": "ok",
     "timestamp": 1620384842812,
     "user": {
      "displayName": "shaheemuddin farooqui",
      "photoUrl": "https://lh3.googleusercontent.com/a-/AOh14GimVhq3rCzhCi6rPW60ltZtA6GHgGivO5nME2Rk=s64",
      "userId": "09058076046395139929"
     },
     "user_tz": -330
    },
    "id": "VOnz4ML3Qp5R"
   },
   "outputs": [],
   "source": [
    "import pandas as pd"
   ]
  },
  {
   "cell_type": "code",
   "execution_count": 79,
   "metadata": {
    "executionInfo": {
     "elapsed": 3878,
     "status": "ok",
     "timestamp": 1620384842813,
     "user": {
      "displayName": "shaheemuddin farooqui",
      "photoUrl": "https://lh3.googleusercontent.com/a-/AOh14GimVhq3rCzhCi6rPW60ltZtA6GHgGivO5nME2Rk=s64",
      "userId": "09058076046395139929"
     },
     "user_tz": -330
    },
    "id": "pvrh6DdaRoay"
   },
   "outputs": [],
   "source": [
    "df=pd.read_csv('/content/Market_Basket_Optimisation.csv',header=None)"
   ]
  },
  {
   "cell_type": "code",
   "execution_count": 80,
   "metadata": {
    "colab": {
     "base_uri": "https://localhost:8080/",
     "height": 520
    },
    "executionInfo": {
     "elapsed": 3869,
     "status": "ok",
     "timestamp": 1620384842814,
     "user": {
      "displayName": "shaheemuddin farooqui",
      "photoUrl": "https://lh3.googleusercontent.com/a-/AOh14GimVhq3rCzhCi6rPW60ltZtA6GHgGivO5nME2Rk=s64",
      "userId": "09058076046395139929"
     },
     "user_tz": -330
    },
    "id": "7iMFXWkpRydM",
    "outputId": "102a64e5-1153-44a6-a9d2-0050b16d55c1"
   },
   "outputs": [
    {
     "data": {
      "text/html": [
       "<div>\n",
       "<style scoped>\n",
       "    .dataframe tbody tr th:only-of-type {\n",
       "        vertical-align: middle;\n",
       "    }\n",
       "\n",
       "    .dataframe tbody tr th {\n",
       "        vertical-align: top;\n",
       "    }\n",
       "\n",
       "    .dataframe thead th {\n",
       "        text-align: right;\n",
       "    }\n",
       "</style>\n",
       "<table border=\"1\" class=\"dataframe\">\n",
       "  <thead>\n",
       "    <tr style=\"text-align: right;\">\n",
       "      <th></th>\n",
       "      <th>0</th>\n",
       "      <th>1</th>\n",
       "      <th>2</th>\n",
       "      <th>3</th>\n",
       "      <th>4</th>\n",
       "      <th>5</th>\n",
       "      <th>6</th>\n",
       "      <th>7</th>\n",
       "      <th>8</th>\n",
       "      <th>9</th>\n",
       "      <th>10</th>\n",
       "      <th>11</th>\n",
       "      <th>12</th>\n",
       "      <th>13</th>\n",
       "      <th>14</th>\n",
       "      <th>15</th>\n",
       "      <th>16</th>\n",
       "      <th>17</th>\n",
       "      <th>18</th>\n",
       "      <th>19</th>\n",
       "    </tr>\n",
       "  </thead>\n",
       "  <tbody>\n",
       "    <tr>\n",
       "      <th>0</th>\n",
       "      <td>shrimp</td>\n",
       "      <td>almonds</td>\n",
       "      <td>avocado</td>\n",
       "      <td>vegetables mix</td>\n",
       "      <td>green grapes</td>\n",
       "      <td>whole weat flour</td>\n",
       "      <td>yams</td>\n",
       "      <td>cottage cheese</td>\n",
       "      <td>energy drink</td>\n",
       "      <td>tomato juice</td>\n",
       "      <td>low fat yogurt</td>\n",
       "      <td>green tea</td>\n",
       "      <td>honey</td>\n",
       "      <td>salad</td>\n",
       "      <td>mineral water</td>\n",
       "      <td>salmon</td>\n",
       "      <td>antioxydant juice</td>\n",
       "      <td>frozen smoothie</td>\n",
       "      <td>spinach</td>\n",
       "      <td>olive oil</td>\n",
       "    </tr>\n",
       "    <tr>\n",
       "      <th>1</th>\n",
       "      <td>burgers</td>\n",
       "      <td>meatballs</td>\n",
       "      <td>eggs</td>\n",
       "      <td>NaN</td>\n",
       "      <td>NaN</td>\n",
       "      <td>NaN</td>\n",
       "      <td>NaN</td>\n",
       "      <td>NaN</td>\n",
       "      <td>NaN</td>\n",
       "      <td>NaN</td>\n",
       "      <td>NaN</td>\n",
       "      <td>NaN</td>\n",
       "      <td>NaN</td>\n",
       "      <td>NaN</td>\n",
       "      <td>NaN</td>\n",
       "      <td>NaN</td>\n",
       "      <td>NaN</td>\n",
       "      <td>NaN</td>\n",
       "      <td>NaN</td>\n",
       "      <td>NaN</td>\n",
       "    </tr>\n",
       "    <tr>\n",
       "      <th>2</th>\n",
       "      <td>chutney</td>\n",
       "      <td>NaN</td>\n",
       "      <td>NaN</td>\n",
       "      <td>NaN</td>\n",
       "      <td>NaN</td>\n",
       "      <td>NaN</td>\n",
       "      <td>NaN</td>\n",
       "      <td>NaN</td>\n",
       "      <td>NaN</td>\n",
       "      <td>NaN</td>\n",
       "      <td>NaN</td>\n",
       "      <td>NaN</td>\n",
       "      <td>NaN</td>\n",
       "      <td>NaN</td>\n",
       "      <td>NaN</td>\n",
       "      <td>NaN</td>\n",
       "      <td>NaN</td>\n",
       "      <td>NaN</td>\n",
       "      <td>NaN</td>\n",
       "      <td>NaN</td>\n",
       "    </tr>\n",
       "    <tr>\n",
       "      <th>3</th>\n",
       "      <td>turkey</td>\n",
       "      <td>avocado</td>\n",
       "      <td>NaN</td>\n",
       "      <td>NaN</td>\n",
       "      <td>NaN</td>\n",
       "      <td>NaN</td>\n",
       "      <td>NaN</td>\n",
       "      <td>NaN</td>\n",
       "      <td>NaN</td>\n",
       "      <td>NaN</td>\n",
       "      <td>NaN</td>\n",
       "      <td>NaN</td>\n",
       "      <td>NaN</td>\n",
       "      <td>NaN</td>\n",
       "      <td>NaN</td>\n",
       "      <td>NaN</td>\n",
       "      <td>NaN</td>\n",
       "      <td>NaN</td>\n",
       "      <td>NaN</td>\n",
       "      <td>NaN</td>\n",
       "    </tr>\n",
       "    <tr>\n",
       "      <th>4</th>\n",
       "      <td>mineral water</td>\n",
       "      <td>milk</td>\n",
       "      <td>energy bar</td>\n",
       "      <td>whole wheat rice</td>\n",
       "      <td>green tea</td>\n",
       "      <td>NaN</td>\n",
       "      <td>NaN</td>\n",
       "      <td>NaN</td>\n",
       "      <td>NaN</td>\n",
       "      <td>NaN</td>\n",
       "      <td>NaN</td>\n",
       "      <td>NaN</td>\n",
       "      <td>NaN</td>\n",
       "      <td>NaN</td>\n",
       "      <td>NaN</td>\n",
       "      <td>NaN</td>\n",
       "      <td>NaN</td>\n",
       "      <td>NaN</td>\n",
       "      <td>NaN</td>\n",
       "      <td>NaN</td>\n",
       "    </tr>\n",
       "    <tr>\n",
       "      <th>...</th>\n",
       "      <td>...</td>\n",
       "      <td>...</td>\n",
       "      <td>...</td>\n",
       "      <td>...</td>\n",
       "      <td>...</td>\n",
       "      <td>...</td>\n",
       "      <td>...</td>\n",
       "      <td>...</td>\n",
       "      <td>...</td>\n",
       "      <td>...</td>\n",
       "      <td>...</td>\n",
       "      <td>...</td>\n",
       "      <td>...</td>\n",
       "      <td>...</td>\n",
       "      <td>...</td>\n",
       "      <td>...</td>\n",
       "      <td>...</td>\n",
       "      <td>...</td>\n",
       "      <td>...</td>\n",
       "      <td>...</td>\n",
       "    </tr>\n",
       "    <tr>\n",
       "      <th>7496</th>\n",
       "      <td>butter</td>\n",
       "      <td>light mayo</td>\n",
       "      <td>fresh bread</td>\n",
       "      <td>NaN</td>\n",
       "      <td>NaN</td>\n",
       "      <td>NaN</td>\n",
       "      <td>NaN</td>\n",
       "      <td>NaN</td>\n",
       "      <td>NaN</td>\n",
       "      <td>NaN</td>\n",
       "      <td>NaN</td>\n",
       "      <td>NaN</td>\n",
       "      <td>NaN</td>\n",
       "      <td>NaN</td>\n",
       "      <td>NaN</td>\n",
       "      <td>NaN</td>\n",
       "      <td>NaN</td>\n",
       "      <td>NaN</td>\n",
       "      <td>NaN</td>\n",
       "      <td>NaN</td>\n",
       "    </tr>\n",
       "    <tr>\n",
       "      <th>7497</th>\n",
       "      <td>burgers</td>\n",
       "      <td>frozen vegetables</td>\n",
       "      <td>eggs</td>\n",
       "      <td>french fries</td>\n",
       "      <td>magazines</td>\n",
       "      <td>green tea</td>\n",
       "      <td>NaN</td>\n",
       "      <td>NaN</td>\n",
       "      <td>NaN</td>\n",
       "      <td>NaN</td>\n",
       "      <td>NaN</td>\n",
       "      <td>NaN</td>\n",
       "      <td>NaN</td>\n",
       "      <td>NaN</td>\n",
       "      <td>NaN</td>\n",
       "      <td>NaN</td>\n",
       "      <td>NaN</td>\n",
       "      <td>NaN</td>\n",
       "      <td>NaN</td>\n",
       "      <td>NaN</td>\n",
       "    </tr>\n",
       "    <tr>\n",
       "      <th>7498</th>\n",
       "      <td>chicken</td>\n",
       "      <td>NaN</td>\n",
       "      <td>NaN</td>\n",
       "      <td>NaN</td>\n",
       "      <td>NaN</td>\n",
       "      <td>NaN</td>\n",
       "      <td>NaN</td>\n",
       "      <td>NaN</td>\n",
       "      <td>NaN</td>\n",
       "      <td>NaN</td>\n",
       "      <td>NaN</td>\n",
       "      <td>NaN</td>\n",
       "      <td>NaN</td>\n",
       "      <td>NaN</td>\n",
       "      <td>NaN</td>\n",
       "      <td>NaN</td>\n",
       "      <td>NaN</td>\n",
       "      <td>NaN</td>\n",
       "      <td>NaN</td>\n",
       "      <td>NaN</td>\n",
       "    </tr>\n",
       "    <tr>\n",
       "      <th>7499</th>\n",
       "      <td>escalope</td>\n",
       "      <td>green tea</td>\n",
       "      <td>NaN</td>\n",
       "      <td>NaN</td>\n",
       "      <td>NaN</td>\n",
       "      <td>NaN</td>\n",
       "      <td>NaN</td>\n",
       "      <td>NaN</td>\n",
       "      <td>NaN</td>\n",
       "      <td>NaN</td>\n",
       "      <td>NaN</td>\n",
       "      <td>NaN</td>\n",
       "      <td>NaN</td>\n",
       "      <td>NaN</td>\n",
       "      <td>NaN</td>\n",
       "      <td>NaN</td>\n",
       "      <td>NaN</td>\n",
       "      <td>NaN</td>\n",
       "      <td>NaN</td>\n",
       "      <td>NaN</td>\n",
       "    </tr>\n",
       "    <tr>\n",
       "      <th>7500</th>\n",
       "      <td>eggs</td>\n",
       "      <td>frozen smoothie</td>\n",
       "      <td>yogurt cake</td>\n",
       "      <td>low fat yogurt</td>\n",
       "      <td>NaN</td>\n",
       "      <td>NaN</td>\n",
       "      <td>NaN</td>\n",
       "      <td>NaN</td>\n",
       "      <td>NaN</td>\n",
       "      <td>NaN</td>\n",
       "      <td>NaN</td>\n",
       "      <td>NaN</td>\n",
       "      <td>NaN</td>\n",
       "      <td>NaN</td>\n",
       "      <td>NaN</td>\n",
       "      <td>NaN</td>\n",
       "      <td>NaN</td>\n",
       "      <td>NaN</td>\n",
       "      <td>NaN</td>\n",
       "      <td>NaN</td>\n",
       "    </tr>\n",
       "  </tbody>\n",
       "</table>\n",
       "<p>7501 rows × 20 columns</p>\n",
       "</div>"
      ],
      "text/plain": [
       "                 0                  1   ...       18         19\n",
       "0            shrimp            almonds  ...  spinach  olive oil\n",
       "1           burgers          meatballs  ...      NaN        NaN\n",
       "2           chutney                NaN  ...      NaN        NaN\n",
       "3            turkey            avocado  ...      NaN        NaN\n",
       "4     mineral water               milk  ...      NaN        NaN\n",
       "...             ...                ...  ...      ...        ...\n",
       "7496         butter         light mayo  ...      NaN        NaN\n",
       "7497        burgers  frozen vegetables  ...      NaN        NaN\n",
       "7498        chicken                NaN  ...      NaN        NaN\n",
       "7499       escalope          green tea  ...      NaN        NaN\n",
       "7500           eggs    frozen smoothie  ...      NaN        NaN\n",
       "\n",
       "[7501 rows x 20 columns]"
      ]
     },
     "execution_count": 80,
     "metadata": {
      "tags": []
     },
     "output_type": "execute_result"
    }
   ],
   "source": [
    "df"
   ]
  },
  {
   "cell_type": "code",
   "execution_count": 81,
   "metadata": {
    "colab": {
     "base_uri": "https://localhost:8080/"
    },
    "executionInfo": {
     "elapsed": 3859,
     "status": "ok",
     "timestamp": 1620384842815,
     "user": {
      "displayName": "shaheemuddin farooqui",
      "photoUrl": "https://lh3.googleusercontent.com/a-/AOh14GimVhq3rCzhCi6rPW60ltZtA6GHgGivO5nME2Rk=s64",
      "userId": "09058076046395139929"
     },
     "user_tz": -330
    },
    "id": "w9nW7JhrR8bB",
    "outputId": "1ee4f9d2-aca2-4b2d-adaf-de08a98c8cb0"
   },
   "outputs": [
    {
     "name": "stdout",
     "output_type": "stream",
     "text": [
      "<class 'pandas.core.frame.DataFrame'>\n",
      "RangeIndex: 7501 entries, 0 to 7500\n",
      "Data columns (total 20 columns):\n",
      " #   Column  Non-Null Count  Dtype \n",
      "---  ------  --------------  ----- \n",
      " 0   0       7501 non-null   object\n",
      " 1   1       5747 non-null   object\n",
      " 2   2       4389 non-null   object\n",
      " 3   3       3345 non-null   object\n",
      " 4   4       2529 non-null   object\n",
      " 5   5       1864 non-null   object\n",
      " 6   6       1369 non-null   object\n",
      " 7   7       981 non-null    object\n",
      " 8   8       654 non-null    object\n",
      " 9   9       395 non-null    object\n",
      " 10  10      256 non-null    object\n",
      " 11  11      154 non-null    object\n",
      " 12  12      87 non-null     object\n",
      " 13  13      47 non-null     object\n",
      " 14  14      25 non-null     object\n",
      " 15  15      8 non-null      object\n",
      " 16  16      4 non-null      object\n",
      " 17  17      4 non-null      object\n",
      " 18  18      3 non-null      object\n",
      " 19  19      1 non-null      object\n",
      "dtypes: object(20)\n",
      "memory usage: 1.1+ MB\n"
     ]
    }
   ],
   "source": [
    "df.info()"
   ]
  },
  {
   "cell_type": "code",
   "execution_count": 82,
   "metadata": {
    "colab": {
     "base_uri": "https://localhost:8080/"
    },
    "executionInfo": {
     "elapsed": 3853,
     "status": "ok",
     "timestamp": 1620384842816,
     "user": {
      "displayName": "shaheemuddin farooqui",
      "photoUrl": "https://lh3.googleusercontent.com/a-/AOh14GimVhq3rCzhCi6rPW60ltZtA6GHgGivO5nME2Rk=s64",
      "userId": "09058076046395139929"
     },
     "user_tz": -330
    },
    "id": "9zN9J-_ER23P",
    "outputId": "e3dba966-2ba1-4058-9624-9c784acd98f5"
   },
   "outputs": [
    {
     "data": {
      "text/plain": [
       "0        0\n",
       "1     1754\n",
       "2     3112\n",
       "3     4156\n",
       "4     4972\n",
       "5     5637\n",
       "6     6132\n",
       "7     6520\n",
       "8     6847\n",
       "9     7106\n",
       "10    7245\n",
       "11    7347\n",
       "12    7414\n",
       "13    7454\n",
       "14    7476\n",
       "15    7493\n",
       "16    7497\n",
       "17    7497\n",
       "18    7498\n",
       "19    7500\n",
       "dtype: int64"
      ]
     },
     "execution_count": 82,
     "metadata": {
      "tags": []
     },
     "output_type": "execute_result"
    }
   ],
   "source": [
    "df.isna().sum()"
   ]
  },
  {
   "cell_type": "code",
   "execution_count": 83,
   "metadata": {
    "executionInfo": {
     "elapsed": 3852,
     "status": "ok",
     "timestamp": 1620384842817,
     "user": {
      "displayName": "shaheemuddin farooqui",
      "photoUrl": "https://lh3.googleusercontent.com/a-/AOh14GimVhq3rCzhCi6rPW60ltZtA6GHgGivO5nME2Rk=s64",
      "userId": "09058076046395139929"
     },
     "user_tz": -330
    },
    "id": "FVLXWdTGR7dk"
   },
   "outputs": [],
   "source": [
    "df.fillna(0,inplace=True)"
   ]
  },
  {
   "cell_type": "code",
   "execution_count": 84,
   "metadata": {
    "colab": {
     "base_uri": "https://localhost:8080/"
    },
    "executionInfo": {
     "elapsed": 3841,
     "status": "ok",
     "timestamp": 1620384842818,
     "user": {
      "displayName": "shaheemuddin farooqui",
      "photoUrl": "https://lh3.googleusercontent.com/a-/AOh14GimVhq3rCzhCi6rPW60ltZtA6GHgGivO5nME2Rk=s64",
      "userId": "09058076046395139929"
     },
     "user_tz": -330
    },
    "id": "yJlHiAoFSLjX",
    "outputId": "d14647c8-4a63-4692-f354-67c1954c5e8c"
   },
   "outputs": [
    {
     "data": {
      "text/plain": [
       "0     0\n",
       "1     0\n",
       "2     0\n",
       "3     0\n",
       "4     0\n",
       "5     0\n",
       "6     0\n",
       "7     0\n",
       "8     0\n",
       "9     0\n",
       "10    0\n",
       "11    0\n",
       "12    0\n",
       "13    0\n",
       "14    0\n",
       "15    0\n",
       "16    0\n",
       "17    0\n",
       "18    0\n",
       "19    0\n",
       "dtype: int64"
      ]
     },
     "execution_count": 84,
     "metadata": {
      "tags": []
     },
     "output_type": "execute_result"
    }
   ],
   "source": [
    "df.isna().sum()"
   ]
  },
  {
   "cell_type": "code",
   "execution_count": 85,
   "metadata": {
    "executionInfo": {
     "elapsed": 6035,
     "status": "ok",
     "timestamp": 1620384845029,
     "user": {
      "displayName": "shaheemuddin farooqui",
      "photoUrl": "https://lh3.googleusercontent.com/a-/AOh14GimVhq3rCzhCi6rPW60ltZtA6GHgGivO5nME2Rk=s64",
      "userId": "09058076046395139929"
     },
     "user_tz": -330
    },
    "id": "_edleSF4SPHt"
   },
   "outputs": [],
   "source": [
    "#data frame to list\n",
    "\n",
    "trans=[]\n",
    "for i in range(df.shape[0]):\n",
    "    sub=[]\n",
    "    for j in range(df.shape[1]):\n",
    "        if str(df.values[i,j])!='O':\n",
    "            trans.append([df.values[i,j]])\n",
    "            trans.append(sub)"
   ]
  },
  {
   "cell_type": "code",
   "execution_count": 86,
   "metadata": {
    "executionInfo": {
     "elapsed": 6963,
     "status": "ok",
     "timestamp": 1620384845964,
     "user": {
      "displayName": "shaheemuddin farooqui",
      "photoUrl": "https://lh3.googleusercontent.com/a-/AOh14GimVhq3rCzhCi6rPW60ltZtA6GHgGivO5nME2Rk=s64",
      "userId": "09058076046395139929"
     },
     "user_tz": -330
    },
    "id": "nJFQEFb6TOzq"
   },
   "outputs": [],
   "source": [
    "trans=[]\n",
    "for i in range(df.shape[0]):\n",
    "  trans.append( [ str(df.values[i,j]) for j in range(df.shape[1]) if str(df.values[i,j])!='0'] )"
   ]
  },
  {
   "cell_type": "code",
   "execution_count": 87,
   "metadata": {
    "colab": {
     "base_uri": "https://localhost:8080/"
    },
    "executionInfo": {
     "elapsed": 6947,
     "status": "ok",
     "timestamp": 1620384845966,
     "user": {
      "displayName": "shaheemuddin farooqui",
      "photoUrl": "https://lh3.googleusercontent.com/a-/AOh14GimVhq3rCzhCi6rPW60ltZtA6GHgGivO5nME2Rk=s64",
      "userId": "09058076046395139929"
     },
     "user_tz": -330
    },
    "id": "WBfy1yAkTNEm",
    "outputId": "c56b9818-10c9-4a32-a197-5d1f7e4f2fe5"
   },
   "outputs": [
    {
     "data": {
      "text/plain": [
       "['shrimp',\n",
       " 'almonds',\n",
       " 'avocado',\n",
       " 'vegetables mix',\n",
       " 'green grapes',\n",
       " 'whole weat flour',\n",
       " 'yams',\n",
       " 'cottage cheese',\n",
       " 'energy drink',\n",
       " 'tomato juice',\n",
       " 'low fat yogurt',\n",
       " 'green tea',\n",
       " 'honey',\n",
       " 'salad',\n",
       " 'mineral water',\n",
       " 'salmon',\n",
       " 'antioxydant juice',\n",
       " 'frozen smoothie',\n",
       " 'spinach',\n",
       " 'olive oil']"
      ]
     },
     "execution_count": 87,
     "metadata": {
      "tags": []
     },
     "output_type": "execute_result"
    }
   ],
   "source": [
    "trans[0]"
   ]
  },
  {
   "cell_type": "code",
   "execution_count": 88,
   "metadata": {
    "executionInfo": {
     "elapsed": 6942,
     "status": "ok",
     "timestamp": 1620384845968,
     "user": {
      "displayName": "shaheemuddin farooqui",
      "photoUrl": "https://lh3.googleusercontent.com/a-/AOh14GimVhq3rCzhCi6rPW60ltZtA6GHgGivO5nME2Rk=s64",
      "userId": "09058076046395139929"
     },
     "user_tz": -330
    },
    "id": "n-hEIF2VUDX4"
   },
   "outputs": [],
   "source": [
    "from apyori import apriori"
   ]
  },
  {
   "cell_type": "code",
   "execution_count": 89,
   "metadata": {
    "executionInfo": {
     "elapsed": 6940,
     "status": "ok",
     "timestamp": 1620384845970,
     "user": {
      "displayName": "shaheemuddin farooqui",
      "photoUrl": "https://lh3.googleusercontent.com/a-/AOh14GimVhq3rCzhCi6rPW60ltZtA6GHgGivO5nME2Rk=s64",
      "userId": "09058076046395139929"
     },
     "user_tz": -330
    },
    "id": "K6FdXwonUU6Z"
   },
   "outputs": [],
   "source": [
    "rules=apriori(trans,min_support=0.003,min_confidence=0.2,min_lift=3,min_length=0.2)"
   ]
  },
  {
   "cell_type": "code",
   "execution_count": 90,
   "metadata": {
    "colab": {
     "base_uri": "https://localhost:8080/"
    },
    "executionInfo": {
     "elapsed": 6926,
     "status": "ok",
     "timestamp": 1620384845971,
     "user": {
      "displayName": "shaheemuddin farooqui",
      "photoUrl": "https://lh3.googleusercontent.com/a-/AOh14GimVhq3rCzhCi6rPW60ltZtA6GHgGivO5nME2Rk=s64",
      "userId": "09058076046395139929"
     },
     "user_tz": -330
    },
    "id": "ME60pA1jUkf8",
    "outputId": "ef0b2cb2-cbce-4ddb-a9b9-fe718d61dadb"
   },
   "outputs": [
    {
     "data": {
      "text/plain": [
       "<generator object apriori at 0x7f458c365a50>"
      ]
     },
     "execution_count": 90,
     "metadata": {
      "tags": []
     },
     "output_type": "execute_result"
    }
   ],
   "source": [
    "rules"
   ]
  },
  {
   "cell_type": "code",
   "execution_count": 91,
   "metadata": {
    "executionInfo": {
     "elapsed": 7649,
     "status": "ok",
     "timestamp": 1620384846703,
     "user": {
      "displayName": "shaheemuddin farooqui",
      "photoUrl": "https://lh3.googleusercontent.com/a-/AOh14GimVhq3rCzhCi6rPW60ltZtA6GHgGivO5nME2Rk=s64",
      "userId": "09058076046395139929"
     },
     "user_tz": -330
    },
    "id": "uJnZxba7UnL_"
   },
   "outputs": [],
   "source": [
    "df_rules=pd.DataFrame(list(rules))\n"
   ]
  },
  {
   "cell_type": "code",
   "execution_count": 92,
   "metadata": {
    "colab": {
     "base_uri": "https://localhost:8080/",
     "height": 194
    },
    "executionInfo": {
     "elapsed": 7617,
     "status": "ok",
     "timestamp": 1620384846707,
     "user": {
      "displayName": "shaheemuddin farooqui",
      "photoUrl": "https://lh3.googleusercontent.com/a-/AOh14GimVhq3rCzhCi6rPW60ltZtA6GHgGivO5nME2Rk=s64",
      "userId": "09058076046395139929"
     },
     "user_tz": -330
    },
    "id": "6wP67DfhUt1_",
    "outputId": "ce9d9969-0ca2-4567-d41d-a98fc1573a88"
   },
   "outputs": [
    {
     "data": {
      "text/html": [
       "<div>\n",
       "<style scoped>\n",
       "    .dataframe tbody tr th:only-of-type {\n",
       "        vertical-align: middle;\n",
       "    }\n",
       "\n",
       "    .dataframe tbody tr th {\n",
       "        vertical-align: top;\n",
       "    }\n",
       "\n",
       "    .dataframe thead th {\n",
       "        text-align: right;\n",
       "    }\n",
       "</style>\n",
       "<table border=\"1\" class=\"dataframe\">\n",
       "  <thead>\n",
       "    <tr style=\"text-align: right;\">\n",
       "      <th></th>\n",
       "      <th>items</th>\n",
       "      <th>support</th>\n",
       "      <th>ordered_statistics</th>\n",
       "    </tr>\n",
       "  </thead>\n",
       "  <tbody>\n",
       "    <tr>\n",
       "      <th>0</th>\n",
       "      <td>(chicken, light cream)</td>\n",
       "      <td>0.004533</td>\n",
       "      <td>[((light cream), (chicken), 0.2905982905982905...</td>\n",
       "    </tr>\n",
       "    <tr>\n",
       "      <th>1</th>\n",
       "      <td>(mushroom cream sauce, escalope)</td>\n",
       "      <td>0.005733</td>\n",
       "      <td>[((mushroom cream sauce), (escalope), 0.300699...</td>\n",
       "    </tr>\n",
       "    <tr>\n",
       "      <th>2</th>\n",
       "      <td>(pasta, escalope)</td>\n",
       "      <td>0.005866</td>\n",
       "      <td>[((pasta), (escalope), 0.3728813559322034, 4.7...</td>\n",
       "    </tr>\n",
       "    <tr>\n",
       "      <th>3</th>\n",
       "      <td>(fromage blanc, honey)</td>\n",
       "      <td>0.003333</td>\n",
       "      <td>[((fromage blanc), (honey), 0.2450980392156863...</td>\n",
       "    </tr>\n",
       "    <tr>\n",
       "      <th>4</th>\n",
       "      <td>(ground beef, herb &amp; pepper)</td>\n",
       "      <td>0.015998</td>\n",
       "      <td>[((herb &amp; pepper), (ground beef), 0.3234501347...</td>\n",
       "    </tr>\n",
       "  </tbody>\n",
       "</table>\n",
       "</div>"
      ],
      "text/plain": [
       "                              items  ...                                 ordered_statistics\n",
       "0            (chicken, light cream)  ...  [((light cream), (chicken), 0.2905982905982905...\n",
       "1  (mushroom cream sauce, escalope)  ...  [((mushroom cream sauce), (escalope), 0.300699...\n",
       "2                 (pasta, escalope)  ...  [((pasta), (escalope), 0.3728813559322034, 4.7...\n",
       "3            (fromage blanc, honey)  ...  [((fromage blanc), (honey), 0.2450980392156863...\n",
       "4      (ground beef, herb & pepper)  ...  [((herb & pepper), (ground beef), 0.3234501347...\n",
       "\n",
       "[5 rows x 3 columns]"
      ]
     },
     "execution_count": 92,
     "metadata": {
      "tags": []
     },
     "output_type": "execute_result"
    }
   ],
   "source": [
    "df_rules.head()"
   ]
  },
  {
   "cell_type": "code",
   "execution_count": 94,
   "metadata": {
    "colab": {
     "base_uri": "https://localhost:8080/"
    },
    "executionInfo": {
     "elapsed": 685,
     "status": "ok",
     "timestamp": 1620384854677,
     "user": {
      "displayName": "shaheemuddin farooqui",
      "photoUrl": "https://lh3.googleusercontent.com/a-/AOh14GimVhq3rCzhCi6rPW60ltZtA6GHgGivO5nME2Rk=s64",
      "userId": "09058076046395139929"
     },
     "user_tz": -330
    },
    "id": "yj7HEXM_Uwyd",
    "outputId": "65106735-12b8-4fb7-c84c-d2a8111a8d8e"
   },
   "outputs": [
    {
     "data": {
      "text/plain": [
       "frozenset({'light cream'})"
      ]
     },
     "execution_count": 94,
     "metadata": {
      "tags": []
     },
     "output_type": "execute_result"
    }
   ],
   "source": [
    "df_rules['ordered_statistics'][0][0][0]"
   ]
  },
  {
   "cell_type": "code",
   "execution_count": 95,
   "metadata": {
    "colab": {
     "base_uri": "https://localhost:8080/"
    },
    "executionInfo": {
     "elapsed": 1025,
     "status": "ok",
     "timestamp": 1620384861340,
     "user": {
      "displayName": "shaheemuddin farooqui",
      "photoUrl": "https://lh3.googleusercontent.com/a-/AOh14GimVhq3rCzhCi6rPW60ltZtA6GHgGivO5nME2Rk=s64",
      "userId": "09058076046395139929"
     },
     "user_tz": -330
    },
    "id": "rXJvj4XPbE7R",
    "outputId": "6f343574-9464-494b-9b23-130bba2966fa"
   },
   "outputs": [
    {
     "data": {
      "text/plain": [
       "frozenset({'chicken'})"
      ]
     },
     "execution_count": 95,
     "metadata": {
      "tags": []
     },
     "output_type": "execute_result"
    }
   ],
   "source": [
    "df_rules['ordered_statistics'][0][0][1]"
   ]
  },
  {
   "cell_type": "code",
   "execution_count": 96,
   "metadata": {
    "colab": {
     "base_uri": "https://localhost:8080/"
    },
    "executionInfo": {
     "elapsed": 864,
     "status": "ok",
     "timestamp": 1620384868333,
     "user": {
      "displayName": "shaheemuddin farooqui",
      "photoUrl": "https://lh3.googleusercontent.com/a-/AOh14GimVhq3rCzhCi6rPW60ltZtA6GHgGivO5nME2Rk=s64",
      "userId": "09058076046395139929"
     },
     "user_tz": -330
    },
    "id": "HnTjqtxjbVzk",
    "outputId": "e23d72f6-fb8c-40dd-a5fb-b4f657f7134a"
   },
   "outputs": [
    {
     "data": {
      "text/plain": [
       "0.29059829059829057"
      ]
     },
     "execution_count": 96,
     "metadata": {
      "tags": []
     },
     "output_type": "execute_result"
    }
   ],
   "source": [
    "df_rules['ordered_statistics'][0][0][2]"
   ]
  },
  {
   "cell_type": "code",
   "execution_count": 97,
   "metadata": {
    "colab": {
     "base_uri": "https://localhost:8080/"
    },
    "executionInfo": {
     "elapsed": 1312,
     "status": "ok",
     "timestamp": 1620384874748,
     "user": {
      "displayName": "shaheemuddin farooqui",
      "photoUrl": "https://lh3.googleusercontent.com/a-/AOh14GimVhq3rCzhCi6rPW60ltZtA6GHgGivO5nME2Rk=s64",
      "userId": "09058076046395139929"
     },
     "user_tz": -330
    },
    "id": "YHklJ-w5bVVr",
    "outputId": "773b47bf-7f45-4c3e-b020-cdc9d2c29477"
   },
   "outputs": [
    {
     "data": {
      "text/plain": [
       "4.84395061728395"
      ]
     },
     "execution_count": 97,
     "metadata": {
      "tags": []
     },
     "output_type": "execute_result"
    }
   ],
   "source": [
    "df_rules['ordered_statistics'][0][0][3]"
   ]
  },
  {
   "cell_type": "code",
   "execution_count": 98,
   "metadata": {
    "executionInfo": {
     "elapsed": 1223,
     "status": "ok",
     "timestamp": 1620384915953,
     "user": {
      "displayName": "shaheemuddin farooqui",
      "photoUrl": "https://lh3.googleusercontent.com/a-/AOh14GimVhq3rCzhCi6rPW60ltZtA6GHgGivO5nME2Rk=s64",
      "userId": "09058076046395139929"
     },
     "user_tz": -330
    },
    "id": "9QMQrXdabYv6"
   },
   "outputs": [],
   "source": [
    "lhs=[]\n",
    "rhs=[]\n",
    "conf=[]\n",
    "lift=[]\n",
    "for i in range(df_rules.shape[0]):\n",
    "  order_stat=df_rules['ordered_statistics'][i][0]\n",
    "  lhs.append(list(order_stat[0]))\n",
    "  rhs.append(list(order_stat[1]))\n",
    "  conf.append(order_stat[2])\n",
    "  lift.append(order_stat[3])\n"
   ]
  },
  {
   "cell_type": "code",
   "execution_count": 100,
   "metadata": {
    "executionInfo": {
     "elapsed": 1332,
     "status": "ok",
     "timestamp": 1620385029857,
     "user": {
      "displayName": "shaheemuddin farooqui",
      "photoUrl": "https://lh3.googleusercontent.com/a-/AOh14GimVhq3rCzhCi6rPW60ltZtA6GHgGivO5nME2Rk=s64",
      "userId": "09058076046395139929"
     },
     "user_tz": -330
    },
    "id": "qVpyg07HcMUo"
   },
   "outputs": [],
   "source": [
    "final_report=pd.DataFrame({'LHS':lhs,'RHS':rhs,\"Support\":df_rules.support,'Confidence':conf,'Lift':lift})"
   ]
  },
  {
   "cell_type": "code",
   "execution_count": 102,
   "metadata": {
    "colab": {
     "base_uri": "https://localhost:8080/",
     "height": 399
    },
    "executionInfo": {
     "elapsed": 1525,
     "status": "ok",
     "timestamp": 1620385251849,
     "user": {
      "displayName": "shaheemuddin farooqui",
      "photoUrl": "https://lh3.googleusercontent.com/a-/AOh14GimVhq3rCzhCi6rPW60ltZtA6GHgGivO5nME2Rk=s64",
      "userId": "09058076046395139929"
     },
     "user_tz": -330
    },
    "id": "ydbsGR0od6rI",
    "outputId": "120fd01f-af48-46a8-e799-0e7e51dff3a1"
   },
   "outputs": [
    {
     "data": {
      "text/html": [
       "<div>\n",
       "<style scoped>\n",
       "    .dataframe tbody tr th:only-of-type {\n",
       "        vertical-align: middle;\n",
       "    }\n",
       "\n",
       "    .dataframe tbody tr th {\n",
       "        vertical-align: top;\n",
       "    }\n",
       "\n",
       "    .dataframe thead th {\n",
       "        text-align: right;\n",
       "    }\n",
       "</style>\n",
       "<table border=\"1\" class=\"dataframe\">\n",
       "  <thead>\n",
       "    <tr style=\"text-align: right;\">\n",
       "      <th></th>\n",
       "      <th>LHS</th>\n",
       "      <th>RHS</th>\n",
       "      <th>Support</th>\n",
       "      <th>Confidence</th>\n",
       "      <th>Lift</th>\n",
       "    </tr>\n",
       "  </thead>\n",
       "  <tbody>\n",
       "    <tr>\n",
       "      <th>72</th>\n",
       "      <td>[shrimp, frozen vegetables]</td>\n",
       "      <td>[spaghetti, mineral water]</td>\n",
       "      <td>0.003333</td>\n",
       "      <td>0.200000</td>\n",
       "      <td>3.348661</td>\n",
       "    </tr>\n",
       "    <tr>\n",
       "      <th>74</th>\n",
       "      <td>[ground beef, milk]</td>\n",
       "      <td>[spaghetti, mineral water]</td>\n",
       "      <td>0.004399</td>\n",
       "      <td>0.200000</td>\n",
       "      <td>3.348661</td>\n",
       "    </tr>\n",
       "    <tr>\n",
       "      <th>56</th>\n",
       "      <td>[ground beef, eggs]</td>\n",
       "      <td>[chocolate, mineral water]</td>\n",
       "      <td>0.003999</td>\n",
       "      <td>0.200000</td>\n",
       "      <td>3.797975</td>\n",
       "    </tr>\n",
       "    <tr>\n",
       "      <th>53</th>\n",
       "      <td>[pancakes, spaghetti]</td>\n",
       "      <td>[olive oil]</td>\n",
       "      <td>0.005066</td>\n",
       "      <td>0.201058</td>\n",
       "      <td>3.052910</td>\n",
       "    </tr>\n",
       "    <tr>\n",
       "      <th>17</th>\n",
       "      <td>[chicken, spaghetti]</td>\n",
       "      <td>[olive oil]</td>\n",
       "      <td>0.003466</td>\n",
       "      <td>0.201550</td>\n",
       "      <td>3.060384</td>\n",
       "    </tr>\n",
       "    <tr>\n",
       "      <th>...</th>\n",
       "      <td>...</td>\n",
       "      <td>...</td>\n",
       "      <td>...</td>\n",
       "      <td>...</td>\n",
       "      <td>...</td>\n",
       "    </tr>\n",
       "    <tr>\n",
       "      <th>58</th>\n",
       "      <td>[ground beef, frozen vegetables, chocolate]</td>\n",
       "      <td>[spaghetti]</td>\n",
       "      <td>0.003066</td>\n",
       "      <td>0.534884</td>\n",
       "      <td>3.072100</td>\n",
       "    </tr>\n",
       "    <tr>\n",
       "      <th>67</th>\n",
       "      <td>[ground beef, frozen vegetables, milk]</td>\n",
       "      <td>[spaghetti]</td>\n",
       "      <td>0.003066</td>\n",
       "      <td>0.534884</td>\n",
       "      <td>3.072100</td>\n",
       "    </tr>\n",
       "    <tr>\n",
       "      <th>21</th>\n",
       "      <td>[ground beef, cooking oil]</td>\n",
       "      <td>[spaghetti]</td>\n",
       "      <td>0.004799</td>\n",
       "      <td>0.571429</td>\n",
       "      <td>3.281995</td>\n",
       "    </tr>\n",
       "    <tr>\n",
       "      <th>54</th>\n",
       "      <td>[olive oil, tomatoes]</td>\n",
       "      <td>[spaghetti]</td>\n",
       "      <td>0.004399</td>\n",
       "      <td>0.611111</td>\n",
       "      <td>3.509912</td>\n",
       "    </tr>\n",
       "    <tr>\n",
       "      <th>14</th>\n",
       "      <td>[cereals, ground beef]</td>\n",
       "      <td>[spaghetti]</td>\n",
       "      <td>0.003066</td>\n",
       "      <td>0.676471</td>\n",
       "      <td>3.885303</td>\n",
       "    </tr>\n",
       "  </tbody>\n",
       "</table>\n",
       "<p>80 rows × 5 columns</p>\n",
       "</div>"
      ],
      "text/plain": [
       "                                            LHS  ...      Lift\n",
       "72                  [shrimp, frozen vegetables]  ...  3.348661\n",
       "74                          [ground beef, milk]  ...  3.348661\n",
       "56                          [ground beef, eggs]  ...  3.797975\n",
       "53                        [pancakes, spaghetti]  ...  3.052910\n",
       "17                         [chicken, spaghetti]  ...  3.060384\n",
       "..                                          ...  ...       ...\n",
       "58  [ground beef, frozen vegetables, chocolate]  ...  3.072100\n",
       "67       [ground beef, frozen vegetables, milk]  ...  3.072100\n",
       "21                   [ground beef, cooking oil]  ...  3.281995\n",
       "54                        [olive oil, tomatoes]  ...  3.509912\n",
       "14                       [cereals, ground beef]  ...  3.885303\n",
       "\n",
       "[80 rows x 5 columns]"
      ]
     },
     "execution_count": 102,
     "metadata": {
      "tags": []
     },
     "output_type": "execute_result"
    }
   ],
   "source": [
    "final_report.sort_values(by='Confidence')"
   ]
  },
  {
   "cell_type": "code",
   "execution_count": 103,
   "metadata": {
    "colab": {
     "base_uri": "https://localhost:8080/",
     "height": 399
    },
    "executionInfo": {
     "elapsed": 1025,
     "status": "ok",
     "timestamp": 1620385522823,
     "user": {
      "displayName": "shaheemuddin farooqui",
      "photoUrl": "https://lh3.googleusercontent.com/a-/AOh14GimVhq3rCzhCi6rPW60ltZtA6GHgGivO5nME2Rk=s64",
      "userId": "09058076046395139929"
     },
     "user_tz": -330
    },
    "id": "RuaoC4XaeYQ5",
    "outputId": "cf478508-6182-4f8c-e4c6-4cdf58546ce9"
   },
   "outputs": [
    {
     "data": {
      "text/html": [
       "<div>\n",
       "<style scoped>\n",
       "    .dataframe tbody tr th:only-of-type {\n",
       "        vertical-align: middle;\n",
       "    }\n",
       "\n",
       "    .dataframe tbody tr th {\n",
       "        vertical-align: top;\n",
       "    }\n",
       "\n",
       "    .dataframe thead th {\n",
       "        text-align: right;\n",
       "    }\n",
       "</style>\n",
       "<table border=\"1\" class=\"dataframe\">\n",
       "  <thead>\n",
       "    <tr style=\"text-align: right;\">\n",
       "      <th></th>\n",
       "      <th>LHS</th>\n",
       "      <th>RHS</th>\n",
       "      <th>Support</th>\n",
       "      <th>Confidence</th>\n",
       "      <th>Lift</th>\n",
       "    </tr>\n",
       "  </thead>\n",
       "  <tbody>\n",
       "    <tr>\n",
       "      <th>0</th>\n",
       "      <td>[light cream]</td>\n",
       "      <td>[chicken]</td>\n",
       "      <td>0.004533</td>\n",
       "      <td>0.290598</td>\n",
       "      <td>4.843951</td>\n",
       "    </tr>\n",
       "    <tr>\n",
       "      <th>1</th>\n",
       "      <td>[mushroom cream sauce]</td>\n",
       "      <td>[escalope]</td>\n",
       "      <td>0.005733</td>\n",
       "      <td>0.300699</td>\n",
       "      <td>3.790833</td>\n",
       "    </tr>\n",
       "    <tr>\n",
       "      <th>2</th>\n",
       "      <td>[pasta]</td>\n",
       "      <td>[escalope]</td>\n",
       "      <td>0.005866</td>\n",
       "      <td>0.372881</td>\n",
       "      <td>4.700812</td>\n",
       "    </tr>\n",
       "    <tr>\n",
       "      <th>3</th>\n",
       "      <td>[fromage blanc]</td>\n",
       "      <td>[honey]</td>\n",
       "      <td>0.003333</td>\n",
       "      <td>0.245098</td>\n",
       "      <td>5.164271</td>\n",
       "    </tr>\n",
       "    <tr>\n",
       "      <th>4</th>\n",
       "      <td>[herb &amp; pepper]</td>\n",
       "      <td>[ground beef]</td>\n",
       "      <td>0.015998</td>\n",
       "      <td>0.323450</td>\n",
       "      <td>3.291994</td>\n",
       "    </tr>\n",
       "    <tr>\n",
       "      <th>...</th>\n",
       "      <td>...</td>\n",
       "      <td>...</td>\n",
       "      <td>...</td>\n",
       "      <td>...</td>\n",
       "      <td>...</td>\n",
       "    </tr>\n",
       "    <tr>\n",
       "      <th>75</th>\n",
       "      <td>[olive oil, ground beef]</td>\n",
       "      <td>[spaghetti, mineral water]</td>\n",
       "      <td>0.003066</td>\n",
       "      <td>0.216981</td>\n",
       "      <td>3.632981</td>\n",
       "    </tr>\n",
       "    <tr>\n",
       "      <th>76</th>\n",
       "      <td>[ground beef, pancakes]</td>\n",
       "      <td>[spaghetti, mineral water]</td>\n",
       "      <td>0.003066</td>\n",
       "      <td>0.211009</td>\n",
       "      <td>3.532991</td>\n",
       "    </tr>\n",
       "    <tr>\n",
       "      <th>77</th>\n",
       "      <td>[ground beef, tomatoes]</td>\n",
       "      <td>[spaghetti, mineral water]</td>\n",
       "      <td>0.003066</td>\n",
       "      <td>0.261364</td>\n",
       "      <td>4.376091</td>\n",
       "    </tr>\n",
       "    <tr>\n",
       "      <th>78</th>\n",
       "      <td>[spaghetti, milk, mineral water]</td>\n",
       "      <td>[olive oil]</td>\n",
       "      <td>0.003333</td>\n",
       "      <td>0.211864</td>\n",
       "      <td>3.216994</td>\n",
       "    </tr>\n",
       "    <tr>\n",
       "      <th>79</th>\n",
       "      <td>[milk, tomatoes]</td>\n",
       "      <td>[spaghetti, mineral water]</td>\n",
       "      <td>0.003333</td>\n",
       "      <td>0.238095</td>\n",
       "      <td>3.986501</td>\n",
       "    </tr>\n",
       "  </tbody>\n",
       "</table>\n",
       "<p>80 rows × 5 columns</p>\n",
       "</div>"
      ],
      "text/plain": [
       "                                 LHS  ...      Lift\n",
       "0                      [light cream]  ...  4.843951\n",
       "1             [mushroom cream sauce]  ...  3.790833\n",
       "2                            [pasta]  ...  4.700812\n",
       "3                    [fromage blanc]  ...  5.164271\n",
       "4                    [herb & pepper]  ...  3.291994\n",
       "..                               ...  ...       ...\n",
       "75          [olive oil, ground beef]  ...  3.632981\n",
       "76           [ground beef, pancakes]  ...  3.532991\n",
       "77           [ground beef, tomatoes]  ...  4.376091\n",
       "78  [spaghetti, milk, mineral water]  ...  3.216994\n",
       "79                  [milk, tomatoes]  ...  3.986501\n",
       "\n",
       "[80 rows x 5 columns]"
      ]
     },
     "execution_count": 103,
     "metadata": {
      "tags": []
     },
     "output_type": "execute_result"
    }
   ],
   "source": [
    "final_report[final_report['Confidence']>=0.2]"
   ]
  }
 ],
 "metadata": {
  "colab": {
   "authorship_tag": "ABX9TyMT64LuPodexaypw7CwEBfP",
   "collapsed_sections": [],
   "name": "7.5.21.Apriori Algo .ipynb",
   "provenance": []
  },
  "kernelspec": {
   "display_name": "Python 3",
   "language": "python",
   "name": "python3"
  },
  "language_info": {
   "codemirror_mode": {
    "name": "ipython",
    "version": 3
   },
   "file_extension": ".py",
   "mimetype": "text/x-python",
   "name": "python",
   "nbconvert_exporter": "python",
   "pygments_lexer": "ipython3",
   "version": "3.8.5"
  }
 },
 "nbformat": 4,
 "nbformat_minor": 1
}
