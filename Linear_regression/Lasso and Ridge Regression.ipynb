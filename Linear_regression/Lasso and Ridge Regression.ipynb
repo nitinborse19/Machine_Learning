{
 "cells": [
  {
   "cell_type": "code",
   "execution_count": 4,
   "metadata": {},
   "outputs": [],
   "source": [
    "import pandas as pd\n",
    "import matplotlib.pyplot as plt\n",
    "import numpy as np\n",
    "import seaborn as sns\n",
    "from sklearn.linear_model import LinearRegression\n",
    "\n",
    "from sklearn.linear_model import Ridge\n",
    "\n",
    "from sklearn.linear_model import Lasso\n",
    "\n",
    "from sklearn.linear_model import ElasticNet"
   ]
  },
  {
   "cell_type": "code",
   "execution_count": 5,
   "metadata": {},
   "outputs": [],
   "source": [
    "df=pd.read_csv(\"../Data/housing.csv\")"
   ]
  },
  {
   "cell_type": "code",
   "execution_count": 6,
   "metadata": {},
   "outputs": [
    {
     "data": {
      "text/html": [
       "<div>\n",
       "<style scoped>\n",
       "    .dataframe tbody tr th:only-of-type {\n",
       "        vertical-align: middle;\n",
       "    }\n",
       "\n",
       "    .dataframe tbody tr th {\n",
       "        vertical-align: top;\n",
       "    }\n",
       "\n",
       "    .dataframe thead th {\n",
       "        text-align: right;\n",
       "    }\n",
       "</style>\n",
       "<table border=\"1\" class=\"dataframe\">\n",
       "  <thead>\n",
       "    <tr style=\"text-align: right;\">\n",
       "      <th></th>\n",
       "      <th>RM</th>\n",
       "      <th>LSTAT</th>\n",
       "      <th>PTRATIO</th>\n",
       "      <th>MEDV</th>\n",
       "    </tr>\n",
       "  </thead>\n",
       "  <tbody>\n",
       "    <tr>\n",
       "      <th>0</th>\n",
       "      <td>6.575</td>\n",
       "      <td>4.98</td>\n",
       "      <td>15.3</td>\n",
       "      <td>504000.0</td>\n",
       "    </tr>\n",
       "    <tr>\n",
       "      <th>1</th>\n",
       "      <td>6.421</td>\n",
       "      <td>9.14</td>\n",
       "      <td>17.8</td>\n",
       "      <td>453600.0</td>\n",
       "    </tr>\n",
       "    <tr>\n",
       "      <th>2</th>\n",
       "      <td>7.185</td>\n",
       "      <td>4.03</td>\n",
       "      <td>17.8</td>\n",
       "      <td>728700.0</td>\n",
       "    </tr>\n",
       "    <tr>\n",
       "      <th>3</th>\n",
       "      <td>6.998</td>\n",
       "      <td>2.94</td>\n",
       "      <td>18.7</td>\n",
       "      <td>701400.0</td>\n",
       "    </tr>\n",
       "    <tr>\n",
       "      <th>4</th>\n",
       "      <td>7.147</td>\n",
       "      <td>5.33</td>\n",
       "      <td>18.7</td>\n",
       "      <td>760200.0</td>\n",
       "    </tr>\n",
       "  </tbody>\n",
       "</table>\n",
       "</div>"
      ],
      "text/plain": [
       "      RM  LSTAT  PTRATIO      MEDV\n",
       "0  6.575   4.98     15.3  504000.0\n",
       "1  6.421   9.14     17.8  453600.0\n",
       "2  7.185   4.03     17.8  728700.0\n",
       "3  6.998   2.94     18.7  701400.0\n",
       "4  7.147   5.33     18.7  760200.0"
      ]
     },
     "execution_count": 6,
     "metadata": {},
     "output_type": "execute_result"
    }
   ],
   "source": [
    "df.head()"
   ]
  },
  {
   "cell_type": "code",
   "execution_count": 7,
   "metadata": {},
   "outputs": [
    {
     "name": "stdout",
     "output_type": "stream",
     "text": [
      "(342, 3)\n",
      "(342,)\n",
      "(147, 3)\n",
      "(147,)\n"
     ]
    }
   ],
   "source": [
    "X = df.drop('MEDV', axis=1)\n",
    "\n",
    "y = df['MEDV']\n",
    "\n",
    "from sklearn import preprocessing\n",
    "\n",
    "X = preprocessing.scale(X)\n",
    "\n",
    "y = preprocessing.scale(y)\n",
    "\n",
    "from sklearn.model_selection import train_test_split\n",
    "\n",
    "X_train, X_test, y_train, y_test = train_test_split(X, y, test_size=0.30, random_state=1)\n",
    "\n",
    "print(X_train.shape)\n",
    "\n",
    "print(y_train.shape)\n",
    "\n",
    "print(X_test.shape)\n",
    "\n",
    "print(y_test.shape)"
   ]
  },
  {
   "cell_type": "code",
   "execution_count": 8,
   "metadata": {},
   "outputs": [
    {
     "data": {
      "text/plain": [
       "LinearRegression()"
      ]
     },
     "execution_count": 8,
     "metadata": {},
     "output_type": "execute_result"
    }
   ],
   "source": [
    "regression_model = LinearRegression()\n",
    "\n",
    "regression_model.fit(X_train, y_train)\n"
   ]
  },
  {
   "cell_type": "code",
   "execution_count": 9,
   "metadata": {},
   "outputs": [
    {
     "name": "stdout",
     "output_type": "stream",
     "text": [
      "Ridge model: [ 0.31037007 -0.46008909 -0.25831074]\n"
     ]
    }
   ],
   "source": [
    "ridge = Ridge(alpha=.3)\n",
    "\n",
    "ridge.fit(X_train,y_train)\n",
    "\n",
    "print (\"Ridge model:\", (ridge.coef_))"
   ]
  },
  {
   "cell_type": "markdown",
   "metadata": {},
   "source": [
    "### The optimization objective for Ridge is:\n",
    "||y - Xw||^2_2 + alpha * ||w||^2_2"
   ]
  },
  {
   "cell_type": "code",
   "execution_count": 10,
   "metadata": {},
   "outputs": [
    {
     "name": "stdout",
     "output_type": "stream",
     "text": [
      "Lasso model: [ 0.26550839 -0.42151352 -0.18794559]\n"
     ]
    }
   ],
   "source": [
    "lasso = Lasso(alpha=0.1)\n",
    "\n",
    "lasso.fit(X_train,y_train)\n",
    "\n",
    "print (\"Lasso model:\", (lasso.coef_))"
   ]
  },
  {
   "cell_type": "markdown",
   "metadata": {},
   "source": [
    "### The optimization objective for Lasso is:\n",
    "(1 / (2 * n_samples)) * ||y - Xw||^2_2 + alpha * ||w||_1"
   ]
  },
  {
   "cell_type": "markdown",
   "metadata": {},
   "source": [
    "### Result on Train and Test Dataset"
   ]
  },
  {
   "cell_type": "code",
   "execution_count": 11,
   "metadata": {},
   "outputs": [
    {
     "name": "stdout",
     "output_type": "stream",
     "text": [
      "Linear Regression Model Training Score:  0.7105567540949002\n",
      "Linear Regression Model Testing Score:  0.7281579138457908\n",
      "Ridge Regression Model Training Score:  0.7105566037528164\n",
      "Ridge Regression Model Testing Score:  0.7281166128672445\n",
      "Lasso Regression Model Training Score:  0.6958190280767107\n",
      "Lasso Regression Model Testing Score:  0.7011222584065626\n"
     ]
    }
   ],
   "source": [
    "print(\"Linear Regression Model Training Score: \", regression_model.score(X_train, y_train))\n",
    "\n",
    "print(\"Linear Regression Model Testing Score: \",regression_model.score(X_test, y_test))\n",
    "\n",
    "print(\"Ridge Regression Model Training Score: \",ridge.score(X_train, y_train))\n",
    "\n",
    "print(\"Ridge Regression Model Testing Score: \",ridge.score(X_test, y_test))\n",
    "\n",
    "print(\"Lasso Regression Model Training Score: \",lasso.score(X_train, y_train))\n",
    "print(\"Lasso Regression Model Testing Score: \",lasso.score(X_test, y_test))"
   ]
  },
  {
   "cell_type": "code",
   "execution_count": 12,
   "metadata": {},
   "outputs": [
    {
     "name": "stdout",
     "output_type": "stream",
     "text": [
      "Linear Regression Model Coefficient : [ 0.31038811 -0.46041158 -0.25840905]\n",
      "Ridge Regression Model Coefficient : [ 0.31037007 -0.46008909 -0.25831074]\n",
      "Lasso Regression Model Coefficient : [ 0.26550839 -0.42151352 -0.18794559]\n"
     ]
    }
   ],
   "source": [
    "print(\"Linear Regression Model Coefficient :\",regression_model.coef_)\n",
    "print(\"Ridge Regression Model Coefficient :\",ridge.coef_)\n",
    "print(\"Lasso Regression Model Coefficient :\",lasso.coef_)"
   ]
  },
  {
   "cell_type": "code",
   "execution_count": 13,
   "metadata": {},
   "outputs": [
    {
     "name": "stdout",
     "output_type": "stream",
     "text": [
      "0.0\n"
     ]
    }
   ],
   "source": [
    "from sklearn.preprocessing import PolynomialFeatures\n",
    "\n",
    "poly = PolynomialFeatures(degree = 2, interaction_only=True)\n",
    "\n",
    "X_poly = poly.fit_transform(X)\n",
    "\n",
    "X_train, X_test, y_train, y_test = train_test_split(X_poly, y, test_size=0.30, random_state=1)\n",
    "\n",
    "regression_model.fit(X_train, y_train)\n",
    "\n",
    "print(regression_model.coef_[0])"
   ]
  },
  {
   "cell_type": "code",
   "execution_count": 14,
   "metadata": {},
   "outputs": [
    {
     "name": "stdout",
     "output_type": "stream",
     "text": [
      "Ridge model: [ 0.          0.27107574 -0.57159397 -0.17077965 -0.20051563 -0.18439328\n",
      " -0.14349348]\n"
     ]
    }
   ],
   "source": [
    "ridge = Ridge(alpha=.3)\n",
    "\n",
    "ridge.fit(X_train,y_train)\n",
    "\n",
    "print (\"Ridge model:\", (ridge.coef_))"
   ]
  },
  {
   "cell_type": "code",
   "execution_count": 15,
   "metadata": {},
   "outputs": [
    {
     "name": "stdout",
     "output_type": "stream",
     "text": [
      "Lasso model: [ 0.          0.26858583 -0.571742   -0.16961397 -0.19866367 -0.17956566\n",
      " -0.13553868]\n"
     ]
    }
   ],
   "source": [
    "lasso = Lasso(alpha=0.003)\n",
    "\n",
    "lasso.fit(X_train,y_train)\n",
    "\n",
    "print (\"Lasso model:\", (lasso.coef_))"
   ]
  },
  {
   "cell_type": "markdown",
   "metadata": {},
   "source": [
    "### Result on Polynomial Transformed Train and Test Dataset"
   ]
  },
  {
   "cell_type": "code",
   "execution_count": 16,
   "metadata": {},
   "outputs": [
    {
     "name": "stdout",
     "output_type": "stream",
     "text": [
      "Linear Regression Model Training Score:  0.8244073780079281\n",
      "Linear Regression Model Testing Score:  0.8149670026064411\n",
      "Ridge Regression Model Training Score:  0.8244070096412396\n",
      "Ridge Regression Model Testing Score:  0.8149895819342468\n",
      "Lasso Regression Model Training Score:  0.8243524495465678\n",
      "Lasso Regression Model Testing Score:  0.8150507962199911\n"
     ]
    }
   ],
   "source": [
    "print(\"Linear Regression Model Training Score: \", regression_model.score(X_train, y_train))\n",
    "\n",
    "print(\"Linear Regression Model Testing Score: \",regression_model.score(X_test, y_test))\n",
    "\n",
    "print(\"Ridge Regression Model Training Score: \",ridge.score(X_train, y_train))\n",
    "\n",
    "print(\"Ridge Regression Model Testing Score: \",ridge.score(X_test, y_test))\n",
    "\n",
    "print(\"Lasso Regression Model Training Score: \",lasso.score(X_train, y_train))\n",
    "\n",
    "print(\"Lasso Regression Model Testing Score: \",lasso.score(X_test, y_test))"
   ]
  },
  {
   "cell_type": "code",
   "execution_count": 18,
   "metadata": {},
   "outputs": [
    {
     "name": "stdout",
     "output_type": "stream",
     "text": [
      "Linear Regression Model Coefficient : [ 0.          0.27097105 -0.57225914 -0.17066546 -0.20080135 -0.1844696\n",
      " -0.14374296]\n",
      "Ridge Regression Model Coefficient : [ 0.          0.27107574 -0.57159397 -0.17077965 -0.20051563 -0.18439328\n",
      " -0.14349348]\n",
      "Lasso Regression Model Coefficient : [ 0.          0.26858583 -0.571742   -0.16961397 -0.19866367 -0.17956566\n",
      " -0.13553868]\n"
     ]
    }
   ],
   "source": [
    "print(\"Linear Regression Model Coefficient :\",regression_model.coef_)\n",
    "print(\"Ridge Regression Model Coefficient :\",ridge.coef_)\n",
    "print(\"Lasso Regression Model Coefficient :\",lasso.coef_)"
   ]
  },
  {
   "cell_type": "code",
   "execution_count": 24,
   "metadata": {},
   "outputs": [
    {
     "data": {
      "text/plain": [
       "0.7306970161020188"
      ]
     },
     "execution_count": 24,
     "metadata": {},
     "output_type": "execute_result"
    }
   ],
   "source": [
    "from sklearn.linear_model import ElasticNet\n",
    "\n",
    "ENreg = ElasticNet(alpha=0.5, l1_ratio=0.2, normalize=False)\n",
    "\n",
    "ENreg.fit(X_train,y_train)\n",
    "\n",
    "pred_cv = ENreg.predict(X_train)\n",
    "\n",
    "\n",
    "ENreg.score(X_train,y_train)"
   ]
  },
  {
   "cell_type": "markdown",
   "metadata": {},
   "source": [
    "### L1 Normalization\n",
    "\n",
    "It may be defined as the normalization technique that modifies the dataset values in a way that in each row the sum of the absolute values will always be up to 1. It is also called Least Absolute Deviations.\n",
    "\n",
    "    1.Is also known as least absolute deviations (LAD), least absolute errors (LAE)\n",
    "    2.It is basically minimizing the sum of the absolute differences (S) between the target value (Yi) and the estimated values\n",
    "    3.On another words Sum of absolute values = 1\n",
    "        Example if applied this norm along row then sum of square for a row = 1. \n",
    "    4.It is insensitive to outliers\n",
    "    5.Sparsity:\n",
    "        Refers to that only very few entries in a matrix (or vector) is non-zero.\n",
    "        L1-norm has the property of producing many coefficients with zero values or very small values with few large coefficients. "
   ]
  },
  {
   "cell_type": "markdown",
   "metadata": {},
   "source": [
    "### L2 Normalization\n",
    "\n",
    "    1.Is also known as least squares\n",
    "    2.Sum of squares = 1\n",
    "        Example if applied this norm along row then sum of square for a row = 1. \n",
    "    3.takes outliers in consideration during training: \n",
    "        it is resistant to outliers in the data.\n",
    "    4.Computational efficiency:\n",
    "        L1-norm does not have an analytical solution, but L2-norm does.\n",
    "        This allows the L2-norm solutions to be calculated computationally efficiently.\n",
    "        However, L1-norm solutions does have the sparsity properties which allows it to be used along with sparse algorithms, which makes the calculation more computationally efficient."
   ]
  },
  {
   "cell_type": "markdown",
   "metadata": {},
   "source": [
    "Link For Lasso Regression\n",
    "<a href=\"https://scikit-learn.org/stable/modules/generated/sklearn.linear_model.Lasso.html\">Click Here</a>\n",
    "<br>\n",
    "Link For Ridge Regression\n",
    "<a href=\"https://scikit-learn.org/stable/modules/generated/sklearn.linear_model.Ridge.html\">Click Here</a>\n",
    "<br>\n",
    "Link For Elastic Net Regression\n",
    "<a href=\"https://scikit-learn.org/stable/modules/generated/sklearn.linear_model.ElasticNet.html\">Click Here</a>"
   ]
  },
  {
   "cell_type": "code",
   "execution_count": null,
   "metadata": {},
   "outputs": [],
   "source": []
  }
 ],
 "metadata": {
  "kernelspec": {
   "display_name": "Python 3",
   "language": "python",
   "name": "python3"
  },
  "language_info": {
   "codemirror_mode": {
    "name": "ipython",
    "version": 3
   },
   "file_extension": ".py",
   "mimetype": "text/x-python",
   "name": "python",
   "nbconvert_exporter": "python",
   "pygments_lexer": "ipython3",
   "version": "3.8.3"
  }
 },
 "nbformat": 4,
 "nbformat_minor": 4
}
