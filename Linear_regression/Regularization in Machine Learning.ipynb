{
 "cells": [
  {
   "cell_type": "markdown",
   "metadata": {},
   "source": [
    "## ElasticNet Regression \n",
    "ElasticNet regularization applies both L1-norm and L2-norm regularization to penalize the coefficients in a regression model. In this tutorial, we'll learn how to use sklearn's ElasticNet and ElasticNetCV models to analyze regression data. The post covers:\n",
    "\n",
    "    Preparing data\n",
    "    Best alpha\n",
    "    Defining model and checking the results\n",
    "    Cross-validation with ElasticNetCV"
   ]
  },
  {
   "cell_type": "code",
   "execution_count": 1,
   "metadata": {},
   "outputs": [],
   "source": [
    "from sklearn.datasets import load_boston\n",
    "from sklearn.linear_model import ElasticNet,ElasticNetCV\n",
    "from sklearn.metrics import mean_squared_error\n",
    "from sklearn.model_selection import train_test_split\n",
    "import matplotlib.pyplot as plt\n",
    "import numpy as np"
   ]
  },
  {
   "cell_type": "code",
   "execution_count": 3,
   "metadata": {},
   "outputs": [],
   "source": [
    "boston = load_boston()\n",
    "x, y = boston.data, boston.target\n",
    "xtrain, xtest, ytrain, ytest = train_test_split(x, y, test_size=0.15)"
   ]
  },
  {
   "cell_type": "code",
   "execution_count": 8,
   "metadata": {},
   "outputs": [
    {
     "data": {
      "text/plain": [
       "array(['CRIM', 'ZN', 'INDUS', 'CHAS', 'NOX', 'RM', 'AGE', 'DIS', 'RAD',\n",
       "       'TAX', 'PTRATIO', 'B', 'LSTAT'], dtype='<U7')"
      ]
     },
     "execution_count": 8,
     "metadata": {},
     "output_type": "execute_result"
    }
   ],
   "source": [
    "boston.feature_names"
   ]
  },
  {
   "cell_type": "code",
   "execution_count": 10,
   "metadata": {},
   "outputs": [],
   "source": [
    "#To figure out what alpha value is good for our model, we'll define multiple values and check the performance accuracy.\n",
    "\n",
    "alphas = [0.0001, 0.001, 0.01, 0.1, 0.3, 0.5, 0.7, 1]"
   ]
  },
  {
   "cell_type": "code",
   "execution_count": 11,
   "metadata": {},
   "outputs": [
    {
     "name": "stdout",
     "output_type": "stream",
     "text": [
      "Alpha:0.0001, R2:0.74, MSE:21.90, RMSE:4.68\n",
      "Alpha:0.0010, R2:0.74, MSE:21.92, RMSE:4.68\n",
      "Alpha:0.0100, R2:0.74, MSE:22.32, RMSE:4.72\n",
      "Alpha:0.1000, R2:0.73, MSE:23.16, RMSE:4.81\n",
      "Alpha:0.3000, R2:0.71, MSE:24.08, RMSE:4.91\n",
      "Alpha:0.5000, R2:0.71, MSE:24.85, RMSE:4.99\n",
      "Alpha:0.7000, R2:0.70, MSE:25.55, RMSE:5.05\n",
      "Alpha:1.0000, R2:0.69, MSE:26.50, RMSE:5.15\n"
     ]
    }
   ],
   "source": [
    "#we'll check the R-squared, MSE, and RMSE metrics for each alpha.\n",
    "\n",
    "for a in alphas:\n",
    "    model = ElasticNet(alpha=a).fit(x,y)   \n",
    "    score = model.score(x, y)\n",
    "    pred_y = model.predict(x)\n",
    "    mse = mean_squared_error(y, pred_y)   \n",
    "    print(\"Alpha:{0:.4f}, R2:{1:.2f}, MSE:{2:.2f}, RMSE:{3:.2f}\"\n",
    "       .format(a, score, mse, np.sqrt(mse)))"
   ]
  },
  {
   "cell_type": "markdown",
   "metadata": {},
   "source": [
    "The result shows that we can use 0.01 value for our model.\n",
    "\n",
    "\n",
    "Defining model and checking the results\n",
    "\n",
    "Now, we can define ElasticNet regression model with an alpha value taken above and fit it with xtrain and ytrain data. Then we'll predict xtest data and check the model accuracy."
   ]
  },
  {
   "cell_type": "code",
   "execution_count": 12,
   "metadata": {},
   "outputs": [
    {
     "name": "stdout",
     "output_type": "stream",
     "text": [
      "R2:0.758, MSE:19.16, RMSE:4.38\n"
     ]
    }
   ],
   "source": [
    "elastic=ElasticNet(alpha=0.01).fit(xtrain, ytrain)\n",
    "ypred = elastic.predict(xtest)\n",
    "score = elastic.score(xtest, ytest)\n",
    "mse = mean_squared_error(ytest, ypred)\n",
    "print(\"R2:{0:.3f}, MSE:{1:.2f}, RMSE:{2:.2f}\"\n",
    "      .format(score, mse, np.sqrt(mse)))"
   ]
  },
  {
   "cell_type": "code",
   "execution_count": 13,
   "metadata": {},
   "outputs": [
    {
     "data": {
      "text/plain": [
       "<matplotlib.legend.Legend at 0x2631a49dd60>"
      ]
     },
     "execution_count": 13,
     "metadata": {},
     "output_type": "execute_result"
    },
    {
     "data": {
      "image/png": "[encoded data removed]",
      "text/plain": [
       "<Figure size 432x288 with 1 Axes>"
      ]
     },
     "metadata": {
      "needs_background": "light"
     },
     "output_type": "display_data"
    }
   ],
   "source": [
    "\n",
    "x_ax = range(len(xtest))\n",
    "plt.scatter(x_ax, ytest, s=5, color=\"blue\", label=\"original\")\n",
    "plt.plot(x_ax, ypred, lw=0.8, color=\"red\", label=\"predicted\")\n",
    "plt.legend()"
   ]
  },
  {
   "cell_type": "markdown",
   "metadata": {},
   "source": [
    "Cross-validation with ElasticNetCV\n",
    "\n",
    "ElasticNetCV is a cross-validation class that can search multiple alpha values and applies the best one. We'll define the model with alphas value and fit it with xtrain and ytrain data.\n"
   ]
  },
  {
   "cell_type": "code",
   "execution_count": 15,
   "metadata": {},
   "outputs": [
    {
     "name": "stdout",
     "output_type": "stream",
     "text": [
      "0.001\n",
      "31.537448194850057\n"
     ]
    }
   ],
   "source": [
    "\n",
    "elastic_cv=ElasticNetCV(alphas=alphas, cv=5)\n",
    "model = elastic_cv.fit(xtrain, ytrain)\n",
    "print(model.alpha_)\n",
    "print(model.intercept_)"
   ]
  },
  {
   "cell_type": "markdown",
   "metadata": {},
   "source": [
    "We can predict xtest data and check the accuracy metrics."
   ]
  },
  {
   "cell_type": "code",
   "execution_count": 16,
   "metadata": {},
   "outputs": [
    {
     "name": "stdout",
     "output_type": "stream",
     "text": [
      "R2:0.773, MSE:17.97, RMSE:4.24\n"
     ]
    }
   ],
   "source": [
    "ypred = model.predict(xtest)\n",
    "score = model.score(xtest, ytest)\n",
    "mse = mean_squared_error(ytest, ypred)\n",
    "print(\"R2:{0:.3f}, MSE:{1:.2f}, RMSE:{2:.2f}\"\n",
    "      .format(score, mse, np.sqrt(mse)))"
   ]
  }
 ],
 "metadata": {
  "kernelspec": {
   "display_name": "Python 3",
   "language": "python",
   "name": "python3"
  },
  "language_info": {
   "codemirror_mode": {
    "name": "ipython",
    "version": 3
   },
   "file_extension": ".py",
   "mimetype": "text/x-python",
   "name": "python",
   "nbconvert_exporter": "python",
   "pygments_lexer": "ipython3",
   "version": "3.8.5"
  }
 },
 "nbformat": 4,
 "nbformat_minor": 4
}
