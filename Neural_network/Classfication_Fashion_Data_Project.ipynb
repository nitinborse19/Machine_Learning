{
 "cells": [
  {
   "cell_type": "markdown",
   "metadata": {
    "id": "9h88mVf98mAO"
   },
   "source": [
    "Multi-class Classification on MNIST Fashion Dataset using NN"
   ]
  },
  {
   "cell_type": "code",
   "execution_count": null,
   "metadata": {
    "id": "z8SSQjn98ujZ"
   },
   "outputs": [],
   "source": [
    "import pandas as pd\n",
    "import numpy as np\n",
    "import matplotlib.pyplot as plt\n",
    "import tensorflow as tf"
   ]
  },
  {
   "cell_type": "code",
   "execution_count": null,
   "metadata": {
    "id": "fwp6Wx1JG5mC"
   },
   "outputs": [],
   "source": [
    "data=tf.keras.datasets.fashion_mnist\n",
    "(xtrain,ytrain),(xtest,ytest)=data.load_data()"
   ]
  },
  {
   "cell_type": "code",
   "execution_count": null,
   "metadata": {
    "colab": {
     "base_uri": "https://localhost:8080/"
    },
    "id": "a-jUZiuP9T4Q",
    "outputId": "1c272ddd-9890-4099-ac8a-427a82e7782a"
   },
   "outputs": [
    {
     "data": {
      "text/plain": [
       "((60000, 28, 28), (60000,))"
      ]
     },
     "execution_count": 4,
     "metadata": {
      "tags": []
     },
     "output_type": "execute_result"
    }
   ],
   "source": [
    "xtrain.shape,ytrain.shape"
   ]
  },
  {
   "cell_type": "code",
   "execution_count": null,
   "metadata": {
    "colab": {
     "base_uri": "https://localhost:8080/"
    },
    "id": "PX43skiK9ujf",
    "outputId": "b8f81d3e-b327-4a0c-8459-88e44e68f9e2"
   },
   "outputs": [
    {
     "data": {
      "text/plain": [
       "((10000, 28, 28), (10000,))"
      ]
     },
     "execution_count": 5,
     "metadata": {
      "tags": []
     },
     "output_type": "execute_result"
    }
   ],
   "source": [
    "xtest.shape,ytest.shape"
   ]
  },
  {
   "cell_type": "code",
   "execution_count": null,
   "metadata": {
    "colab": {
     "base_uri": "https://localhost:8080/"
    },
    "id": "j-47e-9F93M4",
    "outputId": "7f8785dc-ce0b-45c3-ef2b-d48778401387"
   },
   "outputs": [
    {
     "data": {
      "text/plain": [
       "array([0, 1, 2, 3, 4, 5, 6, 7, 8, 9], dtype=uint8)"
      ]
     },
     "execution_count": 6,
     "metadata": {
      "tags": []
     },
     "output_type": "execute_result"
    }
   ],
   "source": [
    "np.unique(ytrain)"
   ]
  },
  {
   "cell_type": "code",
   "execution_count": null,
   "metadata": {
    "id": "KnM6MmU3-BZ5"
   },
   "outputs": [],
   "source": [
    "class_names=['T-shirt/top','Trouser','Pullovers','Dress','Coat','Sandal','Shirt','Sneaker','Bag','Ankle boot']"
   ]
  },
  {
   "cell_type": "code",
   "execution_count": null,
   "metadata": {
    "colab": {
     "base_uri": "https://localhost:8080/",
     "height": 283
    },
    "id": "pdz7tj2z-iS4",
    "outputId": "01727fc8-f04b-4c52-dd8d-f028688998be"
   },
   "outputs": [
    {
     "data": {
      "text/plain": [
       "<matplotlib.image.AxesImage at 0x7f3b315922d0>"
      ]
     },
     "execution_count": 149,
     "metadata": {
      "tags": []
     },
     "output_type": "execute_result"
    },
    {
     "data": {
      "image/png": "[encoded data removed]",
      "text/plain": [
       "<Figure size 432x288 with 1 Axes>"
      ]
     },
     "metadata": {
      "needs_background": "light",
      "tags": []
     },
     "output_type": "display_data"
    }
   ],
   "source": [
    "plt.imshow(xtrain[0],cmap='gray') #0-255"
   ]
  },
  {
   "cell_type": "code",
   "execution_count": null,
   "metadata": {
    "id": "KRqWuryK-9EG"
   },
   "outputs": [],
   "source": [
    "xtrain=xtrain/255.0\n",
    "xtest=xtest/255.0"
   ]
  },
  {
   "cell_type": "code",
   "execution_count": null,
   "metadata": {
    "colab": {
     "base_uri": "https://localhost:8080/",
     "height": 283
    },
    "id": "H5Ioj9Lf-xzs",
    "outputId": "e69898c9-f7a7-4298-b5e8-0226ae10b689"
   },
   "outputs": [
    {
     "data": {
      "text/plain": [
       "<matplotlib.image.AxesImage at 0x7f3b30deb990>"
      ]
     },
     "execution_count": 167,
     "metadata": {
      "tags": []
     },
     "output_type": "execute_result"
    },
    {
     "data": {
      "image/png": "[encoded data removed]",
      "text/plain": [
       "<Figure size 432x288 with 1 Axes>"
      ]
     },
     "metadata": {
      "needs_background": "light",
      "tags": []
     },
     "output_type": "display_data"
    }
   ],
   "source": [
    "plt.imshow(xtrain[0],cmap=plt.cm.binary)"
   ]
  },
  {
   "cell_type": "code",
   "execution_count": null,
   "metadata": {
    "id": "ko5pAYFr_zj6"
   },
   "outputs": [],
   "source": [
    "plt.figure(figsize=(10,10))\n",
    "for i in range(20):\n",
    "  plt.subplot(5,4,i+1)\n",
    "  plt.imshow(xtrain[i],cmap=plt.cm.binary)\n",
    "  plt.xlabel(class_names[ytrain[i]])\n",
    "  plt.xticks([])\n",
    "  plt.yticks([])"
   ]
  },
  {
   "cell_type": "code",
   "execution_count": null,
   "metadata": {
    "id": "ZJ4heRC0A5Bw"
   },
   "outputs": [],
   "source": [
    "#input layer 28X28 ->784"
   ]
  },
  {
   "cell_type": "code",
   "execution_count": null,
   "metadata": {
    "id": "IpgUkwcS_FGS"
   },
   "outputs": [],
   "source": [
    "model=tf.keras.models.Sequential([\n",
    "                      tf.keras.layers.Flatten(input_shape=(28,28)),\n",
    "                      tf.keras.layers.Dense(128,activation='relu'),\n",
    "                      tf.keras.layers.Dense(10)\n",
    "])\n",
    "model.compile(loss=tf.keras.losses.SparseCategoricalCrossentropy(from_logits=True),\n",
    "              optimizer='adam',metrics=['accuracy'])"
   ]
  },
  {
   "cell_type": "code",
   "execution_count": null,
   "metadata": {
    "id": "9wC0mx2RBlKe"
   },
   "outputs": [],
   "source": [
    "model.fit(xtrain,ytrain,epochs=25)"
   ]
  },
  {
   "cell_type": "code",
   "execution_count": null,
   "metadata": {
    "id": "HRr5f2yuCsXz"
   },
   "outputs": [],
   "source": [
    "train_loss,train_acc=model.evaluate(xtrain,ytrain)\n",
    "print(\"Training accuracy is {} with Training Loss {}\".format(train_acc,train_loss))"
   ]
  },
  {
   "cell_type": "code",
   "execution_count": null,
   "metadata": {
    "id": "mcmtb9XJDiFS"
   },
   "outputs": [],
   "source": [
    "test_loss,test_acc=model.evaluate(xtest,ytest)\n",
    "print(\"Training accuracy is {} with Training Loss {}\".format(test_acc,test_loss))"
   ]
  },
  {
   "cell_type": "code",
   "execution_count": null,
   "metadata": {
    "id": "Y6eVdUedDxXU"
   },
   "outputs": [],
   "source": [
    "#added one layer to convert logits or score of each neuron to probability\n",
    "probability_model=tf.keras.Sequential([model,\n",
    "                                       tf.keras.layers.Softmax()])"
   ]
  },
  {
   "cell_type": "code",
   "execution_count": null,
   "metadata": {
    "id": "ZG8k5zO0EdDX"
   },
   "outputs": [],
   "source": [
    "pred=probability_model.predict(xtest)"
   ]
  },
  {
   "cell_type": "code",
   "execution_count": null,
   "metadata": {
    "id": "ObWf4BloEwhV"
   },
   "outputs": [],
   "source": [
    "pred[0]"
   ]
  },
  {
   "cell_type": "code",
   "execution_count": null,
   "metadata": {
    "colab": {
     "base_uri": "https://localhost:8080/"
    },
    "id": "rAJ1DKBhEyw1",
    "outputId": "08ddee1c-67b7-4aff-f821-045f109c5e9e"
   },
   "outputs": [
    {
     "data": {
      "text/plain": [
       "(9, 'Ankle boot')"
      ]
     },
     "execution_count": 28,
     "metadata": {
      "tags": []
     },
     "output_type": "execute_result"
    }
   ],
   "source": [
    "np.argmax(pred[0]),class_names[np.argmax(pred[0])]"
   ]
  },
  {
   "cell_type": "code",
   "execution_count": null,
   "metadata": {
    "colab": {
     "base_uri": "https://localhost:8080/"
    },
    "id": "gt6tC2uGFBWj",
    "outputId": "8fbe02d4-f699-43a2-a2dd-0687dbc75a9a"
   },
   "outputs": [
    {
     "data": {
      "text/plain": [
       "(9, 'Ankle boot')"
      ]
     },
     "execution_count": 29,
     "metadata": {
      "tags": []
     },
     "output_type": "execute_result"
    }
   ],
   "source": [
    "ytest[0],class_names[ytest[0]]"
   ]
  },
  {
   "cell_type": "code",
   "execution_count": null,
   "metadata": {
    "colab": {
     "base_uri": "https://localhost:8080/",
     "height": 283
    },
    "id": "aFnHrh99FFBZ",
    "outputId": "eeb5b098-dc5e-468d-d41c-5f9158392ee4"
   },
   "outputs": [
    {
     "data": {
      "text/plain": [
       "<matplotlib.image.AxesImage at 0x7f3b323c1e90>"
      ]
     },
     "execution_count": 27,
     "metadata": {
      "tags": []
     },
     "output_type": "execute_result"
    },
    {
     "data": {
      "image/png": "[encoded data removed]",
      "text/plain": [
       "<Figure size 432x288 with 1 Axes>"
      ]
     },
     "metadata": {
      "needs_background": "light",
      "tags": []
     },
     "output_type": "display_data"
    }
   ],
   "source": [
    "plt.imshow(xtest[0],cmap=plt.cm.binary)"
   ]
  },
  {
   "cell_type": "code",
   "execution_count": null,
   "metadata": {
    "id": "blRuLm41FMs_"
   },
   "outputs": [],
   "source": [
    "#plot image with its label \n",
    "def plot_image(i,pred,xtest,ytest):\n",
    "  img=xtest[i]\n",
    "  actual=ytest[i]\n",
    "  predicted=np.argmax(pred[i])\n",
    "  plt.imshow(img,cmap=plt.cm.binary)\n",
    "  plt.xticks([])\n",
    "  plt.yticks([])\n",
    "  if actual==predicted:\n",
    "    color='g'\n",
    "  else:\n",
    "    color='r'\n",
    "  plt.xlabel(\"{} with prob {:.2f}%\".format(class_names[predicted],100*np.max(pred[i])),color=color)"
   ]
  },
  {
   "cell_type": "code",
   "execution_count": null,
   "metadata": {
    "id": "ZF4-3LXfRDTm"
   },
   "outputs": [],
   "source": [
    "plot_image(3,pred,xtest,ytest)"
   ]
  },
  {
   "cell_type": "code",
   "execution_count": null,
   "metadata": {
    "id": "OGny0JRYRKZQ"
   },
   "outputs": [],
   "source": [
    "def plot_prob(i,pred,ytest):\n",
    "  predicted=np.argmax(pred[i])\n",
    "  actual=ytest[i]\n",
    "  bplot=plt.bar(range(10),pred[i],color='y')\n",
    "  plt.xticks(range(10))\n",
    "  plt.yticks([])\n",
    "  bplot[predicted].set_color('r')\n",
    "  bplot[actual].set_color('g')"
   ]
  },
  {
   "cell_type": "code",
   "execution_count": null,
   "metadata": {
    "id": "nmN5gNSqSAJT"
   },
   "outputs": [],
   "source": [
    "plot_prob(10,pred,ytest)"
   ]
  },
  {
   "cell_type": "code",
   "execution_count": null,
   "metadata": {
    "id": "dmK5LJV1SDLi"
   },
   "outputs": [],
   "source": [
    "plt.figure(figsize=(7,3))\n",
    "plt.subplot(1,2,1)\n",
    "plot_image(10,pred,xtest,ytest)\n",
    "plt.subplot(1,2,2)\n",
    "plot_prob(10,pred,ytest)"
   ]
  },
  {
   "cell_type": "code",
   "execution_count": null,
   "metadata": {
    "id": "DTR1pfjWTHe9"
   },
   "outputs": [],
   "source": [
    "r=4\n",
    "c=4\n",
    "n=r*c\n",
    "plt.figure(figsize=(3*2*c,2*r))\n",
    "for i in range(n):\n",
    "  plt.subplot(r,2*c,2*i+1)\n",
    "  plot_image(i,pred,xtest,ytest)\n",
    "  plt.subplot(r,2*c,2*i+2)\n",
    "  plot_prob(i,pred,ytest)"
   ]
  }
 ],
 "metadata": {
  "colab": {
   "collapsed_sections": [],
   "name": "Classfication Fashion Data Project.ipynb",
   "provenance": []
  },
  "kernelspec": {
   "display_name": "Python 3",
   "language": "python",
   "name": "python3"
  },
  "language_info": {
   "codemirror_mode": {
    "name": "ipython",
    "version": 3
   },
   "file_extension": ".py",
   "mimetype": "text/x-python",
   "name": "python",
   "nbconvert_exporter": "python",
   "pygments_lexer": "ipython3",
   "version": "3.8.3"
  }
 },
 "nbformat": 4,
 "nbformat_minor": 1
}
