{
 "cells": [
  {
   "cell_type": "code",
   "execution_count": 1,
   "metadata": {
    "id": "8XBQPBX30Gha"
   },
   "outputs": [],
   "source": [
    "import pandas as pd\n",
    "import numpy as np\n",
    "import seaborn as sns\n",
    "import matplotlib.pyplot as plt"
   ]
  },
  {
   "cell_type": "code",
   "execution_count": 2,
   "metadata": {
    "id": "Scs8TfVr0zcU"
   },
   "outputs": [],
   "source": [
    "df=pd.read_csv(\"/content/sample_data/diabetes.csv\")"
   ]
  },
  {
   "cell_type": "code",
   "execution_count": 3,
   "metadata": {
    "colab": {
     "base_uri": "https://localhost:8080/",
     "height": 206
    },
    "id": "-CzPYKfH08Qe",
    "outputId": "064f696f-3c05-4e01-cc73-d5b281b53ab0"
   },
   "outputs": [
    {
     "data": {
      "text/html": [
       "<div>\n",
       "<style scoped>\n",
       "    .dataframe tbody tr th:only-of-type {\n",
       "        vertical-align: middle;\n",
       "    }\n",
       "\n",
       "    .dataframe tbody tr th {\n",
       "        vertical-align: top;\n",
       "    }\n",
       "\n",
       "    .dataframe thead th {\n",
       "        text-align: right;\n",
       "    }\n",
       "</style>\n",
       "<table border=\"1\" class=\"dataframe\">\n",
       "  <thead>\n",
       "    <tr style=\"text-align: right;\">\n",
       "      <th></th>\n",
       "      <th>Pregnancies</th>\n",
       "      <th>Glucose</th>\n",
       "      <th>BloodPressure</th>\n",
       "      <th>SkinThickness</th>\n",
       "      <th>Insulin</th>\n",
       "      <th>BMI</th>\n",
       "      <th>DiabetesPedigreeFunction</th>\n",
       "      <th>Age</th>\n",
       "      <th>Outcome</th>\n",
       "    </tr>\n",
       "  </thead>\n",
       "  <tbody>\n",
       "    <tr>\n",
       "      <th>0</th>\n",
       "      <td>6</td>\n",
       "      <td>148</td>\n",
       "      <td>72</td>\n",
       "      <td>35</td>\n",
       "      <td>0</td>\n",
       "      <td>33.6</td>\n",
       "      <td>0.627</td>\n",
       "      <td>50</td>\n",
       "      <td>1</td>\n",
       "    </tr>\n",
       "    <tr>\n",
       "      <th>1</th>\n",
       "      <td>1</td>\n",
       "      <td>85</td>\n",
       "      <td>66</td>\n",
       "      <td>29</td>\n",
       "      <td>0</td>\n",
       "      <td>26.6</td>\n",
       "      <td>0.351</td>\n",
       "      <td>31</td>\n",
       "      <td>0</td>\n",
       "    </tr>\n",
       "    <tr>\n",
       "      <th>2</th>\n",
       "      <td>8</td>\n",
       "      <td>183</td>\n",
       "      <td>64</td>\n",
       "      <td>0</td>\n",
       "      <td>0</td>\n",
       "      <td>23.3</td>\n",
       "      <td>0.672</td>\n",
       "      <td>32</td>\n",
       "      <td>1</td>\n",
       "    </tr>\n",
       "    <tr>\n",
       "      <th>3</th>\n",
       "      <td>1</td>\n",
       "      <td>89</td>\n",
       "      <td>66</td>\n",
       "      <td>23</td>\n",
       "      <td>94</td>\n",
       "      <td>28.1</td>\n",
       "      <td>0.167</td>\n",
       "      <td>21</td>\n",
       "      <td>0</td>\n",
       "    </tr>\n",
       "    <tr>\n",
       "      <th>4</th>\n",
       "      <td>0</td>\n",
       "      <td>137</td>\n",
       "      <td>40</td>\n",
       "      <td>35</td>\n",
       "      <td>168</td>\n",
       "      <td>43.1</td>\n",
       "      <td>2.288</td>\n",
       "      <td>33</td>\n",
       "      <td>1</td>\n",
       "    </tr>\n",
       "  </tbody>\n",
       "</table>\n",
       "</div>"
      ],
      "text/plain": [
       "   Pregnancies  Glucose  BloodPressure  ...  DiabetesPedigreeFunction  Age  Outcome\n",
       "0            6      148             72  ...                     0.627   50        1\n",
       "1            1       85             66  ...                     0.351   31        0\n",
       "2            8      183             64  ...                     0.672   32        1\n",
       "3            1       89             66  ...                     0.167   21        0\n",
       "4            0      137             40  ...                     2.288   33        1\n",
       "\n",
       "[5 rows x 9 columns]"
      ]
     },
     "execution_count": 3,
     "metadata": {
      "tags": []
     },
     "output_type": "execute_result"
    }
   ],
   "source": [
    "df.head()"
   ]
  },
  {
   "cell_type": "code",
   "execution_count": 4,
   "metadata": {
    "id": "WcWQHz5L09zF"
   },
   "outputs": [],
   "source": [
    "x=df.drop(columns=[\"Outcome\"])\n",
    "y=df[\"Outcome\"]"
   ]
  },
  {
   "cell_type": "code",
   "execution_count": 7,
   "metadata": {
    "colab": {
     "base_uri": "https://localhost:8080/"
    },
    "id": "yQA2ihx91JZ_",
    "outputId": "a97ccb7c-b567-4604-c825-727b9a806e20"
   },
   "outputs": [
    {
     "name": "stdout",
     "output_type": "stream",
     "text": [
      "Model: \"sequential_2\"\n",
      "_________________________________________________________________\n",
      "Layer (type)                 Output Shape              Param #   \n",
      "=================================================================\n",
      "dense_4 (Dense)              (None, 12)                108       \n",
      "_________________________________________________________________\n",
      "dense_5 (Dense)              (None, 10)                130       \n",
      "_________________________________________________________________\n",
      "dense_6 (Dense)              (None, 1)                 11        \n",
      "=================================================================\n",
      "Total params: 249\n",
      "Trainable params: 249\n",
      "Non-trainable params: 0\n",
      "_________________________________________________________________\n"
     ]
    }
   ],
   "source": [
    "from keras.models import Sequential\n",
    "from keras.layers import Dense\n",
    "\n",
    "model=Sequential()\n",
    "#3 layers \n",
    "model.add(Dense(12,activation=\"relu\",input_dim=8))\n",
    "model.add(Dense(10,activation=\"relu\"))\n",
    "model.add(Dense(1,activation=\"sigmoid\"))\n",
    "model.summary()"
   ]
  },
  {
   "cell_type": "code",
   "execution_count": 9,
   "metadata": {
    "id": "85Zrns7715-A"
   },
   "outputs": [],
   "source": [
    "#binary entropy hinge, squared hinge loss\n",
    "model.compile(loss=\"binary_crossentropy\",optimizer=\"adam\",metrics=['accuracy'])"
   ]
  },
  {
   "cell_type": "code",
   "execution_count": 17,
   "metadata": {
    "colab": {
     "base_uri": "https://localhost:8080/"
    },
    "id": "45ZYnnPM3_yG",
    "outputId": "a5d2dc11-91b6-4822-e172-979f72841bfc"
   },
   "outputs": [
    {
     "name": "stdout",
     "output_type": "stream",
     "text": [
      "Epoch 1/50\n",
      "77/77 [==============================] - 0s 1ms/step - loss: 0.5372 - accuracy: 0.7214\n",
      "Epoch 2/50\n",
      "77/77 [==============================] - 0s 1ms/step - loss: 0.5606 - accuracy: 0.7161\n",
      "Epoch 3/50\n",
      "77/77 [==============================] - 0s 1ms/step - loss: 0.5584 - accuracy: 0.7240\n",
      "Epoch 4/50\n",
      "77/77 [==============================] - 0s 1ms/step - loss: 0.5534 - accuracy: 0.7266\n",
      "Epoch 5/50\n",
      "77/77 [==============================] - 0s 1ms/step - loss: 0.5503 - accuracy: 0.7122\n",
      "Epoch 6/50\n",
      "77/77 [==============================] - 0s 1ms/step - loss: 0.5379 - accuracy: 0.7344\n",
      "Epoch 7/50\n",
      "77/77 [==============================] - 0s 1ms/step - loss: 0.5428 - accuracy: 0.7318\n",
      "Epoch 8/50\n",
      "77/77 [==============================] - 0s 1ms/step - loss: 0.5438 - accuracy: 0.7292\n",
      "Epoch 9/50\n",
      "77/77 [==============================] - 0s 1ms/step - loss: 0.5438 - accuracy: 0.7331\n",
      "Epoch 10/50\n",
      "77/77 [==============================] - 0s 1ms/step - loss: 0.5714 - accuracy: 0.7227\n",
      "Epoch 11/50\n",
      "77/77 [==============================] - 0s 1ms/step - loss: 0.5405 - accuracy: 0.7357\n",
      "Epoch 12/50\n",
      "77/77 [==============================] - 0s 1ms/step - loss: 0.5487 - accuracy: 0.7318\n",
      "Epoch 13/50\n",
      "77/77 [==============================] - 0s 1ms/step - loss: 0.5278 - accuracy: 0.7461\n",
      "Epoch 14/50\n",
      "77/77 [==============================] - 0s 1ms/step - loss: 0.5341 - accuracy: 0.7474\n",
      "Epoch 15/50\n",
      "77/77 [==============================] - 0s 1ms/step - loss: 0.5377 - accuracy: 0.7266\n",
      "Epoch 16/50\n",
      "77/77 [==============================] - 0s 1ms/step - loss: 0.5606 - accuracy: 0.7409\n",
      "Epoch 17/50\n",
      "77/77 [==============================] - 0s 2ms/step - loss: 0.5315 - accuracy: 0.7448\n",
      "Epoch 18/50\n",
      "77/77 [==============================] - 0s 1ms/step - loss: 0.5359 - accuracy: 0.7292\n",
      "Epoch 19/50\n",
      "77/77 [==============================] - 0s 1ms/step - loss: 0.5331 - accuracy: 0.7461\n",
      "Epoch 20/50\n",
      "77/77 [==============================] - 0s 1ms/step - loss: 0.5345 - accuracy: 0.7435\n",
      "Epoch 21/50\n",
      "77/77 [==============================] - 0s 1ms/step - loss: 0.5353 - accuracy: 0.7435\n",
      "Epoch 22/50\n",
      "77/77 [==============================] - 0s 1ms/step - loss: 0.5287 - accuracy: 0.7370\n",
      "Epoch 23/50\n",
      "77/77 [==============================] - 0s 1ms/step - loss: 0.5244 - accuracy: 0.7500\n",
      "Epoch 24/50\n",
      "77/77 [==============================] - 0s 1ms/step - loss: 0.5253 - accuracy: 0.7396\n",
      "Epoch 25/50\n",
      "77/77 [==============================] - 0s 1ms/step - loss: 0.5245 - accuracy: 0.7643\n",
      "Epoch 26/50\n",
      "77/77 [==============================] - 0s 1ms/step - loss: 0.5274 - accuracy: 0.7370\n",
      "Epoch 27/50\n",
      "77/77 [==============================] - 0s 1ms/step - loss: 0.5358 - accuracy: 0.7305\n",
      "Epoch 28/50\n",
      "77/77 [==============================] - 0s 2ms/step - loss: 0.5247 - accuracy: 0.7370\n",
      "Epoch 29/50\n",
      "77/77 [==============================] - 0s 1ms/step - loss: 0.5227 - accuracy: 0.7500\n",
      "Epoch 30/50\n",
      "77/77 [==============================] - 0s 1ms/step - loss: 0.5292 - accuracy: 0.7370\n",
      "Epoch 31/50\n",
      "77/77 [==============================] - 0s 1ms/step - loss: 0.5160 - accuracy: 0.7448\n",
      "Epoch 32/50\n",
      "77/77 [==============================] - 0s 1ms/step - loss: 0.5314 - accuracy: 0.7292\n",
      "Epoch 33/50\n",
      "77/77 [==============================] - 0s 1ms/step - loss: 0.5311 - accuracy: 0.7357\n",
      "Epoch 34/50\n",
      "77/77 [==============================] - 0s 1ms/step - loss: 0.5167 - accuracy: 0.7513\n",
      "Epoch 35/50\n",
      "77/77 [==============================] - 0s 1ms/step - loss: 0.5265 - accuracy: 0.7396\n",
      "Epoch 36/50\n",
      "77/77 [==============================] - 0s 2ms/step - loss: 0.5144 - accuracy: 0.7617\n",
      "Epoch 37/50\n",
      "77/77 [==============================] - 0s 1ms/step - loss: 0.5215 - accuracy: 0.7461\n",
      "Epoch 38/50\n",
      "77/77 [==============================] - 0s 1ms/step - loss: 0.5272 - accuracy: 0.7383\n",
      "Epoch 39/50\n",
      "77/77 [==============================] - 0s 1ms/step - loss: 0.5330 - accuracy: 0.7409\n",
      "Epoch 40/50\n",
      "77/77 [==============================] - 0s 1ms/step - loss: 0.5091 - accuracy: 0.7500\n",
      "Epoch 41/50\n",
      "77/77 [==============================] - 0s 1ms/step - loss: 0.5240 - accuracy: 0.7331\n",
      "Epoch 42/50\n",
      "77/77 [==============================] - 0s 1ms/step - loss: 0.5210 - accuracy: 0.7500\n",
      "Epoch 43/50\n",
      "77/77 [==============================] - 0s 1ms/step - loss: 0.5142 - accuracy: 0.7552\n",
      "Epoch 44/50\n",
      "77/77 [==============================] - 0s 1ms/step - loss: 0.5199 - accuracy: 0.7565\n",
      "Epoch 45/50\n",
      "77/77 [==============================] - 0s 1ms/step - loss: 0.5173 - accuracy: 0.7578\n",
      "Epoch 46/50\n",
      "77/77 [==============================] - 0s 1ms/step - loss: 0.5240 - accuracy: 0.7500\n",
      "Epoch 47/50\n",
      "77/77 [==============================] - 0s 1ms/step - loss: 0.5177 - accuracy: 0.7552\n",
      "Epoch 48/50\n",
      "77/77 [==============================] - 0s 2ms/step - loss: 0.5167 - accuracy: 0.7591\n",
      "Epoch 49/50\n",
      "77/77 [==============================] - 0s 1ms/step - loss: 0.5035 - accuracy: 0.7682\n",
      "Epoch 50/50\n",
      "77/77 [==============================] - 0s 1ms/step - loss: 0.5191 - accuracy: 0.7500\n"
     ]
    }
   ],
   "source": [
    "# epochs 50\n",
    "#batch 10\n",
    "history=model.fit(x,y,epochs=50,batch_size=10)"
   ]
  },
  {
   "cell_type": "code",
   "execution_count": 23,
   "metadata": {
    "colab": {
     "base_uri": "https://localhost:8080/",
     "height": 284
    },
    "id": "BpDkAlX39lGu",
    "outputId": "a4b9cebf-7e8c-46c3-8df7-6c47fc6e27f1"
   },
   "outputs": [
    {
     "data": {
      "text/plain": [
       "[<matplotlib.lines.Line2D at 0x7f0bc5cfe950>]"
      ]
     },
     "execution_count": 23,
     "metadata": {
      "tags": []
     },
     "output_type": "execute_result"
    },
    {
     "data": {
      "image/png": "[encoded data removed]",
      "text/plain": [
       "<Figure size 432x288 with 1 Axes>"
      ]
     },
     "metadata": {
      "needs_background": "light",
      "tags": []
     },
     "output_type": "display_data"
    }
   ],
   "source": [
    "plt.plot(range(1,51),history.history[\"loss\"])"
   ]
  },
  {
   "cell_type": "code",
   "execution_count": 24,
   "metadata": {
    "colab": {
     "base_uri": "https://localhost:8080/",
     "height": 285
    },
    "id": "2tqY3fsV-RtA",
    "outputId": "71efcc6b-5219-4547-f722-7bc679bf3f5e"
   },
   "outputs": [
    {
     "data": {
      "text/plain": [
       "[<matplotlib.lines.Line2D at 0x7f0bc5c67c10>]"
      ]
     },
     "execution_count": 24,
     "metadata": {
      "tags": []
     },
     "output_type": "execute_result"
    },
    {
     "data": {
      "image/png": "[encoded data removed]",
      "text/plain": [
       "<Figure size 432x288 with 1 Axes>"
      ]
     },
     "metadata": {
      "needs_background": "light",
      "tags": []
     },
     "output_type": "display_data"
    }
   ],
   "source": [
    "plt.plot(range(1,51),history.history[\"accuracy\"])"
   ]
  },
  {
   "cell_type": "code",
   "execution_count": 11,
   "metadata": {
    "colab": {
     "base_uri": "https://localhost:8080/"
    },
    "id": "q3esNVPV4Q1T",
    "outputId": "ca18e6e0-d0f8-4589-ad52-467882e7054e"
   },
   "outputs": [
    {
     "data": {
      "text/plain": [
       "(768, 8)"
      ]
     },
     "execution_count": 11,
     "metadata": {
      "tags": []
     },
     "output_type": "execute_result"
    }
   ],
   "source": [
    "x.shape"
   ]
  },
  {
   "cell_type": "code",
   "execution_count": 25,
   "metadata": {
    "colab": {
     "base_uri": "https://localhost:8080/"
    },
    "id": "cmATHT_A-beM",
    "outputId": "6b473b1f-2229-479e-bb28-0321d86261cf"
   },
   "outputs": [
    {
     "name": "stderr",
     "output_type": "stream",
     "text": [
      "/usr/local/lib/python3.7/dist-packages/tensorflow/python/keras/engine/sequential.py:450: UserWarning: `model.predict_classes()` is deprecated and will be removed after 2021-01-01. Please use instead:* `np.argmax(model.predict(x), axis=-1)`,   if your model does multi-class classification   (e.g. if it uses a `softmax` last-layer activation).* `(model.predict(x) > 0.5).astype(\"int32\")`,   if your model does binary classification   (e.g. if it uses a `sigmoid` last-layer activation).\n",
      "  warnings.warn('`model.predict_classes()` is deprecated and '\n"
     ]
    }
   ],
   "source": [
    "ypred=model.predict_classes(x)"
   ]
  },
  {
   "cell_type": "code",
   "execution_count": 27,
   "metadata": {
    "colab": {
     "base_uri": "https://localhost:8080/"
    },
    "id": "xwWVYbQb-kHq",
    "outputId": "6a93ad5b-7adf-4b61-823a-d9968cc5ac4d"
   },
   "outputs": [
    {
     "data": {
      "text/plain": [
       "array([1, 0, 1, 0, 1, 0, 0, 1, 1, 0, 0, 1, 0, 1, 1, 0, 0, 0, 0, 0, 0, 0,\n",
       "       1, 0, 1, 1, 1, 0, 0, 0, 0, 1, 0, 0, 1, 0, 1, 1, 0, 1, 0, 1, 0, 1,\n",
       "       1, 1, 1, 0, 1, 0, 0, 0, 0, 1, 1, 0, 1, 0, 1, 0, 0, 1, 0, 1, 1, 0,\n",
       "       0, 0, 0, 0, 0, 1, 1, 0, 0, 0, 0, 0, 1, 0, 1, 0, 0, 0, 0, 0, 1, 0,\n",
       "       1, 0, 0, 0, 0, 0, 0, 1, 0, 0, 0, 0, 1, 1, 0, 0, 0, 1, 0, 1, 0, 0,\n",
       "       1, 1, 0, 0, 1, 0, 1, 1, 0, 0, 0, 0, 0, 0, 0, 0, 0, 0, 0, 0, 1, 1,\n",
       "       1, 0, 0, 1, 0, 0, 0, 0, 0, 0, 0, 1, 1, 0, 0, 0, 0, 0, 1, 0, 1, 1,\n",
       "       1, 1, 0, 0, 0, 1, 0, 0, 0, 0, 0, 0, 1, 1, 1, 0, 0, 1, 1, 0, 0, 1,\n",
       "       0, 0, 1, 1, 0, 0, 0, 0, 1, 1, 1, 0, 0, 0, 0, 0, 1, 1, 0, 1, 0, 0,\n",
       "       0, 1, 0, 1, 0, 0, 1, 0, 1, 1, 0, 1, 0, 0, 1, 1, 0, 1, 0, 1, 0, 1,\n",
       "       1, 1, 0, 1, 0, 0, 0, 1, 1, 0, 1, 1, 0, 1, 0, 1, 1, 1, 1, 0, 0, 0,\n",
       "       1, 1, 1, 1, 1, 1, 1, 0, 0, 0, 0, 0, 0, 0, 1, 0, 1, 1, 1, 1, 0, 0,\n",
       "       1, 0, 1, 1, 0, 1, 1, 0, 0, 0, 0, 0, 1, 0, 0, 0, 1, 1, 0, 1, 0, 1,\n",
       "       1, 0, 0, 0, 0, 0, 0, 1, 0, 1, 1, 0, 0, 0, 1, 1, 0, 0, 0, 0, 1, 0,\n",
       "       0, 1, 0, 0, 0, 1, 1, 0, 0, 1, 0, 1, 1, 0, 0, 0, 0, 1, 1, 1, 0, 0,\n",
       "       0, 0, 1, 0, 0, 1, 0, 0, 1, 1, 0, 0, 0, 0, 0, 0, 1, 1, 0, 1, 0, 1,\n",
       "       0, 0, 0, 1, 1, 1, 0, 1, 1, 0, 0, 0, 1, 0, 1, 0, 0, 0, 1, 0, 0, 0,\n",
       "       1, 1, 0, 0, 1, 0, 0, 0, 0, 0, 0, 0, 1, 0, 1, 0, 0, 1, 0, 0, 1, 1,\n",
       "       0, 0, 0, 1, 0, 0, 0, 0, 1, 1, 0, 0, 1, 1, 0, 0, 0, 0, 1, 1, 0, 1,\n",
       "       0, 1, 0, 0, 0, 0, 1, 1, 0, 1, 0, 0, 0, 0, 0, 0, 0, 1, 1, 1, 0, 0,\n",
       "       1, 0, 0, 1, 1, 1, 0, 0, 0, 0, 0, 1, 0, 0, 0, 1, 0, 0, 1, 0, 0, 0,\n",
       "       0, 0, 0, 0, 0, 0, 0, 1, 0, 0, 0, 0, 1, 0, 0, 0, 0, 0, 1, 0, 0, 0,\n",
       "       1, 1, 1, 1, 0, 1, 0, 0, 0, 1, 0, 0, 0, 0, 1, 1, 0, 0, 1, 0, 0, 0,\n",
       "       0, 1, 0, 0, 1, 1, 0, 0, 0, 1, 1, 1, 0, 0, 0, 0, 0, 1, 1, 0, 0, 0,\n",
       "       0, 0, 0, 0, 0, 0, 0, 1, 0, 0, 0, 0, 0, 1, 1, 0, 0, 1, 1, 1, 0, 0,\n",
       "       0, 0, 0, 0, 0, 1, 0, 0, 1, 0, 0, 1, 0, 0, 0, 0, 0, 0, 1, 1, 0, 0,\n",
       "       0, 0, 0, 0, 1, 1, 1, 1, 0, 1, 0, 1, 1, 0, 1, 0, 1, 0, 1, 0, 1, 0,\n",
       "       1, 1, 0, 0, 1, 1, 0, 0, 0, 1, 1, 1, 1, 0, 1, 0, 1, 1, 1, 0, 1, 0,\n",
       "       0, 0, 0, 1, 0, 0, 1, 0, 0, 0, 0, 0, 1, 0, 1, 0, 0, 0, 0, 1, 0, 0,\n",
       "       0, 0, 0, 1, 1, 0, 0, 1, 1, 1, 1, 0, 0, 0, 0, 1, 0, 1, 0, 0, 0, 0,\n",
       "       1, 1, 1, 1, 1, 0, 0, 1, 1, 0, 1, 0, 0, 0, 0, 1, 1, 0, 1, 0, 0, 1,\n",
       "       0, 1, 0, 0, 0, 1, 0, 1, 0, 1, 0, 1, 0, 0, 1, 1, 0, 1, 0, 1, 1, 1,\n",
       "       0, 0, 0, 1, 1, 0, 1, 0, 1, 1, 0, 1, 1, 0, 0, 0, 0, 0, 1, 0, 0, 0,\n",
       "       0, 0, 1, 0, 0, 0, 1, 0, 0, 0, 0, 0, 0, 0, 1, 1, 0, 1, 1, 0, 0, 0,\n",
       "       1, 1, 1, 0, 0, 1, 1, 0, 0, 1, 0, 1, 0, 1, 0, 1, 1, 0, 1, 0],\n",
       "      dtype=int32)"
      ]
     },
     "execution_count": 27,
     "metadata": {
      "tags": []
     },
     "output_type": "execute_result"
    }
   ],
   "source": [
    "ypred.flatten()"
   ]
  },
  {
   "cell_type": "code",
   "execution_count": 12,
   "metadata": {
    "colab": {
     "base_uri": "https://localhost:8080/"
    },
    "id": "v8GS2cM-4aiO",
    "outputId": "e1d8e167-a759-445f-faf9-ea0b4a269e92"
   },
   "outputs": [
    {
     "name": "stdout",
     "output_type": "stream",
     "text": [
      "24/24 [==============================] - 0s 1ms/step - loss: 0.5456 - accuracy: 0.7279\n"
     ]
    }
   ],
   "source": [
    "loss,acc=model.evaluate(x,y)"
   ]
  },
  {
   "cell_type": "code",
   "execution_count": 13,
   "metadata": {
    "colab": {
     "base_uri": "https://localhost:8080/"
    },
    "id": "cImjC7Or5Iyo",
    "outputId": "e2b4ba03-55dc-4162-c5f6-77a39386104e"
   },
   "outputs": [
    {
     "data": {
      "text/plain": [
       "0.7278645634651184"
      ]
     },
     "execution_count": 13,
     "metadata": {
      "tags": []
     },
     "output_type": "execute_result"
    }
   ],
   "source": [
    "acc"
   ]
  },
  {
   "cell_type": "code",
   "execution_count": 14,
   "metadata": {
    "colab": {
     "base_uri": "https://localhost:8080/"
    },
    "id": "9F9TfBaX5KiA",
    "outputId": "05f80e8e-89e2-4d3a-aee5-1ecc11c08bf0"
   },
   "outputs": [
    {
     "data": {
      "text/plain": [
       "0.5455732941627502"
      ]
     },
     "execution_count": 14,
     "metadata": {
      "tags": []
     },
     "output_type": "execute_result"
    }
   ],
   "source": [
    "loss"
   ]
  },
  {
   "cell_type": "code",
   "execution_count": null,
   "metadata": {
    "id": "UYLI08Mr5N_S"
   },
   "outputs": [],
   "source": [
    "\n",
    "\n"
   ]
  }
 ],
 "metadata": {
  "colab": {
   "name": "Neural Network Classification.ipynb",
   "provenance": []
  },
  "kernelspec": {
   "display_name": "Python 3",
   "language": "python",
   "name": "python3"
  },
  "language_info": {
   "codemirror_mode": {
    "name": "ipython",
    "version": 3
   },
   "file_extension": ".py",
   "mimetype": "text/x-python",
   "name": "python",
   "nbconvert_exporter": "python",
   "pygments_lexer": "ipython3",
   "version": "3.8.3"
  }
 },
 "nbformat": 4,
 "nbformat_minor": 1
}
