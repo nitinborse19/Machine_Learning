{
 "cells": [
  {
   "cell_type": "code",
   "execution_count": 1,
   "metadata": {
    "id": "5iAqnM--ARBg"
   },
   "outputs": [],
   "source": [
    "import pandas as pd\n",
    "import numpy as np\n",
    "import seaborn as sns\n",
    "import matplotlib.pyplot as plt"
   ]
  },
  {
   "cell_type": "code",
   "execution_count": 3,
   "metadata": {
    "id": "U62z0lyHAe-u"
   },
   "outputs": [],
   "source": [
    "df=pd.read_csv(\"/content/sample_data/california_housing_train.csv\")\n",
    "df.head()\n",
    "x=df.drop(columns=[\"median_house_value\"])\n",
    "y=df[\"median_house_value\"]"
   ]
  },
  {
   "cell_type": "code",
   "execution_count": 5,
   "metadata": {
    "id": "yhqOQIf6AktW"
   },
   "outputs": [],
   "source": [
    "from sklearn.preprocessing import StandardScaler\n",
    "from sklearn.model_selection import train_test_split\n",
    "xtrain,xtest,ytrain,ytest=train_test_split(x,y,test_size=0.2,random_state=0)\n",
    "sc=StandardScaler()\n",
    "sc.fit(xtrain)\n",
    "sc_xtrain=sc.transform(xtrain)\n",
    "sc_xtest=sc.transform(xtest)"
   ]
  },
  {
   "cell_type": "code",
   "execution_count": 6,
   "metadata": {
    "colab": {
     "base_uri": "https://localhost:8080/"
    },
    "id": "od_6K65cC1ks",
    "outputId": "98d010d2-c27a-4d84-e2c0-21932f048ff3"
   },
   "outputs": [
    {
     "data": {
      "text/plain": [
       "(13600, 8)"
      ]
     },
     "execution_count": 6,
     "metadata": {
      "tags": []
     },
     "output_type": "execute_result"
    }
   ],
   "source": [
    "xtrain.shape"
   ]
  },
  {
   "cell_type": "code",
   "execution_count": 7,
   "metadata": {
    "colab": {
     "base_uri": "https://localhost:8080/"
    },
    "id": "FUV2bVPACFnO",
    "outputId": "7a5bf26d-5839-4508-c247-7850eab1a155"
   },
   "outputs": [
    {
     "name": "stdout",
     "output_type": "stream",
     "text": [
      "Model: \"sequential\"\n",
      "_________________________________________________________________\n",
      "Layer (type)                 Output Shape              Param #   \n",
      "=================================================================\n",
      "dense (Dense)                (None, 15)                135       \n",
      "_________________________________________________________________\n",
      "dense_1 (Dense)              (None, 10)                160       \n",
      "_________________________________________________________________\n",
      "dense_2 (Dense)              (None, 1)                 11        \n",
      "=================================================================\n",
      "Total params: 306\n",
      "Trainable params: 306\n",
      "Non-trainable params: 0\n",
      "_________________________________________________________________\n"
     ]
    }
   ],
   "source": [
    "from keras.layers import Dense\n",
    "from keras.models import Sequential\n",
    "model=Sequential()\n",
    "model.add(Dense(15,activation='relu',input_dim=8))\n",
    "model.add(Dense(10,activation='relu'))\n",
    "model.add(Dense(1,activation='linear'))\n",
    "model.summary()"
   ]
  },
  {
   "cell_type": "code",
   "execution_count": 35,
   "metadata": {
    "id": "eynfD62WE8C2"
   },
   "outputs": [],
   "source": [
    "from keras.optimizers import SGD\n"
   ]
  },
  {
   "cell_type": "code",
   "execution_count": 29,
   "metadata": {
    "id": "Wj1CdlNNDPmE"
   },
   "outputs": [],
   "source": [
    "model.compile(loss=\"mean_absolute_error\",optimizer=SGD(),metrics=[\"mse\"])"
   ]
  },
  {
   "cell_type": "code",
   "execution_count": 30,
   "metadata": {
    "colab": {
     "base_uri": "https://localhost:8080/"
    },
    "id": "G1V6Ac6rDeGQ",
    "outputId": "4375e49a-5a16-4469-821e-fefb4a80fd7b"
   },
   "outputs": [
    {
     "name": "stdout",
     "output_type": "stream",
     "text": [
      "Epoch 1/25\n",
      "1360/1360 [==============================] - 2s 1ms/step - loss: 91600.5125 - mse: 13696250520.3586\n",
      "Epoch 2/25\n",
      "1360/1360 [==============================] - 1s 1ms/step - loss: 91542.0250 - mse: 13736161045.2550\n",
      "Epoch 3/25\n",
      "1360/1360 [==============================] - 1s 1ms/step - loss: 90719.4813 - mse: 13447373693.0845\n",
      "Epoch 4/25\n",
      "1360/1360 [==============================] - 1s 1ms/step - loss: 92151.3767 - mse: 13827281031.4298\n",
      "Epoch 5/25\n",
      "1360/1360 [==============================] - 1s 1ms/step - loss: 90282.3016 - mse: 13320930518.4306\n",
      "Epoch 6/25\n",
      "1360/1360 [==============================] - 1s 1ms/step - loss: 90420.4983 - mse: 13428662086.1602\n",
      "Epoch 7/25\n",
      "1360/1360 [==============================] - 1s 1ms/step - loss: 91635.6558 - mse: 13638425619.5621\n",
      "Epoch 8/25\n",
      "1360/1360 [==============================] - 1s 1ms/step - loss: 90630.3266 - mse: 13553844856.0059\n",
      "Epoch 9/25\n",
      "1360/1360 [==============================] - 2s 1ms/step - loss: 90805.6946 - mse: 13521084488.9816\n",
      "Epoch 10/25\n",
      "1360/1360 [==============================] - 1s 1ms/step - loss: 91767.8857 - mse: 13875548542.2131\n",
      "Epoch 11/25\n",
      "1360/1360 [==============================] - 2s 1ms/step - loss: 91613.7882 - mse: 13699209185.9045\n",
      "Epoch 12/25\n",
      "1360/1360 [==============================] - 1s 1ms/step - loss: 90751.4447 - mse: 13419527930.1690\n",
      "Epoch 13/25\n",
      "1360/1360 [==============================] - 1s 1ms/step - loss: 91181.5585 - mse: 13622583681.0345\n",
      "Epoch 14/25\n",
      "1360/1360 [==============================] - 2s 1ms/step - loss: 90340.9805 - mse: 13337376388.0441\n",
      "Epoch 15/25\n",
      "1360/1360 [==============================] - 1s 1ms/step - loss: 91226.9027 - mse: 13623147993.2520\n",
      "Epoch 16/25\n",
      "1360/1360 [==============================] - 1s 1ms/step - loss: 90224.8908 - mse: 13351955711.6238\n",
      "Epoch 17/25\n",
      "1360/1360 [==============================] - 1s 1ms/step - loss: 90669.1896 - mse: 13460164915.7267\n",
      "Epoch 18/25\n",
      "1360/1360 [==============================] - 1s 1ms/step - loss: 90484.5520 - mse: 13392165090.4688\n",
      "Epoch 19/25\n",
      "1360/1360 [==============================] - 1s 1ms/step - loss: 91373.2182 - mse: 13574428419.9500\n",
      "Epoch 20/25\n",
      "1360/1360 [==============================] - 1s 1ms/step - loss: 91674.6000 - mse: 13783765639.9941\n",
      "Epoch 21/25\n",
      "1360/1360 [==============================] - 1s 1ms/step - loss: 92146.2200 - mse: 13691611776.2821\n",
      "Epoch 22/25\n",
      "1360/1360 [==============================] - 2s 1ms/step - loss: 91124.8582 - mse: 13570116629.0669\n",
      "Epoch 23/25\n",
      "1360/1360 [==============================] - 1s 1ms/step - loss: 91527.5573 - mse: 13667321426.3865\n",
      "Epoch 24/25\n",
      "1360/1360 [==============================] - 1s 1ms/step - loss: 91073.1254 - mse: 13595464855.2300\n",
      "Epoch 25/25\n",
      "1360/1360 [==============================] - 1s 1ms/step - loss: 91597.8331 - mse: 13782405846.0544\n"
     ]
    }
   ],
   "source": [
    "history=model.fit(sc_xtrain,ytrain,epochs=25,batch_size=10)"
   ]
  },
  {
   "cell_type": "code",
   "execution_count": 31,
   "metadata": {
    "colab": {
     "base_uri": "https://localhost:8080/"
    },
    "id": "Fv6ECc4tHqbV",
    "outputId": "fedba7c3-ebd2-435a-950a-43ebdbdf65eb"
   },
   "outputs": [
    {
     "data": {
      "text/plain": [
       "dict_keys(['loss', 'mse'])"
      ]
     },
     "execution_count": 31,
     "metadata": {
      "tags": []
     },
     "output_type": "execute_result"
    }
   ],
   "source": [
    "history.history.keys()"
   ]
  },
  {
   "cell_type": "code",
   "execution_count": 18,
   "metadata": {
    "colab": {
     "base_uri": "https://localhost:8080/"
    },
    "id": "nVb5JmWcDy5P",
    "outputId": "728519c5-a9b9-4c97-8799-6f3cd5514ec2"
   },
   "outputs": [
    {
     "name": "stdout",
     "output_type": "stream",
     "text": [
      "425/425 [==============================] - 0s 887us/step - loss: 13611565056.0000\n"
     ]
    },
    {
     "data": {
      "text/plain": [
       "13611565056.0"
      ]
     },
     "execution_count": 18,
     "metadata": {
      "tags": []
     },
     "output_type": "execute_result"
    }
   ],
   "source": [
    "model.evaluate(sc_xtrain,ytrain)"
   ]
  },
  {
   "cell_type": "code",
   "execution_count": 19,
   "metadata": {
    "colab": {
     "base_uri": "https://localhost:8080/"
    },
    "id": "LfQOzdS4EE_l",
    "outputId": "599e1558-a577-442a-89bc-9eb2d092bb2d"
   },
   "outputs": [
    {
     "name": "stdout",
     "output_type": "stream",
     "text": [
      "107/107 [==============================] - 0s 1ms/step - loss: 12878766080.0000\n"
     ]
    },
    {
     "data": {
      "text/plain": [
       "12878766080.0"
      ]
     },
     "execution_count": 19,
     "metadata": {
      "tags": []
     },
     "output_type": "execute_result"
    }
   ],
   "source": [
    "model.evaluate(sc_xtest,ytest)"
   ]
  },
  {
   "cell_type": "code",
   "execution_count": 33,
   "metadata": {
    "colab": {
     "base_uri": "https://localhost:8080/",
     "height": 284
    },
    "id": "da5MYlFVEbi0",
    "outputId": "2386e13f-1e04-4334-e326-17af95ebd01f"
   },
   "outputs": [
    {
     "data": {
      "text/plain": [
       "[<matplotlib.lines.Line2D at 0x7f3f3ca87e50>]"
      ]
     },
     "execution_count": 33,
     "metadata": {
      "tags": []
     },
     "output_type": "execute_result"
    },
    {
     "data": {
      "image/png": "[encoded data removed]",
      "text/plain": [
       "<Figure size 432x288 with 1 Axes>"
      ]
     },
     "metadata": {
      "needs_background": "light",
      "tags": []
     },
     "output_type": "display_data"
    }
   ],
   "source": [
    "plt.plot(history.history[\"loss\"])"
   ]
  },
  {
   "cell_type": "code",
   "execution_count": 34,
   "metadata": {
    "colab": {
     "base_uri": "https://localhost:8080/",
     "height": 295
    },
    "id": "qSvaArWjH39m",
    "outputId": "69beaf4e-be0a-48f1-e0f2-b984da12d3f3"
   },
   "outputs": [
    {
     "data": {
      "text/plain": [
       "[<matplotlib.lines.Line2D at 0x7f3f3c9edc50>]"
      ]
     },
     "execution_count": 34,
     "metadata": {
      "tags": []
     },
     "output_type": "execute_result"
    },
    {
     "data": {
      "image/png": "[encoded data removed]",
      "text/plain": [
       "<Figure size 432x288 with 1 Axes>"
      ]
     },
     "metadata": {
      "needs_background": "light",
      "tags": []
     },
     "output_type": "display_data"
    }
   ],
   "source": [
    "plt.plot(history.history[\"mse\"])"
   ]
  },
  {
   "cell_type": "code",
   "execution_count": 28,
   "metadata": {
    "id": "IZCAePMqElRP"
   },
   "outputs": [],
   "source": [
    "ypred=model.predict(sc_xtest)"
   ]
  },
  {
   "cell_type": "code",
   "execution_count": 26,
   "metadata": {
    "colab": {
     "base_uri": "https://localhost:8080/"
    },
    "id": "OXbkSgW7G0nH",
    "outputId": "21291414-f8fb-4535-ee6d-5c888e802695"
   },
   "outputs": [
    {
     "data": {
      "text/plain": [
       "array([[203617.97],\n",
       "       [203617.97],\n",
       "       [203617.97],\n",
       "       ...,\n",
       "       [203617.97],\n",
       "       [203617.97],\n",
       "       [203617.97]], dtype=float32)"
      ]
     },
     "execution_count": 26,
     "metadata": {
      "tags": []
     },
     "output_type": "execute_result"
    }
   ],
   "source": [
    "ypred"
   ]
  },
  {
   "cell_type": "code",
   "execution_count": 25,
   "metadata": {
    "colab": {
     "base_uri": "https://localhost:8080/",
     "height": 423
    },
    "id": "SlyPyXaPGdzS",
    "outputId": "1fd36cc7-d666-410a-cd71-576a178bdf83"
   },
   "outputs": [
    {
     "data": {
      "text/html": [
       "<div>\n",
       "<style scoped>\n",
       "    .dataframe tbody tr th:only-of-type {\n",
       "        vertical-align: middle;\n",
       "    }\n",
       "\n",
       "    .dataframe tbody tr th {\n",
       "        vertical-align: top;\n",
       "    }\n",
       "\n",
       "    .dataframe thead th {\n",
       "        text-align: right;\n",
       "    }\n",
       "</style>\n",
       "<table border=\"1\" class=\"dataframe\">\n",
       "  <thead>\n",
       "    <tr style=\"text-align: right;\">\n",
       "      <th></th>\n",
       "      <th>Actual</th>\n",
       "      <th>Predicted</th>\n",
       "    </tr>\n",
       "  </thead>\n",
       "  <tbody>\n",
       "    <tr>\n",
       "      <th>0</th>\n",
       "      <td>171400.0</td>\n",
       "      <td>203617.96875</td>\n",
       "    </tr>\n",
       "    <tr>\n",
       "      <th>1</th>\n",
       "      <td>189600.0</td>\n",
       "      <td>203617.96875</td>\n",
       "    </tr>\n",
       "    <tr>\n",
       "      <th>2</th>\n",
       "      <td>500001.0</td>\n",
       "      <td>203617.96875</td>\n",
       "    </tr>\n",
       "    <tr>\n",
       "      <th>3</th>\n",
       "      <td>229400.0</td>\n",
       "      <td>203617.96875</td>\n",
       "    </tr>\n",
       "    <tr>\n",
       "      <th>4</th>\n",
       "      <td>163400.0</td>\n",
       "      <td>203617.96875</td>\n",
       "    </tr>\n",
       "    <tr>\n",
       "      <th>...</th>\n",
       "      <td>...</td>\n",
       "      <td>...</td>\n",
       "    </tr>\n",
       "    <tr>\n",
       "      <th>3395</th>\n",
       "      <td>212500.0</td>\n",
       "      <td>203617.96875</td>\n",
       "    </tr>\n",
       "    <tr>\n",
       "      <th>3396</th>\n",
       "      <td>210500.0</td>\n",
       "      <td>203617.96875</td>\n",
       "    </tr>\n",
       "    <tr>\n",
       "      <th>3397</th>\n",
       "      <td>142900.0</td>\n",
       "      <td>203617.96875</td>\n",
       "    </tr>\n",
       "    <tr>\n",
       "      <th>3398</th>\n",
       "      <td>128300.0</td>\n",
       "      <td>203617.96875</td>\n",
       "    </tr>\n",
       "    <tr>\n",
       "      <th>3399</th>\n",
       "      <td>84700.0</td>\n",
       "      <td>203617.96875</td>\n",
       "    </tr>\n",
       "  </tbody>\n",
       "</table>\n",
       "<p>3400 rows × 2 columns</p>\n",
       "</div>"
      ],
      "text/plain": [
       "        Actual     Predicted\n",
       "0     171400.0  203617.96875\n",
       "1     189600.0  203617.96875\n",
       "2     500001.0  203617.96875\n",
       "3     229400.0  203617.96875\n",
       "4     163400.0  203617.96875\n",
       "...        ...           ...\n",
       "3395  212500.0  203617.96875\n",
       "3396  210500.0  203617.96875\n",
       "3397  142900.0  203617.96875\n",
       "3398  128300.0  203617.96875\n",
       "3399   84700.0  203617.96875\n",
       "\n",
       "[3400 rows x 2 columns]"
      ]
     },
     "execution_count": 25,
     "metadata": {
      "tags": []
     },
     "output_type": "execute_result"
    }
   ],
   "source": [
    "pd.DataFrame({\"Actual\":np.array(ytest).flatten(),\"Predicted\":ypred.flatten()})"
   ]
  },
  {
   "cell_type": "code",
   "execution_count": null,
   "metadata": {
    "id": "nsytiDVNGfIu"
   },
   "outputs": [],
   "source": []
  }
 ],
 "metadata": {
  "colab": {
   "name": "Neural Network Regression.ipynb",
   "provenance": []
  },
  "kernelspec": {
   "display_name": "Python 3",
   "language": "python",
   "name": "python3"
  },
  "language_info": {
   "codemirror_mode": {
    "name": "ipython",
    "version": 3
   },
   "file_extension": ".py",
   "mimetype": "text/x-python",
   "name": "python",
   "nbconvert_exporter": "python",
   "pygments_lexer": "ipython3",
   "version": "3.8.3"
  }
 },
 "nbformat": 4,
 "nbformat_minor": 1
}
