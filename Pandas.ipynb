{
 "cells": [
  {
   "cell_type": "markdown",
   "metadata": {},
   "source": [
    "# Panda library"
   ]
  },
  {
   "cell_type": "code",
   "execution_count": 1,
   "metadata": {},
   "outputs": [
    {
     "name": "stdout",
     "output_type": "stream",
     "text": [
      "{'name': ['a', 'b', 'c', 'd'], 'roll': [1, 2, 3, 4]}\n",
      "  name  roll\n",
      "0    a     1\n",
      "1    b     2\n",
      "2    c     3\n",
      "3    d     4\n"
     ]
    }
   ],
   "source": [
    "import pandas as pd\n",
    "d={\"name\":[\"a\",\"b\",\"c\",\"d\"],'roll':[1,2,3,4]}\n",
    "print(d)\n",
    "df=pd.DataFrame(d)\n",
    "print(df)"
   ]
  },
  {
   "cell_type": "code",
   "execution_count": 2,
   "metadata": {},
   "outputs": [
    {
     "name": "stdout",
     "output_type": "stream",
     "text": [
      "   rol name  marks\n",
      "0    1    a     11\n",
      "1    2    b     12\n",
      "2    3    c     13\n",
      "3    4    d     14\n",
      "4    5    e     15\n",
      "<class 'pandas.core.frame.DataFrame'>\n",
      "RangeIndex: 5 entries, 0 to 4\n",
      "Data columns (total 3 columns):\n",
      " #   Column  Non-Null Count  Dtype \n",
      "---  ------  --------------  ----- \n",
      " 0   rol     5 non-null      int64 \n",
      " 1   name    5 non-null      object\n",
      " 2   marks   5 non-null      int64 \n",
      "dtypes: int64(2), object(1)\n",
      "memory usage: 248.0+ bytes\n",
      "None\n",
      "   rol name  marks\n",
      "0    1    a     11\n",
      "1    2    b     12\n",
      "2    3    c     13\n",
      "3    4    d     14\n",
      "4    5    e     15\n",
      "   rol name  marks\n",
      "0    1    a     11\n",
      "1    2    b     12\n",
      "   rol name  marks\n",
      "0    1    a     11\n",
      "1    2    b     12\n",
      "2    3    c     13\n",
      "3    4    d     14\n",
      "4    5    e     15\n",
      "   rol name  marks\n",
      "3    4    d     14\n",
      "4    5    e     15\n",
      "rol       3.0\n",
      "marks    13.0\n",
      "dtype: float64\n",
      "rol         15\n",
      "name     abcde\n",
      "marks       65\n",
      "dtype: object\n",
      "rol       1\n",
      "name      a\n",
      "marks    11\n",
      "dtype: object\n",
      "rol       5\n",
      "name      e\n",
      "marks    15\n",
      "dtype: object\n",
      "rol      5\n",
      "name     5\n",
      "marks    5\n",
      "dtype: int64\n",
      "            rol      marks\n",
      "count  5.000000   5.000000\n",
      "mean   3.000000  13.000000\n",
      "std    1.581139   1.581139\n",
      "min    1.000000  11.000000\n",
      "25%    2.000000  12.000000\n",
      "50%    3.000000  13.000000\n",
      "75%    4.000000  14.000000\n",
      "max    5.000000  15.000000\n"
     ]
    }
   ],
   "source": [
    "import pandas as pd\n",
    "d={\"rol\":[1,2,3,4,5],\"name\":[\"a\",\"b\",\"c\",\"d\",\"e\"],\"marks\":[11,12,13,14,15]}\n",
    "df=pd.DataFrame(d)\n",
    "print(df)\n",
    "\n",
    "print(df.info())\n",
    "print(df.head())  #first 5\n",
    "print(df.head(2))\n",
    "print(df.tail())   #last five\n",
    "print(df.tail(2))\n",
    "print(df.mean())\n",
    "print(df.sum())\n",
    "print(df.min())\n",
    "print(df.max())\n",
    "print(df.count())\n",
    "print(df.describe())"
   ]
  },
  {
   "cell_type": "markdown",
   "metadata": {},
   "source": [
    "# how to access DataFrame values"
   ]
  },
  {
   "cell_type": "code",
   "execution_count": 3,
   "metadata": {},
   "outputs": [
    {
     "name": "stdout",
     "output_type": "stream",
     "text": [
      "b\n"
     ]
    }
   ],
   "source": [
    "# iloc\n",
    "#dataframe.iloc[row,col]\n",
    "print(df.iloc[1,1])"
   ]
  },
  {
   "cell_type": "code",
   "execution_count": 4,
   "metadata": {},
   "outputs": [
    {
     "name": "stdout",
     "output_type": "stream",
     "text": [
      "   rol name  marks\n",
      "1    2    b     12\n",
      "3    4    d     14\n"
     ]
    }
   ],
   "source": [
    "print(df.iloc[[1,3],[0,1,2]])"
   ]
  },
  {
   "cell_type": "code",
   "execution_count": 5,
   "metadata": {},
   "outputs": [
    {
     "name": "stdout",
     "output_type": "stream",
     "text": [
      "   rol name  marks\n",
      "1    2    b     12\n",
      "3    4    d     14\n"
     ]
    }
   ],
   "source": [
    "print(df.iloc[[1,3],:])"
   ]
  },
  {
   "cell_type": "code",
   "execution_count": 6,
   "metadata": {},
   "outputs": [
    {
     "name": "stdout",
     "output_type": "stream",
     "text": [
      "   rol name  marks\n",
      "1    2    b     12\n",
      "3    4    d     14\n"
     ]
    }
   ],
   "source": [
    "print(df.iloc[1::2,:3])"
   ]
  },
  {
   "cell_type": "code",
   "execution_count": 7,
   "metadata": {},
   "outputs": [
    {
     "name": "stdout",
     "output_type": "stream",
     "text": [
      "b\n",
      "   rol name  marks\n",
      "1    2    b     12\n",
      "3    4    d     14\n",
      "  name  marks\n",
      "1    b     12\n",
      "2    c     13\n",
      "3    d     14\n"
     ]
    }
   ],
   "source": [
    "#loc\n",
    "#dataframe.loc[row,col]\n",
    "#row-->index\n",
    "#col-->column name\n",
    "print(df.loc[1,\"name\"])\n",
    "print(df.loc[1::2])\n",
    "print(df.loc[[1,2,3],[\"name\",\"marks\"]])"
   ]
  },
  {
   "cell_type": "code",
   "execution_count": 8,
   "metadata": {},
   "outputs": [],
   "source": [
    "df.to_csv(\"data.csv\",index=False)"
   ]
  },
  {
   "cell_type": "markdown",
   "metadata": {},
   "source": [
    "# how to access dataset in jupyter"
   ]
  },
  {
   "cell_type": "code",
   "execution_count": 9,
   "metadata": {},
   "outputs": [
    {
     "data": {
      "text/html": [
       "<div>\n",
       "<style scoped>\n",
       "    .dataframe tbody tr th:only-of-type {\n",
       "        vertical-align: middle;\n",
       "    }\n",
       "\n",
       "    .dataframe tbody tr th {\n",
       "        vertical-align: top;\n",
       "    }\n",
       "\n",
       "    .dataframe thead th {\n",
       "        text-align: right;\n",
       "    }\n",
       "</style>\n",
       "<table border=\"1\" class=\"dataframe\">\n",
       "  <thead>\n",
       "    <tr style=\"text-align: right;\">\n",
       "      <th></th>\n",
       "      <th>passenger_id</th>\n",
       "      <th>pclass</th>\n",
       "      <th>name</th>\n",
       "      <th>sex</th>\n",
       "      <th>age</th>\n",
       "      <th>sibsp</th>\n",
       "      <th>parch</th>\n",
       "      <th>ticket</th>\n",
       "      <th>fare</th>\n",
       "      <th>cabin</th>\n",
       "      <th>embarked</th>\n",
       "      <th>boat</th>\n",
       "      <th>body</th>\n",
       "      <th>home.dest</th>\n",
       "      <th>survived</th>\n",
       "    </tr>\n",
       "  </thead>\n",
       "  <tbody>\n",
       "    <tr>\n",
       "      <th>0</th>\n",
       "      <td>1216</td>\n",
       "      <td>3</td>\n",
       "      <td>Smyth, Miss. Julia</td>\n",
       "      <td>female</td>\n",
       "      <td>NaN</td>\n",
       "      <td>0</td>\n",
       "      <td>0</td>\n",
       "      <td>335432</td>\n",
       "      <td>7.7333</td>\n",
       "      <td>NaN</td>\n",
       "      <td>Q</td>\n",
       "      <td>13</td>\n",
       "      <td>NaN</td>\n",
       "      <td>NaN</td>\n",
       "      <td>1</td>\n",
       "    </tr>\n",
       "    <tr>\n",
       "      <th>1</th>\n",
       "      <td>699</td>\n",
       "      <td>3</td>\n",
       "      <td>Cacic, Mr. Luka</td>\n",
       "      <td>male</td>\n",
       "      <td>38.0</td>\n",
       "      <td>0</td>\n",
       "      <td>0</td>\n",
       "      <td>315089</td>\n",
       "      <td>8.6625</td>\n",
       "      <td>NaN</td>\n",
       "      <td>S</td>\n",
       "      <td>NaN</td>\n",
       "      <td>NaN</td>\n",
       "      <td>Croatia</td>\n",
       "      <td>0</td>\n",
       "    </tr>\n",
       "    <tr>\n",
       "      <th>2</th>\n",
       "      <td>1267</td>\n",
       "      <td>3</td>\n",
       "      <td>Van Impe, Mrs. Jean Baptiste (Rosalie Paula Go...</td>\n",
       "      <td>female</td>\n",
       "      <td>30.0</td>\n",
       "      <td>1</td>\n",
       "      <td>1</td>\n",
       "      <td>345773</td>\n",
       "      <td>24.1500</td>\n",
       "      <td>NaN</td>\n",
       "      <td>S</td>\n",
       "      <td>NaN</td>\n",
       "      <td>NaN</td>\n",
       "      <td>NaN</td>\n",
       "      <td>0</td>\n",
       "    </tr>\n",
       "    <tr>\n",
       "      <th>3</th>\n",
       "      <td>449</td>\n",
       "      <td>2</td>\n",
       "      <td>Hocking, Mrs. Elizabeth (Eliza Needs)</td>\n",
       "      <td>female</td>\n",
       "      <td>54.0</td>\n",
       "      <td>1</td>\n",
       "      <td>3</td>\n",
       "      <td>29105</td>\n",
       "      <td>23.0000</td>\n",
       "      <td>NaN</td>\n",
       "      <td>S</td>\n",
       "      <td>4</td>\n",
       "      <td>NaN</td>\n",
       "      <td>Cornwall / Akron, OH</td>\n",
       "      <td>1</td>\n",
       "    </tr>\n",
       "    <tr>\n",
       "      <th>4</th>\n",
       "      <td>576</td>\n",
       "      <td>2</td>\n",
       "      <td>Veal, Mr. James</td>\n",
       "      <td>male</td>\n",
       "      <td>40.0</td>\n",
       "      <td>0</td>\n",
       "      <td>0</td>\n",
       "      <td>28221</td>\n",
       "      <td>13.0000</td>\n",
       "      <td>NaN</td>\n",
       "      <td>S</td>\n",
       "      <td>NaN</td>\n",
       "      <td>NaN</td>\n",
       "      <td>Barre, Co Washington, VT</td>\n",
       "      <td>0</td>\n",
       "    </tr>\n",
       "    <tr>\n",
       "      <th>...</th>\n",
       "      <td>...</td>\n",
       "      <td>...</td>\n",
       "      <td>...</td>\n",
       "      <td>...</td>\n",
       "      <td>...</td>\n",
       "      <td>...</td>\n",
       "      <td>...</td>\n",
       "      <td>...</td>\n",
       "      <td>...</td>\n",
       "      <td>...</td>\n",
       "      <td>...</td>\n",
       "      <td>...</td>\n",
       "      <td>...</td>\n",
       "      <td>...</td>\n",
       "      <td>...</td>\n",
       "    </tr>\n",
       "    <tr>\n",
       "      <th>845</th>\n",
       "      <td>158</td>\n",
       "      <td>1</td>\n",
       "      <td>Hipkins, Mr. William Edward</td>\n",
       "      <td>male</td>\n",
       "      <td>55.0</td>\n",
       "      <td>0</td>\n",
       "      <td>0</td>\n",
       "      <td>680</td>\n",
       "      <td>50.0000</td>\n",
       "      <td>C39</td>\n",
       "      <td>S</td>\n",
       "      <td>NaN</td>\n",
       "      <td>NaN</td>\n",
       "      <td>London / Birmingham</td>\n",
       "      <td>0</td>\n",
       "    </tr>\n",
       "    <tr>\n",
       "      <th>846</th>\n",
       "      <td>174</td>\n",
       "      <td>1</td>\n",
       "      <td>Kent, Mr. Edward Austin</td>\n",
       "      <td>male</td>\n",
       "      <td>58.0</td>\n",
       "      <td>0</td>\n",
       "      <td>0</td>\n",
       "      <td>11771</td>\n",
       "      <td>29.7000</td>\n",
       "      <td>B37</td>\n",
       "      <td>C</td>\n",
       "      <td>NaN</td>\n",
       "      <td>258.0</td>\n",
       "      <td>Buffalo, NY</td>\n",
       "      <td>0</td>\n",
       "    </tr>\n",
       "    <tr>\n",
       "      <th>847</th>\n",
       "      <td>467</td>\n",
       "      <td>2</td>\n",
       "      <td>Kantor, Mrs. Sinai (Miriam Sternin)</td>\n",
       "      <td>female</td>\n",
       "      <td>24.0</td>\n",
       "      <td>1</td>\n",
       "      <td>0</td>\n",
       "      <td>244367</td>\n",
       "      <td>26.0000</td>\n",
       "      <td>NaN</td>\n",
       "      <td>S</td>\n",
       "      <td>12</td>\n",
       "      <td>NaN</td>\n",
       "      <td>Moscow / Bronx, NY</td>\n",
       "      <td>1</td>\n",
       "    </tr>\n",
       "    <tr>\n",
       "      <th>848</th>\n",
       "      <td>1112</td>\n",
       "      <td>3</td>\n",
       "      <td>Peacock, Miss. Treasteall</td>\n",
       "      <td>female</td>\n",
       "      <td>3.0</td>\n",
       "      <td>1</td>\n",
       "      <td>1</td>\n",
       "      <td>SOTON/O.Q. 3101315</td>\n",
       "      <td>13.7750</td>\n",
       "      <td>NaN</td>\n",
       "      <td>S</td>\n",
       "      <td>NaN</td>\n",
       "      <td>NaN</td>\n",
       "      <td>NaN</td>\n",
       "      <td>0</td>\n",
       "    </tr>\n",
       "    <tr>\n",
       "      <th>849</th>\n",
       "      <td>425</td>\n",
       "      <td>2</td>\n",
       "      <td>Greenberg, Mr. Samuel</td>\n",
       "      <td>male</td>\n",
       "      <td>52.0</td>\n",
       "      <td>0</td>\n",
       "      <td>0</td>\n",
       "      <td>250647</td>\n",
       "      <td>13.0000</td>\n",
       "      <td>NaN</td>\n",
       "      <td>S</td>\n",
       "      <td>NaN</td>\n",
       "      <td>19.0</td>\n",
       "      <td>Bronx, NY</td>\n",
       "      <td>0</td>\n",
       "    </tr>\n",
       "  </tbody>\n",
       "</table>\n",
       "<p>850 rows × 15 columns</p>\n",
       "</div>"
      ],
      "text/plain": [
       "     passenger_id  pclass                                               name  \\\n",
       "0            1216       3                                 Smyth, Miss. Julia   \n",
       "1             699       3                                    Cacic, Mr. Luka   \n",
       "2            1267       3  Van Impe, Mrs. Jean Baptiste (Rosalie Paula Go...   \n",
       "3             449       2              Hocking, Mrs. Elizabeth (Eliza Needs)   \n",
       "4             576       2                                    Veal, Mr. James   \n",
       "..            ...     ...                                                ...   \n",
       "845           158       1                        Hipkins, Mr. William Edward   \n",
       "846           174       1                            Kent, Mr. Edward Austin   \n",
       "847           467       2                Kantor, Mrs. Sinai (Miriam Sternin)   \n",
       "848          1112       3                          Peacock, Miss. Treasteall   \n",
       "849           425       2                              Greenberg, Mr. Samuel   \n",
       "\n",
       "        sex   age  sibsp  parch              ticket     fare cabin embarked  \\\n",
       "0    female   NaN      0      0              335432   7.7333   NaN        Q   \n",
       "1      male  38.0      0      0              315089   8.6625   NaN        S   \n",
       "2    female  30.0      1      1              345773  24.1500   NaN        S   \n",
       "3    female  54.0      1      3               29105  23.0000   NaN        S   \n",
       "4      male  40.0      0      0               28221  13.0000   NaN        S   \n",
       "..      ...   ...    ...    ...                 ...      ...   ...      ...   \n",
       "845    male  55.0      0      0                 680  50.0000   C39        S   \n",
       "846    male  58.0      0      0               11771  29.7000   B37        C   \n",
       "847  female  24.0      1      0              244367  26.0000   NaN        S   \n",
       "848  female   3.0      1      1  SOTON/O.Q. 3101315  13.7750   NaN        S   \n",
       "849    male  52.0      0      0              250647  13.0000   NaN        S   \n",
       "\n",
       "    boat   body                 home.dest  survived  \n",
       "0     13    NaN                       NaN         1  \n",
       "1    NaN    NaN                   Croatia         0  \n",
       "2    NaN    NaN                       NaN         0  \n",
       "3      4    NaN      Cornwall / Akron, OH         1  \n",
       "4    NaN    NaN  Barre, Co Washington, VT         0  \n",
       "..   ...    ...                       ...       ...  \n",
       "845  NaN    NaN       London / Birmingham         0  \n",
       "846  NaN  258.0               Buffalo, NY         0  \n",
       "847   12    NaN        Moscow / Bronx, NY         1  \n",
       "848  NaN    NaN                       NaN         0  \n",
       "849  NaN   19.0                 Bronx, NY         0  \n",
       "\n",
       "[850 rows x 15 columns]"
      ]
     },
     "execution_count": 9,
     "metadata": {},
     "output_type": "execute_result"
    }
   ],
   "source": [
    "import pandas as pd\n",
    "df=pd.read_csv(\"C:\\\\Users\\\\Krishna\\\\Desktop\\\\dataset\\\\titanic_train.csv\")\n",
    "df\n",
    "\n"
   ]
  },
  {
   "cell_type": "code",
   "execution_count": null,
   "metadata": {},
   "outputs": [],
   "source": [
    "# misisng value      NAN is True value consider\n",
    "#isna"
   ]
  },
  {
   "cell_type": "code",
   "execution_count": 11,
   "metadata": {},
   "outputs": [
    {
     "name": "stdout",
     "output_type": "stream",
     "text": [
      "passenger_id      0\n",
      "pclass            0\n",
      "name              0\n",
      "sex               0\n",
      "age             174\n",
      "sibsp             0\n",
      "parch             0\n",
      "ticket            0\n",
      "fare              1\n",
      "cabin           659\n",
      "embarked          1\n",
      "boat            542\n",
      "body            777\n",
      "home.dest       386\n",
      "survived          0\n",
      "dtype: int64\n"
     ]
    }
   ],
   "source": [
    "print(df.isna().sum())"
   ]
  },
  {
   "cell_type": "markdown",
   "metadata": {},
   "source": [
    "# Remove th missing data row"
   ]
  },
  {
   "cell_type": "code",
   "execution_count": 12,
   "metadata": {},
   "outputs": [
    {
     "name": "stdout",
     "output_type": "stream",
     "text": [
      "passenger_id    0\n",
      "pclass          0\n",
      "name            0\n",
      "sex             0\n",
      "age             0\n",
      "sibsp           0\n",
      "parch           0\n",
      "ticket          0\n",
      "fare            0\n",
      "cabin           0\n",
      "embarked        0\n",
      "boat            0\n",
      "body            0\n",
      "home.dest       0\n",
      "survived        0\n",
      "dtype: int64\n"
     ]
    }
   ],
   "source": [
    "df=df.dropna()\n",
    "print(df.isna().sum())"
   ]
  },
  {
   "cell_type": "code",
   "execution_count": 19,
   "metadata": {},
   "outputs": [
    {
     "name": "stdout",
     "output_type": "stream",
     "text": [
      "passenger_id      0\n",
      "pclass            0\n",
      "name              0\n",
      "sex               0\n",
      "age             174\n",
      "sibsp             0\n",
      "parch             0\n",
      "ticket            0\n",
      "fare              1\n",
      "cabin           659\n",
      "embarked          1\n",
      "boat            542\n",
      "body            777\n",
      "home.dest       386\n",
      "survived          0\n",
      "dtype: int64\n",
      "29.519847189349115\n",
      "passenger_id      0\n",
      "pclass            0\n",
      "name              0\n",
      "sex               0\n",
      "age               0\n",
      "sibsp             0\n",
      "parch             0\n",
      "ticket            0\n",
      "fare              1\n",
      "cabin           659\n",
      "embarked          1\n",
      "boat            542\n",
      "body            777\n",
      "home.dest       386\n",
      "survived          0\n",
      "dtype: int64\n"
     ]
    }
   ],
   "source": [
    "import pandas as pd\n",
    "#fillna\n",
    "\n",
    "\n",
    "df=pd.read_csv(\"C:\\\\Users\\\\Krishna\\\\Desktop\\\\dataset\\\\titanic_train.csv\")\n",
    "df\n",
    "df.fillna(0)\n",
    "print(df.isna().sum())\n",
    "mean=df[\"age\"].mean()\n",
    "print(mean)\n",
    "df[\"age\"]=df[\"age\"].fillna(mean)\n",
    "print(df.isna().sum())"
   ]
  },
  {
   "cell_type": "code",
   "execution_count": 20,
   "metadata": {},
   "outputs": [
    {
     "name": "stdout",
     "output_type": "stream",
     "text": [
      "29.519847189349115\n",
      "passenger_id      0\n",
      "pclass            0\n",
      "name              0\n",
      "sex               0\n",
      "age               0\n",
      "sibsp             0\n",
      "parch             0\n",
      "ticket            0\n",
      "fare              1\n",
      "cabin           659\n",
      "embarked          1\n",
      "boat            542\n",
      "body            777\n",
      "home.dest       386\n",
      "survived          0\n",
      "dtype: int64\n"
     ]
    }
   ],
   "source": [
    "df=pd.read_csv(\"C:\\\\Users\\\\Krishna\\\\Desktop\\\\dataset\\\\titanic_train.csv\")\n",
    "df\n",
    "median=df[\"age\"].median()\n",
    "print(mean)\n",
    "df[\"age\"]=df[\"age\"].fillna(median)\n",
    "print(df.isna().sum())"
   ]
  },
  {
   "cell_type": "code",
   "execution_count": 21,
   "metadata": {},
   "outputs": [
    {
     "data": {
      "text/plain": [
       "0    4\n",
       "dtype: object"
      ]
     },
     "execution_count": 21,
     "metadata": {},
     "output_type": "execute_result"
    }
   ],
   "source": [
    "df[\"boat\"].mode()"
   ]
  },
  {
   "cell_type": "code",
   "execution_count": 23,
   "metadata": {},
   "outputs": [
    {
     "name": "stdout",
     "output_type": "stream",
     "text": [
      "29.519847189349115\n",
      "passenger_id      0\n",
      "pclass            0\n",
      "name              0\n",
      "sex               0\n",
      "age               0\n",
      "sibsp             0\n",
      "parch             0\n",
      "ticket            0\n",
      "fare              1\n",
      "cabin           659\n",
      "embarked          1\n",
      "boat              0\n",
      "body            777\n",
      "home.dest       386\n",
      "survived          0\n",
      "dtype: int64\n"
     ]
    }
   ],
   "source": [
    "mode=df[\"boat\"].mode()\n",
    "print(mean)\n",
    "df[\"boat\"]=df[\"boat\"].fillna(4)\n",
    "print(df.isna().sum())"
   ]
  },
  {
   "cell_type": "code",
   "execution_count": 26,
   "metadata": {},
   "outputs": [
    {
     "ename": "SyntaxError",
     "evalue": "invalid syntax (<ipython-input-26-7eb4d442bd66>, line 2)",
     "output_type": "error",
     "traceback": [
      "\u001b[1;36m  File \u001b[1;32m\"<ipython-input-26-7eb4d442bd66>\"\u001b[1;36m, line \u001b[1;32m2\u001b[0m\n\u001b[1;33m    print(df.isna().sum())\u001b[0m\n\u001b[1;37m    ^\u001b[0m\n\u001b[1;31mSyntaxError\u001b[0m\u001b[1;31m:\u001b[0m invalid syntax\n"
     ]
    }
   ],
   "source": [
    "df[\"embarked\"]=df[\"embarked\"].fillna(df([\"embarked\"].mode()[0])\n",
    "print(df.isna().sum())"
   ]
  },
  {
   "cell_type": "code",
   "execution_count": 28,
   "metadata": {},
   "outputs": [
    {
     "name": "stdout",
     "output_type": "stream",
     "text": [
      "   rol name  marks\n",
      "0    1    a   11.0\n",
      "1    2    b   12.0\n",
      "2    3    c    NaN\n",
      "3    4    d   14.0\n",
      "4    5    e   15.0\n",
      "   rol name  marks\n",
      "0    1    a   11.0\n",
      "1    2    b   12.0\n",
      "2    3    c   12.0\n",
      "3    4    d   14.0\n",
      "4    5    e   15.0\n"
     ]
    }
   ],
   "source": [
    "import pandas as pd\n",
    "df=pd.read_csv(\"data.csv\")\n",
    "print(df)                                   #pad-->previous data\n",
    "#forward fill\n",
    "df=df.fillna(method=\"pad\")\n",
    "print(df)"
   ]
  },
  {
   "cell_type": "code",
   "execution_count": 31,
   "metadata": {},
   "outputs": [
    {
     "name": "stdout",
     "output_type": "stream",
     "text": [
      "   rol name  marks\n",
      "0    1    a    NaN\n",
      "1    2    b   12.0\n",
      "2    3    c    NaN\n",
      "3    4    d   14.0\n",
      "4    5    e   15.0\n",
      "   rol name  marks\n",
      "0    1    a   12.0\n",
      "1    2    b   12.0\n",
      "2    3    c   14.0\n",
      "3    4    d   14.0\n",
      "4    5    e   15.0\n"
     ]
    }
   ],
   "source": [
    "import pandas as pd\n",
    "df=pd.read_csv(\"data.csv\")\n",
    "print(df)                                   #bfill-->previous data\n",
    "#forward fill\n",
    "df[\"marks\"]=df['marks'].fillna(method=\"bfill\")\n",
    "print(df)"
   ]
  },
  {
   "cell_type": "code",
   "execution_count": 37,
   "metadata": {},
   "outputs": [
    {
     "name": "stdout",
     "output_type": "stream",
     "text": [
      "   rol name  marks\n",
      "0    1    a    NaN\n",
      "1    2    b   12.0\n",
      "2    3    c    NaN\n",
      "3    4    d   14.0\n",
      "4    5    e   15.0\n",
      "   rol name  marks\n",
      "0    1  abc    NaN\n",
      "1    2    b   12.0\n",
      "2    3    c    NaN\n",
      "3    4    d   14.0\n",
      "4    5    e   15.0\n",
      "   rol name  marks\n",
      "0    1  abc    NaN\n",
      "1    2    b   12.0\n",
      "2    3    c    NaN\n",
      "3    4    d   14.0\n",
      "4    5    e   15.0\n"
     ]
    }
   ],
   "source": [
    "#replace\n",
    "import pandas as pd\n",
    "df=pd.read_csv(\"data.csv\")\n",
    "print(df)  \n",
    "df=df.replace({\"a\":\"abc\"})      #common for a\n",
    "print(df)\n",
    "\n",
    "df[\"name\"]=df[\"name\"].replace({\"a\":\"abc\"})    #its only for name column\n",
    "print(df)"
   ]
  },
  {
   "cell_type": "code",
   "execution_count": 39,
   "metadata": {},
   "outputs": [
    {
     "name": "stdout",
     "output_type": "stream",
     "text": [
      "rol        1\n",
      "name     abc\n",
      "marks      0\n",
      "Name: 0, dtype: object\n"
     ]
    }
   ],
   "source": [
    "\n",
    "print(df.iloc[0,:].fillna(0))       #accessing first row"
   ]
  },
  {
   "cell_type": "code",
   "execution_count": 40,
   "metadata": {},
   "outputs": [
    {
     "data": {
      "text/plain": [
       "<bound method DataFrame.isna of    rol name  marks\n",
       "0    1  abc    NaN\n",
       "1    2    b   12.0\n",
       "2    3    c    NaN\n",
       "3    4    d   14.0\n",
       "4    5    e   15.0>"
      ]
     },
     "execution_count": 40,
     "metadata": {},
     "output_type": "execute_result"
    }
   ],
   "source": [
    "df."
   ]
  },
  {
   "cell_type": "code",
   "execution_count": null,
   "metadata": {},
   "outputs": [],
   "source": [
    "#groupby                                              Homework\n",
    "teams=df.groupby(\"team\")     # pass by column\n",
    "print(teams.groups)                         \n",
    "\n",
    "print(teams.get_group(\" Kings\"))       #charactor pass by \" \" or int (int value)\n",
    "print(teams.mean())\n",
    "print(teams.count())\n",
    "print(teams.min())\n",
    "print(teams.max())\n",
    "print(teams.sum())"
   ]
  }
 ],
 "metadata": {
  "kernelspec": {
   "display_name": "Python 3",
   "language": "python",
   "name": "python3"
  },
  "language_info": {
   "codemirror_mode": {
    "name": "ipython",
    "version": 3
   },
   "file_extension": ".py",
   "mimetype": "text/x-python",
   "name": "python",
   "nbconvert_exporter": "python",
   "pygments_lexer": "ipython3",
   "version": "3.8.3"
  }
 },
 "nbformat": 4,
 "nbformat_minor": 4
}
