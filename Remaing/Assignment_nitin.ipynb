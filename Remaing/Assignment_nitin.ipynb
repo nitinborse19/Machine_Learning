{
 "cells": [
  {
   "cell_type": "markdown",
   "metadata": {},
   "source": [
    "# Arrays and DataFrame\n",
    "\n",
    "## Due Tuesday,March 24\n",
    "\n",
    "\n",
    "\n",
    "First, set up imports by running the cell below."
   ]
  },
  {
   "cell_type": "code",
   "execution_count": 1,
   "metadata": {},
   "outputs": [],
   "source": [
    "import math\n",
    "import pandas as pd\n",
    "import matplotlib.pyplot as plt\n",
    "import seaborn as sns"
   ]
  },
  {
   "cell_type": "markdown",
   "metadata": {},
   "source": [
    "# 1. Arrays\n",
    "\n",
    "As data scientists, we'll often be working with millions or even billions of numbers. For this, we need something faster than a `list`. Instead of lists, we will use *arrays*. \n",
    "\n",
    "Arrays are provided by a package called [NumPy](http://www.numpy.org/) .  The package is called `numpy`, but it's standard to rename it `np` for brevity.  You can do that with:\n",
    "\n",
    "    import numpy as np\n"
   ]
  },
  {
   "cell_type": "code",
   "execution_count": null,
   "metadata": {},
   "outputs": [],
   "source": [
    "import numpy as np"
   ]
  },
  {
   "cell_type": "markdown",
   "metadata": {},
   "source": [
    "**Question 1.1** Use `np.arange` to create an array with the multiples of 99 from 0 up to (**and including**) 9999.  (So its elements are 0, 99, 198, 297, etc.)"
   ]
  },
  {
   "cell_type": "code",
   "execution_count": null,
   "metadata": {},
   "outputs": [],
   "source": [
    "#your Code\n",
    "\n",
    "\n"
   ]
  },
  {
   "cell_type": "markdown",
   "metadata": {},
   "source": [
    "**Question 1.2.** Create an array of the time, in seconds, since the start of the month at which each hourly reading was taken. Name it collection_times.\n",
    "\n",
    "Hint 1: There were 31 days in December, which is equivalent to (31×24\n",
    ") hours or (31×24×60×60) seconds. So your array should have 31×24\n",
    "\n",
    "elements in it.\n",
    "\n",
    "Hint 2: The len function works on arrays, too. check its length and make sure it has 31×24\n",
    "elements."
   ]
  },
  {
   "cell_type": "code",
   "execution_count": 3,
   "metadata": {},
   "outputs": [],
   "source": [
    "#your code\n",
    "\n",
    "\n",
    "\n"
   ]
  },
  {
   "attachments": {
    "image.png": {
     "image/png": "[encoded data removed]"
    }
   },
   "cell_type": "markdown",
   "metadata": {},
   "source": [
    "**Question 1.3** The powers of 2 ($2^0 = 1$, $2^1 = 2$, $2^2 = 4$, etc) arise frequently in computer science.  (For example, you may have noticed that storage on smartphones or USBs come in powers of 2, like 16 GB, 32 GB, or 64 GB.)  Use `np.arange` and the exponentiation operator `**` to compute the first 30 powers of 2, starting from `2^0`.\n",
    "\n",
    "*Hint*: Did your kernel \"die\" when you ran your solution? There is a common incorrect response to this problem that tries to create an array with so many entries that Python gives up. If this happens to you, double-check your answer!\n",
    "\n",
    "**Expected Output**\n",
    "![image.png](attachment:image.png)"
   ]
  },
  {
   "cell_type": "code",
   "execution_count": null,
   "metadata": {},
   "outputs": [],
   "source": [
    "#your code Here\n",
    "\n",
    "\n",
    "\n"
   ]
  },
  {
   "cell_type": "markdown",
   "metadata": {},
   "source": [
    "**Question 1.4** Get all items between 5 and 10 from a.\n",
    "\n",
    "Input:\n",
    "\n",
    "a = np.array([2, 6, 1, 9, 10, 3, 27])\n",
    "<br>\n",
    "<br>\n",
    "Desired Output:\n",
    "\n",
    "(array([6, 9, 10]),)"
   ]
  },
  {
   "cell_type": "code",
   "execution_count": null,
   "metadata": {},
   "outputs": [],
   "source": [
    "#your code here\n",
    "\n"
   ]
  },
  {
   "cell_type": "markdown",
   "metadata": {},
   "source": [
    "**Question 1.5** Create the following pattern without hardcoding. Use only numpy functions and the below input array a.\n",
    "\n",
    "Input:\n",
    "\n",
    "a = np.array([1,2,3])`\n",
    "\n",
    "Desired Output:\n",
    "\n",
    "array([1, 1, 1, 2, 2, 2, 3, 3, 3, 1, 2, 3, 1, 2, 3, 1, 2, 3])\n",
    "<br>\n",
    "<br>\n",
    "Hint:You may use numpy repeat,tile\n"
   ]
  },
  {
   "cell_type": "code",
   "execution_count": null,
   "metadata": {},
   "outputs": [],
   "source": [
    "#your code here\n",
    "\n"
   ]
  },
  {
   "cell_type": "markdown",
   "metadata": {},
   "source": [
    "# 2. Pandas DataFrames"
   ]
  },
  {
   "cell_type": "markdown",
   "metadata": {},
   "source": [
    "For a collection of things in the world, an array is useful for describing a single attribute of each thing. For example, among the collection of Indian States, an array could describe the land area of each. Dataframes extend this idea by describing multiple attributes for each element of a collection.\n",
    "\n",
    "In most data science applications, we have data about many entities, but we also have several kinds of data about each entity."
   ]
  },
  {
   "attachments": {
    "image.png": {
     "image/png": "[encoded data removed]"
    }
   },
   "cell_type": "markdown",
   "metadata": {},
   "source": [
    "**Question 2.1** In the cell below, we've created 2 arrays. Using the steps above, assign `top_10_movies` to a DataFrame that has two columns called \"Rating\" and \"Name\", which hold `top_10_movie_ratings` and `top_10_movie_names` respectively.\n",
    "\n",
    "**Expected Output**\n",
    "![image.png](attachment:image.png)"
   ]
  },
  {
   "cell_type": "code",
   "execution_count": 4,
   "metadata": {},
   "outputs": [],
   "source": [
    "top_10_movie_ratings = np.array([9.2, 9.2, 9., 8.9, 8.9, 8.9, 8.9, 8.9, 8.9, 8.8])\n",
    "top_10_movie_names = np.array([\n",
    "        'The Shawshank Redemption (1994)',\n",
    "        'The Godfather (1972)',\n",
    "        'The Godfather: Part II (1974)',\n",
    "        'Pulp Fiction (1994)',\n",
    "        \"Schindler's List (1993)\",\n",
    "        'The Lord of the Rings: The Return of the King (2003)',\n",
    "        '12 Angry Men (1957)',\n",
    "        'The Dark Knight (2008)',\n",
    "        'Il buono, il brutto, il cattivo (1966)',\n",
    "        'The Lord of the Rings: The Fellowship of the Ring (2001)'\n",
    "])"
   ]
  },
  {
   "cell_type": "code",
   "execution_count": null,
   "metadata": {},
   "outputs": [],
   "source": [
    "#your Code\n",
    "\n",
    "\n"
   ]
  },
  {
   "cell_type": "code",
   "execution_count": null,
   "metadata": {},
   "outputs": [],
   "source": [
    "my_ranking = [8, 2, 1, 9, 7, 10, 6, 4, 3, 5]"
   ]
  },
  {
   "cell_type": "markdown",
   "metadata": {},
   "source": [
    "**Question 2.2**  Create a new DataFrame called `with_ranking` by adding a column named \"Ranking\" to the table in `top_10_movies`."
   ]
  },
  {
   "cell_type": "code",
   "execution_count": 5,
   "metadata": {},
   "outputs": [],
   "source": [
    "#your code here"
   ]
  },
  {
   "cell_type": "markdown",
   "metadata": {},
   "source": [
    "##  Functions and CEO Incomes\n",
    "\n",
    "Let's start with a real data analysis task.  We'll look at the 2015 compensation of CEOs at the 100 largest companies in California.  The data were compiled for a Los Angeles Times analysis [here](http://spreadsheets.latimes.com/california-ceo-compensation/), and ultimately came from [filings](https://www.sec.gov/answers/proxyhtf.htm) mandated by the SEC from all publicly-traded companies.  Two companies have two CEOs, so there are 102 CEOs in the dataset.\n"
   ]
  },
  {
   "cell_type": "code",
   "execution_count": null,
   "metadata": {},
   "outputs": [],
   "source": [
    "raw_compensation = bpd.read_csv('data/raw_compensation.csv').set_index('Rank')\n",
    "raw_compensation"
   ]
  },
  {
   "cell_type": "markdown",
   "metadata": {},
   "source": [
    "**Question 2.3** You should have found that the values in \"Total Pay\" column are strings (text). It doesn't make sense to take the average of the text values, so we need to convert them to numbers if we want to do this. Extract the first value in the \"Total Pay\" column.  It's Mark Hurd's pay in 2015, in *millions* of dollars.  Call it `mark_hurd_pay_string`."
   ]
  },
  {
   "cell_type": "code",
   "execution_count": null,
   "metadata": {},
   "outputs": [],
   "source": [
    "#your code here"
   ]
  },
  {
   "cell_type": "markdown",
   "metadata": {},
   "source": [
    "**Question 2.3.1** Using code, `mark_hurd_pay_string` to a number of *dollars*. \n",
    "<br>Hint: you can use split method."
   ]
  },
  {
   "cell_type": "code",
   "execution_count": null,
   "metadata": {},
   "outputs": [],
   "source": [
    "#your code here"
   ]
  },
  {
   "cell_type": "markdown",
   "metadata": {},
   "source": [
    "To compute the average pay, we need to do this for every CEO. But that looks like it would involve copying this code 102 times.\n",
    "<br>**Question 2.3.2.** Copy the expression you used to compute `mark_hurd_pay` as the `return` expression of the function below, but replace the specific `mark_hurd_pay_string` with the generic `pay_string` name specified in the first line of the `def` statement."
   ]
  },
  {
   "cell_type": "code",
   "execution_count": null,
   "metadata": {},
   "outputs": [],
   "source": [
    "#your code here"
   ]
  },
  {
   "cell_type": "code",
   "execution_count": null,
   "metadata": {},
   "outputs": [],
   "source": [
    "#run this cell to check if your code is correct"
   ]
  },
  {
   "cell_type": "code",
   "execution_count": null,
   "metadata": {},
   "outputs": [],
   "source": [
    "convert_pay_string_to_number('$42')"
   ]
  },
  {
   "cell_type": "markdown",
   "metadata": {},
   "source": [
    "**Question 2.3.3** Using apply, make a Daatframe that's a copy of raw_compensation with one more column called \"Total_Pay_Dollars\". It should be the result of applying convert_pay_string_to_number to the \"Total Pay\" column, as we did above. Call the new df compensation."
   ]
  },
  {
   "cell_type": "markdown",
   "metadata": {},
   "source": [
    "**Question 2.4.** Companies pay executives in a variety of ways: directly in cash; by granting stock or other \"equity\" in the company; or with ancillary benefits (like private jets).  Compute the proportion of each CEO's pay that was cash.  (Your answer should be an array of numbers, one for each CEO in the dataset.)"
   ]
  },
  {
   "cell_type": "code",
   "execution_count": null,
   "metadata": {},
   "outputs": [],
   "source": [
    "#your code here"
   ]
  },
  {
   "cell_type": "markdown",
   "metadata": {},
   "source": [
    "##### Alright, back to our CEOs.  Check out the \"% Change\" column in `compensation`.  It shows the percentage increase in the CEO's pay from the previous year.  For CEOs with no previous year on record, it instead says \"(No previous year)\".  The values in this column are *strings*, not numbers, so like the \"Total Pay\" column, it's not usable without a bit of extra work.\n",
    "\n",
    "Given your current pay and the percentage increase from the previous year, you can compute your previous year's pay.  For example, if your pay is \\\\$100 this year, and that's an increase of 50% from the previous year, then your previous year's pay was $\\frac{\\$100}{1 + \\frac{50}{100}}$, or around \\$66.66.\n",
    "\n",
    "**Question 2.5.** Create a new table called `with_previous_compensation`.  It should be a copy of `compensation`, but with the \"(No previous year)\" CEOs filtered out, and with an extra column called \"Previous_Total_Pay\".  That column should have each CEO's pay in 2014.\n",
    "\n",
    "*Hint:* This question takes several steps, but each one is still something you've seen before.  Take it one step at a time, using as many lines as you need.  You can print out your results after each step to make sure you're on the right track.\n",
    "\n",
    "*Hint 2:* You'll need to define a function to convert percentage strings, like `-15%`, to numbers.  You can do that just above your other code.\n",
    "\n",
    "*Hint 3:* If you see an error saying \"unsupported operand type(s) for +: 'int' and 'Series'\", try switching the order of your operation. Instead of writing something like `1 + series`, write `series + 1`."
   ]
  },
  {
   "cell_type": "code",
   "execution_count": null,
   "metadata": {},
   "outputs": [],
   "source": [
    "#your code Here"
   ]
  },
  {
   "cell_type": "markdown",
   "metadata": {},
   "source": [
    "## 3. Data Cleaning"
   ]
  },
  {
   "cell_type": "code",
   "execution_count": null,
   "metadata": {},
   "outputs": [],
   "source": [
    "gfm_data = bpd.read_csv('data/gfm_data.csv')\n",
    "gfm_data"
   ]
  },
  {
   "cell_type": "markdown",
   "metadata": {},
   "source": [
    "Here, each row represents a different fundraiser, also called a campaign. \n",
    "\n",
    "There are nine columns of data, reading from left to right:\n",
    "\n",
    "1. `Category`: Describes the type of fundraiser. There are 14 different categories of fundraiser represented in our dataset: 'Animals', 'Business', 'Community', 'Competition', 'Creative', 'Emergency', 'Event', 'Faith', 'Family', 'Medical', 'Memorial', 'Newlywed', 'Sports', and 'Wishes'.\n",
    "\n",
    "2. `Title`: The title of the fundraiser, which describes the fundraiser in a few words.\n",
    "\n",
    "3. `Location`: The location where the fundraiser takes place, stored as \"city, state\", e.g. \"San Diego, CA\".\n",
    "\n",
    "4. `Amount_Raised`: The total amount of money donated, measured in dollars.\n",
    "\n",
    "5. `Goal`: The total amount of money that the fundraiser originally hopes to receive (measured in dollars).\n",
    "\n",
    "6. `Days_of_Fundraising`: The number of days for which the fundraiser has been actively soliciting donations.\n",
    "\n",
    "7. `Number_of_Donors`: The number of people who donated to the fundraiser. \n",
    "\n",
    "8. `FB_Shares`: The number of times the fundraiser has been shared through Facebook. \n",
    "\n",
    "9. `Text`: The text description that accompanies the fundraiser, usually describing why funds are being raised.\n",
    "\n",
    "In the `Number_of_Donors` column and the `FB_Shares` column, entries are stored as strings, and large numbers are abbreviated by using \"K\" to indicate thousands. For example, an entry `3K` would correspond to 3 * 1000 = 3000.\n",
    "\n",
    "Note that much of the data for each fundraiser is determined by the user who creates the campaign. When creating a campaign, the user selects an appropriate category and title, chooses the location, sets the fundraising goal, and adds the text description. "
   ]
  },
  {
   "cell_type": "markdown",
   "metadata": {},
   "source": [
    "As a data scientist, data cleaning is where you will spend a significant portion of your time. This project is no different!\n",
    "\n",
    "Let's start by examining the `Number_of_Donors` and `FB_Shares` columns. The values in these columns are strings, not integers, so we can't actually do things like compare values numerically. Moreover, some values are in thousands, such as '72.5K', and others are fewer than 1000, such as '366'. Let's get this data in a more usable format.\n",
    "\n",
    "**Question 3.1.1** Define a function named `convert_units` which converts a string representation of a number to an integer. This function should work whether or not the string representation has a ‘K’ in it (representing thousands).\n",
    "\n",
    "*Hint*: Use a [string method](https://docs.python.org/3/library/stdtypes.html#string-methods) to deal with the 'K'."
   ]
  },
  {
   "cell_type": "code",
   "execution_count": null,
   "metadata": {},
   "outputs": [],
   "source": [
    "#your code\n",
    "def convert_units(string_rep):\n",
    "    ..."
   ]
  },
  {
   "cell_type": "markdown",
   "metadata": {},
   "source": [
    "**Question 3.1.2.** Overwrite the columns for `Number_of_Donors` and `FB_Shares` with columns of the same name, but containing integers instead of strings. The dataframe should still be named `gfm_data`.\n",
    "\n",
    "*Note*: The names of all the columns **must** stay the same and the order of the columns **must** stay the same."
   ]
  },
  {
   "cell_type": "markdown",
   "metadata": {},
   "source": [
    "Next, let's add some columns derived from existing columns. \n",
    "\n",
    "**Question 3.2.** Create a new dataframe called `gfm_campaigns` that has the same columns as `gfm`, plus two more:\n",
    "\n",
    "1. `Proportion_Raised`, which has the proportion of the overall goal that the campaign raised. This proportion should be rounded (not truncated) to **3** decimal places. \n",
    "2. `Average_Donation_Amount`, which has the average donation amount per donor. Since this is a dollar amount, it should be rounded (not truncated) to **2** decimal places."
   ]
  },
  {
   "cell_type": "code",
   "execution_count": null,
   "metadata": {},
   "outputs": [],
   "source": [
    "#your code Here\n",
    "gfm_campaigns = ...\n",
    "gfm_campaigns"
   ]
  },
  {
   "cell_type": "markdown",
   "metadata": {},
   "source": [
    "**Question 3.3** Create a new dataframe called `gfm_success`, which has all the information from the `gfm_campaigns` dataframe plus a new column titled `How_Successful` that indicates how successful a campaign was, depending on its `Proportion_Raised`. If x is the proportion raised, we use the table below to define how successful a campaign is.\n",
    "\n",
    "| Range             | How_Successful |\n",
    "| ----------------- | ------------------ |\n",
    "| 0.0 $\\leq$ x $\\leq$ 0.20 | 'highly unsuccessful' |\n",
    "| 0.20 $<$ x $\\leq$ 0.50 | 'moderately unsuccessful' |\n",
    "| 0.50 $<$ x $\\leq$ 0.80 | 'moderately successful' |\n",
    "| 0.80 $<$ x $<$ 1.0 | 'highly successful' |\n",
    "| x $\\geq$ 1.0 | 'extremely successful' |"
   ]
  },
  {
   "cell_type": "code",
   "execution_count": null,
   "metadata": {},
   "outputs": [],
   "source": [
    "#your code Here\n"
   ]
  },
  {
   "cell_type": "markdown",
   "metadata": {},
   "source": [
    "Notice that the `Text` column contains the description of the campaign, which visitors to the campaign page will see. As part of this project, we'd like to explore what makes a description successful in raising money. For example, do longer descriptions raise more money or is better to keep things brief? Are there certain keywords like \"mother\" or \"father\" associated with better fundraising outcomes? To answer these types of questions, we'll need to look inside the `Text` column. The data cleaning below will help us extract the information we need more easily.\n",
    "\n",
    "**Question 3.4.** Create a new dataframe called `gfm`, which has all the information from the `gfm_success` dataframe plus a new column called `Num_Chars` with the length of the text description for each campaign, as an int."
   ]
  },
  {
   "cell_type": "code",
   "execution_count": null,
   "metadata": {},
   "outputs": [],
   "source": [
    "gfm = ...\n",
    "gfm"
   ]
  },
  {
   "cell_type": "markdown",
   "metadata": {},
   "source": [
    "**Question 3.5** Overwrite the `Text` column in the `gfm` dataframe so that all the descriptions appear in lowercase.\n",
    "\n",
    "*Hint:* Check out Python's built-in [string methods](https://docs.python.org/3/library/stdtypes.html#string-methods)."
   ]
  },
  {
   "cell_type": "code",
   "execution_count": null,
   "metadata": {},
   "outputs": [],
   "source": [
    "#your code here\n"
   ]
  },
  {
   "cell_type": "markdown",
   "metadata": {},
   "source": [
    "**Question 3.6.** Set `cutoff` to be the smallest number of characters for which we will consider a text description to be long, if we want the groups to be about the same size. \n",
    "\n",
    "*Hint*: We may not be able to split the dataset into groups of the exact same size. What is the best we can do? Use a measure of center."
   ]
  },
  {
   "cell_type": "code",
   "execution_count": null,
   "metadata": {},
   "outputs": [],
   "source": [
    "cutoff=..."
   ]
  },
  {
   "cell_type": "markdown",
   "metadata": {},
   "source": [
    "Now define a long description to be a description where the number of characters is ***at least*** as long as `cutoff` and a short description to be a description where the number of characters is less than `cutoff`. \n",
    "Make 2 dataframe for long and short"
   ]
  },
  {
   "cell_type": "code",
   "execution_count": null,
   "metadata": {},
   "outputs": [],
   "source": [
    "#your code Here"
   ]
  },
  {
   "cell_type": "markdown",
   "metadata": {},
   "source": [
    "Next, we can run some text analysis to determine whether specific words in the `Text` are associated with a higher or lower `Average_Donation_Amount`. More specifically, do donors find specific words found in the description of a campaign impactful? For example, we might conjecture that words relating to family like \"father\", \"daughter\", \"son\", etc. are associated with higher average donation amounts. \n",
    "\n",
    "Which *three* words do you think are impactful to donors? Store any three lowercase words you think are linked to higher average donations in a list called `impactful_words`. "
   ]
  },
  {
   "cell_type": "code",
   "execution_count": null,
   "metadata": {},
   "outputs": [],
   "source": [
    "impactful_words=..."
   ]
  },
  {
   "cell_type": "markdown",
   "metadata": {},
   "source": [
    "**Question 3.7** Create a new dataframe called `gfm_impactful`, which contains the information from `gfm` plus a column named `Has_Impactful` which is True/False depending whether the campaign contains at least one impactful word or not."
   ]
  },
  {
   "cell_type": "code",
   "execution_count": null,
   "metadata": {},
   "outputs": [],
   "source": [
    "#your code here\n",
    "gfm_impactful=..."
   ]
  },
  {
   "cell_type": "markdown",
   "metadata": {},
   "source": [
    "## 4. Google Play Store\n",
    "\n",
    "In this problem, we will explore the [Google Play Store Apps Dataset](https://www.kaggle.com/lava18/google-play-store-apps), scraped from the Google Play Store."
   ]
  },
  {
   "cell_type": "code",
   "execution_count": null,
   "metadata": {},
   "outputs": [],
   "source": [
    "# run this cell to load the data\n",
    "apps = bpd.read_csv('data/googleplaystore.csv')\n",
    "apps"
   ]
  },
  {
   "cell_type": "markdown",
   "metadata": {},
   "source": [
    "Each row in the table is an app. Here are descriptions of some of the columns.\n",
    "- **Category** Category the app belongs to\n",
    "- **Rating** Overall user rating of the app (as when scraped)\n",
    "- **Reviews** Number of user reviews for the app (as when scraped) \n",
    "- **Installs** Number of user downloads/installs for the app (as when scraped)\n",
    "\n",
    "Notice that we did not set the index, even though it looks like the app name would be a good candidate. This is because the app names are not unique! We can verify this with the help of a `numpy` function called `np.unique`. This function takes in an array and outputs an array with all duplicates removed.\n",
    "\n",
    "We see above that the table has 10,825 rows. This means that there are 10,825 apps in the dataset. But let's calculate how many unique names there are:"
   ]
  },
  {
   "cell_type": "code",
   "execution_count": null,
   "metadata": {},
   "outputs": [],
   "source": [
    "len(np.unique(apps.get('App')))"
   ]
  },
  {
   "cell_type": "markdown",
   "metadata": {},
   "source": [
    "So there must be duplicates!\n",
    "\n",
    "Because there are duplicates, the app name is not a good row label. In fact, there is no good row label in this case. In situations like this, we'll leave the index as-is."
   ]
  },
  {
   "cell_type": "markdown",
   "metadata": {},
   "source": [
    "**Question 4.1.** Assign `by_content` to a dataframe which counts the number of apps per Content Rating. List the Content Ratings alphabetically.\n",
    "<br>\n",
    "Hint:You can use groupby\n"
   ]
  },
  {
   "cell_type": "code",
   "execution_count": null,
   "metadata": {},
   "outputs": [],
   "source": [
    "#your code here"
   ]
  },
  {
   "cell_type": "markdown",
   "metadata": {},
   "source": [
    "**Question 4.2.** Compute the number of apps in the dataset that have 1.5 stars or lower, and save the result in `bad_apps` and compute the number of apps in the dataset that have 4 stars or higher, and save the results in `good_apps`."
   ]
  },
  {
   "cell_type": "code",
   "execution_count": null,
   "metadata": {},
   "outputs": [],
   "source": [
    "bad_apps=..."
   ]
  },
  {
   "cell_type": "code",
   "execution_count": null,
   "metadata": {},
   "outputs": [],
   "source": [
    "good_apps=..."
   ]
  },
  {
   "cell_type": "markdown",
   "metadata": {},
   "source": [
    "**Question 4.3.** How many apps listed have the word \"Google\" (with that exact capitalization) in the App name? Save the number as `google_apps`.\n",
    "\n",
    "Note: each row is a separate App and should be counted as such (even if the names are the same).\n",
    "\n"
   ]
  },
  {
   "cell_type": "code",
   "execution_count": null,
   "metadata": {},
   "outputs": [],
   "source": [
    "#your code here\n"
   ]
  },
  {
   "cell_type": "markdown",
   "metadata": {},
   "source": [
    "**Question 4.4.** Of the apps under the Category `COMMUNICATION`, get the `Content Rating` count for apps where the Rating is between or equal to 4 and 5 (inclusive). Return this as a table sorted by `count` (with greatest count at the top of the table) called `top_communication_apps`.\n",
    "\n",
    "Hint: creating two Dataframes may help. Even though it is possible to do this in one line, sometimes it's better to break up the tasks to make the overall process clearer. We will only check the final table though."
   ]
  },
  {
   "cell_type": "code",
   "execution_count": null,
   "metadata": {},
   "outputs": [],
   "source": [
    "#your code here"
   ]
  },
  {
   "cell_type": "markdown",
   "metadata": {},
   "source": [
    "**Question 4.5.** Create a table named `install_stats` which has a single column, `Installs`, which contains the mean number of install of apps in each type of content rating."
   ]
  },
  {
   "cell_type": "code",
   "execution_count": 3,
   "metadata": {},
   "outputs": [],
   "source": [
    "#your code here"
   ]
  },
  {
   "cell_type": "markdown",
   "metadata": {},
   "source": [
    "**Question4.6.** Suppose a good app is one with at least one million installs and a rating of at least 4.0. Create a variable called `best_category` containing the name of the category with the most good apps. "
   ]
  },
  {
   "cell_type": "code",
   "execution_count": null,
   "metadata": {},
   "outputs": [],
   "source": [
    "#your code here"
   ]
  },
  {
   "cell_type": "markdown",
   "metadata": {},
   "source": [
    "**Question 4.7.** Make a bar chart of the average rating by category in which the bars are sorted from smallest to largest."
   ]
  },
  {
   "cell_type": "code",
   "execution_count": 2,
   "metadata": {},
   "outputs": [],
   "source": [
    "#your code here"
   ]
  },
  {
   "cell_type": "markdown",
   "metadata": {},
   "source": [
    "## 5. Histograms\n",
    "Earlier, we computed the average pay among the CEOs in our 102-CEO dataset.  The average doesn't tell us everything about the amounts CEOs are paid, though.  Maybe just a few CEOs make the bulk of the money, even among these 102.\n"
   ]
  },
  {
   "cell_type": "markdown",
   "metadata": {},
   "source": [
    "**Question 5.1.** Make a histogram of the pay of the CEOs in compensation"
   ]
  },
  {
   "cell_type": "code",
   "execution_count": null,
   "metadata": {},
   "outputs": [],
   "source": [
    "#your code Here\n"
   ]
  },
  {
   "cell_type": "markdown",
   "metadata": {},
   "source": [
    "**Question 5.2.** Looking at the histogram, about how many CEOs made more than $30 million? Make a good guess. (Answer the question by filling in your answer manually. You'll have to do a bit of arithmetic; feel free to use Python as a calculator.)\n",
    "\n"
   ]
  },
  {
   "cell_type": "code",
   "execution_count": null,
   "metadata": {},
   "outputs": [],
   "source": [
    "#your code here\n",
    "num_ceos_more_than_30_million = ..."
   ]
  },
  {
   "cell_type": "markdown",
   "metadata": {},
   "source": [
    "**Question 5.3.** Answer the same question with code.\n"
   ]
  },
  {
   "cell_type": "code",
   "execution_count": null,
   "metadata": {},
   "outputs": [],
   "source": [
    "#your code here\n",
    "num_ceos_more_than_30_million_2=..."
   ]
  },
  {
   "cell_type": "markdown",
   "metadata": {},
   "source": [
    "Run the next cell if you want to see how far off you were."
   ]
  },
  {
   "cell_type": "code",
   "execution_count": null,
   "metadata": {},
   "outputs": [],
   "source": [
    "percent_diff = abs(num_ceos_more_than_30_million - num_ceos_more_than_30_million_2) / num_ceos_more_than_30_million_2\n",
    "print(\"Your guess was only\", percent_diff * 100, \"% off!\")"
   ]
  },
  {
   "cell_type": "markdown",
   "metadata": {},
   "source": [
    "### Finish Line"
   ]
  }
 ],
 "metadata": {
  "kernelspec": {
   "display_name": "Python 3",
   "language": "python",
   "name": "python3"
  },
  "language_info": {
   "codemirror_mode": {
    "name": "ipython",
    "version": 3
   },
   "file_extension": ".py",
   "mimetype": "text/x-python",
   "name": "python",
   "nbconvert_exporter": "python",
   "pygments_lexer": "ipython3",
   "version": "3.8.3"
  }
 },
 "nbformat": 4,
 "nbformat_minor": 4
}
