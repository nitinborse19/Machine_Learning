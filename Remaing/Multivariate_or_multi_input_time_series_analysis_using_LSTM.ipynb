{
  "nbformat": 4,
  "nbformat_minor": 0,
  "metadata": {
    "colab": {
      "name": "Multivariate or multi input time series analysis using LSTM.ipynb",
      "provenance": []
    },
    "kernelspec": {
      "name": "python3",
      "display_name": "Python 3"
    },
    "language_info": {
      "name": "python"
    }
  },
  "cells": [
    {
      "cell_type": "code",
      "metadata": {
        "id": "oZrTv3EYARCL"
      },
      "source": [
        "import pandas as pd\n",
        "import numpy as np\n",
        "import matplotlib.pyplot as plt"
      ],
      "execution_count": 1,
      "outputs": []
    },
    {
      "cell_type": "code",
      "metadata": {
        "id": "7HtsvxG-FdLD"
      },
      "source": [
        "col_1=np.array([10,20,30,40,50,60,70,80,90])\n",
        "col_2=np.array([15,25,35,45,55,65,75,85,95])"
      ],
      "execution_count": 2,
      "outputs": []
    },
    {
      "cell_type": "code",
      "metadata": {
        "id": "DOYA51cUGAqT"
      },
      "source": [
        "out=[]\n",
        "for i in range(len(col_1)):\n",
        "  out.append(col_1[i]+col_2[i])\n",
        "out_col=np.array(out)"
      ],
      "execution_count": 3,
      "outputs": []
    },
    {
      "cell_type": "code",
      "metadata": {
        "colab": {
          "base_uri": "https://localhost:8080/"
        },
        "id": "Kc5ZRs3wGe68",
        "outputId": "e5d78158-9a77-4572-d096-6f29712c7baa"
      },
      "source": [
        "out_col"
      ],
      "execution_count": 4,
      "outputs": [
        {
          "output_type": "execute_result",
          "data": {
            "text/plain": [
              "array([ 25,  45,  65,  85, 105, 125, 145, 165, 185])"
            ]
          },
          "metadata": {
            "tags": []
          },
          "execution_count": 4
        }
      ]
    },
    {
      "cell_type": "code",
      "metadata": {
        "colab": {
          "base_uri": "https://localhost:8080/"
        },
        "id": "UPAiRW5KGg_g",
        "outputId": "f78acfd6-348c-47f9-bbb3-9af80f7aa2ae"
      },
      "source": [
        "out_col=col_1+col_2\n",
        "out_col"
      ],
      "execution_count": 5,
      "outputs": [
        {
          "output_type": "execute_result",
          "data": {
            "text/plain": [
              "array([ 25,  45,  65,  85, 105, 125, 145, 165, 185])"
            ]
          },
          "metadata": {
            "tags": []
          },
          "execution_count": 5
        }
      ]
    },
    {
      "cell_type": "code",
      "metadata": {
        "id": "C0GFcnpeGmTs"
      },
      "source": [
        "col_1=col_1.reshape(len(col_1),1)\n",
        "col_2=col_2.reshape(len(col_1),1)\n",
        "out_col=out_col.reshape(len(col_1),1)"
      ],
      "execution_count": 6,
      "outputs": []
    },
    {
      "cell_type": "code",
      "metadata": {
        "id": "D2UsPHIqHAgv"
      },
      "source": [
        "data=np.hstack((col_1,col_2,out_col))"
      ],
      "execution_count": 7,
      "outputs": []
    },
    {
      "cell_type": "code",
      "metadata": {
        "colab": {
          "base_uri": "https://localhost:8080/"
        },
        "id": "bPbl_GyPHIr6",
        "outputId": "fd9f92ff-31bf-4f80-a67d-5a7df1e8ad86"
      },
      "source": [
        "data"
      ],
      "execution_count": 20,
      "outputs": [
        {
          "output_type": "execute_result",
          "data": {
            "text/plain": [
              "array([[ 10,  15,  25],\n",
              "       [ 20,  25,  45],\n",
              "       [ 30,  35,  65],\n",
              "       [ 40,  45,  85],\n",
              "       [ 50,  55, 105],\n",
              "       [ 60,  65, 125],\n",
              "       [ 70,  75, 145],\n",
              "       [ 80,  85, 165],\n",
              "       [ 90,  95, 185]])"
            ]
          },
          "metadata": {
            "tags": []
          },
          "execution_count": 20
        }
      ]
    },
    {
      "cell_type": "code",
      "metadata": {
        "id": "lAfCJozdHKSB"
      },
      "source": [
        "def feature_transform(n_steps,data):\n",
        "  x=[]\n",
        "  y=[]\n",
        "  for i in range(n_steps,len(data)+1):\n",
        "    x.append(data[i-n_steps:i,:-1])\n",
        "    y.append(data[i-1,-1])\n",
        "  return np.array(x),np.array(y)"
      ],
      "execution_count": 9,
      "outputs": []
    },
    {
      "cell_type": "code",
      "metadata": {
        "id": "Ejj1yX6BH7fO"
      },
      "source": [
        "n_steps=3\n",
        "x,y=feature_transform(n_steps,data)"
      ],
      "execution_count": 10,
      "outputs": []
    },
    {
      "cell_type": "code",
      "metadata": {
        "id": "nAKZ_U4JIDPy"
      },
      "source": [
        "x,y"
      ],
      "execution_count": null,
      "outputs": []
    },
    {
      "cell_type": "code",
      "metadata": {
        "colab": {
          "base_uri": "https://localhost:8080/"
        },
        "id": "teGJQ5r_IxdG",
        "outputId": "a5e3eced-9e0b-442a-fd48-6c2fbdd25d6b"
      },
      "source": [
        "x.shape"
      ],
      "execution_count": 12,
      "outputs": [
        {
          "output_type": "execute_result",
          "data": {
            "text/plain": [
              "(7, 3, 2)"
            ]
          },
          "metadata": {
            "tags": []
          },
          "execution_count": 12
        }
      ]
    },
    {
      "cell_type": "code",
      "metadata": {
        "id": "Tbz_NvO_IEdr"
      },
      "source": [
        "from keras.layers import Dense,LSTM\n",
        "from keras.models import Sequential\n",
        "model=Sequential()\n",
        "model.add(LSTM(50,activation='relu',input_shape=(n_steps,x.shape[2])))\n",
        "model.add(Dense(1))\n",
        "model.compile(optimizer='adam',loss=\"mse\")"
      ],
      "execution_count": 14,
      "outputs": []
    },
    {
      "cell_type": "code",
      "metadata": {
        "id": "fKtlXGzHJCYD"
      },
      "source": [
        "history=model.fit(x,y,epochs=100)"
      ],
      "execution_count": null,
      "outputs": []
    },
    {
      "cell_type": "code",
      "metadata": {
        "id": "TvAKqtXOO0Aa"
      },
      "source": [
        ""
      ],
      "execution_count": null,
      "outputs": []
    },
    {
      "cell_type": "code",
      "metadata": {
        "id": "CrT839F-JOUL"
      },
      "source": [
        "#testing\n",
        "xtest=np.array([[80,85],[90,95],[100,105]])\n",
        "xtest=xtest.reshape((1,3,2))"
      ],
      "execution_count": 18,
      "outputs": []
    },
    {
      "cell_type": "code",
      "metadata": {
        "colab": {
          "base_uri": "https://localhost:8080/"
        },
        "id": "qch8HVW0JqYp",
        "outputId": "d4d3cb56-0281-4215-c4ec-47b598efde18"
      },
      "source": [
        "ypred= model.predict(xtest)\n",
        "ypred"
      ],
      "execution_count": 19,
      "outputs": [
        {
          "output_type": "execute_result",
          "data": {
            "text/plain": [
              "array([[207.27235]], dtype=float32)"
            ]
          },
          "metadata": {
            "tags": []
          },
          "execution_count": 19
        }
      ]
    },
    {
      "cell_type": "code",
      "metadata": {
        "id": "CQ64mSY7Qwqu"
      },
      "source": [
        "train=pd.read_csv(\"/content/sample_data/Google_Stock_Price_Train.csv\")"
      ],
      "execution_count": 22,
      "outputs": []
    },
    {
      "cell_type": "code",
      "metadata": {
        "colab": {
          "base_uri": "https://localhost:8080/"
        },
        "id": "BO66_IQCSdm9",
        "outputId": "e6a4629c-0a6c-4522-b9f1-561574ded4e9"
      },
      "source": [
        "train.info()"
      ],
      "execution_count": 33,
      "outputs": [
        {
          "output_type": "stream",
          "text": [
            "<class 'pandas.core.frame.DataFrame'>\n",
            "RangeIndex: 1258 entries, 0 to 1257\n",
            "Data columns (total 6 columns):\n",
            " #   Column  Non-Null Count  Dtype  \n",
            "---  ------  --------------  -----  \n",
            " 0   Date    1258 non-null   object \n",
            " 1   Open    1258 non-null   float64\n",
            " 2   High    1258 non-null   float64\n",
            " 3   Low     1258 non-null   float64\n",
            " 4   Close   1258 non-null   object \n",
            " 5   Volume  1258 non-null   object \n",
            "dtypes: float64(3), object(3)\n",
            "memory usage: 59.1+ KB\n"
          ],
          "name": "stdout"
        }
      ]
    },
    {
      "cell_type": "code",
      "metadata": {
        "id": "CtqT4kDLRCK2"
      },
      "source": [
        "xtrain=train[[\"Open\",\"Close\"]]"
      ],
      "execution_count": 25,
      "outputs": []
    },
    {
      "cell_type": "code",
      "metadata": {
        "colab": {
          "base_uri": "https://localhost:8080/"
        },
        "id": "X3KJW-2PR4xX",
        "outputId": "225e5bdd-d167-404d-e1b7-932a9c38a49d"
      },
      "source": [
        "xtrain[\"Close\"]=xtrain[\"Close\"].apply(lambda x:float(x.replace(\",\",\"\")))"
      ],
      "execution_count": 28,
      "outputs": [
        {
          "output_type": "stream",
          "text": [
            "/usr/local/lib/python3.7/dist-packages/ipykernel_launcher.py:1: SettingWithCopyWarning: \n",
            "A value is trying to be set on a copy of a slice from a DataFrame.\n",
            "Try using .loc[row_indexer,col_indexer] = value instead\n",
            "\n",
            "See the caveats in the documentation: https://pandas.pydata.org/pandas-docs/stable/user_guide/indexing.html#returning-a-view-versus-a-copy\n",
            "  \"\"\"Entry point for launching an IPython kernel.\n"
          ],
          "name": "stderr"
        }
      ]
    },
    {
      "cell_type": "code",
      "metadata": {
        "id": "lasJqJoERQCz"
      },
      "source": [
        "from sklearn.preprocessing import MinMaxScaler\n",
        "sc=MinMaxScaler()\n",
        "sc_xtrain=sc.fit_transform(xtrain)"
      ],
      "execution_count": 29,
      "outputs": []
    },
    {
      "cell_type": "code",
      "metadata": {
        "id": "9DFMmXFqRu12"
      },
      "source": [
        "out_col=sc_xtrain[:,0]+sc_xtrain[:,1]"
      ],
      "execution_count": 36,
      "outputs": []
    },
    {
      "cell_type": "code",
      "metadata": {
        "colab": {
          "base_uri": "https://localhost:8080/"
        },
        "id": "TOt3EleUSUlM",
        "outputId": "45fe33de-b7e2-4cb3-93d4-469c4968d469"
      },
      "source": [
        "data=np.hstack((sc_xtrain[:,0].reshape((out_col.shape[0],1)),sc_xtrain[:,1].reshape((out_col.shape[0],1)),out_col.reshape((out_col.shape[0],1))))\n",
        "data"
      ],
      "execution_count": 42,
      "outputs": [
        {
          "output_type": "execute_result",
          "data": {
            "text/plain": [
              "array([[0.08581368, 0.23757287, 0.32338654],\n",
              "       [0.09701243, 0.24151427, 0.3385267 ],\n",
              "       [0.09433366, 0.22878051, 0.32311416],\n",
              "       ...,\n",
              "       [0.95725128, 0.40495845, 1.36220973],\n",
              "       [0.93796041, 0.40184391, 1.33980433],\n",
              "       [0.93688146, 0.38672602, 1.32360748]])"
            ]
          },
          "metadata": {
            "tags": []
          },
          "execution_count": 42
        }
      ]
    },
    {
      "cell_type": "code",
      "metadata": {
        "id": "gM-VF_a2TGdI"
      },
      "source": [
        "n_steps=12\n",
        "x_train,y_train=feature_transform(n_steps,data)"
      ],
      "execution_count": 43,
      "outputs": []
    },
    {
      "cell_type": "code",
      "metadata": {
        "colab": {
          "base_uri": "https://localhost:8080/"
        },
        "id": "dZ25qYtTUKwi",
        "outputId": "8126bcf0-4f30-4427-9702-7329761a9f40"
      },
      "source": [
        "x_train.shape"
      ],
      "execution_count": 46,
      "outputs": [
        {
          "output_type": "execute_result",
          "data": {
            "text/plain": [
              "(1247, 12, 2)"
            ]
          },
          "metadata": {
            "tags": []
          },
          "execution_count": 46
        }
      ]
    },
    {
      "cell_type": "code",
      "metadata": {
        "id": "cifX72VJT7pf"
      },
      "source": [
        "model=Sequential()\n",
        "model.add(LSTM(200,activation='relu',input_shape=(n_steps,x.shape[2])))\n",
        "model.add(Dense(1))\n",
        "model.compile(optimizer='adam',loss=\"mse\")"
      ],
      "execution_count": 47,
      "outputs": []
    },
    {
      "cell_type": "code",
      "metadata": {
        "colab": {
          "base_uri": "https://localhost:8080/"
        },
        "id": "6kGmBli3T96U",
        "outputId": "3f23ae8f-ae0d-4134-ced3-3505f5c6f69c"
      },
      "source": [
        "history=model.fit(x_train,y_train,epochs=100,batch_size=30)"
      ],
      "execution_count": 48,
      "outputs": [
        {
          "output_type": "stream",
          "text": [
            "Epoch 1/100\n",
            "42/42 [==============================] - 2s 27ms/step - loss: 0.2472\n",
            "Epoch 2/100\n",
            "42/42 [==============================] - 1s 26ms/step - loss: 0.0083\n",
            "Epoch 3/100\n",
            "42/42 [==============================] - 1s 26ms/step - loss: 0.0050\n",
            "Epoch 4/100\n",
            "42/42 [==============================] - 1s 28ms/step - loss: 0.0073\n",
            "Epoch 5/100\n",
            "42/42 [==============================] - 1s 26ms/step - loss: 0.0034\n",
            "Epoch 6/100\n",
            "42/42 [==============================] - 1s 27ms/step - loss: 0.0043\n",
            "Epoch 7/100\n",
            "42/42 [==============================] - 1s 27ms/step - loss: 0.0033\n",
            "Epoch 8/100\n",
            "42/42 [==============================] - 1s 26ms/step - loss: 0.0028\n",
            "Epoch 9/100\n",
            "42/42 [==============================] - 1s 26ms/step - loss: 0.0022\n",
            "Epoch 10/100\n",
            "42/42 [==============================] - 1s 27ms/step - loss: 0.0020\n",
            "Epoch 11/100\n",
            "42/42 [==============================] - 1s 26ms/step - loss: 0.0025\n",
            "Epoch 12/100\n",
            "42/42 [==============================] - 1s 27ms/step - loss: 0.0018\n",
            "Epoch 13/100\n",
            "42/42 [==============================] - 1s 27ms/step - loss: 0.0018\n",
            "Epoch 14/100\n",
            "42/42 [==============================] - 1s 27ms/step - loss: 0.0018\n",
            "Epoch 15/100\n",
            "42/42 [==============================] - 1s 26ms/step - loss: 0.0013\n",
            "Epoch 16/100\n",
            "42/42 [==============================] - 1s 26ms/step - loss: 0.0016\n",
            "Epoch 17/100\n",
            "42/42 [==============================] - 1s 26ms/step - loss: 0.0023\n",
            "Epoch 18/100\n",
            "42/42 [==============================] - 1s 27ms/step - loss: 0.0015\n",
            "Epoch 19/100\n",
            "42/42 [==============================] - 1s 27ms/step - loss: 0.0014\n",
            "Epoch 20/100\n",
            "42/42 [==============================] - 1s 27ms/step - loss: 0.0013\n",
            "Epoch 21/100\n",
            "42/42 [==============================] - 1s 27ms/step - loss: 0.0011\n",
            "Epoch 22/100\n",
            "42/42 [==============================] - 1s 26ms/step - loss: 0.0011\n",
            "Epoch 23/100\n",
            "42/42 [==============================] - 1s 26ms/step - loss: 0.0024\n",
            "Epoch 24/100\n",
            "42/42 [==============================] - 1s 26ms/step - loss: 0.0012\n",
            "Epoch 25/100\n",
            "42/42 [==============================] - 1s 26ms/step - loss: 0.0013\n",
            "Epoch 26/100\n",
            "42/42 [==============================] - 1s 27ms/step - loss: 7.7002e-04\n",
            "Epoch 27/100\n",
            "42/42 [==============================] - 1s 27ms/step - loss: 0.0011\n",
            "Epoch 28/100\n",
            "42/42 [==============================] - 1s 27ms/step - loss: 0.0012\n",
            "Epoch 29/100\n",
            "42/42 [==============================] - 1s 27ms/step - loss: 8.4916e-04\n",
            "Epoch 30/100\n",
            "42/42 [==============================] - 1s 27ms/step - loss: 0.0011\n",
            "Epoch 31/100\n",
            "42/42 [==============================] - 1s 27ms/step - loss: 9.5032e-04\n",
            "Epoch 32/100\n",
            "42/42 [==============================] - 1s 26ms/step - loss: 0.0010\n",
            "Epoch 33/100\n",
            "42/42 [==============================] - 1s 27ms/step - loss: 7.0008e-04\n",
            "Epoch 34/100\n",
            "42/42 [==============================] - 1s 27ms/step - loss: 0.0012\n",
            "Epoch 35/100\n",
            "42/42 [==============================] - 1s 27ms/step - loss: 3.9524e-04\n",
            "Epoch 36/100\n",
            "42/42 [==============================] - 1s 26ms/step - loss: 6.8378e-04\n",
            "Epoch 37/100\n",
            "42/42 [==============================] - 1s 27ms/step - loss: 4.6793e-04\n",
            "Epoch 38/100\n",
            "42/42 [==============================] - 1s 26ms/step - loss: 4.9006e-04\n",
            "Epoch 39/100\n",
            "42/42 [==============================] - 1s 26ms/step - loss: 4.6153e-04\n",
            "Epoch 40/100\n",
            "42/42 [==============================] - 1s 26ms/step - loss: 6.5832e-04\n",
            "Epoch 41/100\n",
            "42/42 [==============================] - 1s 26ms/step - loss: 5.8558e-04\n",
            "Epoch 42/100\n",
            "42/42 [==============================] - 1s 26ms/step - loss: 4.4166e-04\n",
            "Epoch 43/100\n",
            "42/42 [==============================] - 1s 27ms/step - loss: 6.8883e-04\n",
            "Epoch 44/100\n",
            "42/42 [==============================] - 1s 26ms/step - loss: 5.2887e-04\n",
            "Epoch 45/100\n",
            "42/42 [==============================] - 1s 27ms/step - loss: 4.6240e-04\n",
            "Epoch 46/100\n",
            "42/42 [==============================] - 1s 27ms/step - loss: 4.5403e-04\n",
            "Epoch 47/100\n",
            "42/42 [==============================] - 1s 27ms/step - loss: 4.3827e-04\n",
            "Epoch 48/100\n",
            "42/42 [==============================] - 1s 27ms/step - loss: 3.3847e-04\n",
            "Epoch 49/100\n",
            "42/42 [==============================] - 1s 27ms/step - loss: 3.7224e-04\n",
            "Epoch 50/100\n",
            "42/42 [==============================] - 1s 27ms/step - loss: 3.3037e-04\n",
            "Epoch 51/100\n",
            "42/42 [==============================] - 1s 26ms/step - loss: 3.2407e-04\n",
            "Epoch 52/100\n",
            "42/42 [==============================] - 1s 26ms/step - loss: 2.9816e-04\n",
            "Epoch 53/100\n",
            "42/42 [==============================] - 1s 26ms/step - loss: 3.5499e-04\n",
            "Epoch 54/100\n",
            "42/42 [==============================] - 1s 26ms/step - loss: 2.5780e-04\n",
            "Epoch 55/100\n",
            "42/42 [==============================] - 1s 26ms/step - loss: 1.9228e-04\n",
            "Epoch 56/100\n",
            "42/42 [==============================] - 1s 27ms/step - loss: 2.8191e-04\n",
            "Epoch 57/100\n",
            "42/42 [==============================] - 1s 28ms/step - loss: 2.1640e-04\n",
            "Epoch 58/100\n",
            "42/42 [==============================] - 1s 27ms/step - loss: 2.4694e-04\n",
            "Epoch 59/100\n",
            "42/42 [==============================] - 1s 27ms/step - loss: 2.4711e-04\n",
            "Epoch 60/100\n",
            "42/42 [==============================] - 1s 26ms/step - loss: 1.8835e-04\n",
            "Epoch 61/100\n",
            "42/42 [==============================] - 1s 27ms/step - loss: 2.3578e-04\n",
            "Epoch 62/100\n",
            "42/42 [==============================] - 1s 26ms/step - loss: 1.7875e-04\n",
            "Epoch 63/100\n",
            "42/42 [==============================] - 1s 26ms/step - loss: 1.4275e-04\n",
            "Epoch 64/100\n",
            "42/42 [==============================] - 1s 26ms/step - loss: 1.5915e-04\n",
            "Epoch 65/100\n",
            "42/42 [==============================] - 1s 27ms/step - loss: 1.8137e-04\n",
            "Epoch 66/100\n",
            "42/42 [==============================] - 1s 26ms/step - loss: 1.4966e-04\n",
            "Epoch 67/100\n",
            "42/42 [==============================] - 1s 28ms/step - loss: 1.9457e-04\n",
            "Epoch 68/100\n",
            "42/42 [==============================] - 1s 27ms/step - loss: 1.3205e-04\n",
            "Epoch 69/100\n",
            "42/42 [==============================] - 1s 27ms/step - loss: 1.2790e-04\n",
            "Epoch 70/100\n",
            "42/42 [==============================] - 1s 27ms/step - loss: 1.0662e-04\n",
            "Epoch 71/100\n",
            "42/42 [==============================] - 1s 27ms/step - loss: 1.9300e-04\n",
            "Epoch 72/100\n",
            "42/42 [==============================] - 1s 26ms/step - loss: 1.3136e-04\n",
            "Epoch 73/100\n",
            "42/42 [==============================] - 1s 27ms/step - loss: 9.0577e-05\n",
            "Epoch 74/100\n",
            "42/42 [==============================] - 1s 26ms/step - loss: 8.7170e-05\n",
            "Epoch 75/100\n",
            "42/42 [==============================] - 1s 27ms/step - loss: 1.0248e-04\n",
            "Epoch 76/100\n",
            "42/42 [==============================] - 1s 26ms/step - loss: 8.8585e-05\n",
            "Epoch 77/100\n",
            "42/42 [==============================] - 1s 26ms/step - loss: 1.0014e-04\n",
            "Epoch 78/100\n",
            "42/42 [==============================] - 1s 26ms/step - loss: 1.0363e-04\n",
            "Epoch 79/100\n",
            "42/42 [==============================] - 1s 26ms/step - loss: 8.9164e-05\n",
            "Epoch 80/100\n",
            "42/42 [==============================] - 1s 28ms/step - loss: 1.6481e-04\n",
            "Epoch 81/100\n",
            "42/42 [==============================] - 1s 26ms/step - loss: 1.3688e-04\n",
            "Epoch 82/100\n",
            "42/42 [==============================] - 1s 27ms/step - loss: 1.5922e-04\n",
            "Epoch 83/100\n",
            "42/42 [==============================] - 1s 27ms/step - loss: 7.4050e-05\n",
            "Epoch 84/100\n",
            "42/42 [==============================] - 1s 27ms/step - loss: 1.0217e-04\n",
            "Epoch 85/100\n",
            "42/42 [==============================] - 1s 27ms/step - loss: 6.6602e-05\n",
            "Epoch 86/100\n",
            "42/42 [==============================] - 1s 26ms/step - loss: 6.1250e-05\n",
            "Epoch 87/100\n",
            "42/42 [==============================] - 1s 27ms/step - loss: 6.1563e-05\n",
            "Epoch 88/100\n",
            "42/42 [==============================] - 1s 26ms/step - loss: 6.7296e-05\n",
            "Epoch 89/100\n",
            "42/42 [==============================] - 1s 26ms/step - loss: 4.0807e-05\n",
            "Epoch 90/100\n",
            "42/42 [==============================] - 1s 26ms/step - loss: 1.4813e-04\n",
            "Epoch 91/100\n",
            "42/42 [==============================] - 1s 26ms/step - loss: 4.7309e-05\n",
            "Epoch 92/100\n",
            "42/42 [==============================] - 1s 26ms/step - loss: 5.6506e-05\n",
            "Epoch 93/100\n",
            "42/42 [==============================] - 1s 27ms/step - loss: 1.8484e-04\n",
            "Epoch 94/100\n",
            "42/42 [==============================] - 1s 26ms/step - loss: 1.1219e-04\n",
            "Epoch 95/100\n",
            "42/42 [==============================] - 1s 26ms/step - loss: 5.9069e-05\n",
            "Epoch 96/100\n",
            "42/42 [==============================] - 1s 27ms/step - loss: 6.4316e-05\n",
            "Epoch 97/100\n",
            "42/42 [==============================] - 1s 27ms/step - loss: 4.2176e-05\n",
            "Epoch 98/100\n",
            "42/42 [==============================] - 1s 27ms/step - loss: 4.2341e-05\n",
            "Epoch 99/100\n",
            "42/42 [==============================] - 1s 27ms/step - loss: 3.6307e-05\n",
            "Epoch 100/100\n",
            "42/42 [==============================] - 1s 28ms/step - loss: 1.1241e-04\n"
          ],
          "name": "stdout"
        }
      ]
    },
    {
      "cell_type": "code",
      "metadata": {
        "colab": {
          "base_uri": "https://localhost:8080/",
          "height": 298
        },
        "id": "G2-YaA5aUcni",
        "outputId": "4b02c4a9-7e3f-4ce7-91cc-0eee972aac50"
      },
      "source": [
        "plt.plot(history.history[\"loss\"])\n",
        "plt.xlabel(\"Epochs\")\n",
        "plt.ylabel(\"Loss\")"
      ],
      "execution_count": 49,
      "outputs": [
        {
          "output_type": "execute_result",
          "data": {
            "text/plain": [
              "Text(0, 0.5, 'Loss')"
            ]
          },
          "metadata": {
            "tags": []
          },
          "execution_count": 49
        },
        {
          "output_type": "display_data",
          "data": {
            "image/png": "[encoded data removed]",
            "text/plain": [
              "<Figure size 432x288 with 1 Axes>"
            ]
          },
          "metadata": {
            "tags": [],
            "needs_background": "light"
          }
        }
      ]
    },
    {
      "cell_type": "code",
      "metadata": {
        "id": "m93D58RhVHA2"
      },
      "source": [
        "test=pd.read_csv(\"/content/sample_data/Google_Stock_Price_Test.csv\")"
      ],
      "execution_count": 50,
      "outputs": []
    },
    {
      "cell_type": "code",
      "metadata": {
        "colab": {
          "base_uri": "https://localhost:8080/"
        },
        "id": "AUAZaRmHVSwo",
        "outputId": "6d1670c9-492e-4d7e-95a5-7263c29d11dd"
      },
      "source": [
        "xtest=test[[\"Open\",\"Close\"]]\n",
        "xtest.info()"
      ],
      "execution_count": 52,
      "outputs": [
        {
          "output_type": "stream",
          "text": [
            "<class 'pandas.core.frame.DataFrame'>\n",
            "RangeIndex: 20 entries, 0 to 19\n",
            "Data columns (total 2 columns):\n",
            " #   Column  Non-Null Count  Dtype  \n",
            "---  ------  --------------  -----  \n",
            " 0   Open    20 non-null     float64\n",
            " 1   Close   20 non-null     float64\n",
            "dtypes: float64(2)\n",
            "memory usage: 448.0 bytes\n"
          ],
          "name": "stdout"
        }
      ]
    },
    {
      "cell_type": "code",
      "metadata": {
        "id": "yImLWaBzVhX1"
      },
      "source": [
        "sc_xtest=sc.fit_transform(xtest)"
      ],
      "execution_count": 55,
      "outputs": []
    },
    {
      "cell_type": "code",
      "metadata": {
        "id": "bDSV4CchV184"
      },
      "source": [
        "out_col=sc_xtest[:,0]+sc_xtest[:,1]"
      ],
      "execution_count": 80,
      "outputs": []
    },
    {
      "cell_type": "code",
      "metadata": {
        "id": "qmE2R4UzWFi8"
      },
      "source": [
        "test_data=np.hstack((sc_xtest[:,0].reshape(out_col.shape[0],1),sc_xtest[:,1].reshape(out_col.shape[0],1),out_col.reshape(out_col.shape[0],1)))"
      ],
      "execution_count": 57,
      "outputs": []
    },
    {
      "cell_type": "code",
      "metadata": {
        "id": "ox3B3numWeQV"
      },
      "source": [
        "x_test,y_test=feature_transform(n_steps,test_data)"
      ],
      "execution_count": 59,
      "outputs": []
    },
    {
      "cell_type": "code",
      "metadata": {
        "colab": {
          "base_uri": "https://localhost:8080/"
        },
        "id": "RqS1xmU-Wfwp",
        "outputId": "2d86be88-5220-4dd7-dcc3-7f8c87b45eaa"
      },
      "source": [
        "x_test.shape"
      ],
      "execution_count": 61,
      "outputs": [
        {
          "output_type": "execute_result",
          "data": {
            "text/plain": [
              "(9, 12, 2)"
            ]
          },
          "metadata": {
            "tags": []
          },
          "execution_count": 61
        }
      ]
    },
    {
      "cell_type": "code",
      "metadata": {
        "id": "Rx9BOsMiWruA"
      },
      "source": [
        "ypred=model.predict(x_test)"
      ],
      "execution_count": 62,
      "outputs": []
    },
    {
      "cell_type": "code",
      "metadata": {
        "id": "Cd7P9vMRW4do"
      },
      "source": [
        "final=np.hstack((ypred,y_test.reshape(-1,1)))\n",
        "output=sc.inverse_transform(final)\n",
        "Actual=output[:,1]\n",
        "predicted=output[:,0]"
      ],
      "execution_count": 77,
      "outputs": []
    },
    {
      "cell_type": "code",
      "metadata": {
        "colab": {
          "base_uri": "https://localhost:8080/",
          "height": 284
        },
        "id": "DTcxK5lWW9K_",
        "outputId": "6eb321fd-c192-494f-94fe-fc3cdb4b7026"
      },
      "source": [
        "plt.plot(Actual,label=\"Actual Values\")\n",
        "plt.plot(predicted,label=\"Predicted Values\")\n",
        "plt.legend()"
      ],
      "execution_count": 79,
      "outputs": [
        {
          "output_type": "execute_result",
          "data": {
            "text/plain": [
              "<matplotlib.legend.Legend at 0x7feb47b9c690>"
            ]
          },
          "metadata": {
            "tags": []
          },
          "execution_count": 79
        },
        {
          "output_type": "display_data",
          "data": {
            "image/png": "[encoded data removed]",
            "text/plain": [
              "<Figure size 432x288 with 1 Axes>"
            ]
          },
          "metadata": {
            "tags": [],
            "needs_background": "light"
          }
        }
      ]
    }
  ]
}