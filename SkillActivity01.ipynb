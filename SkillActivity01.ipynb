{
 "cells": [
  {
   "cell_type": "raw",
   "metadata": {},
   "source": [
    "                                                    SKILL ACTIVITY NO: 1\n",
    "Name: Nitin Jayvant Borse                                                                                               Date:17-3-2021\n",
    "PRN:1712206\n",
    "School: School of Data Science\n",
    "Program: Machine Learning and AI Analyst\n",
    "Batch: ML6\n",
    "Module Name: Python Programming\n",
    "Module Code: ML06\n",
    "\n",
    "#### Title: Pandas Groupby and Data Selection Assignment\n",
    "\n",
    "Skills/Competencies to be acquired:\n",
    "To gain an understanding of data and find clues from the data.\n",
    "Assess assumptions on which statistical inference will be based.\n",
    "To check the quality of data for further processing and cleaning if necessary.\n",
    "To check for anomalies or outliers that may impact model.\n",
    "Data Visualization.\n",
    "Duration of activity: 1 Hour\n",
    "\n",
    "1.What is the purpose of this activity?\n",
    "Preview data.\n",
    "Check total number of entries and column types.\n",
    "Check any null values.\n",
    "Check duplicate entries.\n",
    "\n",
    "2.Steps performed in this activity.\n",
    "1)Read .csv Datafile.\n",
    "2)Solve indexing Problem one by one using iloc and loc.\n",
    "\n",
    "3.What resources / materials / equipment / tools did you use for this activity?\n",
    "1)Jupyter Notebook.\n",
    "2)python 3.8\n",
    "3)Machine Learning Libraries.\n",
    "\n",
    "4.What skills did you acquire?\n",
    "1)How to Pandas Library work\n",
    "2)How to read .csv file\n",
    "3)working of loc and iloc\n",
    "\n",
    "5.Time taken to complete the activity?\n",
    "1)Read .csv file-2 min\n",
    "2)solve one by one indexing question-5 min\n",
    "3)Total time taken to complete Skill activity=42 min"
   ]
  },
  {
   "cell_type": "code",
   "execution_count": 1,
   "metadata": {},
   "outputs": [
    {
     "data": {
      "text/html": [
       "<div>\n",
       "<style scoped>\n",
       "    .dataframe tbody tr th:only-of-type {\n",
       "        vertical-align: middle;\n",
       "    }\n",
       "\n",
       "    .dataframe tbody tr th {\n",
       "        vertical-align: top;\n",
       "    }\n",
       "\n",
       "    .dataframe thead th {\n",
       "        text-align: right;\n",
       "    }\n",
       "</style>\n",
       "<table border=\"1\" class=\"dataframe\">\n",
       "  <thead>\n",
       "    <tr style=\"text-align: right;\">\n",
       "      <th></th>\n",
       "      <th>Points</th>\n",
       "      <th>Rank</th>\n",
       "      <th>Team</th>\n",
       "      <th>Year</th>\n",
       "    </tr>\n",
       "  </thead>\n",
       "  <tbody>\n",
       "    <tr>\n",
       "      <th>0</th>\n",
       "      <td>876</td>\n",
       "      <td>1</td>\n",
       "      <td>Riders</td>\n",
       "      <td>2014</td>\n",
       "    </tr>\n",
       "    <tr>\n",
       "      <th>1</th>\n",
       "      <td>789</td>\n",
       "      <td>2</td>\n",
       "      <td>Riders</td>\n",
       "      <td>2015</td>\n",
       "    </tr>\n",
       "    <tr>\n",
       "      <th>2</th>\n",
       "      <td>863</td>\n",
       "      <td>2</td>\n",
       "      <td>Devils</td>\n",
       "      <td>2014</td>\n",
       "    </tr>\n",
       "    <tr>\n",
       "      <th>3</th>\n",
       "      <td>673</td>\n",
       "      <td>3</td>\n",
       "      <td>Devils</td>\n",
       "      <td>2015</td>\n",
       "    </tr>\n",
       "    <tr>\n",
       "      <th>4</th>\n",
       "      <td>741</td>\n",
       "      <td>3</td>\n",
       "      <td>Kings</td>\n",
       "      <td>2014</td>\n",
       "    </tr>\n",
       "    <tr>\n",
       "      <th>5</th>\n",
       "      <td>812</td>\n",
       "      <td>4</td>\n",
       "      <td>Kings</td>\n",
       "      <td>2015</td>\n",
       "    </tr>\n",
       "    <tr>\n",
       "      <th>6</th>\n",
       "      <td>756</td>\n",
       "      <td>1</td>\n",
       "      <td>Kings</td>\n",
       "      <td>2016</td>\n",
       "    </tr>\n",
       "    <tr>\n",
       "      <th>7</th>\n",
       "      <td>788</td>\n",
       "      <td>1</td>\n",
       "      <td>Kings</td>\n",
       "      <td>2017</td>\n",
       "    </tr>\n",
       "    <tr>\n",
       "      <th>8</th>\n",
       "      <td>694</td>\n",
       "      <td>2</td>\n",
       "      <td>Riders</td>\n",
       "      <td>2016</td>\n",
       "    </tr>\n",
       "    <tr>\n",
       "      <th>9</th>\n",
       "      <td>701</td>\n",
       "      <td>4</td>\n",
       "      <td>Royals</td>\n",
       "      <td>2014</td>\n",
       "    </tr>\n",
       "    <tr>\n",
       "      <th>10</th>\n",
       "      <td>804</td>\n",
       "      <td>1</td>\n",
       "      <td>Royals</td>\n",
       "      <td>2015</td>\n",
       "    </tr>\n",
       "    <tr>\n",
       "      <th>11</th>\n",
       "      <td>690</td>\n",
       "      <td>2</td>\n",
       "      <td>Riders</td>\n",
       "      <td>2017</td>\n",
       "    </tr>\n",
       "  </tbody>\n",
       "</table>\n",
       "</div>"
      ],
      "text/plain": [
       "    Points  Rank    Team  Year\n",
       "0      876     1  Riders  2014\n",
       "1      789     2  Riders  2015\n",
       "2      863     2  Devils  2014\n",
       "3      673     3  Devils  2015\n",
       "4      741     3   Kings  2014\n",
       "5      812     4   Kings  2015\n",
       "6      756     1   Kings  2016\n",
       "7      788     1   Kings  2017\n",
       "8      694     2  Riders  2016\n",
       "9      701     4  Royals  2014\n",
       "10     804     1  Royals  2015\n",
       "11     690     2  Riders  2017"
      ]
     },
     "execution_count": 1,
     "metadata": {},
     "output_type": "execute_result"
    }
   ],
   "source": [
    "#Indexing\n",
    "import pandas as pd\n",
    "df=pd.read_csv(\"C:\\\\Users\\\\Omkar\\\\Downloads\\\\Teams.csv\")\n",
    "df"
   ]
  },
  {
   "cell_type": "code",
   "execution_count": 2,
   "metadata": {},
   "outputs": [
    {
     "name": "stdout",
     "output_type": "stream",
     "text": [
      "   Points\n",
      "0     876\n"
     ]
    }
   ],
   "source": [
    "#1.Select the first value from the Points column of dataset, assigning it to variable first_point.\n",
    "print(df.loc[[0],[\"Points\"]])"
   ]
  },
  {
   "cell_type": "code",
   "execution_count": 3,
   "metadata": {},
   "outputs": [
    {
     "data": {
      "text/plain": [
       "Points       876\n",
       "Rank           1\n",
       "Team      Riders\n",
       "Year        2014\n",
       "Name: 0, dtype: object"
      ]
     },
     "execution_count": 3,
     "metadata": {},
     "output_type": "execute_result"
    }
   ],
   "source": [
    "#2.Select the first row of data (the first record)\n",
    "df.iloc[0]"
   ]
  },
  {
   "cell_type": "code",
   "execution_count": 4,
   "metadata": {},
   "outputs": [
    {
     "name": "stdout",
     "output_type": "stream",
     "text": [
      "   Year\n",
      "0  2014\n",
      "1  2015\n",
      "2  2014\n",
      "3  2015\n",
      "4  2014\n",
      "5  2015\n",
      "6  2016\n",
      "7  2017\n",
      "8  2016\n",
      "9  2014\n"
     ]
    }
   ],
   "source": [
    "#3.Select the first 10 values from the Year column in dataset\n",
    "print(df.loc[:9,[\"Year\"]])"
   ]
  },
  {
   "cell_type": "code",
   "execution_count": 5,
   "metadata": {},
   "outputs": [
    {
     "name": "stdout",
     "output_type": "stream",
     "text": [
      "   Points  Rank    Team\n",
      "1     789     2  Riders\n",
      "2     863     2  Devils\n",
      "3     673     3  Devils\n",
      "5     812     4   Kings\n",
      "8     694     2  Riders\n"
     ]
    }
   ],
   "source": [
    "#4.Select the records with index labels 1, 2, 3, 5, and 8, assigning the result to the variable sample_records\n",
    "print(df.iloc[[1,2,3,5,8],0:3])"
   ]
  },
  {
   "cell_type": "code",
   "execution_count": 6,
   "metadata": {},
   "outputs": [
    {
     "name": "stdout",
     "output_type": "stream",
     "text": [
      "    Points  Rank\n",
      "0      876     1\n",
      "5      812     4\n",
      "10     804     1\n"
     ]
    }
   ],
   "source": [
    "#5.Create a variable df containing the Rank, Points, Team columns of the records with the index labels 0, 5, 10.\n",
    "print(df.iloc[[0,5,10],0:2])"
   ]
  },
  {
   "cell_type": "code",
   "execution_count": 7,
   "metadata": {},
   "outputs": [
    {
     "name": "stdout",
     "output_type": "stream",
     "text": [
      "    Rank    Team\n",
      "7      1   Kings\n",
      "8      2  Riders\n",
      "9      4  Royals\n",
      "10     1  Royals\n"
     ]
    }
   ],
   "source": [
    "#6.Create a variable df containing the Team and Rank columns of the last 5 records.\n",
    "print(df.iloc[7:11,[1,2]])"
   ]
  },
  {
   "cell_type": "code",
   "execution_count": 8,
   "metadata": {},
   "outputs": [
    {
     "name": "stdout",
     "output_type": "stream",
     "text": [
      "    Points  Rank    Team  Year\n",
      "0      876     1  Riders  2014\n",
      "2      863     2  Devils  2014\n",
      "4      741     3   Kings  2014\n",
      "6      756     1   Kings  2016\n",
      "8      694     2  Riders  2016\n",
      "10     804     1  Royals  2015\n"
     ]
    }
   ],
   "source": [
    "#7.Create a variable df containing all even index labels\n",
    "print(df.iloc[0::2,0:4])"
   ]
  },
  {
   "cell_type": "code",
   "execution_count": 9,
   "metadata": {},
   "outputs": [
    {
     "name": "stdout",
     "output_type": "stream",
     "text": [
      "    Points  Rank    Team  Year\n",
      "1      789     2  Riders  2015\n",
      "3      673     3  Devils  2015\n",
      "5      812     4   Kings  2015\n",
      "7      788     1   Kings  2017\n",
      "9      701     4  Royals  2014\n",
      "11     690     2  Riders  2017\n"
     ]
    }
   ],
   "source": [
    "#8.Create a variable df containing all odd index labels\n",
    "print(df.iloc[1::2,0:4])"
   ]
  }
 ],
 "metadata": {
  "kernelspec": {
   "display_name": "Python 3",
   "language": "python",
   "name": "python3"
  },
  "language_info": {
   "codemirror_mode": {
    "name": "ipython",
    "version": 3
   },
   "file_extension": ".py",
   "mimetype": "text/x-python",
   "name": "python",
   "nbconvert_exporter": "python",
   "pygments_lexer": "ipython3",
   "version": "3.8.3"
  }
 },
 "nbformat": 4,
 "nbformat_minor": 2
}
