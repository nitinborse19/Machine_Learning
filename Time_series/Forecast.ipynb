{
 "cells": [
  {
   "cell_type": "code",
   "execution_count": 1,
   "metadata": {},
   "outputs": [],
   "source": [
    "import numpy as np\n",
    "import pandas as pd\n",
    "import matplotlib.pyplot as plt\n",
    "import seaborn as sns\n",
    "from pmdarima import auto_arima"
   ]
  },
  {
   "cell_type": "code",
   "execution_count": 2,
   "metadata": {},
   "outputs": [
    {
     "data": {
      "text/html": [
       "<div>\n",
       "<style scoped>\n",
       "    .dataframe tbody tr th:only-of-type {\n",
       "        vertical-align: middle;\n",
       "    }\n",
       "\n",
       "    .dataframe tbody tr th {\n",
       "        vertical-align: top;\n",
       "    }\n",
       "\n",
       "    .dataframe thead th {\n",
       "        text-align: right;\n",
       "    }\n",
       "</style>\n",
       "<table border=\"1\" class=\"dataframe\">\n",
       "  <thead>\n",
       "    <tr style=\"text-align: right;\">\n",
       "      <th></th>\n",
       "      <th>Open</th>\n",
       "      <th>High</th>\n",
       "      <th>Low</th>\n",
       "      <th>Close</th>\n",
       "      <th>Adj Close</th>\n",
       "      <th>Volume</th>\n",
       "    </tr>\n",
       "    <tr>\n",
       "      <th>Date</th>\n",
       "      <th></th>\n",
       "      <th></th>\n",
       "      <th></th>\n",
       "      <th></th>\n",
       "      <th></th>\n",
       "      <th></th>\n",
       "    </tr>\n",
       "  </thead>\n",
       "  <tbody>\n",
       "    <tr>\n",
       "      <th>2020-04-27</th>\n",
       "      <td>1832.300049</td>\n",
       "      <td>1875.000000</td>\n",
       "      <td>1825.000000</td>\n",
       "      <td>1836.599976</td>\n",
       "      <td>1815.905884</td>\n",
       "      <td>3374741.0</td>\n",
       "    </tr>\n",
       "    <tr>\n",
       "      <th>2020-04-28</th>\n",
       "      <td>1865.000000</td>\n",
       "      <td>1868.000000</td>\n",
       "      <td>1832.599976</td>\n",
       "      <td>1859.050049</td>\n",
       "      <td>1838.102905</td>\n",
       "      <td>2678505.0</td>\n",
       "    </tr>\n",
       "    <tr>\n",
       "      <th>2020-04-29</th>\n",
       "      <td>1874.000000</td>\n",
       "      <td>1912.550049</td>\n",
       "      <td>1850.050049</td>\n",
       "      <td>1905.650024</td>\n",
       "      <td>1884.177979</td>\n",
       "      <td>4241510.0</td>\n",
       "    </tr>\n",
       "    <tr>\n",
       "      <th>2020-04-30</th>\n",
       "      <td>1980.000000</td>\n",
       "      <td>2032.000000</td>\n",
       "      <td>1942.199951</td>\n",
       "      <td>2014.449951</td>\n",
       "      <td>1991.751831</td>\n",
       "      <td>5915544.0</td>\n",
       "    </tr>\n",
       "    <tr>\n",
       "      <th>2020-05-04</th>\n",
       "      <td>1966.000000</td>\n",
       "      <td>1966.000000</td>\n",
       "      <td>1913.650024</td>\n",
       "      <td>1930.449951</td>\n",
       "      <td>1908.698364</td>\n",
       "      <td>3729348.0</td>\n",
       "    </tr>\n",
       "    <tr>\n",
       "      <th>...</th>\n",
       "      <td>...</td>\n",
       "      <td>...</td>\n",
       "      <td>...</td>\n",
       "      <td>...</td>\n",
       "      <td>...</td>\n",
       "      <td>...</td>\n",
       "    </tr>\n",
       "    <tr>\n",
       "      <th>2021-04-20</th>\n",
       "      <td>3225.000000</td>\n",
       "      <td>3225.350098</td>\n",
       "      <td>3126.350098</td>\n",
       "      <td>3144.550049</td>\n",
       "      <td>3144.550049</td>\n",
       "      <td>3141893.0</td>\n",
       "    </tr>\n",
       "    <tr>\n",
       "      <th>2021-04-22</th>\n",
       "      <td>3148.000000</td>\n",
       "      <td>3148.000000</td>\n",
       "      <td>3105.250000</td>\n",
       "      <td>3118.800049</td>\n",
       "      <td>3118.800049</td>\n",
       "      <td>1988980.0</td>\n",
       "    </tr>\n",
       "    <tr>\n",
       "      <th>2021-04-23</th>\n",
       "      <td>3105.000000</td>\n",
       "      <td>3119.000000</td>\n",
       "      <td>3091.050049</td>\n",
       "      <td>3109.500000</td>\n",
       "      <td>3109.500000</td>\n",
       "      <td>1615309.0</td>\n",
       "    </tr>\n",
       "    <tr>\n",
       "      <th>2021-04-26</th>\n",
       "      <td>3102.050049</td>\n",
       "      <td>3153.000000</td>\n",
       "      <td>3088.050049</td>\n",
       "      <td>3100.800049</td>\n",
       "      <td>3100.800049</td>\n",
       "      <td>2490260.0</td>\n",
       "    </tr>\n",
       "    <tr>\n",
       "      <th>2021-04-27</th>\n",
       "      <td>3106.000000</td>\n",
       "      <td>3133.500000</td>\n",
       "      <td>3103.000000</td>\n",
       "      <td>3119.899902</td>\n",
       "      <td>3119.899902</td>\n",
       "      <td>1078655.0</td>\n",
       "    </tr>\n",
       "  </tbody>\n",
       "</table>\n",
       "<p>251 rows × 6 columns</p>\n",
       "</div>"
      ],
      "text/plain": [
       "                   Open         High          Low        Close    Adj Close  \\\n",
       "Date                                                                          \n",
       "2020-04-27  1832.300049  1875.000000  1825.000000  1836.599976  1815.905884   \n",
       "2020-04-28  1865.000000  1868.000000  1832.599976  1859.050049  1838.102905   \n",
       "2020-04-29  1874.000000  1912.550049  1850.050049  1905.650024  1884.177979   \n",
       "2020-04-30  1980.000000  2032.000000  1942.199951  2014.449951  1991.751831   \n",
       "2020-05-04  1966.000000  1966.000000  1913.650024  1930.449951  1908.698364   \n",
       "...                 ...          ...          ...          ...          ...   \n",
       "2021-04-20  3225.000000  3225.350098  3126.350098  3144.550049  3144.550049   \n",
       "2021-04-22  3148.000000  3148.000000  3105.250000  3118.800049  3118.800049   \n",
       "2021-04-23  3105.000000  3119.000000  3091.050049  3109.500000  3109.500000   \n",
       "2021-04-26  3102.050049  3153.000000  3088.050049  3100.800049  3100.800049   \n",
       "2021-04-27  3106.000000  3133.500000  3103.000000  3119.899902  3119.899902   \n",
       "\n",
       "               Volume  \n",
       "Date                   \n",
       "2020-04-27  3374741.0  \n",
       "2020-04-28  2678505.0  \n",
       "2020-04-29  4241510.0  \n",
       "2020-04-30  5915544.0  \n",
       "2020-05-04  3729348.0  \n",
       "...               ...  \n",
       "2021-04-20  3141893.0  \n",
       "2021-04-22  1988980.0  \n",
       "2021-04-23  1615309.0  \n",
       "2021-04-26  2490260.0  \n",
       "2021-04-27  1078655.0  \n",
       "\n",
       "[251 rows x 6 columns]"
      ]
     },
     "execution_count": 2,
     "metadata": {},
     "output_type": "execute_result"
    }
   ],
   "source": [
    "df=pd.read_csv(\"C:\\\\Users\\\\Krishna\\\\Desktop\\\\dataset\\\\TCS.NS.csv\",index_col='Date', parse_dates=['Date'])\n",
    "df"
   ]
  },
  {
   "cell_type": "code",
   "execution_count": 3,
   "metadata": {},
   "outputs": [
    {
     "name": "stdout",
     "output_type": "stream",
     "text": [
      "<class 'pandas.core.frame.DataFrame'>\n",
      "DatetimeIndex: 251 entries, 2020-04-27 to 2021-04-27\n",
      "Data columns (total 6 columns):\n",
      " #   Column     Non-Null Count  Dtype  \n",
      "---  ------     --------------  -----  \n",
      " 0   Open       250 non-null    float64\n",
      " 1   High       250 non-null    float64\n",
      " 2   Low        250 non-null    float64\n",
      " 3   Close      250 non-null    float64\n",
      " 4   Adj Close  250 non-null    float64\n",
      " 5   Volume     250 non-null    float64\n",
      "dtypes: float64(6)\n",
      "memory usage: 13.7 KB\n"
     ]
    }
   ],
   "source": [
    "df.info()"
   ]
  },
  {
   "cell_type": "code",
   "execution_count": 4,
   "metadata": {},
   "outputs": [],
   "source": [
    "df=df.dropna()"
   ]
  },
  {
   "cell_type": "code",
   "execution_count": 5,
   "metadata": {},
   "outputs": [
    {
     "data": {
      "text/plain": [
       "<matplotlib.axes._subplots.AxesSubplot at 0x1362ecb0820>"
      ]
     },
     "execution_count": 5,
     "metadata": {},
     "output_type": "execute_result"
    },
    {
     "data": {
      "image/png": "[encoded data removed]",
      "text/plain": [
       "<Figure size 432x288 with 1 Axes>"
      ]
     },
     "metadata": {
      "needs_background": "light"
     },
     "output_type": "display_data"
    }
   ],
   "source": [
    "df[\"Volume\"].plot()"
   ]
  },
  {
   "cell_type": "code",
   "execution_count": 6,
   "metadata": {},
   "outputs": [],
   "source": [
    "x=df[\"Volume\"]"
   ]
  },
  {
   "cell_type": "code",
   "execution_count": 7,
   "metadata": {},
   "outputs": [
    {
     "data": {
      "text/plain": [
       "250"
      ]
     },
     "execution_count": 7,
     "metadata": {},
     "output_type": "execute_result"
    }
   ],
   "source": [
    "len(x)"
   ]
  },
  {
   "cell_type": "code",
   "execution_count": 8,
   "metadata": {},
   "outputs": [],
   "source": [
    "train_len=int(0.8*len(x))"
   ]
  },
  {
   "cell_type": "code",
   "execution_count": 9,
   "metadata": {},
   "outputs": [
    {
     "data": {
      "text/plain": [
       "200"
      ]
     },
     "execution_count": 9,
     "metadata": {},
     "output_type": "execute_result"
    }
   ],
   "source": [
    "train=x[:train_len]\n",
    "len(train)"
   ]
  },
  {
   "cell_type": "code",
   "execution_count": 10,
   "metadata": {},
   "outputs": [
    {
     "data": {
      "text/plain": [
       "Date\n",
       "2020-04-27    3374741.0\n",
       "2020-04-28    2678505.0\n",
       "2020-04-29    4241510.0\n",
       "2020-04-30    5915544.0\n",
       "2020-05-04    3729348.0\n",
       "                ...    \n",
       "2020-09-09    3866535.0\n",
       "2020-09-10    2308813.0\n",
       "2020-09-11    4145424.0\n",
       "2020-09-14    7512131.0\n",
       "2020-09-15    7318770.0\n",
       "Name: Volume, Length: 100, dtype: float64"
      ]
     },
     "execution_count": 10,
     "metadata": {},
     "output_type": "execute_result"
    }
   ],
   "source": [
    "train.head(100)"
   ]
  },
  {
   "cell_type": "code",
   "execution_count": 11,
   "metadata": {},
   "outputs": [
    {
     "data": {
      "text/plain": [
       "50"
      ]
     },
     "execution_count": 11,
     "metadata": {},
     "output_type": "execute_result"
    }
   ],
   "source": [
    "test=x[train_len:]\n",
    "len(test)"
   ]
  },
  {
   "cell_type": "code",
   "execution_count": 12,
   "metadata": {},
   "outputs": [
    {
     "data": {
      "text/plain": [
       "Date\n",
       "2021-02-10    2127983.0\n",
       "2021-02-11    1165882.0\n",
       "2021-02-12    2777404.0\n",
       "2021-02-15    2630853.0\n",
       "2021-02-16    3435770.0\n",
       "2021-02-17    3678426.0\n",
       "2021-02-18    4189909.0\n",
       "2021-02-19    3725028.0\n",
       "2021-02-22    5366696.0\n",
       "2021-02-23    3832829.0\n",
       "2021-02-24    3774549.0\n",
       "2021-02-25    4224073.0\n",
       "2021-02-26    5553153.0\n",
       "2021-03-01    3265871.0\n",
       "2021-03-02    3306469.0\n",
       "2021-03-03    3509857.0\n",
       "2021-03-04    3916760.0\n",
       "2021-03-05    3203686.0\n",
       "2021-03-08    2003125.0\n",
       "2021-03-09    1942397.0\n",
       "2021-03-10    3053778.0\n",
       "2021-03-12    2938317.0\n",
       "2021-03-15    3097083.0\n",
       "2021-03-16    4894756.0\n",
       "2021-03-17    3838390.0\n",
       "2021-03-18    3656306.0\n",
       "2021-03-19    5776626.0\n",
       "2021-03-22    2821646.0\n",
       "2021-03-23    3305973.0\n",
       "2021-03-24    2207104.0\n",
       "2021-03-25    3179786.0\n",
       "2021-03-26    3697370.0\n",
       "2021-03-30    4694008.0\n",
       "2021-03-31    3530069.0\n",
       "2021-04-01    4285076.0\n",
       "2021-04-05    5317862.0\n",
       "2021-04-06    2291562.0\n",
       "2021-04-07    2491268.0\n",
       "2021-04-08    2578118.0\n",
       "2021-04-09    2911129.0\n",
       "2021-04-12    3791828.0\n",
       "2021-04-13    8654596.0\n",
       "2021-04-15    6062760.0\n",
       "2021-04-16    3224657.0\n",
       "2021-04-19    2679106.0\n",
       "2021-04-20    3141893.0\n",
       "2021-04-22    1988980.0\n",
       "2021-04-23    1615309.0\n",
       "2021-04-26    2490260.0\n",
       "2021-04-27    1078655.0\n",
       "Name: Volume, dtype: float64"
      ]
     },
     "execution_count": 12,
     "metadata": {},
     "output_type": "execute_result"
    }
   ],
   "source": [
    "test.head(100)"
   ]
  },
  {
   "cell_type": "code",
   "execution_count": 13,
   "metadata": {},
   "outputs": [
    {
     "name": "stderr",
     "output_type": "stream",
     "text": [
      "C:\\Users\\Krishna\\anaconda3\\lib\\site-packages\\statsmodels\\tsa\\base\\tsa_model.py:216: ValueWarning: A date index has been provided, but it has no associated frequency information and so will be ignored when e.g. forecasting.\n",
      "  warnings.warn('A date index has been provided, but it has no'\n",
      "C:\\Users\\Krishna\\anaconda3\\lib\\site-packages\\statsmodels\\tsa\\base\\tsa_model.py:216: ValueWarning: A date index has been provided, but it has no associated frequency information and so will be ignored when e.g. forecasting.\n",
      "  warnings.warn('A date index has been provided, but it has no'\n",
      "C:\\Users\\Krishna\\anaconda3\\lib\\site-packages\\statsmodels\\base\\model.py:547: HessianInversionWarning: Inverting hessian failed, no bse or cov_params available\n",
      "  warn('Inverting hessian failed, no bse or cov_params '\n"
     ]
    },
    {
     "data": {
      "text/html": [
       "<table class=\"simpletable\">\n",
       "<caption>ARIMA Model Results</caption>\n",
       "<tr>\n",
       "  <th>Dep. Variable:</th>     <td>D.Volume</td>     <th>  No. Observations:  </th>     <td>199</td>    \n",
       "</tr>\n",
       "<tr>\n",
       "  <th>Model:</th>          <td>ARIMA(3, 1, 2)</td>  <th>  Log Likelihood     </th>  <td>-3160.688</td> \n",
       "</tr>\n",
       "<tr>\n",
       "  <th>Method:</th>             <td>css-mle</td>     <th>  S.D. of innovations</th> <td>1893392.432</td>\n",
       "</tr>\n",
       "<tr>\n",
       "  <th>Date:</th>          <td>Sat, 01 May 2021</td> <th>  AIC                </th>  <td>6335.377</td>  \n",
       "</tr>\n",
       "<tr>\n",
       "  <th>Time:</th>              <td>22:34:43</td>     <th>  BIC                </th>  <td>6358.430</td>  \n",
       "</tr>\n",
       "<tr>\n",
       "  <th>Sample:</th>                <td>1</td>        <th>  HQIC               </th>  <td>6344.707</td>  \n",
       "</tr>\n",
       "<tr>\n",
       "  <th></th>                       <td> </td>        <th>                     </th>      <td> </td>     \n",
       "</tr>\n",
       "</table>\n",
       "<table class=\"simpletable\">\n",
       "<tr>\n",
       "         <td></td>           <th>coef</th>     <th>std err</th>      <th>z</th>      <th>P>|z|</th>  <th>[0.025</th>    <th>0.975]</th>  \n",
       "</tr>\n",
       "<tr>\n",
       "  <th>const</th>          <td> -552.5517</td> <td> 5951.900</td> <td>   -0.093</td> <td> 0.926</td> <td>-1.22e+04</td> <td> 1.11e+04</td>\n",
       "</tr>\n",
       "<tr>\n",
       "  <th>ar.L1.D.Volume</th> <td>   -0.0644</td> <td>    0.150</td> <td>   -0.431</td> <td> 0.667</td> <td>   -0.357</td> <td>    0.229</td>\n",
       "</tr>\n",
       "<tr>\n",
       "  <th>ar.L2.D.Volume</th> <td>    0.1647</td> <td>    0.091</td> <td>    1.804</td> <td> 0.071</td> <td>   -0.014</td> <td>    0.344</td>\n",
       "</tr>\n",
       "<tr>\n",
       "  <th>ar.L3.D.Volume</th> <td>    0.3450</td> <td>    0.067</td> <td>    5.136</td> <td> 0.000</td> <td>    0.213</td> <td>    0.477</td>\n",
       "</tr>\n",
       "<tr>\n",
       "  <th>ma.L1.D.Volume</th> <td>   -0.5194</td> <td>    0.155</td> <td>   -3.347</td> <td> 0.001</td> <td>   -0.824</td> <td>   -0.215</td>\n",
       "</tr>\n",
       "<tr>\n",
       "  <th>ma.L2.D.Volume</th> <td>   -0.4806</td> <td>    0.154</td> <td>   -3.121</td> <td> 0.002</td> <td>   -0.782</td> <td>   -0.179</td>\n",
       "</tr>\n",
       "</table>\n",
       "<table class=\"simpletable\">\n",
       "<caption>Roots</caption>\n",
       "<tr>\n",
       "    <td></td>   <th>            Real</th>  <th>         Imaginary</th> <th>         Modulus</th>  <th>        Frequency</th>\n",
       "</tr>\n",
       "<tr>\n",
       "  <th>AR.1</th> <td>           1.3221</td> <td>          -0.0000j</td> <td>           1.3221</td> <td>          -0.0000</td>\n",
       "</tr>\n",
       "<tr>\n",
       "  <th>AR.2</th> <td>          -0.8998</td> <td>          -1.1760j</td> <td>           1.4807</td> <td>          -0.3539</td>\n",
       "</tr>\n",
       "<tr>\n",
       "  <th>AR.3</th> <td>          -0.8998</td> <td>          +1.1760j</td> <td>           1.4807</td> <td>           0.3539</td>\n",
       "</tr>\n",
       "<tr>\n",
       "  <th>MA.1</th> <td>           1.0000</td> <td>          +0.0000j</td> <td>           1.0000</td> <td>           0.0000</td>\n",
       "</tr>\n",
       "<tr>\n",
       "  <th>MA.2</th> <td>          -2.0809</td> <td>          +0.0000j</td> <td>           2.0809</td> <td>           0.5000</td>\n",
       "</tr>\n",
       "</table>"
      ],
      "text/plain": [
       "<class 'statsmodels.iolib.summary.Summary'>\n",
       "\"\"\"\n",
       "                             ARIMA Model Results                              \n",
       "==============================================================================\n",
       "Dep. Variable:               D.Volume   No. Observations:                  199\n",
       "Model:                 ARIMA(3, 1, 2)   Log Likelihood               -3160.688\n",
       "Method:                       css-mle   S.D. of innovations        1893392.432\n",
       "Date:                Sat, 01 May 2021   AIC                           6335.377\n",
       "Time:                        22:34:43   BIC                           6358.430\n",
       "Sample:                             1   HQIC                          6344.707\n",
       "                                                                              \n",
       "==================================================================================\n",
       "                     coef    std err          z      P>|z|      [0.025      0.975]\n",
       "----------------------------------------------------------------------------------\n",
       "const           -552.5517   5951.900     -0.093      0.926   -1.22e+04    1.11e+04\n",
       "ar.L1.D.Volume    -0.0644      0.150     -0.431      0.667      -0.357       0.229\n",
       "ar.L2.D.Volume     0.1647      0.091      1.804      0.071      -0.014       0.344\n",
       "ar.L3.D.Volume     0.3450      0.067      5.136      0.000       0.213       0.477\n",
       "ma.L1.D.Volume    -0.5194      0.155     -3.347      0.001      -0.824      -0.215\n",
       "ma.L2.D.Volume    -0.4806      0.154     -3.121      0.002      -0.782      -0.179\n",
       "                                    Roots                                    \n",
       "=============================================================================\n",
       "                  Real          Imaginary           Modulus         Frequency\n",
       "-----------------------------------------------------------------------------\n",
       "AR.1            1.3221           -0.0000j            1.3221           -0.0000\n",
       "AR.2           -0.8998           -1.1760j            1.4807           -0.3539\n",
       "AR.3           -0.8998           +1.1760j            1.4807            0.3539\n",
       "MA.1            1.0000           +0.0000j            1.0000            0.0000\n",
       "MA.2           -2.0809           +0.0000j            2.0809            0.5000\n",
       "-----------------------------------------------------------------------------\n",
       "\"\"\""
      ]
     },
     "execution_count": 13,
     "metadata": {},
     "output_type": "execute_result"
    }
   ],
   "source": [
    "from statsmodels.tsa.arima_model import ARIMA\n",
    "model=ARIMA(train,order=(3,1,2))\n",
    "model_fit=model.fit()\n",
    "model_fit.summary()"
   ]
  },
  {
   "cell_type": "code",
   "execution_count": 14,
   "metadata": {},
   "outputs": [
    {
     "data": {
      "text/plain": [
       "<matplotlib.legend.Legend at 0x1362f4f3a00>"
      ]
     },
     "execution_count": 14,
     "metadata": {},
     "output_type": "execute_result"
    },
    {
     "data": {
      "image/png": "[encoded data removed]",
      "text/plain": [
       "<Figure size 432x288 with 1 Axes>"
      ]
     },
     "metadata": {
      "needs_background": "light"
     },
     "output_type": "display_data"
    }
   ],
   "source": [
    "plt.plot(train,label=\"Train\")\n",
    "plt.plot(test,label=\"Test\")\n",
    "plt.legend()"
   ]
  },
  {
   "cell_type": "code",
   "execution_count": 15,
   "metadata": {},
   "outputs": [],
   "source": [
    "ypred_train=model_fit.predict()"
   ]
  },
  {
   "cell_type": "code",
   "execution_count": 16,
   "metadata": {},
   "outputs": [
    {
     "data": {
      "text/plain": [
       "Date\n",
       "2020-04-28   -5.525517e+02\n",
       "2020-04-29    2.486691e+05\n",
       "2020-04-30   -5.032418e+05\n",
       "2020-05-04   -1.486838e+06\n",
       "2020-05-05    3.224433e+05\n",
       "                  ...     \n",
       "2021-02-03    1.293003e+06\n",
       "2021-02-04    5.843032e+05\n",
       "2021-02-05    9.152643e+05\n",
       "2021-02-08    5.821402e+05\n",
       "2021-02-09    3.924269e+05\n",
       "Length: 199, dtype: float64"
      ]
     },
     "execution_count": 16,
     "metadata": {},
     "output_type": "execute_result"
    }
   ],
   "source": [
    "ypred_train"
   ]
  },
  {
   "cell_type": "code",
   "execution_count": 17,
   "metadata": {},
   "outputs": [
    {
     "name": "stderr",
     "output_type": "stream",
     "text": [
      "C:\\Users\\Krishna\\anaconda3\\lib\\site-packages\\statsmodels\\tsa\\base\\tsa_model.py:580: ValueWarning: No supported index is available. Prediction results will be given with an integer index beginning at `start`.\n",
      "  warnings.warn('No supported index is available.'\n"
     ]
    }
   ],
   "source": [
    "ypred_test=model_fit.predict(start=len(train),end=len(train)+len(test)-1)"
   ]
  },
  {
   "cell_type": "code",
   "execution_count": 18,
   "metadata": {},
   "outputs": [
    {
     "data": {
      "text/plain": [
       "(199    462009.204813\n",
       " 200    172151.509824\n",
       " 201    110302.197832\n",
       " 202    180334.147985\n",
       " 203     65642.996997\n",
       " 204     63223.310728\n",
       " 205     68648.296783\n",
       " 206     28333.970445\n",
       " 207     30987.713537\n",
       " 208     26048.301984\n",
       " 209     12895.548266\n",
       " 210     13844.097979\n",
       " 211      9912.649490\n",
       " 212      5784.456773\n",
       " 213      5729.870027\n",
       " 214      3697.147686\n",
       " 215      2394.839481\n",
       " 216      2125.027478\n",
       " 217      1226.636764\n",
       " 218       790.748726\n",
       " 219       577.752267\n",
       " 220       209.737563\n",
       " 221        47.969218\n",
       " 222       -75.713693\n",
       " 223      -221.356260\n",
       " 224      -288.160670\n",
       " 225      -350.517828\n",
       " 226      -407.751626\n",
       " 227      -437.384817\n",
       " 228      -466.416511\n",
       " 229      -489.173381\n",
       " 230      -502.713316\n",
       " 231      -515.605500\n",
       " 232      -524.856554\n",
       " 233      -531.055597\n",
       " 234      -536.627903\n",
       " 235      -540.481726\n",
       " 236      -543.290040\n",
       " 237      -545.666389\n",
       " 238      -547.305489\n",
       " 239      -548.560212\n",
       " 240      -549.569224\n",
       " 241      -550.276403\n",
       " 242      -550.829935\n",
       " 243      -551.258877\n",
       " 244      -551.566404\n",
       " 245      -551.808219\n",
       " 246      -551.991284\n",
       " 247      -552.125422\n",
       " 248      -552.230363\n",
       " dtype: float64,\n",
       " Date\n",
       " 2021-02-10    2127983.0\n",
       " 2021-02-11    1165882.0\n",
       " 2021-02-12    2777404.0\n",
       " 2021-02-15    2630853.0\n",
       " 2021-02-16    3435770.0\n",
       " 2021-02-17    3678426.0\n",
       " 2021-02-18    4189909.0\n",
       " 2021-02-19    3725028.0\n",
       " 2021-02-22    5366696.0\n",
       " 2021-02-23    3832829.0\n",
       " 2021-02-24    3774549.0\n",
       " 2021-02-25    4224073.0\n",
       " 2021-02-26    5553153.0\n",
       " 2021-03-01    3265871.0\n",
       " 2021-03-02    3306469.0\n",
       " 2021-03-03    3509857.0\n",
       " 2021-03-04    3916760.0\n",
       " 2021-03-05    3203686.0\n",
       " 2021-03-08    2003125.0\n",
       " 2021-03-09    1942397.0\n",
       " 2021-03-10    3053778.0\n",
       " 2021-03-12    2938317.0\n",
       " 2021-03-15    3097083.0\n",
       " 2021-03-16    4894756.0\n",
       " 2021-03-17    3838390.0\n",
       " 2021-03-18    3656306.0\n",
       " 2021-03-19    5776626.0\n",
       " 2021-03-22    2821646.0\n",
       " 2021-03-23    3305973.0\n",
       " 2021-03-24    2207104.0\n",
       " 2021-03-25    3179786.0\n",
       " 2021-03-26    3697370.0\n",
       " 2021-03-30    4694008.0\n",
       " 2021-03-31    3530069.0\n",
       " 2021-04-01    4285076.0\n",
       " 2021-04-05    5317862.0\n",
       " 2021-04-06    2291562.0\n",
       " 2021-04-07    2491268.0\n",
       " 2021-04-08    2578118.0\n",
       " 2021-04-09    2911129.0\n",
       " 2021-04-12    3791828.0\n",
       " 2021-04-13    8654596.0\n",
       " 2021-04-15    6062760.0\n",
       " 2021-04-16    3224657.0\n",
       " 2021-04-19    2679106.0\n",
       " 2021-04-20    3141893.0\n",
       " 2021-04-22    1988980.0\n",
       " 2021-04-23    1615309.0\n",
       " 2021-04-26    2490260.0\n",
       " 2021-04-27    1078655.0\n",
       " Name: Volume, dtype: float64)"
      ]
     },
     "execution_count": 18,
     "metadata": {},
     "output_type": "execute_result"
    }
   ],
   "source": [
    "ypred_test,test"
   ]
  },
  {
   "cell_type": "code",
   "execution_count": 19,
   "metadata": {},
   "outputs": [
    {
     "data": {
      "text/plain": [
       "DatetimeIndex(['2021-02-10', '2021-02-11', '2021-02-12', '2021-02-13',\n",
       "               '2021-02-14', '2021-02-15', '2021-02-16', '2021-02-17',\n",
       "               '2021-02-18', '2021-02-19', '2021-02-20', '2021-02-21',\n",
       "               '2021-02-22', '2021-02-23', '2021-02-24', '2021-02-25',\n",
       "               '2021-02-26', '2021-02-27', '2021-02-28', '2021-03-01',\n",
       "               '2021-03-02', '2021-03-03', '2021-03-04', '2021-03-05',\n",
       "               '2021-03-06', '2021-03-07', '2021-03-08', '2021-03-09',\n",
       "               '2021-03-10', '2021-03-11', '2021-03-12', '2021-03-13',\n",
       "               '2021-03-14', '2021-03-15', '2021-03-16', '2021-03-17',\n",
       "               '2021-03-18', '2021-03-19', '2021-03-20', '2021-03-21',\n",
       "               '2021-03-22', '2021-03-23', '2021-03-24', '2021-03-25',\n",
       "               '2021-03-26', '2021-03-27', '2021-03-28', '2021-03-29',\n",
       "               '2021-03-30', '2021-03-31'],\n",
       "              dtype='datetime64[ns]', freq='D')"
      ]
     },
     "execution_count": 19,
     "metadata": {},
     "output_type": "execute_result"
    }
   ],
   "source": [
    "date_test=pd.date_range(start='2021-02-10',end=\"2021-03-31\")\n",
    "date_test"
   ]
  },
  {
   "cell_type": "code",
   "execution_count": 20,
   "metadata": {},
   "outputs": [],
   "source": [
    "ypred_test.index=date_test"
   ]
  },
  {
   "cell_type": "code",
   "execution_count": 21,
   "metadata": {},
   "outputs": [
    {
     "data": {
      "text/plain": [
       "2021-02-10    462009.204813\n",
       "2021-02-11    172151.509824\n",
       "2021-02-12    110302.197832\n",
       "2021-02-13    180334.147985\n",
       "2021-02-14     65642.996997\n",
       "2021-02-15     63223.310728\n",
       "2021-02-16     68648.296783\n",
       "2021-02-17     28333.970445\n",
       "2021-02-18     30987.713537\n",
       "2021-02-19     26048.301984\n",
       "2021-02-20     12895.548266\n",
       "2021-02-21     13844.097979\n",
       "2021-02-22      9912.649490\n",
       "2021-02-23      5784.456773\n",
       "2021-02-24      5729.870027\n",
       "2021-02-25      3697.147686\n",
       "2021-02-26      2394.839481\n",
       "2021-02-27      2125.027478\n",
       "2021-02-28      1226.636764\n",
       "2021-03-01       790.748726\n",
       "2021-03-02       577.752267\n",
       "2021-03-03       209.737563\n",
       "2021-03-04        47.969218\n",
       "2021-03-05       -75.713693\n",
       "2021-03-06      -221.356260\n",
       "2021-03-07      -288.160670\n",
       "2021-03-08      -350.517828\n",
       "2021-03-09      -407.751626\n",
       "2021-03-10      -437.384817\n",
       "2021-03-11      -466.416511\n",
       "2021-03-12      -489.173381\n",
       "2021-03-13      -502.713316\n",
       "2021-03-14      -515.605500\n",
       "2021-03-15      -524.856554\n",
       "2021-03-16      -531.055597\n",
       "2021-03-17      -536.627903\n",
       "2021-03-18      -540.481726\n",
       "2021-03-19      -543.290040\n",
       "2021-03-20      -545.666389\n",
       "2021-03-21      -547.305489\n",
       "2021-03-22      -548.560212\n",
       "2021-03-23      -549.569224\n",
       "2021-03-24      -550.276403\n",
       "2021-03-25      -550.829935\n",
       "2021-03-26      -551.258877\n",
       "2021-03-27      -551.566404\n",
       "2021-03-28      -551.808219\n",
       "2021-03-29      -551.991284\n",
       "2021-03-30      -552.125422\n",
       "2021-03-31      -552.230363\n",
       "Freq: D, dtype: float64"
      ]
     },
     "execution_count": 21,
     "metadata": {},
     "output_type": "execute_result"
    }
   ],
   "source": [
    "ypred_test"
   ]
  },
  {
   "cell_type": "code",
   "execution_count": 22,
   "metadata": {},
   "outputs": [
    {
     "data": {
      "text/plain": [
       "<matplotlib.axes._subplots.AxesSubplot at 0x1362f53d100>"
      ]
     },
     "execution_count": 22,
     "metadata": {},
     "output_type": "execute_result"
    },
    {
     "data": {
      "image/png": "[encoded data removed]",
      "text/plain": [
       "<Figure size 432x288 with 1 Axes>"
      ]
     },
     "metadata": {
      "needs_background": "light"
     },
     "output_type": "display_data"
    }
   ],
   "source": [
    "test.plot()\n",
    "ypred_test.plot()"
   ]
  },
  {
   "cell_type": "code",
   "execution_count": 23,
   "metadata": {},
   "outputs": [
    {
     "data": {
      "text/plain": [
       "<matplotlib.axes._subplots.AxesSubplot at 0x1362ed8cc70>"
      ]
     },
     "execution_count": 23,
     "metadata": {},
     "output_type": "execute_result"
    },
    {
     "data": {
      "image/png": "[encoded data removed]",
      "text/plain": [
       "<Figure size 432x288 with 1 Axes>"
      ]
     },
     "metadata": {
      "needs_background": "light"
     },
     "output_type": "display_data"
    }
   ],
   "source": [
    "residuals=model_fit.resid\n",
    "residuals.plot(kind=\"kde\")"
   ]
  },
  {
   "cell_type": "code",
   "execution_count": 24,
   "metadata": {},
   "outputs": [
    {
     "name": "stdout",
     "output_type": "stream",
     "text": [
      "MSE is : 13608627331980.115\n",
      "RMSE is : 3688987.3043940007\n"
     ]
    }
   ],
   "source": [
    "from sklearn.metrics import mean_squared_error\n",
    "mse=mean_squared_error(test,ypred_test)\n",
    "print(\"MSE is :\",mse)\n",
    "print(\"RMSE is :\",np.sqrt(mse))"
   ]
  },
  {
   "cell_type": "code",
   "execution_count": 25,
   "metadata": {},
   "outputs": [],
   "source": [
    "#predict 30 future values"
   ]
  },
  {
   "cell_type": "code",
   "execution_count": 26,
   "metadata": {},
   "outputs": [
    {
     "name": "stderr",
     "output_type": "stream",
     "text": [
      "C:\\Users\\Krishna\\anaconda3\\lib\\site-packages\\statsmodels\\tsa\\base\\tsa_model.py:216: ValueWarning: A date index has been provided, but it has no associated frequency information and so will be ignored when e.g. forecasting.\n",
      "  warnings.warn('A date index has been provided, but it has no'\n"
     ]
    }
   ],
   "source": [
    "model=ARIMA(x,order=(2,0,1))\n",
    "model_fit=model.fit()"
   ]
  },
  {
   "cell_type": "code",
   "execution_count": 27,
   "metadata": {},
   "outputs": [
    {
     "data": {
      "text/plain": [
       "Date\n",
       "2020-04-27    3374741.0\n",
       "2020-04-28    2678505.0\n",
       "2020-04-29    4241510.0\n",
       "2020-04-30    5915544.0\n",
       "2020-05-04    3729348.0\n",
       "                ...    \n",
       "2021-04-20    3141893.0\n",
       "2021-04-22    1988980.0\n",
       "2021-04-23    1615309.0\n",
       "2021-04-26    2490260.0\n",
       "2021-04-27    1078655.0\n",
       "Name: Volume, Length: 250, dtype: float64"
      ]
     },
     "execution_count": 27,
     "metadata": {},
     "output_type": "execute_result"
    }
   ],
   "source": [
    "x"
   ]
  },
  {
   "cell_type": "code",
   "execution_count": 28,
   "metadata": {},
   "outputs": [
    {
     "name": "stderr",
     "output_type": "stream",
     "text": [
      "C:\\Users\\Krishna\\anaconda3\\lib\\site-packages\\statsmodels\\tsa\\base\\tsa_model.py:580: ValueWarning: No supported index is available. Prediction results will be given with an integer index beginning at `start`.\n",
      "  warnings.warn('No supported index is available.'\n"
     ]
    }
   ],
   "source": [
    "forecast=model_fit.predict(start=len(x),end=len(x)+29)"
   ]
  },
  {
   "cell_type": "code",
   "execution_count": 29,
   "metadata": {},
   "outputs": [
    {
     "data": {
      "text/plain": [
       "250    2.553960e+06\n",
       "251    2.906765e+06\n",
       "252    3.049632e+06\n",
       "253    3.146588e+06\n",
       "254    3.227825e+06\n",
       "255    3.299527e+06\n",
       "256    3.363507e+06\n",
       "257    3.420722e+06\n",
       "258    3.471910e+06\n",
       "259    3.517710e+06\n",
       "260    3.558689e+06\n",
       "261    3.595356e+06\n",
       "262    3.628164e+06\n",
       "263    3.657519e+06\n",
       "264    3.683785e+06\n",
       "265    3.707286e+06\n",
       "266    3.728314e+06\n",
       "267    3.747129e+06\n",
       "268    3.763964e+06\n",
       "269    3.779028e+06\n",
       "270    3.792505e+06\n",
       "271    3.804565e+06\n",
       "272    3.815355e+06\n",
       "273    3.825010e+06\n",
       "274    3.833649e+06\n",
       "275    3.841378e+06\n",
       "276    3.848294e+06\n",
       "277    3.854482e+06\n",
       "278    3.860019e+06\n",
       "279    3.864973e+06\n",
       "dtype: float64"
      ]
     },
     "execution_count": 29,
     "metadata": {},
     "output_type": "execute_result"
    }
   ],
   "source": [
    "forecast"
   ]
  },
  {
   "cell_type": "code",
   "execution_count": 30,
   "metadata": {},
   "outputs": [
    {
     "data": {
      "text/plain": [
       "(30, 30)"
      ]
     },
     "execution_count": 30,
     "metadata": {},
     "output_type": "execute_result"
    }
   ],
   "source": [
    "forecast_date=pd.date_range(start=\"2019-01-01\",end=\"2019-01-30\")\n",
    "len(forecast_date),len(forecast)"
   ]
  },
  {
   "cell_type": "code",
   "execution_count": 31,
   "metadata": {},
   "outputs": [],
   "source": [
    "forecast.index=forecast_date"
   ]
  },
  {
   "cell_type": "code",
   "execution_count": 32,
   "metadata": {},
   "outputs": [
    {
     "data": {
      "text/plain": [
       "<matplotlib.axes._subplots.AxesSubplot at 0x1362f5f09a0>"
      ]
     },
     "execution_count": 32,
     "metadata": {},
     "output_type": "execute_result"
    },
    {
     "data": {
      "image/png": "[encoded data removed]",
      "text/plain": [
       "<Figure size 432x288 with 1 Axes>"
      ]
     },
     "metadata": {
      "needs_background": "light"
     },
     "output_type": "display_data"
    }
   ],
   "source": [
    "forecast.plot()"
   ]
  },
  {
   "cell_type": "code",
   "execution_count": null,
   "metadata": {},
   "outputs": [],
   "source": []
  }
 ],
 "metadata": {
  "kernelspec": {
   "display_name": "Python 3",
   "language": "python",
   "name": "python3"
  },
  "language_info": {
   "codemirror_mode": {
    "name": "ipython",
    "version": 3
   },
   "file_extension": ".py",
   "mimetype": "text/x-python",
   "name": "python",
   "nbconvert_exporter": "python",
   "pygments_lexer": "ipython3",
   "version": "3.8.3"
  }
 },
 "nbformat": 4,
 "nbformat_minor": 4
}
