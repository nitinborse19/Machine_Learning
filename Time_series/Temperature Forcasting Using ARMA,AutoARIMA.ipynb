{
 "cells": [
  {
   "cell_type": "code",
   "execution_count": 3,
   "metadata": {
    "id": "mLJ6wcjXl8jn"
   },
   "outputs": [],
   "source": [
    "import pandas as pd \n",
    "import numpy as np\n",
    "import matplotlib.pyplot as plt\n",
    "import seaborn as sns"
   ]
  },
  {
   "cell_type": "code",
   "execution_count": 4,
   "metadata": {
    "colab": {
     "base_uri": "https://localhost:8080/"
    },
    "id": "r0GVTT-lnkEU",
    "outputId": "a7777270-ed8e-43ab-87c3-b9ddc2ab3a96"
   },
   "outputs": [],
   "source": [
    "#pip install pmdarima"
   ]
  },
  {
   "cell_type": "code",
   "execution_count": 9,
   "metadata": {
    "id": "O2EXSrdOvmzE"
   },
   "outputs": [
    {
     "data": {
      "text/html": [
       "<div>\n",
       "<style scoped>\n",
       "    .dataframe tbody tr th:only-of-type {\n",
       "        vertical-align: middle;\n",
       "    }\n",
       "\n",
       "    .dataframe tbody tr th {\n",
       "        vertical-align: top;\n",
       "    }\n",
       "\n",
       "    .dataframe thead th {\n",
       "        text-align: right;\n",
       "    }\n",
       "</style>\n",
       "<table border=\"1\" class=\"dataframe\">\n",
       "  <thead>\n",
       "    <tr style=\"text-align: right;\">\n",
       "      <th></th>\n",
       "      <th>MinTemp</th>\n",
       "      <th>MaxTemp</th>\n",
       "      <th>AvgTemp</th>\n",
       "      <th>Sunrise</th>\n",
       "      <th>Sunset</th>\n",
       "    </tr>\n",
       "    <tr>\n",
       "      <th>DATE</th>\n",
       "      <th></th>\n",
       "      <th></th>\n",
       "      <th></th>\n",
       "      <th></th>\n",
       "      <th></th>\n",
       "    </tr>\n",
       "  </thead>\n",
       "  <tbody>\n",
       "    <tr>\n",
       "      <th>2014-01-01</th>\n",
       "      <td>33.0</td>\n",
       "      <td>46.0</td>\n",
       "      <td>40.0</td>\n",
       "      <td>657</td>\n",
       "      <td>1756</td>\n",
       "    </tr>\n",
       "    <tr>\n",
       "      <th>2014-01-02</th>\n",
       "      <td>35.0</td>\n",
       "      <td>50.0</td>\n",
       "      <td>43.0</td>\n",
       "      <td>657</td>\n",
       "      <td>1756</td>\n",
       "    </tr>\n",
       "    <tr>\n",
       "      <th>2014-01-03</th>\n",
       "      <td>36.0</td>\n",
       "      <td>45.0</td>\n",
       "      <td>41.0</td>\n",
       "      <td>657</td>\n",
       "      <td>1757</td>\n",
       "    </tr>\n",
       "    <tr>\n",
       "      <th>2014-01-04</th>\n",
       "      <td>32.0</td>\n",
       "      <td>41.0</td>\n",
       "      <td>37.0</td>\n",
       "      <td>658</td>\n",
       "      <td>1757</td>\n",
       "    </tr>\n",
       "    <tr>\n",
       "      <th>2014-01-05</th>\n",
       "      <td>24.0</td>\n",
       "      <td>38.0</td>\n",
       "      <td>31.0</td>\n",
       "      <td>658</td>\n",
       "      <td>1758</td>\n",
       "    </tr>\n",
       "    <tr>\n",
       "      <th>...</th>\n",
       "      <td>...</td>\n",
       "      <td>...</td>\n",
       "      <td>...</td>\n",
       "      <td>...</td>\n",
       "      <td>...</td>\n",
       "    </tr>\n",
       "    <tr>\n",
       "      <th>2018-12-26</th>\n",
       "      <td>35.0</td>\n",
       "      <td>45.0</td>\n",
       "      <td>40.0</td>\n",
       "      <td>654</td>\n",
       "      <td>1752</td>\n",
       "    </tr>\n",
       "    <tr>\n",
       "      <th>2018-12-27</th>\n",
       "      <td>33.0</td>\n",
       "      <td>44.0</td>\n",
       "      <td>39.0</td>\n",
       "      <td>655</td>\n",
       "      <td>1752</td>\n",
       "    </tr>\n",
       "    <tr>\n",
       "      <th>2018-12-28</th>\n",
       "      <td>33.0</td>\n",
       "      <td>47.0</td>\n",
       "      <td>40.0</td>\n",
       "      <td>655</td>\n",
       "      <td>1753</td>\n",
       "    </tr>\n",
       "    <tr>\n",
       "      <th>2018-12-29</th>\n",
       "      <td>36.0</td>\n",
       "      <td>47.0</td>\n",
       "      <td>42.0</td>\n",
       "      <td>655</td>\n",
       "      <td>1753</td>\n",
       "    </tr>\n",
       "    <tr>\n",
       "      <th>2018-12-30</th>\n",
       "      <td>39.0</td>\n",
       "      <td>52.0</td>\n",
       "      <td>46.0</td>\n",
       "      <td>656</td>\n",
       "      <td>1754</td>\n",
       "    </tr>\n",
       "  </tbody>\n",
       "</table>\n",
       "<p>1825 rows × 5 columns</p>\n",
       "</div>"
      ],
      "text/plain": [
       "            MinTemp  MaxTemp  AvgTemp  Sunrise  Sunset\n",
       "DATE                                                  \n",
       "2014-01-01     33.0     46.0     40.0      657    1756\n",
       "2014-01-02     35.0     50.0     43.0      657    1756\n",
       "2014-01-03     36.0     45.0     41.0      657    1757\n",
       "2014-01-04     32.0     41.0     37.0      658    1757\n",
       "2014-01-05     24.0     38.0     31.0      658    1758\n",
       "...             ...      ...      ...      ...     ...\n",
       "2018-12-26     35.0     45.0     40.0      654    1752\n",
       "2018-12-27     33.0     44.0     39.0      655    1752\n",
       "2018-12-28     33.0     47.0     40.0      655    1753\n",
       "2018-12-29     36.0     47.0     42.0      655    1753\n",
       "2018-12-30     39.0     52.0     46.0      656    1754\n",
       "\n",
       "[1825 rows x 5 columns]"
      ]
     },
     "execution_count": 9,
     "metadata": {},
     "output_type": "execute_result"
    }
   ],
   "source": [
    "df=pd.read_csv(\"C:\\\\Users\\\\Krishna\\\\Desktop\\\\dataset\\\\DailyTemps.csv\",index_col='DATE', parse_dates=['DATE'])\n",
    "df"
   ]
  },
  {
   "cell_type": "code",
   "execution_count": 10,
   "metadata": {
    "colab": {
     "base_uri": "https://localhost:8080/",
     "height": 237
    },
    "id": "NJQDTGRtwHmC",
    "outputId": "0e59e1c7-e7c7-4def-dfd2-9617adae4fd9"
   },
   "outputs": [
    {
     "data": {
      "text/html": [
       "<div>\n",
       "<style scoped>\n",
       "    .dataframe tbody tr th:only-of-type {\n",
       "        vertical-align: middle;\n",
       "    }\n",
       "\n",
       "    .dataframe tbody tr th {\n",
       "        vertical-align: top;\n",
       "    }\n",
       "\n",
       "    .dataframe thead th {\n",
       "        text-align: right;\n",
       "    }\n",
       "</style>\n",
       "<table border=\"1\" class=\"dataframe\">\n",
       "  <thead>\n",
       "    <tr style=\"text-align: right;\">\n",
       "      <th></th>\n",
       "      <th>MinTemp</th>\n",
       "      <th>MaxTemp</th>\n",
       "      <th>AvgTemp</th>\n",
       "      <th>Sunrise</th>\n",
       "      <th>Sunset</th>\n",
       "    </tr>\n",
       "    <tr>\n",
       "      <th>DATE</th>\n",
       "      <th></th>\n",
       "      <th></th>\n",
       "      <th></th>\n",
       "      <th></th>\n",
       "      <th></th>\n",
       "    </tr>\n",
       "  </thead>\n",
       "  <tbody>\n",
       "    <tr>\n",
       "      <th>2014-01-01</th>\n",
       "      <td>33.0</td>\n",
       "      <td>46.0</td>\n",
       "      <td>40.0</td>\n",
       "      <td>657</td>\n",
       "      <td>1756</td>\n",
       "    </tr>\n",
       "    <tr>\n",
       "      <th>2014-01-02</th>\n",
       "      <td>35.0</td>\n",
       "      <td>50.0</td>\n",
       "      <td>43.0</td>\n",
       "      <td>657</td>\n",
       "      <td>1756</td>\n",
       "    </tr>\n",
       "    <tr>\n",
       "      <th>2014-01-03</th>\n",
       "      <td>36.0</td>\n",
       "      <td>45.0</td>\n",
       "      <td>41.0</td>\n",
       "      <td>657</td>\n",
       "      <td>1757</td>\n",
       "    </tr>\n",
       "    <tr>\n",
       "      <th>2014-01-04</th>\n",
       "      <td>32.0</td>\n",
       "      <td>41.0</td>\n",
       "      <td>37.0</td>\n",
       "      <td>658</td>\n",
       "      <td>1757</td>\n",
       "    </tr>\n",
       "    <tr>\n",
       "      <th>2014-01-05</th>\n",
       "      <td>24.0</td>\n",
       "      <td>38.0</td>\n",
       "      <td>31.0</td>\n",
       "      <td>658</td>\n",
       "      <td>1758</td>\n",
       "    </tr>\n",
       "  </tbody>\n",
       "</table>\n",
       "</div>"
      ],
      "text/plain": [
       "            MinTemp  MaxTemp  AvgTemp  Sunrise  Sunset\n",
       "DATE                                                  \n",
       "2014-01-01     33.0     46.0     40.0      657    1756\n",
       "2014-01-02     35.0     50.0     43.0      657    1756\n",
       "2014-01-03     36.0     45.0     41.0      657    1757\n",
       "2014-01-04     32.0     41.0     37.0      658    1757\n",
       "2014-01-05     24.0     38.0     31.0      658    1758"
      ]
     },
     "execution_count": 10,
     "metadata": {},
     "output_type": "execute_result"
    }
   ],
   "source": [
    "df.head()"
   ]
  },
  {
   "cell_type": "code",
   "execution_count": 11,
   "metadata": {
    "colab": {
     "base_uri": "https://localhost:8080/",
     "height": 298
    },
    "id": "EhBUWHrjwJdi",
    "outputId": "e14f1097-342b-4eb1-cc6a-fd60cc6ae597"
   },
   "outputs": [
    {
     "data": {
      "text/plain": [
       "<matplotlib.axes._subplots.AxesSubplot at 0x28dde665550>"
      ]
     },
     "execution_count": 11,
     "metadata": {},
     "output_type": "execute_result"
    },
    {
     "data": {
      "image/png": "[encoded data removed]",
      "text/plain": [
       "<Figure size 432x288 with 1 Axes>"
      ]
     },
     "metadata": {
      "needs_background": "light"
     },
     "output_type": "display_data"
    }
   ],
   "source": [
    "df[\"AvgTemp\"].plot()"
   ]
  },
  {
   "cell_type": "code",
   "execution_count": 12,
   "metadata": {
    "colab": {
     "base_uri": "https://localhost:8080/"
    },
    "id": "91EGskt9wjjp",
    "outputId": "b70c5e3c-cae3-43ae-fb2f-d18d4949c841"
   },
   "outputs": [
    {
     "data": {
      "text/plain": [
       "MinTemp    4\n",
       "MaxTemp    4\n",
       "AvgTemp    4\n",
       "Sunrise    0\n",
       "Sunset     0\n",
       "dtype: int64"
      ]
     },
     "execution_count": 12,
     "metadata": {},
     "output_type": "execute_result"
    }
   ],
   "source": [
    "df.isna().sum()"
   ]
  },
  {
   "cell_type": "code",
   "execution_count": 13,
   "metadata": {
    "id": "_Ym_DyKxwoN5"
   },
   "outputs": [],
   "source": [
    "df=df.dropna()"
   ]
  },
  {
   "cell_type": "code",
   "execution_count": 14,
   "metadata": {
    "colab": {
     "base_uri": "https://localhost:8080/"
    },
    "id": "myZfpETTwrXx",
    "outputId": "57203c21-8eed-430d-f735-1c9bff8e6924"
   },
   "outputs": [
    {
     "name": "stdout",
     "output_type": "stream",
     "text": [
      "Stationary\n"
     ]
    }
   ],
   "source": [
    "from statsmodels.tsa.stattools import adfuller\n",
    "res=adfuller(df.AvgTemp)\n",
    "pval=res[1]\n",
    "if pval>0.05:\n",
    "  print(\"Not Stationary\")\n",
    "else:\n",
    "  print(\"Stationary\")"
   ]
  },
  {
   "cell_type": "code",
   "execution_count": 15,
   "metadata": {
    "colab": {
     "base_uri": "https://localhost:8080/",
     "height": 497
    },
    "id": "gTHtHshNw8YP",
    "outputId": "f7c6822d-9219-4431-bac8-76b39d26a273"
   },
   "outputs": [],
   "source": [
    "from pmdarima import auto_arima"
   ]
  },
  {
   "cell_type": "code",
   "execution_count": 16,
   "metadata": {
    "colab": {
     "base_uri": "https://localhost:8080/"
    },
    "id": "6VI9u5EQxhDP",
    "outputId": "370b7bc5-0d72-4b4d-9e54-c9a30ba1c78a"
   },
   "outputs": [
    {
     "name": "stdout",
     "output_type": "stream",
     "text": [
      "Performing stepwise search to minimize aic\n",
      " ARIMA(2,0,2)(0,0,0)[0] intercept   : AIC=8345.516, Time=4.36 sec\n",
      " ARIMA(0,0,0)(0,0,0)[0] intercept   : AIC=10347.755, Time=0.07 sec\n",
      " ARIMA(1,0,0)(0,0,0)[0] intercept   : AIC=8365.701, Time=0.43 sec\n",
      " ARIMA(0,0,1)(0,0,0)[0] intercept   : AIC=9136.225, Time=0.49 sec\n",
      " ARIMA(0,0,0)(0,0,0)[0]             : AIC=19192.139, Time=0.03 sec\n",
      " ARIMA(1,0,2)(0,0,0)[0] intercept   : AIC=8355.947, Time=2.31 sec\n",
      " ARIMA(2,0,1)(0,0,0)[0] intercept   : AIC=8356.910, Time=1.52 sec\n",
      " ARIMA(3,0,2)(0,0,0)[0] intercept   : AIC=8346.843, Time=4.95 sec\n",
      " ARIMA(2,0,3)(0,0,0)[0] intercept   : AIC=8317.075, Time=4.95 sec\n",
      " ARIMA(1,0,3)(0,0,0)[0] intercept   : AIC=8330.191, Time=5.20 sec\n",
      " ARIMA(3,0,3)(0,0,0)[0] intercept   : AIC=8312.398, Time=6.17 sec\n",
      " ARIMA(4,0,3)(0,0,0)[0] intercept   : AIC=8332.447, Time=6.85 sec\n",
      " ARIMA(3,0,4)(0,0,0)[0] intercept   : AIC=8318.601, Time=8.24 sec\n",
      " ARIMA(2,0,4)(0,0,0)[0] intercept   : AIC=8307.508, Time=6.71 sec\n",
      " ARIMA(1,0,4)(0,0,0)[0] intercept   : AIC=8297.584, Time=5.78 sec\n",
      " ARIMA(0,0,4)(0,0,0)[0] intercept   : AIC=8455.435, Time=1.72 sec\n",
      " ARIMA(1,0,5)(0,0,0)[0] intercept   : AIC=8294.691, Time=6.79 sec\n",
      " ARIMA(0,0,5)(0,0,0)[0] intercept   : AIC=8419.091, Time=1.95 sec\n",
      " ARIMA(2,0,5)(0,0,0)[0] intercept   : AIC=8302.098, Time=7.48 sec\n",
      " ARIMA(1,0,5)(0,0,0)[0]             : AIC=8304.533, Time=0.64 sec\n",
      "\n",
      "Best model:  ARIMA(1,0,5)(0,0,0)[0] intercept\n",
      "Total fit time: 76.678 seconds\n"
     ]
    }
   ],
   "source": [
    "auto_model=auto_arima(df[\"AvgTemp\"],trace=True)"
   ]
  },
  {
   "cell_type": "code",
   "execution_count": 17,
   "metadata": {
    "colab": {
     "base_uri": "https://localhost:8080/",
     "height": 537
    },
    "id": "TNmPmIH_xr06",
    "outputId": "b605bb12-c0fc-4f32-b137-342d7e8f3987"
   },
   "outputs": [
    {
     "data": {
      "text/html": [
       "<table class=\"simpletable\">\n",
       "<caption>SARIMAX Results</caption>\n",
       "<tr>\n",
       "  <th>Dep. Variable:</th>           <td>y</td>        <th>  No. Observations:  </th>   <td>1821</td>   \n",
       "</tr>\n",
       "<tr>\n",
       "  <th>Model:</th>           <td>SARIMAX(1, 0, 5)</td> <th>  Log Likelihood     </th> <td>-4139.346</td>\n",
       "</tr>\n",
       "<tr>\n",
       "  <th>Date:</th>            <td>Sat, 01 May 2021</td> <th>  AIC                </th> <td>8294.691</td> \n",
       "</tr>\n",
       "<tr>\n",
       "  <th>Time:</th>                <td>17:58:04</td>     <th>  BIC                </th> <td>8338.748</td> \n",
       "</tr>\n",
       "<tr>\n",
       "  <th>Sample:</th>                  <td>0</td>        <th>  HQIC               </th> <td>8310.945</td> \n",
       "</tr>\n",
       "<tr>\n",
       "  <th></th>                      <td> - 1821</td>     <th>                     </th>     <td> </td>    \n",
       "</tr>\n",
       "<tr>\n",
       "  <th>Covariance Type:</th>        <td>opg</td>       <th>                     </th>     <td> </td>    \n",
       "</tr>\n",
       "</table>\n",
       "<table class=\"simpletable\">\n",
       "<tr>\n",
       "      <td></td>         <th>coef</th>     <th>std err</th>      <th>z</th>      <th>P>|z|</th>  <th>[0.025</th>    <th>0.975]</th>  \n",
       "</tr>\n",
       "<tr>\n",
       "  <th>intercept</th> <td>    1.2047</td> <td>    0.364</td> <td>    3.313</td> <td> 0.001</td> <td>    0.492</td> <td>    1.917</td>\n",
       "</tr>\n",
       "<tr>\n",
       "  <th>ar.L1</th>     <td>    0.9741</td> <td>    0.008</td> <td>  124.283</td> <td> 0.000</td> <td>    0.959</td> <td>    0.989</td>\n",
       "</tr>\n",
       "<tr>\n",
       "  <th>ma.L1</th>     <td>   -0.1281</td> <td>    0.024</td> <td>   -5.381</td> <td> 0.000</td> <td>   -0.175</td> <td>   -0.081</td>\n",
       "</tr>\n",
       "<tr>\n",
       "  <th>ma.L2</th>     <td>   -0.2190</td> <td>    0.024</td> <td>   -9.031</td> <td> 0.000</td> <td>   -0.267</td> <td>   -0.171</td>\n",
       "</tr>\n",
       "<tr>\n",
       "  <th>ma.L3</th>     <td>   -0.2046</td> <td>    0.024</td> <td>   -8.516</td> <td> 0.000</td> <td>   -0.252</td> <td>   -0.158</td>\n",
       "</tr>\n",
       "<tr>\n",
       "  <th>ma.L4</th>     <td>   -0.1356</td> <td>    0.023</td> <td>   -5.916</td> <td> 0.000</td> <td>   -0.181</td> <td>   -0.091</td>\n",
       "</tr>\n",
       "<tr>\n",
       "  <th>ma.L5</th>     <td>   -0.0512</td> <td>    0.025</td> <td>   -2.089</td> <td> 0.037</td> <td>   -0.099</td> <td>   -0.003</td>\n",
       "</tr>\n",
       "<tr>\n",
       "  <th>sigma2</th>    <td>    5.5312</td> <td>    0.174</td> <td>   31.762</td> <td> 0.000</td> <td>    5.190</td> <td>    5.872</td>\n",
       "</tr>\n",
       "</table>\n",
       "<table class=\"simpletable\">\n",
       "<tr>\n",
       "  <th>Ljung-Box (Q):</th>          <td>34.82</td> <th>  Jarque-Bera (JB):  </th> <td>20.27</td>\n",
       "</tr>\n",
       "<tr>\n",
       "  <th>Prob(Q):</th>                <td>0.70</td>  <th>  Prob(JB):          </th> <td>0.00</td> \n",
       "</tr>\n",
       "<tr>\n",
       "  <th>Heteroskedasticity (H):</th> <td>0.81</td>  <th>  Skew:              </th> <td>-0.17</td>\n",
       "</tr>\n",
       "<tr>\n",
       "  <th>Prob(H) (two-sided):</th>    <td>0.01</td>  <th>  Kurtosis:          </th> <td>3.39</td> \n",
       "</tr>\n",
       "</table><br/><br/>Warnings:<br/>[1] Covariance matrix calculated using the outer product of gradients (complex-step)."
      ],
      "text/plain": [
       "<class 'statsmodels.iolib.summary.Summary'>\n",
       "\"\"\"\n",
       "                               SARIMAX Results                                \n",
       "==============================================================================\n",
       "Dep. Variable:                      y   No. Observations:                 1821\n",
       "Model:               SARIMAX(1, 0, 5)   Log Likelihood               -4139.346\n",
       "Date:                Sat, 01 May 2021   AIC                           8294.691\n",
       "Time:                        17:58:04   BIC                           8338.748\n",
       "Sample:                             0   HQIC                          8310.945\n",
       "                               - 1821                                         \n",
       "Covariance Type:                  opg                                         \n",
       "==============================================================================\n",
       "                 coef    std err          z      P>|z|      [0.025      0.975]\n",
       "------------------------------------------------------------------------------\n",
       "intercept      1.2047      0.364      3.313      0.001       0.492       1.917\n",
       "ar.L1          0.9741      0.008    124.283      0.000       0.959       0.989\n",
       "ma.L1         -0.1281      0.024     -5.381      0.000      -0.175      -0.081\n",
       "ma.L2         -0.2190      0.024     -9.031      0.000      -0.267      -0.171\n",
       "ma.L3         -0.2046      0.024     -8.516      0.000      -0.252      -0.158\n",
       "ma.L4         -0.1356      0.023     -5.916      0.000      -0.181      -0.091\n",
       "ma.L5         -0.0512      0.025     -2.089      0.037      -0.099      -0.003\n",
       "sigma2         5.5312      0.174     31.762      0.000       5.190       5.872\n",
       "===================================================================================\n",
       "Ljung-Box (Q):                       34.82   Jarque-Bera (JB):                20.27\n",
       "Prob(Q):                              0.70   Prob(JB):                         0.00\n",
       "Heteroskedasticity (H):               0.81   Skew:                            -0.17\n",
       "Prob(H) (two-sided):                  0.01   Kurtosis:                         3.39\n",
       "===================================================================================\n",
       "\n",
       "Warnings:\n",
       "[1] Covariance matrix calculated using the outer product of gradients (complex-step).\n",
       "\"\"\""
      ]
     },
     "execution_count": 17,
     "metadata": {},
     "output_type": "execute_result"
    }
   ],
   "source": [
    "auto_model.summary()"
   ]
  },
  {
   "cell_type": "code",
   "execution_count": 18,
   "metadata": {
    "id": "4NankqZByHsj"
   },
   "outputs": [],
   "source": [
    "X=df[\"AvgTemp\"]"
   ]
  },
  {
   "cell_type": "code",
   "execution_count": 19,
   "metadata": {
    "colab": {
     "base_uri": "https://localhost:8080/"
    },
    "id": "i4n_-18Z2U1R",
    "outputId": "ab1b87ec-8d88-42fa-d3a5-484d41b7f3b5"
   },
   "outputs": [
    {
     "data": {
      "text/plain": [
       "1821"
      ]
     },
     "execution_count": 19,
     "metadata": {},
     "output_type": "execute_result"
    }
   ],
   "source": [
    "len(X)"
   ]
  },
  {
   "cell_type": "code",
   "execution_count": 20,
   "metadata": {
    "id": "iyREMzG52dHi"
   },
   "outputs": [],
   "source": [
    "train_len=int(0.8*len(X))"
   ]
  },
  {
   "cell_type": "code",
   "execution_count": 21,
   "metadata": {
    "colab": {
     "base_uri": "https://localhost:8080/"
    },
    "id": "fxEd2YvY2lpT",
    "outputId": "3046ab4d-85d7-4379-9b35-08bdc849a0a3"
   },
   "outputs": [
    {
     "data": {
      "text/plain": [
       "1456"
      ]
     },
     "execution_count": 21,
     "metadata": {},
     "output_type": "execute_result"
    }
   ],
   "source": [
    "train=X[:train_len]\n",
    "len(train)"
   ]
  },
  {
   "cell_type": "code",
   "execution_count": 22,
   "metadata": {
    "id": "OOBAf3CJ212g"
   },
   "outputs": [],
   "source": [
    "#train.head()"
   ]
  },
  {
   "cell_type": "code",
   "execution_count": 23,
   "metadata": {
    "colab": {
     "base_uri": "https://localhost:8080/"
    },
    "id": "VhzcF3Pj28_N",
    "outputId": "5696c092-df51-4510-95b5-baf2f9010337"
   },
   "outputs": [
    {
     "data": {
      "text/plain": [
       "365"
      ]
     },
     "execution_count": 23,
     "metadata": {},
     "output_type": "execute_result"
    }
   ],
   "source": [
    "test=X[train_len:]\n",
    "len(test)"
   ]
  },
  {
   "cell_type": "code",
   "execution_count": 24,
   "metadata": {
    "colab": {
     "base_uri": "https://localhost:8080/"
    },
    "id": "sbXPIDFl3Jg2",
    "outputId": "0e81b1e6-5f47-4d94-d12e-cde5cb6f08b9"
   },
   "outputs": [
    {
     "data": {
      "text/plain": [
       "1821"
      ]
     },
     "execution_count": 24,
     "metadata": {},
     "output_type": "execute_result"
    }
   ],
   "source": [
    "1456+365"
   ]
  },
  {
   "cell_type": "code",
   "execution_count": 25,
   "metadata": {
    "colab": {
     "base_uri": "https://localhost:8080/",
     "height": 923
    },
    "id": "yXKjJ4oU3Rmi",
    "outputId": "2fab0699-e4df-4ecb-bda1-5f3d418e912c"
   },
   "outputs": [
    {
     "name": "stderr",
     "output_type": "stream",
     "text": [
      "C:\\Users\\Krishna\\anaconda3\\lib\\site-packages\\statsmodels\\tsa\\base\\tsa_model.py:216: ValueWarning: A date index has been provided, but it has no associated frequency information and so will be ignored when e.g. forecasting.\n",
      "  warnings.warn('A date index has been provided, but it has no'\n"
     ]
    },
    {
     "data": {
      "text/html": [
       "<table class=\"simpletable\">\n",
       "<caption>ARMA Model Results</caption>\n",
       "<tr>\n",
       "  <th>Dep. Variable:</th>      <td>AvgTemp</td>     <th>  No. Observations:  </th>   <td>1456</td>   \n",
       "</tr>\n",
       "<tr>\n",
       "  <th>Model:</th>            <td>ARMA(1, 5)</td>    <th>  Log Likelihood     </th> <td>-3334.671</td>\n",
       "</tr>\n",
       "<tr>\n",
       "  <th>Method:</th>             <td>css-mle</td>     <th>  S.D. of innovations</th>   <td>2.389</td>  \n",
       "</tr>\n",
       "<tr>\n",
       "  <th>Date:</th>          <td>Sat, 01 May 2021</td> <th>  AIC                </th> <td>6685.343</td> \n",
       "</tr>\n",
       "<tr>\n",
       "  <th>Time:</th>              <td>17:58:17</td>     <th>  BIC                </th> <td>6727.610</td> \n",
       "</tr>\n",
       "<tr>\n",
       "  <th>Sample:</th>                <td>0</td>        <th>  HQIC               </th> <td>6701.113</td> \n",
       "</tr>\n",
       "<tr>\n",
       "  <th></th>                       <td> </td>        <th>                     </th>     <td> </td>    \n",
       "</tr>\n",
       "</table>\n",
       "<table class=\"simpletable\">\n",
       "<tr>\n",
       "        <td></td>           <th>coef</th>     <th>std err</th>      <th>z</th>      <th>P>|z|</th>  <th>[0.025</th>    <th>0.975]</th>  \n",
       "</tr>\n",
       "<tr>\n",
       "  <th>const</th>         <td>   46.5293</td> <td>    0.860</td> <td>   54.101</td> <td> 0.000</td> <td>   44.844</td> <td>   48.215</td>\n",
       "</tr>\n",
       "<tr>\n",
       "  <th>ar.L1.AvgTemp</th> <td>    0.9844</td> <td>    0.009</td> <td>  112.835</td> <td> 0.000</td> <td>    0.967</td> <td>    1.002</td>\n",
       "</tr>\n",
       "<tr>\n",
       "  <th>ma.L1.AvgTemp</th> <td>   -0.1312</td> <td>    0.028</td> <td>   -4.704</td> <td> 0.000</td> <td>   -0.186</td> <td>   -0.077</td>\n",
       "</tr>\n",
       "<tr>\n",
       "  <th>ma.L2.AvgTemp</th> <td>   -0.2444</td> <td>    0.028</td> <td>   -8.852</td> <td> 0.000</td> <td>   -0.299</td> <td>   -0.190</td>\n",
       "</tr>\n",
       "<tr>\n",
       "  <th>ma.L3.AvgTemp</th> <td>   -0.2051</td> <td>    0.029</td> <td>   -7.029</td> <td> 0.000</td> <td>   -0.262</td> <td>   -0.148</td>\n",
       "</tr>\n",
       "<tr>\n",
       "  <th>ma.L4.AvgTemp</th> <td>   -0.1476</td> <td>    0.027</td> <td>   -5.486</td> <td> 0.000</td> <td>   -0.200</td> <td>   -0.095</td>\n",
       "</tr>\n",
       "<tr>\n",
       "  <th>ma.L5.AvgTemp</th> <td>   -0.0584</td> <td>    0.028</td> <td>   -2.082</td> <td> 0.037</td> <td>   -0.113</td> <td>   -0.003</td>\n",
       "</tr>\n",
       "</table>\n",
       "<table class=\"simpletable\">\n",
       "<caption>Roots</caption>\n",
       "<tr>\n",
       "    <td></td>   <th>            Real</th>  <th>         Imaginary</th> <th>         Modulus</th>  <th>        Frequency</th>\n",
       "</tr>\n",
       "<tr>\n",
       "  <th>AR.1</th> <td>           1.0158</td> <td>          +0.0000j</td> <td>           1.0158</td> <td>           0.0000</td>\n",
       "</tr>\n",
       "<tr>\n",
       "  <th>MA.1</th> <td>           1.0910</td> <td>          -0.0000j</td> <td>           1.0910</td> <td>          -0.0000</td>\n",
       "</tr>\n",
       "<tr>\n",
       "  <th>MA.2</th> <td>           0.0718</td> <td>          -1.8558j</td> <td>           1.8572</td> <td>          -0.2438</td>\n",
       "</tr>\n",
       "<tr>\n",
       "  <th>MA.3</th> <td>           0.0718</td> <td>          +1.8558j</td> <td>           1.8572</td> <td>           0.2438</td>\n",
       "</tr>\n",
       "<tr>\n",
       "  <th>MA.4</th> <td>          -1.8803</td> <td>          -1.0060j</td> <td>           2.1325</td> <td>          -0.4218</td>\n",
       "</tr>\n",
       "<tr>\n",
       "  <th>MA.5</th> <td>          -1.8803</td> <td>          +1.0060j</td> <td>           2.1325</td> <td>           0.4218</td>\n",
       "</tr>\n",
       "</table>"
      ],
      "text/plain": [
       "<class 'statsmodels.iolib.summary.Summary'>\n",
       "\"\"\"\n",
       "                              ARMA Model Results                              \n",
       "==============================================================================\n",
       "Dep. Variable:                AvgTemp   No. Observations:                 1456\n",
       "Model:                     ARMA(1, 5)   Log Likelihood               -3334.671\n",
       "Method:                       css-mle   S.D. of innovations              2.389\n",
       "Date:                Sat, 01 May 2021   AIC                           6685.343\n",
       "Time:                        17:58:17   BIC                           6727.610\n",
       "Sample:                             0   HQIC                          6701.113\n",
       "                                                                              \n",
       "=================================================================================\n",
       "                    coef    std err          z      P>|z|      [0.025      0.975]\n",
       "---------------------------------------------------------------------------------\n",
       "const            46.5293      0.860     54.101      0.000      44.844      48.215\n",
       "ar.L1.AvgTemp     0.9844      0.009    112.835      0.000       0.967       1.002\n",
       "ma.L1.AvgTemp    -0.1312      0.028     -4.704      0.000      -0.186      -0.077\n",
       "ma.L2.AvgTemp    -0.2444      0.028     -8.852      0.000      -0.299      -0.190\n",
       "ma.L3.AvgTemp    -0.2051      0.029     -7.029      0.000      -0.262      -0.148\n",
       "ma.L4.AvgTemp    -0.1476      0.027     -5.486      0.000      -0.200      -0.095\n",
       "ma.L5.AvgTemp    -0.0584      0.028     -2.082      0.037      -0.113      -0.003\n",
       "                                    Roots                                    \n",
       "=============================================================================\n",
       "                  Real          Imaginary           Modulus         Frequency\n",
       "-----------------------------------------------------------------------------\n",
       "AR.1            1.0158           +0.0000j            1.0158            0.0000\n",
       "MA.1            1.0910           -0.0000j            1.0910           -0.0000\n",
       "MA.2            0.0718           -1.8558j            1.8572           -0.2438\n",
       "MA.3            0.0718           +1.8558j            1.8572            0.2438\n",
       "MA.4           -1.8803           -1.0060j            2.1325           -0.4218\n",
       "MA.5           -1.8803           +1.0060j            2.1325            0.4218\n",
       "-----------------------------------------------------------------------------\n",
       "\"\"\""
      ]
     },
     "execution_count": 25,
     "metadata": {},
     "output_type": "execute_result"
    }
   ],
   "source": [
    "from statsmodels.tsa.arima_model import ARIMA\n",
    "model=ARIMA(train,order=(1,0,5))\n",
    "model_fit=model.fit()\n",
    "model_fit.summary()"
   ]
  },
  {
   "cell_type": "code",
   "execution_count": 28,
   "metadata": {
    "id": "NDCrPbFN_H4V"
   },
   "outputs": [],
   "source": [
    "#ARIMA(p,q) #d=0\n",
    "#ARIMA(p,d,q)"
   ]
  },
  {
   "cell_type": "code",
   "execution_count": 29,
   "metadata": {
    "colab": {
     "base_uri": "https://localhost:8080/",
     "height": 284
    },
    "id": "Q6TEosEd3mn3",
    "outputId": "7ba7f94d-d05f-4cc0-9700-f5e269ed6175"
   },
   "outputs": [
    {
     "data": {
      "text/plain": [
       "<matplotlib.legend.Legend at 0x28ddd11af40>"
      ]
     },
     "execution_count": 29,
     "metadata": {},
     "output_type": "execute_result"
    },
    {
     "data": {
      "image/png": "[encoded data removed]",
      "text/plain": [
       "<Figure size 432x288 with 1 Axes>"
      ]
     },
     "metadata": {
      "needs_background": "light"
     },
     "output_type": "display_data"
    }
   ],
   "source": [
    "plt.plot(train,label=\"Train\")\n",
    "plt.plot(test,label=\"Test\")\n",
    "plt.legend()"
   ]
  },
  {
   "cell_type": "code",
   "execution_count": 30,
   "metadata": {
    "id": "vQhMzGnJ4IuO"
   },
   "outputs": [],
   "source": [
    "ypred_train=model_fit.predict()"
   ]
  },
  {
   "cell_type": "code",
   "execution_count": 31,
   "metadata": {
    "colab": {
     "base_uri": "https://localhost:8080/"
    },
    "id": "XIZhrebZ4TFR",
    "outputId": "830c1046-a4e7-4e81-c8e4-c3d24f824c1d"
   },
   "outputs": [
    {
     "data": {
      "text/plain": [
       "DATE\n",
       "2014-01-01    46.529300\n",
       "2014-01-02    41.196913\n",
       "2014-01-03    43.977315\n",
       "2014-01-04    41.710017\n",
       "2014-01-05    38.275591\n",
       "                ...    \n",
       "2017-12-25    44.577264\n",
       "2017-12-26    41.599459\n",
       "2017-12-27    43.747998\n",
       "2017-12-28    44.505476\n",
       "2017-12-29    42.748241\n",
       "Length: 1456, dtype: float64"
      ]
     },
     "execution_count": 31,
     "metadata": {},
     "output_type": "execute_result"
    }
   ],
   "source": [
    "ypred_train"
   ]
  },
  {
   "cell_type": "code",
   "execution_count": 32,
   "metadata": {
    "id": "O8WC8kfd4Uap"
   },
   "outputs": [],
   "source": [
    "#Predictions on Test dataset"
   ]
  },
  {
   "cell_type": "code",
   "execution_count": 33,
   "metadata": {
    "id": "dAaFDEXt4jKr"
   },
   "outputs": [],
   "source": [
    "#start->len(train) "
   ]
  },
  {
   "cell_type": "code",
   "execution_count": 34,
   "metadata": {
    "id": "MyIZUJGd4pvR"
   },
   "outputs": [],
   "source": [
    "#end->len(train)+len(test)-1\n",
    "#end->len(X)-1"
   ]
  },
  {
   "cell_type": "code",
   "execution_count": 35,
   "metadata": {
    "colab": {
     "base_uri": "https://localhost:8080/"
    },
    "id": "_m-PEg_H4dv3",
    "outputId": "7d4b6c38-221a-43b3-c275-ad5aeef1f7dd"
   },
   "outputs": [
    {
     "name": "stderr",
     "output_type": "stream",
     "text": [
      "C:\\Users\\Krishna\\anaconda3\\lib\\site-packages\\statsmodels\\tsa\\base\\tsa_model.py:580: ValueWarning: No supported index is available. Prediction results will be given with an integer index beginning at `start`.\n",
      "  warnings.warn('No supported index is available.'\n"
     ]
    }
   ],
   "source": [
    "ypred_test=model_fit.predict(start=len(train),end=len(train)+len(test)-1)"
   ]
  },
  {
   "cell_type": "code",
   "execution_count": 36,
   "metadata": {
    "colab": {
     "base_uri": "https://localhost:8080/"
    },
    "id": "AoTAonPn5Ett",
    "outputId": "686d8c02-f5b1-4f1d-cc2f-7fa7a1496ba4"
   },
   "outputs": [
    {
     "data": {
      "text/plain": [
       "(1456    42.929233\n",
       " 1457    42.907451\n",
       " 1458    43.061214\n",
       " 1459    43.165983\n",
       " 1460    43.203594\n",
       "           ...    \n",
       " 1816    46.516778\n",
       " 1817    46.516972\n",
       " 1818    46.517164\n",
       " 1819    46.517353\n",
       " 1820    46.517539\n",
       " Length: 365, dtype: float64,\n",
       " DATE\n",
       " 2017-12-30    44.0\n",
       " 2017-12-31    44.0\n",
       " 2018-01-01    44.0\n",
       " 2018-01-02    44.0\n",
       " 2018-01-03    42.0\n",
       "               ... \n",
       " 2018-12-26    40.0\n",
       " 2018-12-27    39.0\n",
       " 2018-12-28    40.0\n",
       " 2018-12-29    42.0\n",
       " 2018-12-30    46.0\n",
       " Name: AvgTemp, Length: 365, dtype: float64)"
      ]
     },
     "execution_count": 36,
     "metadata": {},
     "output_type": "execute_result"
    }
   ],
   "source": [
    "ypred_test,test"
   ]
  },
  {
   "cell_type": "code",
   "execution_count": 37,
   "metadata": {
    "colab": {
     "base_uri": "https://localhost:8080/"
    },
    "id": "jep4BB1d5LyK",
    "outputId": "42023e23-f6ee-45b6-8810-0c3fda2a1b69"
   },
   "outputs": [
    {
     "data": {
      "text/plain": [
       "DatetimeIndex(['2017-12-30', '2017-12-31', '2018-01-01', '2018-01-02',\n",
       "               '2018-01-03', '2018-01-04', '2018-01-05', '2018-01-06',\n",
       "               '2018-01-07', '2018-01-08',\n",
       "               ...\n",
       "               '2018-12-20', '2018-12-21', '2018-12-22', '2018-12-23',\n",
       "               '2018-12-24', '2018-12-25', '2018-12-26', '2018-12-27',\n",
       "               '2018-12-28', '2018-12-29'],\n",
       "              dtype='datetime64[ns]', length=365, freq='D')"
      ]
     },
     "execution_count": 37,
     "metadata": {},
     "output_type": "execute_result"
    }
   ],
   "source": [
    "date_test=pd.date_range(start='2017-12-30',end=\"2018-12-29\")\n",
    "date_test"
   ]
  },
  {
   "cell_type": "code",
   "execution_count": 38,
   "metadata": {
    "id": "2SEFDeFs5mLt"
   },
   "outputs": [],
   "source": [
    "ypred_test.index=date_test"
   ]
  },
  {
   "cell_type": "code",
   "execution_count": 39,
   "metadata": {
    "colab": {
     "base_uri": "https://localhost:8080/"
    },
    "id": "4TSK9Ab65167",
    "outputId": "7278d920-e0ac-4e01-d8ee-a4b1ecb005a9"
   },
   "outputs": [
    {
     "data": {
      "text/plain": [
       "2017-12-30    42.929233\n",
       "2017-12-31    42.907451\n",
       "2018-01-01    43.061214\n",
       "2018-01-02    43.165983\n",
       "2018-01-03    43.203594\n",
       "                ...    \n",
       "2018-12-25    46.516778\n",
       "2018-12-26    46.516972\n",
       "2018-12-27    46.517164\n",
       "2018-12-28    46.517353\n",
       "2018-12-29    46.517539\n",
       "Freq: D, Length: 365, dtype: float64"
      ]
     },
     "execution_count": 39,
     "metadata": {},
     "output_type": "execute_result"
    }
   ],
   "source": [
    "ypred_test"
   ]
  },
  {
   "cell_type": "code",
   "execution_count": 40,
   "metadata": {
    "colab": {
     "base_uri": "https://localhost:8080/",
     "height": 296
    },
    "id": "TmCyrJFh57PB",
    "outputId": "25d9045c-cc50-4799-8372-cb22a82bd176"
   },
   "outputs": [
    {
     "data": {
      "text/plain": [
       "<matplotlib.axes._subplots.AxesSubplot at 0x28de1d03850>"
      ]
     },
     "execution_count": 40,
     "metadata": {},
     "output_type": "execute_result"
    },
    {
     "data": {
      "image/png": "[encoded data removed]",
      "text/plain": [
       "<Figure size 432x288 with 1 Axes>"
      ]
     },
     "metadata": {
      "needs_background": "light"
     },
     "output_type": "display_data"
    }
   ],
   "source": [
    "test.plot()\n",
    "ypred_test.plot()"
   ]
  },
  {
   "cell_type": "code",
   "execution_count": 41,
   "metadata": {
    "colab": {
     "base_uri": "https://localhost:8080/",
     "height": 287
    },
    "id": "Y7j4k9m86YUn",
    "outputId": "767da3e0-4dd5-4b23-ccec-b08071912ed2"
   },
   "outputs": [
    {
     "data": {
      "text/plain": [
       "<matplotlib.axes._subplots.AxesSubplot at 0x28ddfc95fa0>"
      ]
     },
     "execution_count": 41,
     "metadata": {},
     "output_type": "execute_result"
    },
    {
     "data": {
      "image/png": "[encoded data removed]",
      "text/plain": [
       "<Figure size 432x288 with 1 Axes>"
      ]
     },
     "metadata": {
      "needs_background": "light"
     },
     "output_type": "display_data"
    }
   ],
   "source": [
    "residuals=model_fit.resid\n",
    "residuals.plot(kind=\"kde\")"
   ]
  },
  {
   "cell_type": "code",
   "execution_count": 42,
   "metadata": {
    "colab": {
     "base_uri": "https://localhost:8080/"
    },
    "id": "mtK6KFbh6Nxh",
    "outputId": "d21dad22-dd87-41bb-dd93-5289f40ca08d"
   },
   "outputs": [
    {
     "name": "stdout",
     "output_type": "stream",
     "text": [
      "MSE is : 14.341767517370197\n",
      "RMSE is : 3.787052616134373\n"
     ]
    }
   ],
   "source": [
    "from sklearn.metrics import mean_squared_error\n",
    "mse=mean_squared_error(test,ypred_test)\n",
    "print(\"MSE is :\",mse)\n",
    "print(\"RMSE is :\",np.sqrt(mse))"
   ]
  },
  {
   "cell_type": "code",
   "execution_count": 43,
   "metadata": {
    "id": "Cfnn8LcY6pMf"
   },
   "outputs": [],
   "source": [
    "#predict 30 future values"
   ]
  },
  {
   "cell_type": "code",
   "execution_count": 44,
   "metadata": {
    "colab": {
     "base_uri": "https://localhost:8080/"
    },
    "id": "l-TbP7UI7KOc",
    "outputId": "8a35e01d-019f-4f09-b2df-0c04b50cc654"
   },
   "outputs": [
    {
     "name": "stderr",
     "output_type": "stream",
     "text": [
      "C:\\Users\\Krishna\\anaconda3\\lib\\site-packages\\statsmodels\\tsa\\base\\tsa_model.py:216: ValueWarning: A date index has been provided, but it has no associated frequency information and so will be ignored when e.g. forecasting.\n",
      "  warnings.warn('A date index has been provided, but it has no'\n"
     ]
    }
   ],
   "source": [
    "model=ARIMA(X,order=(1,0,5))\n",
    "model_fit=model.fit()"
   ]
  },
  {
   "cell_type": "code",
   "execution_count": 45,
   "metadata": {
    "colab": {
     "base_uri": "https://localhost:8080/"
    },
    "id": "apmxl-Pp8Nwq",
    "outputId": "c67b91f9-3b39-4911-c288-db9f93dff88d"
   },
   "outputs": [
    {
     "data": {
      "text/plain": [
       "DATE\n",
       "2014-01-01    40.0\n",
       "2014-01-02    43.0\n",
       "2014-01-03    41.0\n",
       "2014-01-04    37.0\n",
       "2014-01-05    31.0\n",
       "              ... \n",
       "2018-12-26    40.0\n",
       "2018-12-27    39.0\n",
       "2018-12-28    40.0\n",
       "2018-12-29    42.0\n",
       "2018-12-30    46.0\n",
       "Name: AvgTemp, Length: 1821, dtype: float64"
      ]
     },
     "execution_count": 45,
     "metadata": {},
     "output_type": "execute_result"
    }
   ],
   "source": [
    "X"
   ]
  },
  {
   "cell_type": "code",
   "execution_count": 46,
   "metadata": {
    "colab": {
     "base_uri": "https://localhost:8080/"
    },
    "id": "LKYgzx9S7dp1",
    "outputId": "c6d4ff4f-22b8-40c1-df82-14e2299c1c52"
   },
   "outputs": [
    {
     "name": "stderr",
     "output_type": "stream",
     "text": [
      "C:\\Users\\Krishna\\anaconda3\\lib\\site-packages\\statsmodels\\tsa\\base\\tsa_model.py:580: ValueWarning: No supported index is available. Prediction results will be given with an integer index beginning at `start`.\n",
      "  warnings.warn('No supported index is available.'\n"
     ]
    }
   ],
   "source": [
    "forecast=model_fit.predict(start=len(X),end=len(X)+29)"
   ]
  },
  {
   "cell_type": "code",
   "execution_count": 47,
   "metadata": {
    "colab": {
     "base_uri": "https://localhost:8080/"
    },
    "id": "ewEUmKMC7wkv",
    "outputId": "a749fdaa-0327-486c-8876-c27f5c169d71"
   },
   "outputs": [
    {
     "data": {
      "text/plain": [
       "1821    46.418065\n",
       "1822    46.113784\n",
       "1823    45.617773\n",
       "1824    45.249558\n",
       "1825    45.116987\n",
       "1826    45.136774\n",
       "1827    45.156283\n",
       "1828    45.175520\n",
       "1829    45.194486\n",
       "1830    45.213187\n",
       "1831    45.231626\n",
       "1832    45.249807\n",
       "1833    45.267733\n",
       "1834    45.285408\n",
       "1835    45.302835\n",
       "1836    45.320018\n",
       "1837    45.336961\n",
       "1838    45.353666\n",
       "1839    45.370137\n",
       "1840    45.386377\n",
       "1841    45.402390\n",
       "1842    45.418178\n",
       "1843    45.433745\n",
       "1844    45.449095\n",
       "1845    45.464229\n",
       "1846    45.479151\n",
       "1847    45.493864\n",
       "1848    45.508371\n",
       "1849    45.522674\n",
       "1850    45.536778\n",
       "dtype: float64"
      ]
     },
     "execution_count": 47,
     "metadata": {},
     "output_type": "execute_result"
    }
   ],
   "source": [
    "forecast"
   ]
  },
  {
   "cell_type": "code",
   "execution_count": 48,
   "metadata": {
    "colab": {
     "base_uri": "https://localhost:8080/"
    },
    "id": "-FEeMad674cp",
    "outputId": "dfdff8f9-574a-4c63-966d-f54a5db48583"
   },
   "outputs": [
    {
     "data": {
      "text/plain": [
       "(30, 30)"
      ]
     },
     "execution_count": 48,
     "metadata": {},
     "output_type": "execute_result"
    }
   ],
   "source": [
    "forecast_date=pd.date_range(start=\"2019-01-01\",end=\"2019-01-30\")\n",
    "len(forecast_date),len(forecast)"
   ]
  },
  {
   "cell_type": "code",
   "execution_count": 49,
   "metadata": {
    "id": "gqIam9ko8aJT"
   },
   "outputs": [],
   "source": [
    "forecast.index=forecast_date"
   ]
  },
  {
   "cell_type": "code",
   "execution_count": 50,
   "metadata": {
    "colab": {
     "base_uri": "https://localhost:8080/",
     "height": 319
    },
    "id": "LLaDYt9o8ojP",
    "outputId": "d707ebab-c885-493b-806f-fa39455b5f84"
   },
   "outputs": [
    {
     "data": {
      "text/plain": [
       "<matplotlib.axes._subplots.AxesSubplot at 0x28de5d479d0>"
      ]
     },
     "execution_count": 50,
     "metadata": {},
     "output_type": "execute_result"
    },
    {
     "data": {
      "image/png": "[encoded data removed]",
      "text/plain": [
       "<Figure size 432x288 with 1 Axes>"
      ]
     },
     "metadata": {
      "needs_background": "light"
     },
     "output_type": "display_data"
    }
   ],
   "source": [
    "forecast.plot()"
   ]
  },
  {
   "cell_type": "code",
   "execution_count": null,
   "metadata": {
    "id": "TXthzWaoUFvb"
   },
   "outputs": [],
   "source": []
  }
 ],
 "metadata": {
  "colab": {
   "name": "Untitled8.ipynb",
   "provenance": [],
   "toc_visible": true
  },
  "kernelspec": {
   "display_name": "Python 3",
   "language": "python",
   "name": "python3"
  },
  "language_info": {
   "codemirror_mode": {
    "name": "ipython",
    "version": 3
   },
   "file_extension": ".py",
   "mimetype": "text/x-python",
   "name": "python",
   "nbconvert_exporter": "python",
   "pygments_lexer": "ipython3",
   "version": "3.8.3"
  }
 },
 "nbformat": 4,
 "nbformat_minor": 1
}
