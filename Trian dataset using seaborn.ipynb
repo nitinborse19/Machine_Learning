{
 "cells": [
  {
   "cell_type": "code",
   "execution_count": 7,
   "metadata": {},
   "outputs": [
    {
     "data": {
      "text/html": [
       "<div>\n",
       "<style scoped>\n",
       "    .dataframe tbody tr th:only-of-type {\n",
       "        vertical-align: middle;\n",
       "    }\n",
       "\n",
       "    .dataframe tbody tr th {\n",
       "        vertical-align: top;\n",
       "    }\n",
       "\n",
       "    .dataframe thead th {\n",
       "        text-align: right;\n",
       "    }\n",
       "</style>\n",
       "<table border=\"1\" class=\"dataframe\">\n",
       "  <thead>\n",
       "    <tr style=\"text-align: right;\">\n",
       "      <th></th>\n",
       "      <th>passenger_id</th>\n",
       "      <th>pclass</th>\n",
       "      <th>name</th>\n",
       "      <th>sex</th>\n",
       "      <th>age</th>\n",
       "      <th>sibsp</th>\n",
       "      <th>parch</th>\n",
       "      <th>ticket</th>\n",
       "      <th>fare</th>\n",
       "      <th>cabin</th>\n",
       "      <th>embarked</th>\n",
       "      <th>boat</th>\n",
       "      <th>body</th>\n",
       "      <th>home.dest</th>\n",
       "      <th>survived</th>\n",
       "    </tr>\n",
       "  </thead>\n",
       "  <tbody>\n",
       "    <tr>\n",
       "      <th>0</th>\n",
       "      <td>1216</td>\n",
       "      <td>3</td>\n",
       "      <td>Smyth, Miss. Julia</td>\n",
       "      <td>female</td>\n",
       "      <td>NaN</td>\n",
       "      <td>0</td>\n",
       "      <td>0</td>\n",
       "      <td>335432</td>\n",
       "      <td>7.7333</td>\n",
       "      <td>NaN</td>\n",
       "      <td>Q</td>\n",
       "      <td>13</td>\n",
       "      <td>NaN</td>\n",
       "      <td>NaN</td>\n",
       "      <td>1</td>\n",
       "    </tr>\n",
       "    <tr>\n",
       "      <th>1</th>\n",
       "      <td>699</td>\n",
       "      <td>3</td>\n",
       "      <td>Cacic, Mr. Luka</td>\n",
       "      <td>male</td>\n",
       "      <td>38.0</td>\n",
       "      <td>0</td>\n",
       "      <td>0</td>\n",
       "      <td>315089</td>\n",
       "      <td>8.6625</td>\n",
       "      <td>NaN</td>\n",
       "      <td>S</td>\n",
       "      <td>NaN</td>\n",
       "      <td>NaN</td>\n",
       "      <td>Croatia</td>\n",
       "      <td>0</td>\n",
       "    </tr>\n",
       "    <tr>\n",
       "      <th>2</th>\n",
       "      <td>1267</td>\n",
       "      <td>3</td>\n",
       "      <td>Van Impe, Mrs. Jean Baptiste (Rosalie Paula Go...</td>\n",
       "      <td>female</td>\n",
       "      <td>30.0</td>\n",
       "      <td>1</td>\n",
       "      <td>1</td>\n",
       "      <td>345773</td>\n",
       "      <td>24.1500</td>\n",
       "      <td>NaN</td>\n",
       "      <td>S</td>\n",
       "      <td>NaN</td>\n",
       "      <td>NaN</td>\n",
       "      <td>NaN</td>\n",
       "      <td>0</td>\n",
       "    </tr>\n",
       "    <tr>\n",
       "      <th>3</th>\n",
       "      <td>449</td>\n",
       "      <td>2</td>\n",
       "      <td>Hocking, Mrs. Elizabeth (Eliza Needs)</td>\n",
       "      <td>female</td>\n",
       "      <td>54.0</td>\n",
       "      <td>1</td>\n",
       "      <td>3</td>\n",
       "      <td>29105</td>\n",
       "      <td>23.0000</td>\n",
       "      <td>NaN</td>\n",
       "      <td>S</td>\n",
       "      <td>4</td>\n",
       "      <td>NaN</td>\n",
       "      <td>Cornwall / Akron, OH</td>\n",
       "      <td>1</td>\n",
       "    </tr>\n",
       "    <tr>\n",
       "      <th>4</th>\n",
       "      <td>576</td>\n",
       "      <td>2</td>\n",
       "      <td>Veal, Mr. James</td>\n",
       "      <td>male</td>\n",
       "      <td>40.0</td>\n",
       "      <td>0</td>\n",
       "      <td>0</td>\n",
       "      <td>28221</td>\n",
       "      <td>13.0000</td>\n",
       "      <td>NaN</td>\n",
       "      <td>S</td>\n",
       "      <td>NaN</td>\n",
       "      <td>NaN</td>\n",
       "      <td>Barre, Co Washington, VT</td>\n",
       "      <td>0</td>\n",
       "    </tr>\n",
       "    <tr>\n",
       "      <th>...</th>\n",
       "      <td>...</td>\n",
       "      <td>...</td>\n",
       "      <td>...</td>\n",
       "      <td>...</td>\n",
       "      <td>...</td>\n",
       "      <td>...</td>\n",
       "      <td>...</td>\n",
       "      <td>...</td>\n",
       "      <td>...</td>\n",
       "      <td>...</td>\n",
       "      <td>...</td>\n",
       "      <td>...</td>\n",
       "      <td>...</td>\n",
       "      <td>...</td>\n",
       "      <td>...</td>\n",
       "    </tr>\n",
       "    <tr>\n",
       "      <th>845</th>\n",
       "      <td>158</td>\n",
       "      <td>1</td>\n",
       "      <td>Hipkins, Mr. William Edward</td>\n",
       "      <td>male</td>\n",
       "      <td>55.0</td>\n",
       "      <td>0</td>\n",
       "      <td>0</td>\n",
       "      <td>680</td>\n",
       "      <td>50.0000</td>\n",
       "      <td>C39</td>\n",
       "      <td>S</td>\n",
       "      <td>NaN</td>\n",
       "      <td>NaN</td>\n",
       "      <td>London / Birmingham</td>\n",
       "      <td>0</td>\n",
       "    </tr>\n",
       "    <tr>\n",
       "      <th>846</th>\n",
       "      <td>174</td>\n",
       "      <td>1</td>\n",
       "      <td>Kent, Mr. Edward Austin</td>\n",
       "      <td>male</td>\n",
       "      <td>58.0</td>\n",
       "      <td>0</td>\n",
       "      <td>0</td>\n",
       "      <td>11771</td>\n",
       "      <td>29.7000</td>\n",
       "      <td>B37</td>\n",
       "      <td>C</td>\n",
       "      <td>NaN</td>\n",
       "      <td>258.0</td>\n",
       "      <td>Buffalo, NY</td>\n",
       "      <td>0</td>\n",
       "    </tr>\n",
       "    <tr>\n",
       "      <th>847</th>\n",
       "      <td>467</td>\n",
       "      <td>2</td>\n",
       "      <td>Kantor, Mrs. Sinai (Miriam Sternin)</td>\n",
       "      <td>female</td>\n",
       "      <td>24.0</td>\n",
       "      <td>1</td>\n",
       "      <td>0</td>\n",
       "      <td>244367</td>\n",
       "      <td>26.0000</td>\n",
       "      <td>NaN</td>\n",
       "      <td>S</td>\n",
       "      <td>12</td>\n",
       "      <td>NaN</td>\n",
       "      <td>Moscow / Bronx, NY</td>\n",
       "      <td>1</td>\n",
       "    </tr>\n",
       "    <tr>\n",
       "      <th>848</th>\n",
       "      <td>1112</td>\n",
       "      <td>3</td>\n",
       "      <td>Peacock, Miss. Treasteall</td>\n",
       "      <td>female</td>\n",
       "      <td>3.0</td>\n",
       "      <td>1</td>\n",
       "      <td>1</td>\n",
       "      <td>SOTON/O.Q. 3101315</td>\n",
       "      <td>13.7750</td>\n",
       "      <td>NaN</td>\n",
       "      <td>S</td>\n",
       "      <td>NaN</td>\n",
       "      <td>NaN</td>\n",
       "      <td>NaN</td>\n",
       "      <td>0</td>\n",
       "    </tr>\n",
       "    <tr>\n",
       "      <th>849</th>\n",
       "      <td>425</td>\n",
       "      <td>2</td>\n",
       "      <td>Greenberg, Mr. Samuel</td>\n",
       "      <td>male</td>\n",
       "      <td>52.0</td>\n",
       "      <td>0</td>\n",
       "      <td>0</td>\n",
       "      <td>250647</td>\n",
       "      <td>13.0000</td>\n",
       "      <td>NaN</td>\n",
       "      <td>S</td>\n",
       "      <td>NaN</td>\n",
       "      <td>19.0</td>\n",
       "      <td>Bronx, NY</td>\n",
       "      <td>0</td>\n",
       "    </tr>\n",
       "  </tbody>\n",
       "</table>\n",
       "<p>850 rows × 15 columns</p>\n",
       "</div>"
      ],
      "text/plain": [
       "     passenger_id  pclass                                               name  \\\n",
       "0            1216       3                                 Smyth, Miss. Julia   \n",
       "1             699       3                                    Cacic, Mr. Luka   \n",
       "2            1267       3  Van Impe, Mrs. Jean Baptiste (Rosalie Paula Go...   \n",
       "3             449       2              Hocking, Mrs. Elizabeth (Eliza Needs)   \n",
       "4             576       2                                    Veal, Mr. James   \n",
       "..            ...     ...                                                ...   \n",
       "845           158       1                        Hipkins, Mr. William Edward   \n",
       "846           174       1                            Kent, Mr. Edward Austin   \n",
       "847           467       2                Kantor, Mrs. Sinai (Miriam Sternin)   \n",
       "848          1112       3                          Peacock, Miss. Treasteall   \n",
       "849           425       2                              Greenberg, Mr. Samuel   \n",
       "\n",
       "        sex   age  sibsp  parch              ticket     fare cabin embarked  \\\n",
       "0    female   NaN      0      0              335432   7.7333   NaN        Q   \n",
       "1      male  38.0      0      0              315089   8.6625   NaN        S   \n",
       "2    female  30.0      1      1              345773  24.1500   NaN        S   \n",
       "3    female  54.0      1      3               29105  23.0000   NaN        S   \n",
       "4      male  40.0      0      0               28221  13.0000   NaN        S   \n",
       "..      ...   ...    ...    ...                 ...      ...   ...      ...   \n",
       "845    male  55.0      0      0                 680  50.0000   C39        S   \n",
       "846    male  58.0      0      0               11771  29.7000   B37        C   \n",
       "847  female  24.0      1      0              244367  26.0000   NaN        S   \n",
       "848  female   3.0      1      1  SOTON/O.Q. 3101315  13.7750   NaN        S   \n",
       "849    male  52.0      0      0              250647  13.0000   NaN        S   \n",
       "\n",
       "    boat   body                 home.dest  survived  \n",
       "0     13    NaN                       NaN         1  \n",
       "1    NaN    NaN                   Croatia         0  \n",
       "2    NaN    NaN                       NaN         0  \n",
       "3      4    NaN      Cornwall / Akron, OH         1  \n",
       "4    NaN    NaN  Barre, Co Washington, VT         0  \n",
       "..   ...    ...                       ...       ...  \n",
       "845  NaN    NaN       London / Birmingham         0  \n",
       "846  NaN  258.0               Buffalo, NY         0  \n",
       "847   12    NaN        Moscow / Bronx, NY         1  \n",
       "848  NaN    NaN                       NaN         0  \n",
       "849  NaN   19.0                 Bronx, NY         0  \n",
       "\n",
       "[850 rows x 15 columns]"
      ]
     },
     "execution_count": 7,
     "metadata": {},
     "output_type": "execute_result"
    }
   ],
   "source": [
    "import numpy as np\n",
    "import pandas as pd\n",
    "import matplotlib.pyplot as plt\n",
    "import seaborn as sns\n",
    "df=pd.read_csv(\"C:\\\\Users\\\\Krishna\\\\Desktop\\\\dataset\\\\titanic_train.csv\")\n",
    "df"
   ]
  },
  {
   "cell_type": "code",
   "execution_count": 8,
   "metadata": {},
   "outputs": [
    {
     "name": "stdout",
     "output_type": "stream",
     "text": [
      "passenger_id      0\n",
      "pclass            0\n",
      "name              0\n",
      "sex               0\n",
      "age             174\n",
      "sibsp             0\n",
      "parch             0\n",
      "ticket            0\n",
      "fare              1\n",
      "cabin           659\n",
      "embarked          1\n",
      "boat            542\n",
      "body            777\n",
      "home.dest       386\n",
      "survived          0\n",
      "dtype: int64\n"
     ]
    }
   ],
   "source": [
    "print(df.isna().sum())"
   ]
  },
  {
   "cell_type": "code",
   "execution_count": 49,
   "metadata": {},
   "outputs": [
    {
     "data": {
      "text/plain": [
       "<module 'matplotlib.pyplot' from 'C:\\\\Users\\\\Krishna\\\\anaconda3\\\\lib\\\\site-packages\\\\matplotlib\\\\pyplot.py'>"
      ]
     },
     "execution_count": 49,
     "metadata": {},
     "output_type": "execute_result"
    },
    {
     "data": {
      "image/png": "[encoded data removed]",
      "text/plain": [
       "<Figure size 360x360 with 1 Axes>"
      ]
     },
     "metadata": {
      "needs_background": "light"
     },
     "output_type": "display_data"
    }
   ],
   "source": [
    "df[\"age\"]=df[\"age\"].fillna(df[\"age\"].median())\n",
    "df[\"name\"]=df[\"name\"].fillna(\"u\")\n",
    "df[\"embarked\"]=df[\"embarked\"].fillna(df[\"embarked\"])\n",
    "df[\"cabin\"]=df[\"cabin\"].fillna(\"u\")\n",
    "sns.catplot(x=\"sex\",data=df,kind=\"count\")\n",
    "plt"
   ]
  },
  {
   "cell_type": "code",
   "execution_count": 10,
   "metadata": {},
   "outputs": [
    {
     "data": {
      "text/plain": [
       "<module 'matplotlib.pyplot' from 'C:\\\\Users\\\\Krishna\\\\anaconda3\\\\lib\\\\site-packages\\\\matplotlib\\\\pyplot.py'>"
      ]
     },
     "execution_count": 10,
     "metadata": {},
     "output_type": "execute_result"
    },
    {
     "data": {
      "image/png": "[encoded data removed]",
      "text/plain": [
       "<Figure size 360x360 with 1 Axes>"
      ]
     },
     "metadata": {
      "needs_background": "light"
     },
     "output_type": "display_data"
    }
   ],
   "source": [
    "sns.catplot(x=\"pclass\",data=df,kind=\"count\")\n",
    "plt"
   ]
  },
  {
   "cell_type": "code",
   "execution_count": 12,
   "metadata": {},
   "outputs": [
    {
     "data": {
      "text/plain": [
       "<module 'matplotlib.pyplot' from 'C:\\\\Users\\\\Krishna\\\\anaconda3\\\\lib\\\\site-packages\\\\matplotlib\\\\pyplot.py'>"
      ]
     },
     "execution_count": 12,
     "metadata": {},
     "output_type": "execute_result"
    },
    {
     "data": {
      "image/png": "[encoded data removed]",
      "text/plain": [
       "<Figure size 430.5x360 with 1 Axes>"
      ]
     },
     "metadata": {
      "needs_background": "light"
     },
     "output_type": "display_data"
    }
   ],
   "source": [
    "sns.catplot(x=\"pclass\",data=df,kind=\"count\",hue=\"sex\")\n",
    "plt"
   ]
  },
  {
   "cell_type": "code",
   "execution_count": 19,
   "metadata": {
    "scrolled": true
   },
   "outputs": [
    {
     "name": "stdout",
     "output_type": "stream",
     "text": [
      "     passenger_id  pclass                                               name  \\\n",
      "0            1216       3                                 Smyth, Miss. Julia   \n",
      "1             699       3                                    Cacic, Mr. Luka   \n",
      "2            1267       3  Van Impe, Mrs. Jean Baptiste (Rosalie Paula Go...   \n",
      "3             449       2              Hocking, Mrs. Elizabeth (Eliza Needs)   \n",
      "4             576       2                                    Veal, Mr. James   \n",
      "..            ...     ...                                                ...   \n",
      "845           158       1                        Hipkins, Mr. William Edward   \n",
      "846           174       1                            Kent, Mr. Edward Austin   \n",
      "847           467       2                Kantor, Mrs. Sinai (Miriam Sternin)   \n",
      "848          1112       3                          Peacock, Miss. Treasteall   \n",
      "849           425       2                              Greenberg, Mr. Samuel   \n",
      "\n",
      "        sex   age  sibsp  parch              ticket     fare cabin embarked  \\\n",
      "0    female  28.0      0      0              335432   7.7333     u        Q   \n",
      "1      male  38.0      0      0              315089   8.6625     u        S   \n",
      "2    female  30.0      1      1              345773  24.1500     u        S   \n",
      "3    female  54.0      1      3               29105  23.0000     u        S   \n",
      "4      male  40.0      0      0               28221  13.0000     u        S   \n",
      "..      ...   ...    ...    ...                 ...      ...   ...      ...   \n",
      "845    male  55.0      0      0                 680  50.0000   C39        S   \n",
      "846    male  58.0      0      0               11771  29.7000   B37        C   \n",
      "847  female  24.0      1      0              244367  26.0000     u        S   \n",
      "848  female   3.0      1      1  SOTON/O.Q. 3101315  13.7750     u        S   \n",
      "849    male  52.0      0      0              250647  13.0000     u        S   \n",
      "\n",
      "    boat   body                 home.dest  survived  People  \n",
      "0     13    NaN                       NaN         1  female  \n",
      "1    NaN    NaN                   Croatia         0    male  \n",
      "2    NaN    NaN                       NaN         0  female  \n",
      "3      4    NaN      Cornwall / Akron, OH         1  female  \n",
      "4    NaN    NaN  Barre, Co Washington, VT         0    male  \n",
      "..   ...    ...                       ...       ...     ...  \n",
      "845  NaN    NaN       London / Birmingham         0    male  \n",
      "846  NaN  258.0               Buffalo, NY         0    male  \n",
      "847   12    NaN        Moscow / Bronx, NY         1  female  \n",
      "848  NaN    NaN                       NaN         0   child  \n",
      "849  NaN   19.0                 Bronx, NY         0    male  \n",
      "\n",
      "[850 rows x 16 columns]\n"
     ]
    },
    {
     "data": {
      "text/plain": [
       "<module 'matplotlib.pyplot' from 'C:\\\\Users\\\\Krishna\\\\anaconda3\\\\lib\\\\site-packages\\\\matplotlib\\\\pyplot.py'>"
      ]
     },
     "execution_count": 19,
     "metadata": {},
     "output_type": "execute_result"
    },
    {
     "data": {
      "image/png": "[encoded data removed]",
      "text/plain": [
       "<Figure size 430.5x360 with 1 Axes>"
      ]
     },
     "metadata": {
      "needs_background": "light"
     },
     "output_type": "display_data"
    }
   ],
   "source": [
    "def check_Age(data):\n",
    "    #print(data)\n",
    "    Age,gender=data\n",
    "    if Age<=16.0:\n",
    "        return \"child\"\n",
    "    else:\n",
    "        return gender\n",
    "df[\"People\"]=df[[\"age\",\"sex\"]].apply(check_Age,axis=1)    # axis =1 for column and 0 for row\n",
    "print(df)\n",
    "sns.catplot(x=\"pclass\",data=df,kind=\"count\",hue=\"People\")\n",
    "plt"
   ]
  },
  {
   "cell_type": "code",
   "execution_count": 24,
   "metadata": {},
   "outputs": [
    {
     "data": {
      "text/plain": [
       "<module 'matplotlib.pyplot' from 'C:\\\\Users\\\\Krishna\\\\anaconda3\\\\lib\\\\site-packages\\\\matplotlib\\\\pyplot.py'>"
      ]
     },
     "execution_count": 24,
     "metadata": {},
     "output_type": "execute_result"
    },
    {
     "data": {
      "image/png": "[encoded data removed]",
      "text/plain": [
       "<Figure size 430.5x360 with 1 Axes>"
      ]
     },
     "metadata": {
      "needs_background": "light"
     },
     "output_type": "display_data"
    }
   ],
   "source": [
    "sns.catplot(x=\"sex\",data=df,kind=\"count\",hue=\"People\")\n",
    "plt"
   ]
  },
  {
   "cell_type": "code",
   "execution_count": 27,
   "metadata": {},
   "outputs": [
    {
     "data": {
      "text/plain": [
       "<module 'matplotlib.pyplot' from 'C:\\\\Users\\\\Krishna\\\\anaconda3\\\\lib\\\\site-packages\\\\matplotlib\\\\pyplot.py'>"
      ]
     },
     "execution_count": 27,
     "metadata": {},
     "output_type": "execute_result"
    },
    {
     "data": {
      "image/png": "[encoded data removed]",
      "text/plain": [
       "<Figure size 360x360 with 1 Axes>"
      ]
     },
     "metadata": {
      "needs_background": "light"
     },
     "output_type": "display_data"
    }
   ],
   "source": [
    "sns.catplot(x=\"embarked\",data=df,kind=\"count\")       #hue=\"People\"\n",
    "plt"
   ]
  },
  {
   "cell_type": "code",
   "execution_count": 29,
   "metadata": {},
   "outputs": [
    {
     "data": {
      "text/plain": [
       "<module 'matplotlib.pyplot' from 'C:\\\\Users\\\\Krishna\\\\anaconda3\\\\lib\\\\site-packages\\\\matplotlib\\\\pyplot.py'>"
      ]
     },
     "execution_count": 29,
     "metadata": {},
     "output_type": "execute_result"
    },
    {
     "data": {
      "image/png": "[encoded data removed]",
      "text/plain": [
       "<Figure size 402.375x360 with 1 Axes>"
      ]
     },
     "metadata": {
      "needs_background": "light"
     },
     "output_type": "display_data"
    }
   ],
   "source": [
    "sns.catplot(x=\"embarked\",data=df,kind=\"count\",hue=\"pclass\")       #hue=\"People\"\n",
    "plt"
   ]
  },
  {
   "cell_type": "code",
   "execution_count": 32,
   "metadata": {},
   "outputs": [
    {
     "name": "stdout",
     "output_type": "stream",
     "text": [
      "     passenger_id  pclass                                               name  \\\n",
      "0            1216       3                                 Smyth, Miss. Julia   \n",
      "1             699       3                                    Cacic, Mr. Luka   \n",
      "2            1267       3  Van Impe, Mrs. Jean Baptiste (Rosalie Paula Go...   \n",
      "3             449       2              Hocking, Mrs. Elizabeth (Eliza Needs)   \n",
      "4             576       2                                    Veal, Mr. James   \n",
      "..            ...     ...                                                ...   \n",
      "845           158       1                        Hipkins, Mr. William Edward   \n",
      "846           174       1                            Kent, Mr. Edward Austin   \n",
      "847           467       2                Kantor, Mrs. Sinai (Miriam Sternin)   \n",
      "848          1112       3                          Peacock, Miss. Treasteall   \n",
      "849           425       2                              Greenberg, Mr. Samuel   \n",
      "\n",
      "        sex   age  sibsp  parch              ticket     fare cabin embarked  \\\n",
      "0    female  28.0      0      0              335432   7.7333     u        Q   \n",
      "1      male  38.0      0      0              315089   8.6625     u        S   \n",
      "2    female  30.0      1      1              345773  24.1500     u        S   \n",
      "3    female  54.0      1      3               29105  23.0000     u        S   \n",
      "4      male  40.0      0      0               28221  13.0000     u        S   \n",
      "..      ...   ...    ...    ...                 ...      ...   ...      ...   \n",
      "845    male  55.0      0      0                 680  50.0000   C39        S   \n",
      "846    male  58.0      0      0               11771  29.7000   B37        C   \n",
      "847  female  24.0      1      0              244367  26.0000     u        S   \n",
      "848  female   3.0      1      1  SOTON/O.Q. 3101315  13.7750     u        S   \n",
      "849    male  52.0      0      0              250647  13.0000     u        S   \n",
      "\n",
      "    boat   body                 home.dest  survived  People          family  \n",
      "0     13    NaN                       NaN         1  female  Without family  \n",
      "1    NaN    NaN                   Croatia         0    male  Without family  \n",
      "2    NaN    NaN                       NaN         0  female     With family  \n",
      "3      4    NaN      Cornwall / Akron, OH         1  female     With family  \n",
      "4    NaN    NaN  Barre, Co Washington, VT         0    male  Without family  \n",
      "..   ...    ...                       ...       ...     ...             ...  \n",
      "845  NaN    NaN       London / Birmingham         0    male  Without family  \n",
      "846  NaN  258.0               Buffalo, NY         0    male  Without family  \n",
      "847   12    NaN        Moscow / Bronx, NY         1  female     With family  \n",
      "848  NaN    NaN                       NaN         0   child     With family  \n",
      "849  NaN   19.0                 Bronx, NY         0    male  Without family  \n",
      "\n",
      "[850 rows x 17 columns]\n"
     ]
    },
    {
     "data": {
      "text/plain": [
       "<module 'matplotlib.pyplot' from 'C:\\\\Users\\\\Krishna\\\\anaconda3\\\\lib\\\\site-packages\\\\matplotlib\\\\pyplot.py'>"
      ]
     },
     "execution_count": 32,
     "metadata": {},
     "output_type": "execute_result"
    },
    {
     "data": {
      "image/png": "[encoded data removed]",
      "text/plain": [
       "<Figure size 360x360 with 1 Axes>"
      ]
     },
     "metadata": {
      "needs_background": "light"
     },
     "output_type": "display_data"
    }
   ],
   "source": [
    "def check_alone(data):\n",
    "    #print(data)                                                #sibsp\tparch\n",
    "    sibsp,parch=data\n",
    "    c=parch+sibsp\n",
    "    if c>0:\n",
    "        return \"With family\"\n",
    "    else:\n",
    "        return \"Without family\"\n",
    "df[\"family\"]=df[[\"parch\",\"sibsp\"]].apply(check_alone,axis=1)    \n",
    "print(df)\n",
    "sns.catplot(x=\"family\",data=df,kind=\"count\")\n",
    "plt"
   ]
  },
  {
   "cell_type": "code",
   "execution_count": 34,
   "metadata": {},
   "outputs": [
    {
     "name": "stdout",
     "output_type": "stream",
     "text": [
      "     passenger_id  pclass                                               name  \\\n",
      "0            1216       3                                 Smyth, Miss. Julia   \n",
      "1             699       3                                    Cacic, Mr. Luka   \n",
      "2            1267       3  Van Impe, Mrs. Jean Baptiste (Rosalie Paula Go...   \n",
      "3             449       2              Hocking, Mrs. Elizabeth (Eliza Needs)   \n",
      "4             576       2                                    Veal, Mr. James   \n",
      "..            ...     ...                                                ...   \n",
      "845           158       1                        Hipkins, Mr. William Edward   \n",
      "846           174       1                            Kent, Mr. Edward Austin   \n",
      "847           467       2                Kantor, Mrs. Sinai (Miriam Sternin)   \n",
      "848          1112       3                          Peacock, Miss. Treasteall   \n",
      "849           425       2                              Greenberg, Mr. Samuel   \n",
      "\n",
      "        sex   age  sibsp  parch              ticket     fare cabin embarked  \\\n",
      "0    female  28.0      0      0              335432   7.7333     u        Q   \n",
      "1      male  38.0      0      0              315089   8.6625     u        S   \n",
      "2    female  30.0      1      1              345773  24.1500     u        S   \n",
      "3    female  54.0      1      3               29105  23.0000     u        S   \n",
      "4      male  40.0      0      0               28221  13.0000     u        S   \n",
      "..      ...   ...    ...    ...                 ...      ...   ...      ...   \n",
      "845    male  55.0      0      0                 680  50.0000   C39        S   \n",
      "846    male  58.0      0      0               11771  29.7000   B37        C   \n",
      "847  female  24.0      1      0              244367  26.0000     u        S   \n",
      "848  female   3.0      1      1  SOTON/O.Q. 3101315  13.7750     u        S   \n",
      "849    male  52.0      0      0              250647  13.0000     u        S   \n",
      "\n",
      "    boat   body                 home.dest  survived  People          family  \n",
      "0     13    NaN                       NaN         1  female  Without family  \n",
      "1    NaN    NaN                   Croatia         0    male  Without family  \n",
      "2    NaN    NaN                       NaN         0  female     With family  \n",
      "3      4    NaN      Cornwall / Akron, OH         1  female     With family  \n",
      "4    NaN    NaN  Barre, Co Washington, VT         0    male  Without family  \n",
      "..   ...    ...                       ...       ...     ...             ...  \n",
      "845  NaN    NaN       London / Birmingham         0    male  Without family  \n",
      "846  NaN  258.0               Buffalo, NY         0    male  Without family  \n",
      "847   12    NaN        Moscow / Bronx, NY         1  female     With family  \n",
      "848  NaN    NaN                       NaN         0   child     With family  \n",
      "849  NaN   19.0                 Bronx, NY         0    male  Without family  \n",
      "\n",
      "[850 rows x 17 columns]\n"
     ]
    },
    {
     "data": {
      "text/plain": [
       "<module 'matplotlib.pyplot' from 'C:\\\\Users\\\\Krishna\\\\anaconda3\\\\lib\\\\site-packages\\\\matplotlib\\\\pyplot.py'>"
      ]
     },
     "execution_count": 34,
     "metadata": {},
     "output_type": "execute_result"
    },
    {
     "data": {
      "image/png": "[encoded data removed]",
      "text/plain": [
       "<Figure size 469.125x360 with 1 Axes>"
      ]
     },
     "metadata": {
      "needs_background": "light"
     },
     "output_type": "display_data"
    }
   ],
   "source": [
    "def check_alone(data):\n",
    "    #print(data)                                                #sibsp\tparch\n",
    "    sibsp,parch=data\n",
    "    c=parch+sibsp\n",
    "    if c>0:\n",
    "        return \"With family\"\n",
    "    else:\n",
    "        return \"Without family\"\n",
    "df[\"family\"]=df[[\"parch\",\"sibsp\"]].apply(check_alone,axis=1)    \n",
    "print(df)\n",
    "sns.catplot(x=\"pclass\",data=df,kind=\"count\",hue=\"family\")\n",
    "plt"
   ]
  },
  {
   "cell_type": "code",
   "execution_count": 35,
   "metadata": {},
   "outputs": [
    {
     "name": "stdout",
     "output_type": "stream",
     "text": [
      "     passenger_id  pclass                                               name  \\\n",
      "0            1216       3                                 Smyth, Miss. Julia   \n",
      "1             699       3                                    Cacic, Mr. Luka   \n",
      "2            1267       3  Van Impe, Mrs. Jean Baptiste (Rosalie Paula Go...   \n",
      "3             449       2              Hocking, Mrs. Elizabeth (Eliza Needs)   \n",
      "4             576       2                                    Veal, Mr. James   \n",
      "..            ...     ...                                                ...   \n",
      "845           158       1                        Hipkins, Mr. William Edward   \n",
      "846           174       1                            Kent, Mr. Edward Austin   \n",
      "847           467       2                Kantor, Mrs. Sinai (Miriam Sternin)   \n",
      "848          1112       3                          Peacock, Miss. Treasteall   \n",
      "849           425       2                              Greenberg, Mr. Samuel   \n",
      "\n",
      "        sex   age  sibsp  parch              ticket     fare cabin embarked  \\\n",
      "0    female  28.0      0      0              335432   7.7333     u        Q   \n",
      "1      male  38.0      0      0              315089   8.6625     u        S   \n",
      "2    female  30.0      1      1              345773  24.1500     u        S   \n",
      "3    female  54.0      1      3               29105  23.0000     u        S   \n",
      "4      male  40.0      0      0               28221  13.0000     u        S   \n",
      "..      ...   ...    ...    ...                 ...      ...   ...      ...   \n",
      "845    male  55.0      0      0                 680  50.0000   C39        S   \n",
      "846    male  58.0      0      0               11771  29.7000   B37        C   \n",
      "847  female  24.0      1      0              244367  26.0000     u        S   \n",
      "848  female   3.0      1      1  SOTON/O.Q. 3101315  13.7750     u        S   \n",
      "849    male  52.0      0      0              250647  13.0000     u        S   \n",
      "\n",
      "    boat   body                 home.dest  survived  People          family  \n",
      "0     13    NaN                       NaN         1  female  Without family  \n",
      "1    NaN    NaN                   Croatia         0    male  Without family  \n",
      "2    NaN    NaN                       NaN         0  female     With family  \n",
      "3      4    NaN      Cornwall / Akron, OH         1  female     With family  \n",
      "4    NaN    NaN  Barre, Co Washington, VT         0    male  Without family  \n",
      "..   ...    ...                       ...       ...     ...             ...  \n",
      "845  NaN    NaN       London / Birmingham         0    male  Without family  \n",
      "846  NaN  258.0               Buffalo, NY         0    male  Without family  \n",
      "847   12    NaN        Moscow / Bronx, NY         1  female     With family  \n",
      "848  NaN    NaN                       NaN         0   child     With family  \n",
      "849  NaN   19.0                 Bronx, NY         0    male  Without family  \n",
      "\n",
      "[850 rows x 17 columns]\n"
     ]
    },
    {
     "data": {
      "text/plain": [
       "<module 'matplotlib.pyplot' from 'C:\\\\Users\\\\Krishna\\\\anaconda3\\\\lib\\\\site-packages\\\\matplotlib\\\\pyplot.py'>"
      ]
     },
     "execution_count": 35,
     "metadata": {},
     "output_type": "execute_result"
    },
    {
     "data": {
      "image/png": "[encoded data removed]",
      "text/plain": [
       "<Figure size 469.125x360 with 1 Axes>"
      ]
     },
     "metadata": {
      "needs_background": "light"
     },
     "output_type": "display_data"
    }
   ],
   "source": [
    "def check_alone(data):\n",
    "    #print(data)                                                #sibsp\tparch\n",
    "    sibsp,parch=data\n",
    "    c=parch+sibsp\n",
    "    if c>0:\n",
    "        return \"With family\"\n",
    "    else:\n",
    "        return \"Without family\"\n",
    "df[\"family\"]=df[[\"parch\",\"sibsp\"]].apply(check_alone,axis=1)    \n",
    "print(df)\n",
    "sns.catplot(x=\"People\",data=df,kind=\"count\",hue=\"family\")\n",
    "plt"
   ]
  },
  {
   "cell_type": "code",
   "execution_count": 36,
   "metadata": {},
   "outputs": [
    {
     "name": "stdout",
     "output_type": "stream",
     "text": [
      "     passenger_id  pclass                                               name  \\\n",
      "0            1216       3                                 Smyth, Miss. Julia   \n",
      "1             699       3                                    Cacic, Mr. Luka   \n",
      "2            1267       3  Van Impe, Mrs. Jean Baptiste (Rosalie Paula Go...   \n",
      "3             449       2              Hocking, Mrs. Elizabeth (Eliza Needs)   \n",
      "4             576       2                                    Veal, Mr. James   \n",
      "..            ...     ...                                                ...   \n",
      "845           158       1                        Hipkins, Mr. William Edward   \n",
      "846           174       1                            Kent, Mr. Edward Austin   \n",
      "847           467       2                Kantor, Mrs. Sinai (Miriam Sternin)   \n",
      "848          1112       3                          Peacock, Miss. Treasteall   \n",
      "849           425       2                              Greenberg, Mr. Samuel   \n",
      "\n",
      "        sex   age  sibsp  parch              ticket     fare cabin embarked  \\\n",
      "0    female  28.0      0      0              335432   7.7333     u        Q   \n",
      "1      male  38.0      0      0              315089   8.6625     u        S   \n",
      "2    female  30.0      1      1              345773  24.1500     u        S   \n",
      "3    female  54.0      1      3               29105  23.0000     u        S   \n",
      "4      male  40.0      0      0               28221  13.0000     u        S   \n",
      "..      ...   ...    ...    ...                 ...      ...   ...      ...   \n",
      "845    male  55.0      0      0                 680  50.0000   C39        S   \n",
      "846    male  58.0      0      0               11771  29.7000   B37        C   \n",
      "847  female  24.0      1      0              244367  26.0000     u        S   \n",
      "848  female   3.0      1      1  SOTON/O.Q. 3101315  13.7750     u        S   \n",
      "849    male  52.0      0      0              250647  13.0000     u        S   \n",
      "\n",
      "    boat   body                 home.dest  survived  People          family  \n",
      "0     13    NaN                       NaN         1  female  Without family  \n",
      "1    NaN    NaN                   Croatia         0    male  Without family  \n",
      "2    NaN    NaN                       NaN         0  female     With family  \n",
      "3      4    NaN      Cornwall / Akron, OH         1  female     With family  \n",
      "4    NaN    NaN  Barre, Co Washington, VT         0    male  Without family  \n",
      "..   ...    ...                       ...       ...     ...             ...  \n",
      "845  NaN    NaN       London / Birmingham         0    male  Without family  \n",
      "846  NaN  258.0               Buffalo, NY         0    male  Without family  \n",
      "847   12    NaN        Moscow / Bronx, NY         1  female     With family  \n",
      "848  NaN    NaN                       NaN         0   child     With family  \n",
      "849  NaN   19.0                 Bronx, NY         0    male  Without family  \n",
      "\n",
      "[850 rows x 17 columns]\n"
     ]
    },
    {
     "data": {
      "text/plain": [
       "<module 'matplotlib.pyplot' from 'C:\\\\Users\\\\Krishna\\\\anaconda3\\\\lib\\\\site-packages\\\\matplotlib\\\\pyplot.py'>"
      ]
     },
     "execution_count": 36,
     "metadata": {},
     "output_type": "execute_result"
    },
    {
     "data": {
      "image/png": "[encoded data removed]",
      "text/plain": [
       "<Figure size 469.125x360 with 1 Axes>"
      ]
     },
     "metadata": {
      "needs_background": "light"
     },
     "output_type": "display_data"
    }
   ],
   "source": [
    "def check_alone(data):\n",
    "    #print(data)                                                #sibsp\tparch\n",
    "    sibsp,parch=data\n",
    "    c=parch+sibsp\n",
    "    if c>0:\n",
    "        return \"With family\"\n",
    "    else:\n",
    "        return \"Without family\"\n",
    "df[\"family\"]=df[[\"parch\",\"sibsp\"]].apply(check_alone,axis=1)    \n",
    "print(df)\n",
    "sns.catplot(x=\"People\",data=df,kind=\"count\",hue=\"family\")\n",
    "plt"
   ]
  },
  {
   "cell_type": "code",
   "execution_count": 38,
   "metadata": {},
   "outputs": [
    {
     "data": {
      "text/plain": [
       "<module 'matplotlib.pyplot' from 'C:\\\\Users\\\\Krishna\\\\anaconda3\\\\lib\\\\site-packages\\\\matplotlib\\\\pyplot.py'>"
      ]
     },
     "execution_count": 38,
     "metadata": {},
     "output_type": "execute_result"
    },
    {
     "data": {
      "image/png": "[encoded data removed]",
      "text/plain": [
       "<Figure size 360x360 with 1 Axes>"
      ]
     },
     "metadata": {
      "needs_background": "light"
     },
     "output_type": "display_data"
    }
   ],
   "source": [
    "sns.catplot(x=\"survived\",data=df,kind=\"count\")\n",
    "plt"
   ]
  },
  {
   "cell_type": "code",
   "execution_count": 39,
   "metadata": {},
   "outputs": [
    {
     "data": {
      "text/plain": [
       "<module 'matplotlib.pyplot' from 'C:\\\\Users\\\\Krishna\\\\anaconda3\\\\lib\\\\site-packages\\\\matplotlib\\\\pyplot.py'>"
      ]
     },
     "execution_count": 39,
     "metadata": {},
     "output_type": "execute_result"
    },
    {
     "data": {
      "image/png": "[encoded data removed]",
      "text/plain": [
       "<Figure size 430.5x360 with 1 Axes>"
      ]
     },
     "metadata": {
      "needs_background": "light"
     },
     "output_type": "display_data"
    }
   ],
   "source": [
    "sns.catplot(x=\"survived\",data=df,kind=\"count\",hue=\"People\")\n",
    "plt"
   ]
  },
  {
   "cell_type": "code",
   "execution_count": 40,
   "metadata": {},
   "outputs": [
    {
     "data": {
      "text/plain": [
       "<module 'matplotlib.pyplot' from 'C:\\\\Users\\\\Krishna\\\\anaconda3\\\\lib\\\\site-packages\\\\matplotlib\\\\pyplot.py'>"
      ]
     },
     "execution_count": 40,
     "metadata": {},
     "output_type": "execute_result"
    },
    {
     "data": {
      "image/png": "[encoded data removed]",
      "text/plain": [
       "<Figure size 402.375x360 with 1 Axes>"
      ]
     },
     "metadata": {
      "needs_background": "light"
     },
     "output_type": "display_data"
    }
   ],
   "source": [
    "sns.catplot(x=\"survived\",data=df,kind=\"count\",hue=\"pclass\")\n",
    "plt"
   ]
  },
  {
   "cell_type": "code",
   "execution_count": 47,
   "metadata": {},
   "outputs": [
    {
     "data": {
      "text/plain": [
       "<module 'matplotlib.pyplot' from 'C:\\\\Users\\\\Krishna\\\\anaconda3\\\\lib\\\\site-packages\\\\matplotlib\\\\pyplot.py'>"
      ]
     },
     "execution_count": 47,
     "metadata": {},
     "output_type": "execute_result"
    },
    {
     "data": {
      "image/png": "[encoded data removed]",
      "text/plain": [
       "<Figure size 469.125x360 with 1 Axes>"
      ]
     },
     "metadata": {
      "needs_background": "light"
     },
     "output_type": "display_data"
    }
   ],
   "source": [
    "sns.catplot(\"People\",\"survived\",data=df,hue=\"family\")\n",
    "plt"
   ]
  },
  {
   "cell_type": "code",
   "execution_count": 3,
   "metadata": {},
   "outputs": [
    {
     "name": "stdout",
     "output_type": "stream",
     "text": [
      "passenger_id    0\n",
      "pclass          0\n",
      "name            0\n",
      "sex             0\n",
      "age             0\n",
      "sibsp           0\n",
      "parch           0\n",
      "ticket          0\n",
      "fare            0\n",
      "cabin           0\n",
      "embarked        0\n",
      "boat            0\n",
      "body            0\n",
      "home.dest       0\n",
      "survived        0\n",
      "dtype: int64\n"
     ]
    }
   ],
   "source": [
    "df=df.dropna()\n",
    "print(df.isna().sum())"
   ]
  },
  {
   "cell_type": "code",
   "execution_count": 5,
   "metadata": {},
   "outputs": [
    {
     "data": {
      "text/plain": [
       "<module 'matplotlib.pyplot' from 'C:\\\\Users\\\\Krishna\\\\anaconda3\\\\lib\\\\site-packages\\\\matplotlib\\\\pyplot.py'>"
      ]
     },
     "execution_count": 5,
     "metadata": {},
     "output_type": "execute_result"
    },
    {
     "data": {
      "image/png": "[encoded data removed]",
      "text/plain": [
       "<Figure size 432x288 with 1 Axes>"
      ]
     },
     "metadata": {
      "needs_background": "light"
     },
     "output_type": "display_data"
    }
   ],
   "source": [
    "import matplotlib.pyplot as plt\n",
    "from mpl_toolkits.mplot3d import Axes3D\n",
    "import numpy as np\n",
    "fig=plt.figure()\n",
    "ax=fig.add_subplot(111,projection='3d')\n",
    "x=np.random.randint(1,50,200)\n",
    "y=np.random.randint(1,50,200)\n",
    "z=np.random.randint(1,50,200)\n",
    "ax.scatter(x,y,z)\n",
    "plt"
   ]
  },
  {
   "cell_type": "code",
   "execution_count": null,
   "metadata": {},
   "outputs": [],
   "source": []
  }
 ],
 "metadata": {
  "kernelspec": {
   "display_name": "Python 3",
   "language": "python",
   "name": "python3"
  },
  "language_info": {
   "codemirror_mode": {
    "name": "ipython",
    "version": 3
   },
   "file_extension": ".py",
   "mimetype": "text/x-python",
   "name": "python",
   "nbconvert_exporter": "python",
   "pygments_lexer": "ipython3",
   "version": "3.8.3"
  }
 },
 "nbformat": 4,
 "nbformat_minor": 4
}
