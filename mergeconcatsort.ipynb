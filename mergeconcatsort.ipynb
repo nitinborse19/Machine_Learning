{
 "cells": [
  {
   "cell_type": "code",
   "execution_count": 1,
   "metadata": {},
   "outputs": [
    {
     "name": "stdout",
     "output_type": "stream",
     "text": [
      "   id name\n",
      "0   1    a\n",
      "1   2    b\n",
      "2   3    c\n",
      "3   4    d\n",
      "   id  Marks\n",
      "0   1     23\n",
      "1   2     11\n",
      "2   3     16\n",
      "3   4     30\n"
     ]
    }
   ],
   "source": [
    "import pandas as pd\n",
    "import numpy as np\n",
    "d1={\"id\":[1,2,3,4],\"name\":[\"a\",\"b\",\"c\",\"d\"]}\n",
    "df1=pd.DataFrame(d1)\n",
    "d2={\"id\":[1,2,3,4],\"Marks\":[23,11,16,30]}\n",
    "df2=pd.DataFrame(d2)\n",
    "print(df1)\n",
    "print(df2)"
   ]
  },
  {
   "cell_type": "code",
   "execution_count": 2,
   "metadata": {},
   "outputs": [
    {
     "name": "stdout",
     "output_type": "stream",
     "text": [
      "   id name  Marks\n",
      "0   1    a     23\n",
      "1   2    b     11\n",
      "2   3    c     16\n",
      "3   4    d     30\n"
     ]
    }
   ],
   "source": [
    "# Merge syntax\n",
    "#merge(df1,df2,on=\"column\")\n",
    "d3=pd.merge(df1,df2)\n",
    "print(d3)"
   ]
  },
  {
   "cell_type": "code",
   "execution_count": 5,
   "metadata": {},
   "outputs": [
    {
     "name": "stdout",
     "output_type": "stream",
     "text": [
      "   id name  Marks\n",
      "0   1    a    NaN\n",
      "1   2    b    NaN\n",
      "2   3    c    NaN\n",
      "3   4    d    NaN\n",
      "0   1  NaN   23.0\n",
      "1   2  NaN   11.0\n",
      "2   3  NaN   16.0\n",
      "3   4  NaN   30.0\n"
     ]
    }
   ],
   "source": [
    "#concat syntax\n",
    "df3=pd.concat((df1,df2))\n",
    "print(df3)"
   ]
  },
  {
   "cell_type": "code",
   "execution_count": 8,
   "metadata": {},
   "outputs": [
    {
     "name": "stdout",
     "output_type": "stream",
     "text": [
      "       id name  Marks\n",
      "df1 0   1    a    NaN\n",
      "    1   2    b    NaN\n",
      "    2   3    c    NaN\n",
      "    3   4    d    NaN\n",
      "df2 0   1  NaN   23.0\n",
      "    1   2  NaN   11.0\n",
      "    2   3  NaN   16.0\n",
      "    3   4  NaN   30.0\n"
     ]
    }
   ],
   "source": [
    "df3=pd.concat((df1,df2),keys=[\"df1\",\"df2\"])\n",
    "print(df3)"
   ]
  },
  {
   "cell_type": "code",
   "execution_count": 11,
   "metadata": {},
   "outputs": [
    {
     "name": "stdout",
     "output_type": "stream",
     "text": [
      "   id  Marks\n",
      "1   2     11\n",
      "2   3     16\n",
      "0   1     23\n",
      "3   4     30\n"
     ]
    }
   ],
   "source": [
    "# Sort by values\n",
    "print(df2.sort_values(by=['Marks']))"
   ]
  },
  {
   "cell_type": "code",
   "execution_count": 18,
   "metadata": {},
   "outputs": [
    {
     "name": "stdout",
     "output_type": "stream",
     "text": [
      "   id  Marks\n",
      "0   1     23\n",
      "1   2     11\n",
      "2   3     16\n",
      "3   4     30\n"
     ]
    }
   ],
   "source": [
    "print(df2.sort_values(by=['id','Marks']))"
   ]
  },
  {
   "cell_type": "code",
   "execution_count": 15,
   "metadata": {},
   "outputs": [
    {
     "name": "stdout",
     "output_type": "stream",
     "text": [
      "   id  Marks\n",
      "3   4     30\n",
      "2   3     16\n",
      "1   2     11\n",
      "0   1     23\n"
     ]
    }
   ],
   "source": [
    "print(df2.sort_values(by=['id','Marks'],ascending=False))"
   ]
  },
  {
   "cell_type": "code",
   "execution_count": 16,
   "metadata": {},
   "outputs": [
    {
     "name": "stdout",
     "output_type": "stream",
     "text": [
      "   id  Marks\n",
      "0   1     23\n",
      "1   2     11\n",
      "2   3     16\n",
      "3   4     30\n"
     ]
    }
   ],
   "source": [
    "print(df2.sort_values(by=['id','Marks'],ascending=True))"
   ]
  },
  {
   "cell_type": "code",
   "execution_count": 19,
   "metadata": {},
   "outputs": [
    {
     "name": "stdout",
     "output_type": "stream",
     "text": [
      "      Team  Rank  Year  Points\n",
      "0   Riders     1  2014     876\n",
      "1   Riders     2  2015     789\n",
      "2   Devils     2  2014     863\n",
      "3   Devils     3  2015     673\n",
      "4    Kings     3  2014     741\n",
      "5    kings     4  2015     812\n",
      "6    Kings     1  2016     756\n",
      "7    Kings     1  2017     788\n",
      "8   Riders     2  2016     694\n",
      "9   Royals     4  2014     701\n",
      "10  Royals     1  2015     804\n",
      "11  Riders     2  2017     690\n"
     ]
    }
   ],
   "source": [
    "import pandas as pd\n",
    "import numpy as np\n",
    "ipl_data = {'Team': ['Riders', 'Riders', 'Devils', 'Devils', 'Kings',\n",
    "   'kings', 'Kings', 'Kings', 'Riders', 'Royals', 'Royals', 'Riders'],\n",
    "   'Rank': [1, 2, 2, 3, 3,4 ,1 ,1,2 , 4,1,2],\n",
    "   'Year': [2014,2015,2014,2015,2014,2015,2016,2017,2016,2014,2015,2017],\n",
    "   'Points':[876,789,863,673,741,812,756,788,694,701,804,690]}\n",
    "df = pd.DataFrame(ipl_data)\n",
    "\n",
    "print(df)"
   ]
  },
  {
   "cell_type": "code",
   "execution_count": 20,
   "metadata": {},
   "outputs": [
    {
     "name": "stdout",
     "output_type": "stream",
     "text": [
      "      Team  Rank  Year  Points\n",
      "0   Riders     1  2014     876\n",
      "1   Riders     2  2015     789\n",
      "8   Riders     2  2016     694\n",
      "11  Riders     2  2017     690\n"
     ]
    }
   ],
   "source": [
    "print(df[df[\"Team\"]==\"Riders\"])"
   ]
  },
  {
   "cell_type": "code",
   "execution_count": 21,
   "metadata": {},
   "outputs": [
    {
     "name": "stdout",
     "output_type": "stream",
     "text": [
      "      Team  Rank  Year  Points\n",
      "0   Riders     1  2014     876\n",
      "1   Riders     2  2015     789\n",
      "8   Riders     2  2016     694\n",
      "11  Riders     2  2017     690\n"
     ]
    }
   ],
   "source": [
    "print(df.loc[df[\"Team\"]==\"Riders\"])"
   ]
  },
  {
   "cell_type": "code",
   "execution_count": 22,
   "metadata": {},
   "outputs": [
    {
     "name": "stdout",
     "output_type": "stream",
     "text": [
      "      Team  Rank  Year  Points\n",
      "1   Riders     2  2015     789\n",
      "2   Devils     2  2014     863\n",
      "3   Devils     3  2015     673\n",
      "4    Kings     3  2014     741\n",
      "5    kings     4  2015     812\n",
      "8   Riders     2  2016     694\n",
      "9   Royals     4  2014     701\n",
      "11  Riders     2  2017     690\n"
     ]
    }
   ],
   "source": [
    "print(df[df[\"Rank\"]>=2])"
   ]
  },
  {
   "cell_type": "code",
   "execution_count": 23,
   "metadata": {},
   "outputs": [
    {
     "name": "stdout",
     "output_type": "stream",
     "text": [
      "      Team  Rank  Year  Points\n",
      "0   Riders     1  2014     876\n",
      "1   Riders     2  2015     789\n",
      "2   Devils     2  2014     863\n",
      "6    Kings     1  2016     756\n",
      "7    Kings     1  2017     788\n",
      "8   Riders     2  2016     694\n",
      "10  Royals     1  2015     804\n",
      "11  Riders     2  2017     690\n"
     ]
    }
   ],
   "source": [
    "print(df[df[\"Rank\"]<=2])"
   ]
  },
  {
   "cell_type": "code",
   "execution_count": 26,
   "metadata": {},
   "outputs": [
    {
     "name": "stdout",
     "output_type": "stream",
     "text": [
      "0     riders\n",
      "1     riders\n",
      "2     devils\n",
      "3     devils\n",
      "4      kings\n",
      "5      kings\n",
      "6      kings\n",
      "7      kings\n",
      "8     riders\n",
      "9     royals\n",
      "10    royals\n",
      "11    riders\n",
      "Name: Team, dtype: object\n"
     ]
    }
   ],
   "source": [
    "# Apply\n",
    "def lower_case(st):\n",
    "    return st.lower()\n",
    "print(df[\"Team\"].apply(lower_case))"
   ]
  },
  {
   "cell_type": "code",
   "execution_count": 31,
   "metadata": {},
   "outputs": [
    {
     "name": "stdout",
     "output_type": "stream",
     "text": [
      "    Points  Rank\n",
      "0      876     1\n",
      "1      789     2\n",
      "2      863     2\n",
      "3      673     3\n",
      "4      741     3\n",
      "5      812     4\n",
      "6      756     1\n",
      "7      788     1\n",
      "8      694     2\n",
      "9      701     4\n",
      "10     804     1\n",
      "11     690     2\n"
     ]
    }
   ],
   "source": [
    "def num_op(data):\n",
    "    print(data)\n",
    "num_op(df[['Points','Rank']])    "
   ]
  },
  {
   "cell_type": "code",
   "execution_count": null,
   "metadata": {},
   "outputs": [],
   "source": []
  }
 ],
 "metadata": {
  "kernelspec": {
   "display_name": "Python 3",
   "language": "python",
   "name": "python3"
  },
  "language_info": {
   "codemirror_mode": {
    "name": "ipython",
    "version": 3
   },
   "file_extension": ".py",
   "mimetype": "text/x-python",
   "name": "python",
   "nbconvert_exporter": "python",
   "pygments_lexer": "ipython3",
   "version": "3.8.3"
  }
 },
 "nbformat": 4,
 "nbformat_minor": 4
}
